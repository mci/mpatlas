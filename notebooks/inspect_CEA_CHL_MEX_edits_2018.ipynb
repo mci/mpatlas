{
 "cells": [
  {
   "cell_type": "code",
   "execution_count": 19,
   "metadata": {},
   "outputs": [],
   "source": [
    "import os\n",
    "from django.contrib.gis.gdal import DataSource\n",
    "\n",
    "chlmex_201810 = os.path.abspath('/Users/russmo/Code/wdpa/CEA_MEX_CHL_edits_20191010.gpkg')\n",
    "chlmex_201810_gdb = os.path.abspath('/Users/russmo/Code/wdpa/CEA_CHL_MEX_edits_20181010.gdb')"
   ]
  },
  {
   "cell_type": "code",
   "execution_count": 20,
   "metadata": {},
   "outputs": [
    {
     "name": "stdout",
     "output_type": "stream",
     "text": [
      "/Users/russmo/Code/wdpa/CEA_CHL_MEX_edits_20181010.gdb (OpenFileGDB)\n",
      "1\n"
     ]
    }
   ],
   "source": [
    "ds = DataSource(chlmex_201810_gdb)\n",
    "print(ds)\n",
    "print(len(ds))"
   ]
  },
  {
   "cell_type": "code",
   "execution_count": 22,
   "metadata": {},
   "outputs": [
    {
     "name": "stdout",
     "output_type": "stream",
     "text": [
      "CEA_CHL_MEX_edits_20181010_poly MultiPolygon 174 GEOGCS[\"WGS 84\",\n",
      "    DATUM[\"WGS_1984\",\n",
      "        SPHEROID[\"WGS 84\",6378137,298.257223563,\n",
      "            AUTHORITY[\"EPSG\",\"7030\"]],\n",
      "        AUTHORITY[\"EPSG\",\"6326\"]],\n",
      "    PRIMEM[\"Greenwich\",0,\n",
      "        AUTHORITY[\"EPSG\",\"8901\"]],\n",
      "    UNIT[\"degree\",0.0174532925199433,\n",
      "        AUTHORITY[\"EPSG\",\"9122\"]],\n",
      "    AUTHORITY[\"EPSG\",\"4326\"]]\n"
     ]
    }
   ],
   "source": [
    "chlmex = ds[0]\n",
    "for lyr in ds:\n",
    "    print (lyr, lyr.geom_type, len(lyr), lyr.srs,)\n",
    "    f_types = [fld.__name__ for fld in lyr.field_types]\n",
    "    # print (list(zip(lyr.fields, f_types, lyr.field_widths)))"
   ]
  },
  {
   "cell_type": "code",
   "execution_count": 33,
   "metadata": {},
   "outputs": [
    {
     "name": "stdout",
     "output_type": "stream",
     "text": [
      "Importing 174 records from Source table\n"
     ]
    }
   ],
   "source": [
    "from mpa.models import Mpa\n",
    "src = chlmex\n",
    "print('Importing', len(src), 'records from MPA edit table')"
   ]
  },
  {
   "cell_type": "code",
   "execution_count": 339,
   "metadata": {},
   "outputs": [],
   "source": [
    "allfields = src.fields.copy()\n",
    "removefields = [\n",
    "    'mpa_id',\n",
    "    'summary',\n",
    "    'fishing_info',\n",
    "    'geom_Length',\n",
    "    'geom_Area',\n",
    "    'status_year_nonull',\n",
    "    'Shape_Length',\n",
    "    'Shape_Area'\n",
    "]\n",
    "fields = [f for f in allfields if f not in removefields]"
   ]
  },
  {
   "cell_type": "code",
   "execution_count": 352,
   "metadata": {},
   "outputs": [
    {
     "name": "stdout",
     "output_type": "stream",
     "text": [
      "68808648 Feature FID 1 in Layer<CEA_CHL_MEX_edits_20181010_poly> 68808648\n",
      "Carto Error for mpa_id 68808648: Access denied\n",
      "1 68808648\n",
      "68808647 Feature FID 2 in Layer<CEA_CHL_MEX_edits_20181010_poly> 68808647\n"
     ]
    },
    {
     "name": "stderr",
     "output_type": "stream",
     "text": [
      "GEOS_NOTICE: Ring Self-intersection at or near point -74.555738684999938 -47.542473715999961\n",
      "\n",
      "GEOS_NOTICE: Ring Self-intersection at or near point -74.555738684999938 -47.542473715999961\n",
      "\n"
     ]
    },
    {
     "name": "stdout",
     "output_type": "stream",
     "text": [
      "Carto Error for mpa_id 68808647: Access denied\n",
      "2 68808647\n",
      "68808646 Feature FID 3 in Layer<CEA_CHL_MEX_edits_20181010_poly> 68808646\n",
      "Carto Error for mpa_id 68808646: Access denied\n",
      "3 68808646\n",
      "68808645 Feature FID 4 in Layer<CEA_CHL_MEX_edits_20181010_poly> 68808645\n",
      "Carto Error for mpa_id 68808645: Access denied\n",
      "4 68808645\n",
      "68808644 Feature FID 5 in Layer<CEA_CHL_MEX_edits_20181010_poly> 68808644\n",
      "Carto Error for mpa_id 68808644: Access denied\n",
      "5 68808644\n",
      "68808643 Feature FID 6 in Layer<CEA_CHL_MEX_edits_20181010_poly> 68808643\n",
      "Carto Error for mpa_id 68808643: Access denied\n",
      "6 68808643\n",
      "68808642 Feature FID 7 in Layer<CEA_CHL_MEX_edits_20181010_poly> 68808642\n",
      "Carto Error for mpa_id 68808642: Access denied\n",
      "7 68808642\n",
      "68808641 Feature FID 8 in Layer<CEA_CHL_MEX_edits_20181010_poly> 68808641\n",
      "Carto Error for mpa_id 68808641: Access denied\n",
      "8 68808641\n",
      "68808640 Feature FID 9 in Layer<CEA_CHL_MEX_edits_20181010_poly> 68808640\n",
      "Carto Error for mpa_id 68808640: Access denied\n",
      "9 68808640\n",
      "68808639 Feature FID 10 in Layer<CEA_CHL_MEX_edits_20181010_poly> 68808639\n",
      "Carto Error for mpa_id 68808639: Access denied\n",
      "10 68808639\n",
      "68808638 Feature FID 11 in Layer<CEA_CHL_MEX_edits_20181010_poly> 68808638\n"
     ]
    },
    {
     "ename": "MultipleObjectsReturned",
     "evalue": "get() returned more than one Mpa -- it returned 2!",
     "output_type": "error",
     "traceback": [
      "\u001b[0;31m---------------------------------------------------------------------------\u001b[0m",
      "\u001b[0;31mMultipleObjectsReturned\u001b[0m                   Traceback (most recent call last)",
      "\u001b[0;32m<ipython-input-352-e737550f330f>\u001b[0m in \u001b[0;36m<module>\u001b[0;34m()\u001b[0m\n\u001b[1;32m      2\u001b[0m     \u001b[0mmid\u001b[0m \u001b[0;34m=\u001b[0m \u001b[0mfeat\u001b[0m\u001b[0;34m[\u001b[0m\u001b[0;34m'mpa_id'\u001b[0m\u001b[0;34m]\u001b[0m\u001b[0;34m.\u001b[0m\u001b[0mvalue\u001b[0m\u001b[0;34m\u001b[0m\u001b[0m\n\u001b[1;32m      3\u001b[0m     \u001b[0mprint\u001b[0m\u001b[0;34m(\u001b[0m\u001b[0mmid\u001b[0m\u001b[0;34m,\u001b[0m \u001b[0mfeat\u001b[0m\u001b[0;34m,\u001b[0m \u001b[0mfeat\u001b[0m\u001b[0;34m[\u001b[0m\u001b[0;34m'mpa_id'\u001b[0m\u001b[0;34m]\u001b[0m\u001b[0;34m)\u001b[0m\u001b[0;34m\u001b[0m\u001b[0m\n\u001b[0;32m----> 4\u001b[0;31m     \u001b[0mm\u001b[0m\u001b[0;34m,\u001b[0m \u001b[0mcreated\u001b[0m \u001b[0;34m=\u001b[0m \u001b[0mMpa\u001b[0m\u001b[0;34m.\u001b[0m\u001b[0mobjects\u001b[0m\u001b[0;34m.\u001b[0m\u001b[0mget_or_create\u001b[0m\u001b[0;34m(\u001b[0m\u001b[0mname\u001b[0m\u001b[0;34m=\u001b[0m\u001b[0mfeat\u001b[0m\u001b[0;34m[\u001b[0m\u001b[0;34m'name'\u001b[0m\u001b[0;34m]\u001b[0m\u001b[0;34m.\u001b[0m\u001b[0mvalue\u001b[0m\u001b[0;34m,\u001b[0m \u001b[0mdesignation\u001b[0m\u001b[0;34m=\u001b[0m\u001b[0mfeat\u001b[0m\u001b[0;34m[\u001b[0m\u001b[0;34m'designation'\u001b[0m\u001b[0;34m]\u001b[0m\u001b[0;34m.\u001b[0m\u001b[0mvalue\u001b[0m\u001b[0;34m)\u001b[0m\u001b[0;34m\u001b[0m\u001b[0m\n\u001b[0m\u001b[1;32m      5\u001b[0m     \u001b[0msetattr\u001b[0m\u001b[0;34m(\u001b[0m\u001b[0mm\u001b[0m\u001b[0;34m,\u001b[0m \u001b[0mf\u001b[0m\u001b[0;34m,\u001b[0m \u001b[0mfeat\u001b[0m\u001b[0;34m[\u001b[0m\u001b[0mf\u001b[0m\u001b[0;34m]\u001b[0m\u001b[0;34m.\u001b[0m\u001b[0mvalue\u001b[0m\u001b[0;34m)\u001b[0m\u001b[0;34m\u001b[0m\u001b[0m\n\u001b[1;32m      6\u001b[0m     \u001b[0mm\u001b[0m\u001b[0;34m.\u001b[0m\u001b[0mgeom\u001b[0m \u001b[0;34m=\u001b[0m \u001b[0mfeat\u001b[0m\u001b[0;34m.\u001b[0m\u001b[0mgeom\u001b[0m\u001b[0;34m.\u001b[0m\u001b[0mgeos\u001b[0m\u001b[0;34m\u001b[0m\u001b[0m\n",
      "\u001b[0;32m~/.virtualenvs/mpa_py3/lib/python3.6/site-packages/django/db/models/manager.py\u001b[0m in \u001b[0;36mmanager_method\u001b[0;34m(self, *args, **kwargs)\u001b[0m\n\u001b[1;32m     83\u001b[0m         \u001b[0;32mdef\u001b[0m \u001b[0mcreate_method\u001b[0m\u001b[0;34m(\u001b[0m\u001b[0mname\u001b[0m\u001b[0;34m,\u001b[0m \u001b[0mmethod\u001b[0m\u001b[0;34m)\u001b[0m\u001b[0;34m:\u001b[0m\u001b[0;34m\u001b[0m\u001b[0m\n\u001b[1;32m     84\u001b[0m             \u001b[0;32mdef\u001b[0m \u001b[0mmanager_method\u001b[0m\u001b[0;34m(\u001b[0m\u001b[0mself\u001b[0m\u001b[0;34m,\u001b[0m \u001b[0;34m*\u001b[0m\u001b[0margs\u001b[0m\u001b[0;34m,\u001b[0m \u001b[0;34m**\u001b[0m\u001b[0mkwargs\u001b[0m\u001b[0;34m)\u001b[0m\u001b[0;34m:\u001b[0m\u001b[0;34m\u001b[0m\u001b[0m\n\u001b[0;32m---> 85\u001b[0;31m                 \u001b[0;32mreturn\u001b[0m \u001b[0mgetattr\u001b[0m\u001b[0;34m(\u001b[0m\u001b[0mself\u001b[0m\u001b[0;34m.\u001b[0m\u001b[0mget_queryset\u001b[0m\u001b[0;34m(\u001b[0m\u001b[0;34m)\u001b[0m\u001b[0;34m,\u001b[0m \u001b[0mname\u001b[0m\u001b[0;34m)\u001b[0m\u001b[0;34m(\u001b[0m\u001b[0;34m*\u001b[0m\u001b[0margs\u001b[0m\u001b[0;34m,\u001b[0m \u001b[0;34m**\u001b[0m\u001b[0mkwargs\u001b[0m\u001b[0;34m)\u001b[0m\u001b[0;34m\u001b[0m\u001b[0m\n\u001b[0m\u001b[1;32m     86\u001b[0m             \u001b[0mmanager_method\u001b[0m\u001b[0;34m.\u001b[0m\u001b[0m__name__\u001b[0m \u001b[0;34m=\u001b[0m \u001b[0mmethod\u001b[0m\u001b[0;34m.\u001b[0m\u001b[0m__name__\u001b[0m\u001b[0;34m\u001b[0m\u001b[0m\n\u001b[1;32m     87\u001b[0m             \u001b[0mmanager_method\u001b[0m\u001b[0;34m.\u001b[0m\u001b[0m__doc__\u001b[0m \u001b[0;34m=\u001b[0m \u001b[0mmethod\u001b[0m\u001b[0;34m.\u001b[0m\u001b[0m__doc__\u001b[0m\u001b[0;34m\u001b[0m\u001b[0m\n",
      "\u001b[0;32m~/.virtualenvs/mpa_py3/lib/python3.6/site-packages/django/db/models/query.py\u001b[0m in \u001b[0;36mget_or_create\u001b[0;34m(self, defaults, **kwargs)\u001b[0m\n\u001b[1;32m    462\u001b[0m         \u001b[0mself\u001b[0m\u001b[0;34m.\u001b[0m\u001b[0m_for_write\u001b[0m \u001b[0;34m=\u001b[0m \u001b[0;32mTrue\u001b[0m\u001b[0;34m\u001b[0m\u001b[0m\n\u001b[1;32m    463\u001b[0m         \u001b[0;32mtry\u001b[0m\u001b[0;34m:\u001b[0m\u001b[0;34m\u001b[0m\u001b[0m\n\u001b[0;32m--> 464\u001b[0;31m             \u001b[0;32mreturn\u001b[0m \u001b[0mself\u001b[0m\u001b[0;34m.\u001b[0m\u001b[0mget\u001b[0m\u001b[0;34m(\u001b[0m\u001b[0;34m**\u001b[0m\u001b[0mlookup\u001b[0m\u001b[0;34m)\u001b[0m\u001b[0;34m,\u001b[0m \u001b[0;32mFalse\u001b[0m\u001b[0;34m\u001b[0m\u001b[0m\n\u001b[0m\u001b[1;32m    465\u001b[0m         \u001b[0;32mexcept\u001b[0m \u001b[0mself\u001b[0m\u001b[0;34m.\u001b[0m\u001b[0mmodel\u001b[0m\u001b[0;34m.\u001b[0m\u001b[0mDoesNotExist\u001b[0m\u001b[0;34m:\u001b[0m\u001b[0;34m\u001b[0m\u001b[0m\n\u001b[1;32m    466\u001b[0m             \u001b[0;32mreturn\u001b[0m \u001b[0mself\u001b[0m\u001b[0;34m.\u001b[0m\u001b[0m_create_object_from_params\u001b[0m\u001b[0;34m(\u001b[0m\u001b[0mlookup\u001b[0m\u001b[0;34m,\u001b[0m \u001b[0mparams\u001b[0m\u001b[0;34m)\u001b[0m\u001b[0;34m\u001b[0m\u001b[0m\n",
      "\u001b[0;32m~/.virtualenvs/mpa_py3/lib/python3.6/site-packages/django/db/models/query.py\u001b[0m in \u001b[0;36mget\u001b[0;34m(self, *args, **kwargs)\u001b[0m\n\u001b[1;32m    382\u001b[0m         raise self.model.MultipleObjectsReturned(\n\u001b[1;32m    383\u001b[0m             \u001b[0;34m\"get() returned more than one %s -- it returned %s!\"\u001b[0m \u001b[0;34m%\u001b[0m\u001b[0;34m\u001b[0m\u001b[0m\n\u001b[0;32m--> 384\u001b[0;31m             \u001b[0;34m(\u001b[0m\u001b[0mself\u001b[0m\u001b[0;34m.\u001b[0m\u001b[0mmodel\u001b[0m\u001b[0;34m.\u001b[0m\u001b[0m_meta\u001b[0m\u001b[0;34m.\u001b[0m\u001b[0mobject_name\u001b[0m\u001b[0;34m,\u001b[0m \u001b[0mnum\u001b[0m\u001b[0;34m)\u001b[0m\u001b[0;34m\u001b[0m\u001b[0m\n\u001b[0m\u001b[1;32m    385\u001b[0m         )\n\u001b[1;32m    386\u001b[0m \u001b[0;34m\u001b[0m\u001b[0m\n",
      "\u001b[0;31mMultipleObjectsReturned\u001b[0m: get() returned more than one Mpa -- it returned 2!"
     ]
    }
   ],
   "source": [
    "for feat in src:\n",
    "    mid = feat['mpa_id'].value\n",
    "    print(mid, feat, feat['mpa_id'])\n",
    "    m, created = Mpa.objects.get_or_create(name=feat['name'].value, designation=feat['designation'].value)\n",
    "    for f in fields:\n",
    "        setattr(m, f, feat[f].value)\n",
    "    m.geom = feat.geom.geos\n",
    "    m.save()\n",
    "    print(feat.fid, mid, flush=True)\n",
    "    # print(feat.fid, mid, end='\\r', flush=True)"
   ]
  },
  {
   "cell_type": "code",
   "execution_count": null,
   "metadata": {},
   "outputs": [],
   "source": []
  },
  {
   "cell_type": "code",
   "execution_count": 163,
   "metadata": {},
   "outputs": [
    {
     "name": "stdout",
     "output_type": "stream",
     "text": [
      "Tierra Blanca http://www.mpatlas.org/mpa/sites/68808633/json/\n",
      "68808633 Not on MPAtlas production server\n",
      "3685\n",
      "Lobería Selkirk http://www.mpatlas.org/mpa/sites/68808632/json/\n",
      "68808632 Not on MPAtlas production server\n",
      "3685\n",
      "El Arenal http://www.mpatlas.org/mpa/sites/68808631/json/\n",
      "68808631 Not on MPAtlas production server\n",
      "3685\n",
      "Montes submarinos Crusoe y Selkirk http://www.mpatlas.org/mpa/sites/68808630/json/\n",
      "68808630 Not on MPAtlas production server\n",
      "3685\n",
      "Mar de Juan Fernández http://www.mpatlas.org/mpa/sites/68808392/json/\n",
      "68808392 3685\n",
      "3685\n",
      "Nazca-Desventuradas http://www.mpatlas.org/mpa/sites/9175/json/\n",
      "9175 5767\n",
      "5767\n",
      "Pacifico Mexicano Profundo - Core Zones http://www.mpatlas.org/mpa/sites/68808479/json/\n",
      "68808479 6306\n",
      "6306\n",
      "Juan Fernández http://www.mpatlas.org/mpa/sites/68808467/json/\n",
      "68808467 5024\n",
      "5024\n",
      "Mar de Cabo de Hornos (Diego Ramírez) http://www.mpatlas.org/mpa/sites/68808466/json/\n",
      "68808466 4249\n",
      "4249\n",
      "Archipiélago de Revillagigedo http://www.mpatlas.org/mpa/sites/68808404/json/\n",
      "68808404 10740\n",
      "10740\n",
      "El Palillo http://www.mpatlas.org/mpa/sites/68808397/json/\n",
      "68808397 3685\n",
      "3685\n",
      "Tierra Blanca http://www.mpatlas.org/mpa/sites/68808396/json/\n",
      "68808396 3685\n",
      "3685\n",
      "El Arenal http://www.mpatlas.org/mpa/sites/68808395/json/\n",
      "68808395 3685\n",
      "3685\n",
      "Lobería Selkirk http://www.mpatlas.org/mpa/sites/68808394/json/\n",
      "68808394 3685\n",
      "3685\n",
      "Montes Submarinos Crusoe and Selkirk http://www.mpatlas.org/mpa/sites/68808393/json/\n",
      "68808393 3685\n",
      "3685\n",
      "Mar de Juan Fernández http://www.mpatlas.org/mpa/sites/68808629/json/\n",
      "68808629 Not on MPAtlas production server\n",
      "3685\n",
      "Caribe Mexicano http://www.mpatlas.org/mpa/sites/68808328/json/\n",
      "68808328 4467\n",
      "4467\n",
      "Islas del Pacifico de la Peninsula de Baja California http://www.mpatlas.org/mpa/sites/68808327/json/\n",
      "68808327 4082\n",
      "4082\n",
      "Pacifico Mexicano Profundo - General Zones (Buffer Zones) http://www.mpatlas.org/mpa/sites/68808326/json/\n",
      "68808326 7108\n",
      "7108\n",
      "Sierra de Tamaulipas http://www.mpatlas.org/mpa/sites/68808325/json/\n",
      "68808325 3290\n",
      "3290\n",
      "Pitipalena-Añihue http://www.mpatlas.org/mpa/sites/68808109/json/\n",
      "68808109 1676\n",
      "1676\n",
      "Tic-Toc http://www.mpatlas.org/mpa/sites/68808108/json/\n",
      "68808108 1933\n",
      "1933\n",
      "Rapa Nui Rahui http://www.mpatlas.org/mpa/sites/68807896/json/\n",
      "68807896 6704\n",
      "6704\n",
      "Cabo Pulmo http://www.mpatlas.org/mpa/sites/67704213/json/\n",
      "67704213 4927\n",
      "4927\n",
      "Bahía de Loreto http://www.mpatlas.org/mpa/sites/67704212/json/\n",
      "67704212 2952\n",
      "2952\n",
      "Parque Nacional Bahía de Loreto http://www.mpatlas.org/mpa/sites/7705345/json/\n",
      "7705345 1489\n",
      "1489\n",
      "Parque Nacional Sistema Arrecifal Veracruzano http://www.mpatlas.org/mpa/sites/7705340/json/\n",
      "7705340 2071\n",
      "2071\n",
      "Bosque de Calabacillo de Navidad http://www.mpatlas.org/mpa/sites/15049/json/\n",
      "15049 1751\n",
      "1751\n",
      "Fiordo Comau- San Ignacio de Huinay http://www.mpatlas.org/mpa/sites/14240/json/\n",
      "14240 1768\n",
      "1768\n",
      "Islas Choros - Damas http://www.mpatlas.org/mpa/sites/14234/json/\n",
      "14234 2360\n",
      "2360\n",
      "Isla Chañaral http://www.mpatlas.org/mpa/sites/14233/json/\n",
      "14233 2713\n",
      "2713\n",
      "Francisco Coloane http://www.mpatlas.org/mpa/sites/14221/json/\n",
      "14221 1690\n",
      "1690\n",
      "Motu Motiro Hiva http://www.mpatlas.org/mpa/sites/9241/json/\n",
      "9241 4319\n",
      "4319\n",
      "Nazca-Desventuradas http://www.mpatlas.org/mpa/sites/68808618/json/\n",
      "68808618 Not on MPAtlas production server\n",
      "5767\n",
      "Playón Mexiquillo http://www.mpatlas.org/mpa/sites/7365/json/\n",
      "7365 1018\n",
      "1018\n",
      "Área de Protección de Flora y Fauna Yum Balam http://www.mpatlas.org/mpa/sites/5347/json/\n",
      "5347 951\n",
      "951\n",
      "Reserva de la Biosfera Archipiélago de Revillagigedo http://www.mpatlas.org/mpa/sites/5344/json/\n",
      "5344 1499\n",
      "1499\n",
      "Área de Protección de Flora y Fauna de Laguna de Términos http://www.mpatlas.org/mpa/sites/5343/json/\n",
      "5343 1359\n",
      "1359\n",
      "Francisco Coloane http://www.mpatlas.org/mpa/sites/4859/json/\n",
      "4859 1589\n",
      "1589\n",
      "Arrecifes de Cozumel http://www.mpatlas.org/mpa/sites/3316/json/\n",
      "3316 2525\n",
      "2525\n",
      "Humedal el Yali http://www.mpatlas.org/mpa/sites/2894/json/\n",
      "2894 794\n",
      "794\n",
      "Ventilas Hidrotermales de La Cuenca de Guaymas y de La Dorsal del Pacífico Oriental http://www.mpatlas.org/mpa/sites/2725/json/\n",
      "2725 3359\n",
      "3359\n",
      "Archipiélago de Revillagigedo http://www.mpatlas.org/mpa/sites/2617/json/\n",
      "2617 2669\n",
      "2669\n",
      "Alto Golfo de California y Delta del Río Colorado http://www.mpatlas.org/mpa/sites/2615/json/\n",
      "2615 1690\n",
      "1690\n",
      "Whale Sanctuary of El Vizcaino http://www.mpatlas.org/mpa/sites/2402/json/\n",
      "2402 2462\n",
      "2462\n",
      "Carlos Anwandter Sanctuary http://www.mpatlas.org/mpa/sites/2186/json/\n",
      "2186 587\n",
      "587\n",
      "Sian Ka'an http://www.mpatlas.org/mpa/sites/1486/json/\n",
      "1486 2417\n",
      "2417\n"
     ]
    }
   ],
   "source": [
    "import urllib.request, json \n",
    "for feat in src:\n",
    "    mid = feat['mpa_id'].value\n",
    "    if len(feat['summary'].value) >= 255:\n",
    "        print(feat['name'].value, \"http://www.mpatlas.org/mpa/sites/%s/json/\" % (mid))\n",
    "        try:\n",
    "            with urllib.request.urlopen(\"http://www.mpatlas.org/mpa/sites/%s/json/\" % (mid)) as url:\n",
    "                data = json.loads(url.read().decode())\n",
    "                print(mid, len(data['summary']))\n",
    "                m = Mpa.objects.filter(mpa_id=mid)\n",
    "                print(len(m.first().summary))\n",
    "                # m.update(summary=data['summary'])\n",
    "        except(urllib.request.HTTPError):\n",
    "            print(mid, 'Not on MPAtlas production server')\n",
    "            m = Mpa.objects.filter(mpa_id=mid)\n",
    "            print(len(m.first().summary))"
   ]
  },
  {
   "cell_type": "code",
   "execution_count": 161,
   "metadata": {},
   "outputs": [],
   "source": [
    "mods = '''\n",
    "68808485 BRA BRA !NEW! Naufrágio Queimado Parque Estadual Marinho 2018-10-12 12:20:53.423198\n",
    "68807800 GBR GBR Flamborough Head Special Areas of Conservation (Habitats Directive) 2018-10-08 13:52:33.050569\n",
    "68808483 GBR GBR !NEW! Flamborough Head [No-Take Zone] Special Areas of Conservation (Habitats Directive) 2018-10-08 13:56:54.576230\n",
    "9450 GBR GBR North of Lundy Marine Conservation Zone 2018-10-08 14:04:09.292634\n",
    "15066 GBR GBR Lundy Marine Conservation Zone 2018-10-08 14:43:41.824497\n",
    "68808484 GBR GBR !NEW! Lundy [no-take zone] Marine Conservation Zone 2018-10-08 14:44:47.656833\n",
    "'''"
   ]
  },
  {
   "cell_type": "code",
   "execution_count": 311,
   "metadata": {},
   "outputs": [],
   "source": [
    "modids = (68808485, 68807800, 68808483, 9450, 15066, 68808484)\n",
    "\n",
    "def comma_splitter(tag_string):\n",
    "    return [t.strip() for t in tag_string.split(',') if t.strip()]"
   ]
  },
  {
   "cell_type": "code",
   "execution_count": 337,
   "metadata": {},
   "outputs": [
    {
     "name": "stdout",
     "output_type": "stream",
     "text": [
      "68808485 Naufrágio Queimado Parque Estadual Marinho\n",
      "Carto Error for mpa_id 68808741: Access denied\n",
      "68808741\n",
      "68808484 Lundy [no-take zone] Marine Conservation Zone\n",
      "Carto Error for mpa_id 68808742: Access denied\n",
      "68808742\n",
      "68808483 Flamborough Head [No-Take Zone] Special Areas of Conservation (Habitats Directive)\n",
      "Carto Error for mpa_id 68808743: Access denied\n",
      "68808743\n",
      "68807800 Flamborough Head Special Areas of Conservation (Habitats Directive)\n",
      "Carto Error for mpa_id 68807800: Access denied\n",
      "68807800\n",
      "15066 Lundy Marine Conservation Zone\n",
      "Carto Error for mpa_id 15066: Access denied\n",
      "15066\n",
      "9450 North of Lundy Marine Conservation Zone\n",
      "Carto Error for mpa_id 9450: Access denied\n",
      "9450\n"
     ]
    }
   ],
   "source": [
    "import taggit\n",
    "\n",
    "mpatlas_pgweb = '/Users/russmo/Code/postgres/mpatlas_20181012_webedits.gpkg'\n",
    "mds = DataSource(mpatlas_pgweb)\n",
    "\n",
    "allfields = mds[0].fields.copy()\n",
    "removefields = ['mpa_id', 'categories', ]\n",
    "fields = [f for f in allfields if f not in removefields]\n",
    "\n",
    "for feat in mds['mpatlas_20181012_webedits']:\n",
    "    print(feat['mpa_id'].value, feat['name'].value, feat['designation'].value)\n",
    "    try:\n",
    "        m, created = Mpa.objects.get_or_create(name=feat['name'].value, designation=feat['designation'].value, verification_state=feat['verification_state'].value)\n",
    "        for f in fields:\n",
    "            setattr(m, f, feat[f].value)\n",
    "        m.geom = feat.geom.geos\n",
    "        m.save()\n",
    "        m.categories.clear()\n",
    "        m.categories.add(*comma_splitter(feat['categories'].value))\n",
    "        print(m.pk)\n",
    "    except(Mpa.DoesNotExist):\n",
    "        print('  Error')"
   ]
  },
  {
   "cell_type": "code",
   "execution_count": 332,
   "metadata": {},
   "outputs": [
    {
     "data": {
      "text/plain": [
       "<QuerySet []>"
      ]
     },
     "execution_count": 332,
     "metadata": {},
     "output_type": "execute_result"
    }
   ],
   "source": [
    "import datetime\n",
    "mm = Mpa.objects.filter(name__icontains='Lundy [no-take zone]')\n",
    "list(mm.values_list('created_date', 'mpa_id', 'name', 'designation'))\n",
    "mm.filter(created_date__gte=datetime.datetime(2018,10,12))"
   ]
  },
  {
   "cell_type": "code",
   "execution_count": null,
   "metadata": {},
   "outputs": [],
   "source": []
  },
  {
   "cell_type": "code",
   "execution_count": null,
   "metadata": {},
   "outputs": [],
   "source": []
  }
 ],
 "metadata": {
  "kernelspec": {
   "display_name": "Django Shell-Plus",
   "language": "python",
   "name": "django_extensions"
  },
  "language_info": {
   "codemirror_mode": {
    "name": "ipython",
    "version": 3
   },
   "file_extension": ".py",
   "mimetype": "text/x-python",
   "name": "python",
   "nbconvert_exporter": "python",
   "pygments_lexer": "ipython3",
   "version": "3.6.5"
  }
 },
 "nbformat": 4,
 "nbformat_minor": 2
}
