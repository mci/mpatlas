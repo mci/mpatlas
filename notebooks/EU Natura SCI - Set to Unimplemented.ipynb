{
 "cells": [
  {
   "cell_type": "code",
   "execution_count": 21,
   "metadata": {},
   "outputs": [],
   "source": [
    "from mpa.models import Mpa, mpa_post_save\n",
    "from mpa.views import mpas_all_nogeom\n",
    "from wdpa.models import Wdpa2014Polygon, Wdpa2014Point, Wdpa2018Poly, Wdpa2018Point\n",
    "from django.db.models import Q, F, Func\n",
    "from importlib import reload\n",
    "from mpatlas.utils import cartompa"
   ]
  },
  {
   "cell_type": "code",
   "execution_count": 22,
   "metadata": {},
   "outputs": [],
   "source": [
    "mbs = mpas_all_nogeom.filter(\n",
    "    Q(country='CAN') | Q(sovereign='CAN')\n",
    ").filter(\n",
    "    Q(designation='Migratory Bird Sanctuary') |\n",
    "    Q(designation_eng='Migratory Bird Sanctuary')\n",
    ")"
   ]
  },
  {
   "cell_type": "code",
   "execution_count": 23,
   "metadata": {},
   "outputs": [
    {
     "data": {
      "text/plain": [
       "51"
      ]
     },
     "execution_count": 23,
     "metadata": {},
     "output_type": "execute_result"
    }
   ],
   "source": [
    "mbs.count()"
   ]
  },
  {
   "cell_type": "code",
   "execution_count": 29,
   "metadata": {},
   "outputs": [
    {
     "name": "stdout",
     "output_type": "stream",
     "text": [
      "0 13390_A True Kendall Island Migratory Bird Sanctuary\n",
      "2 13390_B True Kendall Island Migratory Bird Sanctuary\n",
      "0 13391_A True Anderson River Delta Migratory Bird Sanctuary\n",
      "2 13391_B True Anderson River Delta Migratory Bird Sanctuary\n",
      "0 13394_A True Queen Maud Gulf Migratory Bird Sanctuary\n",
      "2 13394_B True Queen Maud Gulf Migratory Bird Sanctuary\n",
      "0 13395_A True Seymour Island Migratory Bird Sanctuary\n",
      "2 13395_B True Seymour Island Migratory Bird Sanctuary\n",
      "0 13397_A True Bylot Island Migratory Bird Sanctuary\n",
      "2 13397_B True Bylot Island Migratory Bird Sanctuary\n",
      "0 13400_A True East Bay Migratory Bird Sanctuary\n",
      "2 13400_B True East Bay Migratory Bird Sanctuary\n",
      "0 13401_A True Harry Gibbons Migratory Bird Sanctuary\n",
      "2 13401_B True Harry Gibbons Migratory Bird Sanctuary\n",
      "0 13402_A True McConnell River Migratory Bird Sanctuary\n",
      "2 13402_B True McConnell River Migratory Bird Sanctuary\n",
      "0 18178_A True Port Joli Migratory Bird Sanctuary\n",
      "2 18178_B True Port Joli Migratory Bird Sanctuary\n",
      "0 18682 True Moose River Migratory Bird Sanctuary\n",
      "0 18699_A True Akimiski Island Migratory Bird Sanctuary\n",
      "2 18699_B True Akimiski Island Migratory Bird Sanctuary\n",
      "0 18700_A True Banks Island Migratory Bird Sanctuary No. 1\n",
      "2 18700_B True Banks Island Migratory Bird Sanctuary No. 1\n",
      "0 18701_A True Banks Island Migratory Bird Sanctuary No. 2\n",
      "2 18701_B True Banks Island Migratory Bird Sanctuary No. 2\n",
      "0 18703_A True Dewey Soper Migratory Bird Sanctuary\n",
      "2 18703_B True Dewey Soper Migratory Bird Sanctuary\n",
      "0 19313_A True Machias Seal Island Migratory Bird Sanctuary\n",
      "2 19313_B True Machias Seal Island Migratory Bird Sanctuary\n",
      "0 19961_A True Prince Leopold Island Migratory Bird Sanctuary\n",
      "2 19961_B True Prince Leopold Island Migratory Bird Sanctuary\n",
      "0 19962_A True Cape Parry Migratory Bird Sanctuary\n",
      "2 19962_B True Cape Parry Migratory Bird Sanctuary\n",
      "0 19963_A True Hannah Bay Migratory Bird Sanctuary\n",
      "2 19963_B True Hannah Bay Migratory Bird Sanctuary\n",
      "0 39501_A True Port Hebert Migratory Bird Sanctuary\n",
      "2 39501_B True Port Hebert Migratory Bird Sanctuary\n",
      "2 555621544 True Shoal Harbour Migratory Bird Sanctuary\n",
      "2 555621551_B True Esquimalt Lagoon Migratory Bird Sanctuary\n",
      "2 555621553_B True Victoria Harbour Migratory Bird Sanctuary\n",
      "2 555621557_B True Grand Manan Migratory Bird Sanctuary\n",
      "2 555621601_B True Big Glace Bay Lake Migratory Bird Sanctuary\n",
      "2 627 True Terra Nova Migratory Bird Sanctuary\n",
      "0 65208_A True George C. Reifel Migratory Bird Sanctuary\n",
      "2 65208_B True George C. Reifel Migratory Bird Sanctuary\n",
      "0 65755_A True Sable River Migratory Bird Sanctuary\n",
      "2 65755_B True Sable River Migratory Bird Sanctuary\n",
      "0 67095_A True Île aux Canes Migratory Bird Sanctuary\n",
      "2 67095_B True Île aux Canes Migratory Bird Sanctuary\n",
      "0 67152_A True Shepherd Island Migratory Bird Sanctuary\n",
      "2 67152_B True Shepherd Island Migratory Bird Sanctuary\n"
     ]
    }
   ],
   "source": [
    "for m in mbs.order_by('wdpa_pid'):\n",
    "    print(m.marine, m.wdpa_pid, m.implemented, m.name)\n",
    "    m.implemented=False\n",
    "    if m.marine==0:\n",
    "        m.is_mpa = False\n",
    "        m.implemented = True\n",
    "    m.save()"
   ]
  },
  {
   "cell_type": "code",
   "execution_count": 30,
   "metadata": {},
   "outputs": [],
   "source": [
    "wfgas = mpas_all_nogeom.filter(\n",
    "    Q(country='CAN') | Q(sovereign='CAN')\n",
    ").filter(\n",
    "    Q(designation__icontains='Water fowl gathering area') |\n",
    "    Q(designation=\"Aire de concentration d'oiseaux aquatiques\") |\n",
    "    Q(designation_eng__icontains='Water fowl gathering area') |\n",
    "    Q(designation_eng=\"Aire de concentration d'oiseaux aquatiques\")\n",
    ")"
   ]
  },
  {
   "cell_type": "code",
   "execution_count": 35,
   "metadata": {},
   "outputs": [
    {
     "data": {
      "text/plain": [
       "395"
      ]
     },
     "execution_count": 35,
     "metadata": {},
     "output_type": "execute_result"
    }
   ],
   "source": [
    "wfgas.update(is_mpa=False)"
   ]
  },
  {
   "cell_type": "code",
   "execution_count": 37,
   "metadata": {},
   "outputs": [
    {
     "data": {
      "text/plain": [
       "[]"
      ]
     },
     "execution_count": 37,
     "metadata": {},
     "output_type": "execute_result"
    }
   ],
   "source": [
    "cartompa.purgeCartoMpas()"
   ]
  },
  {
   "cell_type": "code",
   "execution_count": 38,
   "metadata": {},
   "outputs": [
    {
     "data": {
      "text/plain": [
       "395"
      ]
     },
     "execution_count": 38,
     "metadata": {},
     "output_type": "execute_result"
    }
   ],
   "source": [
    "cmpas = Mpa.objects.exclude(verification_state='Rejected as MPA').exclude(geom__isnull=True).order_by('-mpa_id').only('mpa_id')\n",
    "cmpas = cmpas.filter(\n",
    "    Q(country='CAN') | Q(sovereign='CAN')\n",
    ").filter(\n",
    "    Q(designation__icontains='Water fowl gathering area') |\n",
    "    Q(designation=\"Aire de concentration d'oiseaux aquatiques\") |\n",
    "    Q(designation_eng__icontains='Water fowl gathering area') |\n",
    "    Q(designation_eng=\"Aire de concentration d'oiseaux aquatiques\")\n",
    ")\n",
    "cmpas.count()\n"
   ]
  },
  {
   "cell_type": "code",
   "execution_count": 39,
   "metadata": {},
   "outputs": [
    {
     "name": "stdout",
     "output_type": "stream",
     "text": [
      "Processing 10 of 395 mpa records at a time\n",
      "Simplify threshold: 100000 points, Simplify tolerance: 0.0001\n",
      "Records [0 - 9]\n",
      "Records [10 - 19]\n",
      "Records [20 - 29]\n",
      "Records [30 - 39]\n",
      "Records [40 - 49]\n",
      "Records [50 - 59]\n",
      "Records [60 - 69]\n",
      "Records [70 - 79]\n",
      "Records [80 - 89]\n",
      "Records [90 - 99]\n",
      "Records [100 - 109]\n",
      "Records [110 - 119]\n",
      "Records [120 - 129]\n",
      "Records [130 - 139]\n",
      "Records [140 - 149]\n",
      "Records [150 - 159]\n",
      "Records [160 - 169]\n",
      "Records [170 - 179]\n",
      "Records [180 - 189]\n",
      "Records [190 - 199]\n",
      "Records [200 - 209]\n",
      "Records [210 - 219]\n",
      "Records [220 - 229]\n",
      "Records [230 - 239]\n",
      "Records [240 - 249]\n",
      "Records [250 - 259]\n",
      "Records [260 - 269]\n",
      "Records [270 - 279]\n",
      "Records [280 - 289]\n",
      "Records [290 - 299]\n",
      "Records [300 - 309]\n",
      "Records [310 - 319]\n",
      "Records [320 - 329]\n",
      "Records [330 - 339]\n",
      "Records [340 - 349]\n",
      "Records [350 - 359]\n",
      "Records [360 - 369]\n",
      "Records [370 - 379]\n",
      "Records [380 - 389]\n",
      "Records [390 - 394]\n",
      "TOTAL 39.15839862823486 sec elapsed\n"
     ]
    },
    {
     "data": {
      "text/plain": [
       "[]"
      ]
     },
     "execution_count": 39,
     "metadata": {},
     "output_type": "execute_result"
    }
   ],
   "source": [
    "cartompa.updateAllMpas(mpas=cmpas)"
   ]
  },
  {
   "cell_type": "code",
   "execution_count": null,
   "metadata": {},
   "outputs": [],
   "source": []
  },
  {
   "cell_type": "code",
   "execution_count": null,
   "metadata": {},
   "outputs": [],
   "source": []
  },
  {
   "cell_type": "code",
   "execution_count": null,
   "metadata": {},
   "outputs": [],
   "source": []
  }
 ],
 "metadata": {
  "kernelspec": {
   "display_name": "Django Shell-Plus",
   "language": "python",
   "name": "django_extensions"
  },
  "language_info": {
   "codemirror_mode": {
    "name": "ipython",
    "version": 3
   },
   "file_extension": ".py",
   "mimetype": "text/x-python",
   "name": "python",
   "nbconvert_exporter": "python",
   "pygments_lexer": "ipython3",
   "version": "3.6.5"
  }
 },
 "nbformat": 4,
 "nbformat_minor": 2
}
