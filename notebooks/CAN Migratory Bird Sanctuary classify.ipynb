{
 "cells": [
  {
   "cell_type": "code",
   "execution_count": 21,
   "metadata": {},
   "outputs": [],
   "source": [
    "from mpa.models import Mpa, mpa_post_save\n",
    "from mpa.views import mpas_all_nogeom\n",
    "from wdpa.models import Wdpa2014Polygon, Wdpa2014Point, Wdpa2018Poly, Wdpa2018Point\n",
    "from django.db.models import Q, F, Func\n",
    "from importlib import reload\n",
    "from mpatlas.utils import cartompa"
   ]
  },
  {
   "cell_type": "code",
   "execution_count": 22,
   "metadata": {},
   "outputs": [],
   "source": [
    "mbs = mpas_all_nogeom.filter(\n",
    "    Q(country='CAN') | Q(sovereign='CAN')\n",
    ").filter(\n",
    "    Q(designation='Migratory Bird Sanctuary') |\n",
    "    Q(designation_eng='Migratory Bird Sanctuary')\n",
    ")"
   ]
  },
  {
   "cell_type": "code",
   "execution_count": 23,
   "metadata": {},
   "outputs": [
    {
     "data": {
      "text/plain": [
       "51"
      ]
     },
     "execution_count": 23,
     "metadata": {},
     "output_type": "execute_result"
    }
   ],
   "source": [
    "mbs.count()"
   ]
  },
  {
   "cell_type": "code",
   "execution_count": 57,
   "metadata": {},
   "outputs": [
    {
     "name": "stdout",
     "output_type": "stream",
     "text": [
      "Designated 0 13390_A True Kendall Island Migratory Bird Sanctuary\n",
      "Designated 2 13390_B False Kendall Island Migratory Bird Sanctuary\n",
      "Designated 0 13391_A True Anderson River Delta Migratory Bird Sanctuary\n",
      "Designated 2 13391_B False Anderson River Delta Migratory Bird Sanctuary\n",
      "Designated 0 13394_A True Queen Maud Gulf Migratory Bird Sanctuary\n",
      "Designated 2 13394_B False Queen Maud Gulf Migratory Bird Sanctuary\n",
      "Designated 0 13395_A True Seymour Island Migratory Bird Sanctuary\n",
      "Designated 2 13395_B False Seymour Island Migratory Bird Sanctuary\n",
      "Designated 0 13397_A True Bylot Island Migratory Bird Sanctuary\n",
      "Designated 2 13397_B False Bylot Island Migratory Bird Sanctuary\n",
      "Designated 0 13400_A True East Bay Migratory Bird Sanctuary\n",
      "Designated 2 13400_B False East Bay Migratory Bird Sanctuary\n",
      "Designated 0 13401_A True Harry Gibbons Migratory Bird Sanctuary\n",
      "Designated 2 13401_B False Harry Gibbons Migratory Bird Sanctuary\n",
      "Designated 0 13402_A True McConnell River Migratory Bird Sanctuary\n",
      "Designated 2 13402_B False McConnell River Migratory Bird Sanctuary\n",
      "Designated 0 18178_A True Port Joli Migratory Bird Sanctuary\n",
      "Designated 2 18178_B False Port Joli Migratory Bird Sanctuary\n",
      "Designated 0 18682 True Moose River Migratory Bird Sanctuary\n",
      "Designated 0 18699_A True Akimiski Island Migratory Bird Sanctuary\n",
      "Designated 2 18699_B False Akimiski Island Migratory Bird Sanctuary\n",
      "Designated 0 18700_A True Banks Island Migratory Bird Sanctuary No. 1\n",
      "Designated 2 18700_B False Banks Island Migratory Bird Sanctuary No. 1\n",
      "Designated 0 18701_A True Banks Island Migratory Bird Sanctuary No. 2\n",
      "Designated 2 18701_B False Banks Island Migratory Bird Sanctuary No. 2\n",
      "Designated 0 18703_A True Dewey Soper Migratory Bird Sanctuary\n",
      "Designated 2 18703_B False Dewey Soper Migratory Bird Sanctuary\n",
      "Designated 0 19313_A True Machias Seal Island Migratory Bird Sanctuary\n",
      "Designated 2 19313_B False Machias Seal Island Migratory Bird Sanctuary\n",
      "Designated 0 19961_A True Prince Leopold Island Migratory Bird Sanctuary\n",
      "Designated 2 19961_B False Prince Leopold Island Migratory Bird Sanctuary\n",
      "Designated 0 19962_A True Cape Parry Migratory Bird Sanctuary\n",
      "Designated 2 19962_B False Cape Parry Migratory Bird Sanctuary\n",
      "Designated 0 19963_A True Hannah Bay Migratory Bird Sanctuary\n",
      "Designated 2 19963_B False Hannah Bay Migratory Bird Sanctuary\n",
      "Designated 0 39501_A True Port Hebert Migratory Bird Sanctuary\n",
      "Designated 2 39501_B False Port Hebert Migratory Bird Sanctuary\n",
      "Designated 2 555621544 False Shoal Harbour Migratory Bird Sanctuary\n",
      "Designated 2 555621551_B False Esquimalt Lagoon Migratory Bird Sanctuary\n",
      "Designated 2 555621553_B False Victoria Harbour Migratory Bird Sanctuary\n",
      "Designated 2 555621557_B False Grand Manan Migratory Bird Sanctuary\n",
      "Designated 2 555621601_B False Big Glace Bay Lake Migratory Bird Sanctuary\n",
      "Designated 2 627 False Terra Nova Migratory Bird Sanctuary\n",
      "Designated 0 65208_A True George C. Reifel Migratory Bird Sanctuary\n",
      "Designated 2 65208_B False George C. Reifel Migratory Bird Sanctuary\n",
      "Designated 0 65755_A True Sable River Migratory Bird Sanctuary\n",
      "Designated 2 65755_B False Sable River Migratory Bird Sanctuary\n",
      "Designated 0 67095_A True Île aux Canes Migratory Bird Sanctuary\n",
      "Designated 2 67095_B False Île aux Canes Migratory Bird Sanctuary\n",
      "Designated 0 67152_A True Shepherd Island Migratory Bird Sanctuary\n",
      "Designated 2 67152_B False Shepherd Island Migratory Bird Sanctuary\n"
     ]
    }
   ],
   "source": [
    "for m in mbs.order_by('wdpa_pid'):\n",
    "    print(m.status, m.marine, m.wdpa_pid, m.implemented, m.name)\n",
    "    m.implemented=False\n",
    "    if m.marine==0:\n",
    "        m.is_mpa = False\n",
    "        m.implemented = True\n",
    "    m.save()"
   ]
  },
  {
   "cell_type": "code",
   "execution_count": 40,
   "metadata": {},
   "outputs": [],
   "source": [
    "wfgas = mpas_all_nogeom.filter(\n",
    "    Q(country='CAN') | Q(sovereign='CAN')\n",
    ").filter(\n",
    "    Q(designation__icontains='Water fowl gathering area') |\n",
    "    Q(designation__icontains=\"Aire de concentration d'oiseaux aquatiques\") |\n",
    "    Q(designation_eng__icontains='Water fowl gathering area') |\n",
    "    Q(designation_eng__icontains=\"Aire de concentration d'oiseaux aquatiques\")\n",
    ")"
   ]
  },
  {
   "cell_type": "code",
   "execution_count": 41,
   "metadata": {},
   "outputs": [
    {
     "data": {
      "text/plain": [
       "395"
      ]
     },
     "execution_count": 41,
     "metadata": {},
     "output_type": "execute_result"
    }
   ],
   "source": [
    "wfgas.update(is_mpa=False)"
   ]
  },
  {
   "cell_type": "code",
   "execution_count": 56,
   "metadata": {},
   "outputs": [
    {
     "name": "stdout",
     "output_type": "stream",
     "text": [
      "Designated 0 False True 13115_A Polar Bear Pass National Wildlife Area National Wildlife Area\n",
      "Designated 2 True False 13115_B Polar Bear Pass National Wildlife Area National Wildlife Area\n",
      "Designated 0 False True 18161_A Alaksen National Wildlife Area National Wildlife Area\n",
      "Designated 2 True False 18161_B Alaksen National Wildlife Area National Wildlife Area\n",
      "Designated 0 False True 18164_A Boot Island National Wildlife Area National Wildlife Area\n",
      "Designated 2 True False 18164_B Boot Island National Wildlife Area National Wildlife Area\n",
      "Designated 0 False True 18166_A Cape Jourimain National Wildlife Area National Wildlife Area\n",
      "Designated 2 True False 18166_B Cape Jourimain National Wildlife Area National Wildlife Area\n",
      "Designated 2 True False 18188_B Sand Pond National Wildlife Area National Wildlife Area\n",
      "Designated 0 False True 18197_A Wallace Bay National Wildlife Area National Wildlife Area\n",
      "Designated 2 True False 18197_B Wallace Bay National Wildlife Area National Wildlife Area\n",
      "Designated 0 False True 304997_A Nirjutiqavvik National Wildlife Area National Wildlife Area\n",
      "Designated 2 True False 304997_B Nirjutiqavvik National Wildlife Area National Wildlife Area\n",
      "Designated 0 False True 305204_A John Lusby Marsh National Wildlife Area National Wildlife Area\n",
      "Designated 2 True False 305204_B John Lusby Marsh National Wildlife Area National Wildlife Area\n",
      "Designated 0 False True 555516427_A Akpait National Wildlife Area National Wildlife Area\n",
      "Designated 2 True False 555516427_B Akpait National Wildlife Area National Wildlife Area\n",
      "Designated 0 False True 555516428_A Ninginganiq National Wildlife Area National Wildlife Area\n",
      "Designated 2 True False 555516428_B Ninginganiq National Wildlife Area National Wildlife Area\n",
      "Designated 0 False True 555516429_A Qaqulluit National Wildlife Area National Wildlife Area\n",
      "Designated 2 True False 555516429_B Qaqulluit National Wildlife Area National Wildlife Area\n",
      "Designated 2 True True None Scott Islands Marine National Wildlife Area (Protected Marine Area)\n"
     ]
    }
   ],
   "source": [
    "nwa = mpas_all_nogeom.filter(\n",
    "    Q(country='CAN') | Q(sovereign='CAN')\n",
    ").filter(\n",
    "    Q(designation__icontains='National Wildlife Area') |\n",
    "    Q(designation_eng__icontains='National Wildlife Area')\n",
    ").order_by('wdpa_pid')\n",
    "nwa.count()\n",
    "for n in nwa:\n",
    "    print(n.status, n.marine, n.is_mpa, n.implemented, n.wdpa_pid, n.name, n.designation)\n",
    "    if n.marine==0:\n",
    "        n.is_mpa=False\n",
    "        n.implemented=True\n",
    "    if n.marine==2:\n",
    "        n.implemented = False\n",
    "    if (n.name=='Scott Islands'):\n",
    "        n.marine=2\n",
    "    n.save()"
   ]
  },
  {
   "cell_type": "code",
   "execution_count": 55,
   "metadata": {},
   "outputs": [
    {
     "name": "stdout",
     "output_type": "stream",
     "text": [
      "Designated 0 True False 100660_A Kejimkujik National Park and National Historic Site of Canada  (Seaside Adjunct) National Park of Canada\n",
      "Designated 2 False True 100660_B Kejimkujik National Park and National Historic Site of Canada  (Seaside Adjunct) National Park of Canada\n",
      "Designated 0 True False 100672_A Ivvavik National Park of Canada National Park of Canada\n",
      "Designated 2 False True 100672_B Ivvavik National Park of Canada National Park of Canada\n",
      "Designated 0 True False 100676_A Aulavik National Park of Canada National Park of Canada\n",
      "Designated 2 False True 100676_B Aulavik National Park of Canada National Park of Canada\n",
      "Designated 2 False True 101586 Wapusk National Park of Canada National Park of Canada\n",
      "Designated 0 True False 13396_A Quttinirpaaq National Park of Canada National Park of Canada\n",
      "Designated 2 False True 13396_B Quttinirpaaq National Park of Canada National Park of Canada\n",
      "Designated 1 False True 23124 Parc national du Bic Parc national du Québec\n",
      "Designated 1 False True 23128 Parc national de l'Île-Bonaventure-et-du-Rocher-Percé Parc national du Québec\n",
      "Designated 0 True False 300103_A Sirmilik National Park of Canada National Park of Canada\n",
      "Designated 2 False True 300103_B Sirmilik National Park of Canada National Park of Canada\n",
      "Designated 0 True False 305157_A Gulf Islands National Park Reserve of Canada National Park of Canada\n",
      "Designated 2 False True 305157_B Gulf Islands National Park Reserve of Canada National Park of Canada\n",
      "Proposed 1 False True 308505 Réserve de parc national du Cap-Wolstenholme Réserve de parc national du Québec\n",
      "Proposed 1 False True 308506 Réserve de parc national des Monts-de-Puvirnituq Réserve de parc national du Québec\n",
      "Designated 0 True False 555516422_A Ukkusiksalik National Park of Canada National Park of Canada\n",
      "Designated 2 False True 555516422_B Ukkusiksalik National Park of Canada National Park of Canada\n",
      "Designated 1 False True 555566992 Parc national Anticosti Parc national du Québec\n",
      "Designated 1 False True 555593737 Parc national Kuururjuaq Parc national du Québec\n",
      "Designated 0 True False 613_A Auyuittuq National Park of Canada National Park of Canada\n",
      "Designated 2 False True 613_B Auyuittuq National Park of Canada National Park of Canada\n",
      "Designated 1 False True 61598 Parc national de Miguasha Parc national du Québec\n",
      "Designated 0 True False 628_A Pacific Rim National Park Reserve of Canada National Park of Canada\n",
      "Designated 2 False True 628_B Pacific Rim National Park Reserve of Canada National Park of Canada\n",
      "Designated 0 True False 632_A Kouchibouguac National Park of Canada National Park of Canada\n",
      "Designated 2 False True 632_B Kouchibouguac National Park of Canada National Park of Canada\n",
      "Designated 1 False True None Qausuittuq National Park\n"
     ]
    }
   ],
   "source": [
    "np = mpas_all_nogeom.filter(\n",
    "    Q(country='CAN') | Q(sovereign='CAN')\n",
    ").filter(\n",
    "    Q(designation__icontains='National Park') |\n",
    "    Q(designation_eng__icontains='National Park')\n",
    ").order_by('wdpa_pid')\n",
    "np.count()\n",
    "for n in np:\n",
    "    print(n.status, n.marine, n.implemented, n.is_mpa, n.wdpa_pid, n.name, n.designation)\n",
    "    if n.marine==0:\n",
    "        n.is_mpa=False\n",
    "        n.implemented=True\n",
    "    if n.marine>=1:\n",
    "        n.implemented = False\n",
    "    n.save()"
   ]
  },
  {
   "cell_type": "code",
   "execution_count": 100,
   "metadata": {},
   "outputs": [
    {
     "name": "stdout",
     "output_type": "stream",
     "text": [
      "101417_A 0 False True 101417_B 2 True Ecological Reserve Hudson rocks ecological reserve\n",
      "101421_A 0 False True 101421_B 2 True Ecological Reserve San juan river estuary ecological reserve\n",
      "101534_A 0 False True 101534_B 2 True Wildlife Management Area Boundary bay wildlife management area\n",
      "101597_A 0 False True 101597_B 2 True A - Park Bligh island marine park\n",
      "101598_A 0 False True 101598_B 2 True A - Park Brooks peninsula park [a.k.a. muqqiwn park]\n",
      "101635_A 0 False True 101635_B 2 True A - Park Catala island marine park\n",
      "101640_A 0 False True 101640_B 2 True A - Park Epper passage park\n",
      "101645_A 0 False True 101645_B 2 True A - Park God's pocket marine park\n",
      "101646_A 0 False True 101646_B 2 True A - Park Gowlland tod park\n",
      "101651_A 0 False True 101651_B 2 True A - Park Jedediah island marine park\n",
      "101659_A 0 False True 101659_B 2 True A - Park Marble river park\n",
      "101666_A 0 False True 101666_B 2 True A - Park Quatsino park\n",
      "101667_A 0 False True 101667_B 2 True A - Park Rock bay marine park\n",
      "101669_A 0 False True 101669_B 2 True A - Park Sulphur passage park\n",
      "101670_A 0 False True 101670_B 2 True A - Park Tahsish-kwois park\n",
      "101679_A 0 False True 101679_B 2 True A - Park Juan de fuca park\n",
      "101683_A 0 False True 101683_B 2 True A - Park Big bunsby marine park\n",
      "101688_A 0 False True 101688_B 2 True A - Park Dixie cove marine park\n",
      "101705_A 0 False True 101705_B 2 True A - Park Nuchatlitz park\n",
      "101709_A 0 False True 101709_B 2 True A - Park Santa getrudis-boca del infierno park\n",
      "101713_A 0 False True 101713_B 2 True A - Park Surge narrows park\n",
      "101721_A 0 False True 101721_B 2 True Conservancy Huchsduwachsdu nuyem jees/kitlope heritage conservancy\n",
      "13100_A 0 False True 13100_B 2 True A - Park Montague harbour marine park\n",
      "13101_A 0 False True 13101_B 2 True A - Park Princess louisa marine park\n",
      "13102_A 0 False True 13102_B 2 True A - Park Garden bay marine park\n",
      "13103_A 0 False True 13103_B 2 True A - Park Plumper cove marine park\n",
      "13105_A 0 False True 13105_B 2 True A - Park Copeland islands marine park\n",
      "13107_A 0 False True 13107_B 2 True A - Park Pirates cove marine park\n",
      "13108_A 0 False True 13108_B 2 True A - Park Smuggler cove marine park\n",
      "13109_A 0 False True 13109_B 2 True A - Park Rebecca spit marine park\n",
      "13111_A 0 False True 13111_B 2 True A - Park Newcastle island marine park\n",
      "13113_A 0 False True 13113_B 2 True A - Park Echo bay marine park\n",
      "13114_A 0 False True 13114_B 2 True A - Park Thurston bay marine park\n",
      "167356_A 0 False True 167356_B 2 True A - Park Homathko estuary park\n",
      "167502_A 0 False True 167502_B 2 True A - Park Rendezvous island south park\n",
      "18133_A 0 False True 18133_B 2 True Ecological Reserve Baccalieu Island Ecological Reserve\n",
      "18136_A 0 False True 18136_B 2 True Ecological Reserve Funk Island Ecological Reserve\n",
      "18137_A 0 False True 18137_B 2 True Ecological Reserve Gannet Islands Ecological Reserve\n",
      "18138_A 0 False True 18138_B 2 True Ecological Reserve Hare Bay Islands Ecological Reserve\n",
      "18144_A 0 False True 18144_B 2 True Ecological Reserve Witless Bay Ecological Reserve\n",
      "18311_A 0 False True 18311_B 2 True Ecological Reserve Anne vallee (triangle island) ecological reserve\n",
      "18314_A 0 False True 18314_B 2 True Ecological Reserve Baeria rocks ecological reserve\n",
      "18317_A 0 False True 18317_B 2 True Ecological Reserve Beresford island ecological reserve\n",
      "18325_A 0 False True 18325_B 2 True Ecological Reserve Byers/conroy/harvey/sinnett islands ecological reserve\n",
      "18332_A 0 False True 18332_B 2 True Ecological Reserve Checleset bay ecological reserve\n",
      "18348_A 0 False True 18348_B 2 True Ecological Reserve Dewdney and glide islands ecological reserve\n",
      "18352_A 0 False True 18352_B 2 True Ecological Reserve Duke of edinburgh (pine/storm/tree islands) ecological reserve\n",
      "18381_A 0 False True 18381_B 2 True Ecological Reserve Moore/mckenny/whitmore islands ecological reserve\n",
      "18394_A 0 False True 18394_B 2 True Ecological Reserve Oak bay islands ecological reserve\n",
      "18398_A 0 False True 18398_B 2 True Ecological Reserve Race rocks ecological reserve\n",
      "18401_A 0 False True 18401_B 2 True Ecological Reserve Robson bight (michael bigg) ecologcial reserve\n",
      "18406_A 0 False True 18406_B 2 True Ecological Reserve Sartine islands ecological reserve\n",
      "18422_A 0 False True 18422_B 2 True Ecological Reserve Tahsish river ecological reserve\n",
      "18424_A 0 False True 18424_B 2 True Ecological Reserve Ten mile point ecological reserve\n",
      "18426_A 0 False True 18426_B 2 True Ecological Reserve Tow hill ecological reserve\n",
      "18432_A 0 False True 18432_B 2 True Ecological Reserve Vladimir j. krajina (port chanal) ecological reserve\n",
      "18499_A 0 False True 18499_B 2 True A - Park Desolation sound marine park\n",
      "18503_A 0 False True 18503_B 2 True A - Park Mansons landing park\n",
      "18504_A 0 False True 18504_B 2 True A - Park Octopus islands marine park\n",
      "18638_A 0 False True 18638_B 2 True Conservancy Fiordland conservancy\n",
      "18640_A 0 False True 18640_B 2 True Protected Area Hakai conservation study area\n",
      "303207_A 0 False True 303207_B 2 True A - Park Hathayim marine park (a.k.a. von donop marine park)\n",
      "303212_A 0 False True 303212_B 2 True A - Park Lanz and cox islands park\n",
      "303274_A 0 False True 303274_B 2 True A - Park Bodega ridge park\n",
      "303295_A 0 False True 303295_B 2 True Wildlife Management Area Cluxewe wildlife management area\n",
      "303299_A 0 False True 303299_B 2 True Wildlife Management Area Tofino mudflats wildlife management area\n",
      "305170_A 0 False True 305170_B 2 True A - Park Lawn point park\n",
      "4144_A 0 False True 4144_B 2 True Ecological Reserve Cape St. Mary's Ecological Reserve\n",
      "4184_A 0 False True 4184_B 2 True A - Park Naikoon park\n",
      "4186_A 0 False True 4186_B 2 True A - Park Cape scott park\n",
      "4189_A 0 False True 4189_B 2 True A - Park Mitlenatch island nature park\n",
      "555515513_A 0 False True 555515513_B 2 True Provincially Owned Natural Area Poverty Beach Sand Dunes Natural Area\n",
      "555515516_A 0 False True 555515516_B 2 True Provincially Owned Natural Area Basin Head Sand Dunes Natural Area\n",
      "555515521_A 0 False True 555515521_B 2 True Provincially Owned Natural Area Little Pond Salt Marsh Natural Area\n",
      "555515525_A 0 False True 555515525_B 2 True Privately Owned Natural Area (INT) Bird Island Natural Area\n",
      "555515527_A 0 False True 555515527_B 2 True Provincially Owned Natural Area Boughton Island Natural Area\n",
      "555515529_A 0 False True 555515529_B 2 True Privately Owned Natural Area (INT) Salutation Cove Salt Marsh Natural Area\n",
      "555515530_A 0 False True 555515530_B 2 True Provincially Owned Natural Area Tryon River Salt  Marsh Natural Area\n",
      "555515531_A 0 False True 555515531_B 2 True Provincially Owned Natural Area Malpeque Bay Salt Marsh Natural Area\n",
      "555515554_A 0 False True 555515554_B 2 True Privately Owned Natural Area (INT) North Lake Salt Marsh Natural Area\n",
      "555515555_A 0 False True 555515555_B 2 True Privately Owned Natural Area (INT) Nueffer Salt Marsh  Natural Area (Point Prim)\n",
      "555515562_A 0 False True 555515562_B 2 True Provincially Owned Natural Area Rayners Pond Natural Area\n",
      "555515563_A 0 False True 555515563_B 2 True Provincially Owned Natural Area Roseville Cliff,  Natural Pond Natural Area\n",
      "555515566_A 0 False True 555515566_B 2 True Provincially Owned Natural Area Morell River Riparian Zone Natural Area\n",
      "555515568_A 0 False True 555515568_B 2 True Provincially Owned Natural Area Boughton River Riparian Zone Natural Area\n",
      "555515572_A 0 False True 555515572_B 2 True Provincially Owned Natural Area Green Park Provincial Park, Salt Martsh Natural Area\n",
      "555515574_A 0 False True 555515574_B 2 True Provincially Owned Natural Area Little Tignish Run Salt Marsh Natural Area\n",
      "555515581_A 0 False True 555515581_B 2 True Provincial Wildlife Management Area Dingwells Mills Wildlife Management Area\n",
      "555515583_A 0 False True 555515583_B 2 True Provincial Wildlife Management Area Glenfinnan Wildlife Management Area\n",
      "555515584_A 0 False True 555515584_B 2 True Provincial Wildlife Management Area Grovepine / Big Brook Wildlife Management Area\n",
      "555515590_A 0 False True 555515590_B 2 True Provincial Wildlife Management Area Mount Stewart Wildlife Management Area\n",
      "555515592_A 0 False True 555515592_B 2 True Provincial Wildlife Management Area New Glasgow Wildlife Management Area\n",
      "555515593_A 0 False True 555515593_B 2 True Provincial Wildlife Management Area Pisquid Wildlife Management Area\n"
     ]
    },
    {
     "name": "stdout",
     "output_type": "stream",
     "text": [
      "555515594_A 0 False True 555515594_B 2 True Provincial Wildlife Management Area Saint Chrysostome Wildlife Management Area\n",
      "555515611_A 0 False True 555515611_B 2 True Protected Natural Area Bay du Vin Island\n",
      "555515625_A 0 False True 555515625_B 2 True Protected Natural Area Little Salmon River\n",
      "555515666_A 0 False True 555515666_B 2 True Protected Natural Area Musquash Estuary, Private Land Component\n",
      "555516156_A 0 False True 555516156_B 2 True A - Park Coste rocks park\n",
      "555516157_A 0 False True 555516157_B 2 True A - Park Dala-kildala rivers estuaries park\n",
      "555516158_A 0 False True 555516158_B 2 True A - Park Eagle bay park\n",
      "555516185_A 0 False True 555516185_B 2 True Conservancy Hakai luxvbalis conservancy\n",
      "555516197_A 0 False True 555516197_B 2 True Conservancy Lax kul nii luutiksm/bonilla conservancy\n",
      "555516202_A 0 False True 555516202_B 2 True Conservancy Gitxaala nii luutiksm/kitkatla conservancy\n",
      "555516223_A 0 False True 555516223_B 2 True Conservancy Palemin/estero basin conservancy\n",
      "555516230_A 0 False True 555516230_B 2 True Conservancy Dzawadi/klinaklini estuary conservancy\n",
      "555516250_A 0 False True 555516250_B 2 True Conservancy Negiy/nekite estuary conservancy\n",
      "555516258_A 0 False True 555516258_B 2 True Conservancy Lucy islands conservancy\n",
      "555516259_A 0 False True 555516259_B 2 True Conservancy Manzanita cove conservancy\n",
      "555516264_A 0 False True 555516264_B 2 True Conservancy Winter inlet conservancy\n",
      "555516265_A 0 False True 555516265_B 2 True Conservancy Zumtela bay conservancy\n",
      "555516292_A 0 False True 555516292_B 2 True Wildlife Management Area Parksville-qualicum beach wildlife management area\n",
      "555516295_A 0 False True 555516295_B 2 True Wildlife Management Area Sturgeon bank wildlife management area\n",
      "555516314_A 0 False True 555516314_B 2 True A - Park Sabine channel marine park\n",
      "555516319_A 0 False True 555516319_B 2 True A - Park Sue channel park\n",
      "555516352_A 0 False True 555516352_B 2 True A - Park Francis point park\n",
      "555516353_A 0 False True 555516353_B 2 True Ecological Reserve Francis point ecological reserve\n",
      "555516354_A 0 False True 555516354_B 2 True Protected Area Brim river hot springs protected area\n",
      "555516355_A 0 False True 555516355_B 2 True A - Park Foch-gilttoyees park\n",
      "555516356_A 0 False True 555516356_B 2 True A - Park Owyacumish river park\n",
      "555516357_A 0 False True 555516357_B 2 True Wildlife Management Area Skwelwil'em squamish estuary wildlife management area\n",
      "555516358_A 0 False True 555516358_B 2 True A - Park Allison harbour marine park\n",
      "555516359_A 0 False True 555516359_B 2 True Conservancy K'nabiyaaxl/ashdown conservancy\n",
      "555516360_A 0 False True 555516360_B 2 True Conservancy Banks nii luutiksm conservancy\n",
      "555516361_A 0 False True 555516361_B 2 True Conservancy Bishop bay-monkey beach conservancy\n",
      "555516362_A 0 False True 555516362_B 2 True Conservancy Lax ka'gass/campania conservancy\n",
      "555516363_A 0 False True 555516363_B 2 True Conservancy Lax kwil dziidz/fin conservancy\n",
      "555516364_A 0 False True 555516364_B 2 True Conservancy Monckton nii luutiksm conservancy\n",
      "555516365_A 0 False True 555516365_B 2 True Conservancy Ksi xts'at'kw/stagoo conservancy\n",
      "555516366_A 0 False True 555516366_B 2 True Conservancy Carter bay conservancy\n",
      "555516367_A 0 False True 555516367_B 2 True Conservancy Clyak estuary conservancy\n",
      "555516368_A 0 False True 555516368_B 2 True Conservancy Goat cove conservancy\n",
      "555516369_A 0 False True 555516369_B 2 True Conservancy Kilbella estuary conservancy\n",
      "555516370_A 0 False True 555516370_B 2 True Conservancy Kimsquit estuary conservancy\n",
      "555516371_A 0 False True 555516371_B 2 True Conservancy Kwatna estuary conservancy\n",
      "555516372_A 0 False True 555516372_B 2 True Conservancy Phillips estuary/?nacinuxw conservancy\n",
      "555516373_A 0 False True 555516373_B 2 True Conservancy Wawley/seymour estuary conservancy\n",
      "555516374_A 0 False True 555516374_B 2 True Conservancy Xwakwe?naxde?ma/stafford estuary conservancy\n",
      "555516375_A 0 False True 555516375_B 2 True Conservancy Wakeman estuary conservancy\n",
      "555516376_A 0 False True 555516376_B 2 True Conservancy Khutzeymateen inlet west conservancy\n",
      "555516377_A 0 False True 555516377_B 2 True Conservancy Ecstall spoksuut conservancy\n",
      "555516378_A 0 False True 555516378_B 2 True Conservancy Lax kwaxl/dundas-melville islands conservancy\n",
      "555516379_A 0 False True 555516379_B 2 True Conservancy Alty conservancy\n",
      "555516380_A 0 False True 555516380_B 2 True Conservancy Kennedy island conservancy\n",
      "555516381_A 0 False True 555516381_B 2 True Conservancy Khutzeymateen inlet conservancy\n",
      "555516382_A 0 False True 555516382_B 2 True Conservancy Ksi xãanmaas conservancy\n",
      "555516383_A 0 False True 555516383_B 2 True Conservancy Kts'mkta'ani/union lake conservancy\n",
      "555516385_A 0 False True 555516385_B 2 True Conservancy Ktisgaidz/macdonald bay conservancy\n",
      "555516386_A 0 False True 555516386_B 2 True Conservancy Shearwater hot springs conservancy\n",
      "555516387_A 0 False True 555516387_B 2 True Conservancy Skeena bank conservancy\n",
      "555516388_A 0 False True 555516388_B 2 True Conservancy Stair creek conservancy\n",
      "555516389_A 0 False True 555516389_B 2 True Conservancy Ksgaxl/stephens island group conservancy\n",
      "555516390_A 0 False True 555516390_B 2 True Conservancy Thulme falls conservancy\n",
      "555516391_A 0 False True 555516391_B 2 True Conservancy Maxtaktsm'aa/union passage conservancy\n",
      "555516392_A 0 False True 555516392_B 2 True Conservancy K'distsausk/turtle point conservancy\n",
      "555516393_A 0 False True 555516393_B 2 True Conservancy Wales harbour conservancy\n",
      "555516394_A 0 False True 555516394_B 2 True Conservancy K'waal conservancy\n",
      "555516395_A 0 False True 555516395_B 2 True Conservancy Bella coola estuary conservancy\n",
      "555516396_A 0 False True 555516396_B 2 True Protected Area Foch-gilttoyees protected area\n",
      "555516397_A 0 False True 555516397_B 2 True Protected Area Jesse falls protected area\n",
      "555516398_A 0 False True 555516398_B 2 True A - Park Weewanie hot springs park\n",
      "555516399_A 0 False True 555516399_B 2 True A - Park Small inlet marine park\n",
      "555516400_A 0 False True 555516400_B 2 True A - Park Wakes cove park\n",
      "555558200_A 0 False True 555558200_B 2 True Provincially Owned Natural Area Degros Marsh, Saltmarsh Natural Area\n",
      "555558201_A 0 False True 555558201_B 2 True Privately Owned Natural Area Holm Cove Salt Marsh Natural Area\n",
      "555558230_A 0 False True 555558230_B 2 True Provincially Owned Natural Area Black Pond Sand Dunes Natural Area\n",
      "555566976_A 0 False True 555566976_B 2 True Wildlife Management Area Quatse estuary wildlife management area\n",
      "65090_A 0 False True 65090_B 2 True A - Park Apodaca park\n",
      "65172_A 0 False True 65172_B 2 True A - Park Drumbeg park\n",
      "65206_A 0 False True 65206_B 2 True A - Park Gabriola sands park\n",
      "65211_A 0 False True 65211_B 2 True A - Park Goldstream park\n",
      "65216_A 0 False True 65216_B 2 True A - Park Halkett bay park\n",
      "65221_A 0 False True 65221_B 2 True A - Park Helliwell park\n",
      "65277_A 0 False True 65277_B 2 True A - Park Maquinna marine park\n",
      "65294_A 0 False True 65294_B 2 True A - Park Miracle beach park\n",
      "65360_A 0 False True 65360_B 2 True A - Park Porteau cove park\n",
      "65371_A 0 False True 65371_B 2 True A - Park Rathtrevor beach park\n",
      "65386_A 0 False True 65386_B 2 True A - Park Saltery bay park\n",
      "65387_A 0 False True 65387_B 2 True A - Park Sandwell park\n",
      "65411_A 0 False True 65411_B 2 True A - Park Smelt bay park\n",
      "65425_A 0 False True 65425_B 2 True A - Park Strathcona park\n",
      "65446_A 0 False True 65446_B 2 True A - Park Tribune bay park\n",
      "65470_A 0 False True 65470_B 2 True A - Park Whaleboat island marine park\n",
      "66573_A 0 False True 66573_B 2 True Provincially Owned Natural Area Murray River Islands Natural Area (Cherry Island)\n",
      "66594_A 0 False True 66594_B 2 True Privately Owned Natural Area (NCC) Savage Harbour - St Peters Lake Run Sand Dunes Natural Area\n",
      "67031_A 0 False True 67031_B 2 True Ecological Reserve Klaskish river ecological reserve\n",
      "67038_A 0 False True 67038_B 2 True A - Park Broughton archipelago marine park\n",
      "67041_A 0 False True 67041_B 2 True A - Park Green inlet marine park\n",
      "67042_A 0 False True 67042_B 2 True A - Park Harmony islands marine park\n",
      "67043_A 0 False True 67043_B 2 True A - Park Jackson narrows marine park\n",
      "67050_A 0 False True 67050_B 2 True A - Park Penrose island marine park\n",
      "67051_A 0 False True 67051_B 2 True A - Park Oliver cove marine park\n"
     ]
    },
    {
     "name": "stdout",
     "output_type": "stream",
     "text": [
      "67052_A 0 False True 67052_B 2 True A - Park Raft cove park\n",
      "67054_A 0 False True 67054_B 2 True A - Park Roscoe bay park\n",
      "67055_A 0 False True 67055_B 2 True A - Park Rugged point marine park\n",
      "67056_A 0 False True 67056_B 2 True A - Park Sargeant bay park\n",
      "67058_A 0 False True 67058_B 2 True A - Park Wallace island marine park\n",
      "67059_A 0 False True 67059_B 2 True A - Park Walsh cove park\n",
      "67347_A 0 False True 67347_B 2 True A - Park Buccaneer bay park\n",
      "67351_A 0 False True 67351_B 2 True A - Park Codville lagoon marine park\n",
      "67352_A 0 False True 67352_B 2 True A - Park Cormorant channel marine park\n",
      "67356_A 0 False True 67356_B 2 True A - Park Teakerne arm park\n",
      "67406_A 0 False True 67406_B 2 True A - Park Tatshenshini-alsek park\n",
      "67573_A 0 False True 67573_B 2 True Provincial Wildlife Management Area Rollo Bay Wildlife Management Area\n",
      "99743_A 0 False True 99743_B 2 True A - Park Union passage marine park\n",
      "99748_A 0 False True 99748_B 2 True A - Park Kitson island marine park\n",
      "99749_A 0 False True 99749_B 2 True A - Park Klewnuggit inlet marine park\n",
      "99751_A 0 False True 99751_B 2 True A - Park Lowe inlet marine park\n",
      "99806_A 0 False True 99806_B 2 True A - Park Dawley passage park\n",
      "99829_A 0 False True 99829_B 2 True A - Park Flores island park\n",
      "99831_A 0 False True 99831_B 2 True A - Park Hesquiat peninsula park\n",
      "99836_A 0 False True 99836_B 2 True A - Park Sydney inlet park\n",
      "99839_A 0 False True 99839_B 2 True A - Park Vargas island park\n",
      "99840_A 0 False True 99840_B 2 True A - Park Khutzeymateen park (a.k.a. khutzeymateen/k'tzim-a-deen grizzly sanctuary)\n"
     ]
    }
   ],
   "source": [
    "zones = mpas_all_nogeom.filter(\n",
    "    Q(country='CAN') | Q(sovereign='CAN')\n",
    ").filter(\n",
    "    Q(wdpa_pid__icontains='_')\n",
    ").order_by('wdpa_pid')\n",
    "zones.filter(wdpa_pid__icontains='_B')\n",
    "desigs = []\n",
    "for z in zones.filter(wdpa_pid__icontains='_B'):\n",
    "    pid = z.wdpa_pid\n",
    "    wid = z.wdpa_pid[:-2]\n",
    "    zas = zones.filter(wdpa_pid='%s_A' % (wid))\n",
    "    if zas:\n",
    "        za = zas[0]\n",
    "        if za.implemented == False and z.implemented != za.implemented:\n",
    "            desigs.append(z.designation)\n",
    "            print(za.wdpa_pid, za.marine, za.implemented, za.is_mpa, z.wdpa_pid, z.marine, z.implemented, z.designation, z.name)\n",
    "            z.implemented = False\n",
    "            za.implemented = True\n",
    "            z.save()\n",
    "            za.save()"
   ]
  },
  {
   "cell_type": "code",
   "execution_count": 101,
   "metadata": {},
   "outputs": [],
   "source": [
    "desigs = ['Protected Natural Area',\n",
    " 'Privately Owned Natural Area',\n",
    " 'Conservancy',\n",
    " 'Provincially Owned Natural Area',\n",
    " 'Ecological Reserve',\n",
    " 'Wildlife Management Area',\n",
    " 'A - Park',\n",
    " 'Privately Owned Natural Area (INT)',\n",
    " 'Privately Owned Natural Area (NCC)',\n",
    " 'Protected Area',\n",
    " 'Provincial Wildlife Management Area']"
   ]
  },
  {
   "cell_type": "code",
   "execution_count": 108,
   "metadata": {},
   "outputs": [
    {
     "name": "stdout",
     "output_type": "stream",
     "text": [
      "35\n"
     ]
    }
   ],
   "source": [
    "unimps = mpas_all_nogeom.filter(\n",
    "    Q(country='CAN') | Q(sovereign='CAN')\n",
    ").filter(\n",
    "    Q(designation__in=desigs)\n",
    ").exclude(\n",
    "    wdpa_pid__icontains='_'\n",
    ").order_by('wdpa_pid')\n",
    "print(unimps.count())\n",
    "for u in unimps:\n",
    "    if u.implemented == True:\n",
    "        pid = u.wdpa_pid\n",
    "        wid = u.wdpa_id\n",
    "        print(u.mpa_id, u.wdpa_pid, u.marine, u.implemented, u.is_mpa, u.designation, u.name)\n",
    "        u.implemented = False\n",
    "        u.save()"
   ]
  },
  {
   "cell_type": "code",
   "execution_count": 37,
   "metadata": {},
   "outputs": [
    {
     "data": {
      "text/plain": [
       "[]"
      ]
     },
     "execution_count": 37,
     "metadata": {},
     "output_type": "execute_result"
    }
   ],
   "source": [
    "cartompa.purgeCartoMpas()"
   ]
  },
  {
   "cell_type": "code",
   "execution_count": 38,
   "metadata": {},
   "outputs": [
    {
     "data": {
      "text/plain": [
       "395"
      ]
     },
     "execution_count": 38,
     "metadata": {},
     "output_type": "execute_result"
    }
   ],
   "source": [
    "cmpas = Mpa.objects.exclude(verification_state='Rejected as MPA').exclude(geom__isnull=True).order_by('-mpa_id').only('mpa_id')\n",
    "cmpas = cmpas.filter(\n",
    "    Q(country='CAN') | Q(sovereign='CAN')\n",
    ").filter(\n",
    "    Q(designation__icontains='Water fowl gathering area') |\n",
    "    Q(designation=\"Aire de concentration d'oiseaux aquatiques\") |\n",
    "    Q(designation_eng__icontains='Water fowl gathering area') |\n",
    "    Q(designation_eng=\"Aire de concentration d'oiseaux aquatiques\")\n",
    ")\n",
    "cmpas.count()\n"
   ]
  },
  {
   "cell_type": "code",
   "execution_count": 39,
   "metadata": {},
   "outputs": [
    {
     "name": "stdout",
     "output_type": "stream",
     "text": [
      "Processing 10 of 395 mpa records at a time\n",
      "Simplify threshold: 100000 points, Simplify tolerance: 0.0001\n",
      "Records [0 - 9]\n",
      "Records [10 - 19]\n",
      "Records [20 - 29]\n",
      "Records [30 - 39]\n",
      "Records [40 - 49]\n",
      "Records [50 - 59]\n",
      "Records [60 - 69]\n",
      "Records [70 - 79]\n",
      "Records [80 - 89]\n",
      "Records [90 - 99]\n",
      "Records [100 - 109]\n",
      "Records [110 - 119]\n",
      "Records [120 - 129]\n",
      "Records [130 - 139]\n",
      "Records [140 - 149]\n",
      "Records [150 - 159]\n",
      "Records [160 - 169]\n",
      "Records [170 - 179]\n",
      "Records [180 - 189]\n",
      "Records [190 - 199]\n",
      "Records [200 - 209]\n",
      "Records [210 - 219]\n",
      "Records [220 - 229]\n",
      "Records [230 - 239]\n",
      "Records [240 - 249]\n",
      "Records [250 - 259]\n",
      "Records [260 - 269]\n",
      "Records [270 - 279]\n",
      "Records [280 - 289]\n",
      "Records [290 - 299]\n",
      "Records [300 - 309]\n",
      "Records [310 - 319]\n",
      "Records [320 - 329]\n",
      "Records [330 - 339]\n",
      "Records [340 - 349]\n",
      "Records [350 - 359]\n",
      "Records [360 - 369]\n",
      "Records [370 - 379]\n",
      "Records [380 - 389]\n",
      "Records [390 - 394]\n",
      "TOTAL 39.15839862823486 sec elapsed\n"
     ]
    },
    {
     "data": {
      "text/plain": [
       "[]"
      ]
     },
     "execution_count": 39,
     "metadata": {},
     "output_type": "execute_result"
    }
   ],
   "source": [
    "cartompa.updateAllMpas(mpas=cmpas)"
   ]
  },
  {
   "cell_type": "code",
   "execution_count": null,
   "metadata": {},
   "outputs": [],
   "source": []
  },
  {
   "cell_type": "code",
   "execution_count": null,
   "metadata": {},
   "outputs": [],
   "source": []
  },
  {
   "cell_type": "code",
   "execution_count": null,
   "metadata": {},
   "outputs": [],
   "source": []
  }
 ],
 "metadata": {
  "kernelspec": {
   "display_name": "Django Shell-Plus",
   "language": "python",
   "name": "django_extensions"
  },
  "language_info": {
   "codemirror_mode": {
    "name": "ipython",
    "version": 3
   },
   "file_extension": ".py",
   "mimetype": "text/x-python",
   "name": "python",
   "nbconvert_exporter": "python",
   "pygments_lexer": "ipython3",
   "version": "3.6.5"
  }
 },
 "nbformat": 4,
 "nbformat_minor": 2
}
