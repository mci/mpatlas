{
 "cells": [
  {
   "cell_type": "code",
   "execution_count": 1,
   "metadata": {},
   "outputs": [],
   "source": [
    "from mpa.models import Mpa, mpa_post_save\n",
    "from django.db.models.signals import post_save, post_delete\n",
    "from mpa.views import mpas_all_nogeom\n",
    "import reversion\n",
    "from reversion.models import Revision\n",
    "from reversion.models import Version\n",
    "import datetime\n",
    "from django.db.models import Q, F, Func\n",
    "from wdpa.models import Wdpa2019Poly, Wdpa2019Point"
   ]
  },
  {
   "cell_type": "code",
   "execution_count": 2,
   "metadata": {},
   "outputs": [
    {
     "data": {
      "text/plain": [
       "<QuerySet [{'country': 'TUV'}]>"
      ]
     },
     "execution_count": 2,
     "metadata": {},
     "output_type": "execute_result"
    }
   ],
   "source": [
    "mpaset = mpas_all_nogeom.exclude(\n",
    "        Q(country__icontains='USA') | Q(sovereign__icontains='USA') |\n",
    "        Q(country__icontains='UMI') | Q(sovereign__icontains='UMI') |\n",
    "        Q(country__icontains='VIR') | Q(sovereign__icontains='VIR') |\n",
    "        Q(country__icontains='PRI') | Q(sovereign__icontains='PRI') |\n",
    "        Q(country__icontains='ASM') | Q(sovereign__icontains='ASM') |\n",
    "        Q(country__icontains='GUM') | Q(sovereign__icontains='GUM') |\n",
    "        Q(country__icontains='MNP') | Q(sovereign__icontains='MNP')\n",
    "    ).exclude(\n",
    "        Q(country__icontains='MEX') | Q(country__icontains='CHL') | Q(country__icontains='IDN') | \n",
    "        Q(country__icontains='CHN') | Q(country__icontains='JPN') | \n",
    "        Q(sovereign__icontains='MEX') | Q(sovereign__icontains='CHL') | Q(sovereign__icontains='IDN') |\n",
    "        Q(sovereign__icontains='CHN') | Q(sovereign__icontains='JPN')\n",
    "    ).filter(Q(country__icontains='TUV') | Q(sovereign__icontains='TUV'))\n",
    "mpaset.values('country').distinct()"
   ]
  },
  {
   "cell_type": "code",
   "execution_count": 4,
   "metadata": {},
   "outputs": [],
   "source": [
    "# mpaset = mpas_all_nogeom.exclude(\n",
    "#         Q(country__icontains='USA') | Q(sovereign__icontains='USA') |\n",
    "#         Q(country__icontains='UMI') | Q(sovereign__icontains='UMI') |\n",
    "#         Q(country__icontains='VIR') | Q(sovereign__icontains='VIR') |\n",
    "#         Q(country__icontains='PRI') | Q(sovereign__icontains='PRI') |\n",
    "#         Q(country__icontains='ASM') | Q(sovereign__icontains='ASM') |\n",
    "#         Q(country__icontains='GUM') | Q(sovereign__icontains='GUM') |\n",
    "#         Q(country__icontains='MNP') | Q(sovereign__icontains='MNP')\n",
    "#     ).exclude(\n",
    "#         Q(country__icontains='MEX') | Q(country__icontains='CHL') | Q(country__icontains='IDN') | \n",
    "#         Q(country__icontains='CHN') | Q(country__icontains='JPN') | \n",
    "#         Q(sovereign__icontains='MEX') | Q(sovereign__icontains='CHL') | Q(sovereign__icontains='IDN') |\n",
    "#         Q(sovereign__icontains='CHN') | Q(sovereign__icontains='JPN')\n",
    "#     ).exclude(\n",
    "#         Q(country__icontains='FRA') | Q(sovereign__icontains='FRA') |\n",
    "#         Q(country__icontains='ATF') | Q(country__icontains='BLM') | Q(country__icontains='GLP') |\n",
    "#         Q(country__icontains='GUF') | Q(country__icontains='MAF') | Q(country__icontains='MTQ') |\n",
    "#         Q(country__icontains='MYT') | Q(country__icontains='NCL') | Q(country__icontains='PYF') |\n",
    "#         Q(country__icontains='REU') | Q(country__icontains='SHN') | Q(country__icontains='SYC')\n",
    "#     ).exclude(\n",
    "#         Q(country__icontains='AUS') | Q(sovereign__icontains='AUS') |\n",
    "#         Q(country__icontains='ZAF') | Q(sovereign__icontains='ZAF') |\n",
    "#         Q(country__icontains='CAN') | Q(sovereign__icontains='CAN')\n",
    "#     ).exclude(\n",
    "#         Q(country__icontains='GBR') | Q(sovereign__icontains='GBR') |\n",
    "#         Q(country__icontains='AIA') | Q(country__icontains='BMU') | Q(country__icontains='CYM') |\n",
    "#         Q(country__icontains='FLK') | Q(country__icontains='GIB') | Q(country__icontains='IMN') |\n",
    "#         Q(country__icontains='IOT') | Q(country__icontains='JEY') | Q(country__icontains='MSR') |\n",
    "#         Q(country__icontains='PCN') | Q(country__icontains='SGS') | Q(country__icontains='SHN') |\n",
    "#         Q(country__icontains='TCA') | Q(country__icontains='VGB')\n",
    "#     )\n",
    "# mpaset.values('country').distinct()"
   ]
  },
  {
   "cell_type": "code",
   "execution_count": 3,
   "metadata": {},
   "outputs": [
    {
     "data": {
      "text/plain": [
       "0"
      ]
     },
     "execution_count": 3,
     "metadata": {},
     "output_type": "execute_result"
    }
   ],
   "source": [
    "mpas_all_nogeom.filter(wdpa_id=0).update(wdpa_id=None)\n",
    "mpas_all_nogeom.filter(wdpa_id=0).count()"
   ]
  },
  {
   "cell_type": "code",
   "execution_count": 4,
   "metadata": {},
   "outputs": [
    {
     "name": "stdout",
     "output_type": "stream",
     "text": [
      "1 2019-12-31 14:26:21.608063 count: 2 mpa_id: 68815949 wdpa_id: 555547861\n",
      "2 2019-12-31 14:54:02.714215 count: 2 mpa_id: 68817107 wdpa_id: 555651495\n",
      "3 2019-12-31 14:26:24.508178 count: 2 mpa_id: 68815951 wdpa_id: 555547862\n",
      "4 2019-12-31 14:26:31.883866 count: 2 mpa_id: 68815955 wdpa_id: 555547865\n",
      "5 2019-12-31 14:26:19.513372 count: 4 mpa_id: 14508 wdpa_id: 555547861\n",
      "6 2020-01-01 13:09:46.809052 count: 6 mpa_id: 6846 wdpa_id: 145496\n",
      "7 2019-12-31 14:53:59.748670 count: 2 mpa_id: 68817104 wdpa_id: 555651493\n",
      "8 2019-12-31 14:54:00.840096 count: 2 mpa_id: 68817105 wdpa_id: 555651493\n",
      "9 2019-12-31 14:26:26.758479 count: 2 mpa_id: 68815952 wdpa_id: 555547863\n",
      "10 2019-12-31 14:26:28.708839 count: 2 mpa_id: 68815953 wdpa_id: 555547864\n",
      "11 2019-12-31 14:26:29.763878 count: 2 mpa_id: 68815954 wdpa_id: 555547864\n",
      "12 2019-12-31 14:26:23.653076 count: 2 mpa_id: 68815950 wdpa_id: 555547862\n",
      "13 2019-12-31 14:26:25.894306 count: 4 mpa_id: 14510 wdpa_id: 555547863\n",
      "14 2019-12-31 14:26:27.774412 count: 4 mpa_id: 14511 wdpa_id: 555547864\n",
      "15 2019-12-31 14:26:20.457902 count: 2 mpa_id: 68815948 wdpa_id: 555547861\n",
      "16 2019-12-31 14:26:30.998512 count: 4 mpa_id: 14512 wdpa_id: 555547865\n",
      "17 2019-12-31 14:26:22.763223 count: 4 mpa_id: 14509 wdpa_id: 555547862\n",
      "18 2019-12-31 14:54:01.790534 count: 2 mpa_id: 68817106 wdpa_id: 555651494\n"
     ]
    }
   ],
   "source": [
    "count = 0\n",
    "# cutoff_date = datetime.datetime(2014, 11, 5)\n",
    "cutoff_date = datetime.datetime(2018, 10, 15)\n",
    "for m in mpaset:\n",
    "    versions = Version.objects.get_for_object(m)\n",
    "    created = 'Never'\n",
    "    if not m.wdpa_id: continue\n",
    "    try:\n",
    "        created = versions.first().revision.date_created\n",
    "        if created > cutoff_date:\n",
    "            count = count + 1\n",
    "            print(count, created, 'count:', len(versions), 'mpa_id:', m.mpa_id, 'wdpa_id:', m.wdpa_id)\n",
    "    except:\n",
    "        pass"
   ]
  },
  {
   "cell_type": "code",
   "execution_count": 5,
   "metadata": {},
   "outputs": [
    {
     "data": {
      "text/plain": [
       "<module 'wdpa.merge' from '/home/mpatlas/projects/django_mpatlas/wdpa/merge.py'>"
      ]
     },
     "execution_count": 5,
     "metadata": {},
     "output_type": "execute_result"
    }
   ],
   "source": [
    "from importlib import reload\n",
    "from wdpa import merge\n",
    "reload(merge)"
   ]
  },
  {
   "cell_type": "code",
   "execution_count": 47,
   "metadata": {},
   "outputs": [
    {
     "name": "stdout",
     "output_type": "stream",
     "text": [
      "1\n",
      "345888.0 345888 Terres Australes Françaises , Réserve Naturelle Nationale 2\n",
      "1\n",
      "555547601.0 555547601 South Georgia and South Sandwich Islands Marine Protected Area , Marine Protected Area 2\n"
     ]
    }
   ],
   "source": [
    "tas = Wdpa2019Poly.objects.filter(wdpa_pid__icontains='345888')\n",
    "print(tas.count())\n",
    "for t in tas:\n",
    "    print(t.wdpaid, t.wdpa_pid, t.name, ',', t.desig, t.marine)\n",
    "\n",
    "sgs = Wdpa2019Poly.objects.filter(name__icontains='South Georgia')\n",
    "print(sgs.count())\n",
    "for s in sgs:\n",
    "    print(s.wdpaid, s.wdpa_pid, s.name, ',', s.desig, s.marine)\n"
   ]
  },
  {
   "cell_type": "code",
   "execution_count": 6,
   "metadata": {},
   "outputs": [],
   "source": [
    "# remove_log = '/home/mpatlas/workspace/log/removewdpa_TUV_log.json'\n",
    "remove_log = '/Users/russmo/Code/wdpa/log/removewdpa_TUV_2019_log.json'\n",
    "wdpa2remove = merge.getRemoveWdpaList(logfile=remove_log)"
   ]
  },
  {
   "cell_type": "code",
   "execution_count": 7,
   "metadata": {},
   "outputs": [
    {
     "data": {
      "text/plain": [
       "0"
      ]
     },
     "execution_count": 7,
     "metadata": {},
     "output_type": "execute_result"
    }
   ],
   "source": [
    "len(wdpa2remove)"
   ]
  },
  {
   "cell_type": "code",
   "execution_count": 8,
   "metadata": {},
   "outputs": [
    {
     "data": {
      "text/plain": [
       "0"
      ]
     },
     "execution_count": 8,
     "metadata": {},
     "output_type": "execute_result"
    }
   ],
   "source": [
    "rm_mpas = Mpa.objects.filter(wdpa_id__in=wdpa2remove).order_by('country')\n",
    "len(rm_mpas)"
   ]
  },
  {
   "cell_type": "code",
   "execution_count": 9,
   "metadata": {},
   "outputs": [],
   "source": [
    "for m in rm_mpas:\n",
    "    print(m.mpa_id, m.wdpa_id, m.wdpa_pid, m.country, m.sovereign, m.is_mpa, m.no_take, m.no_take_area, m.name, m.designation_eng)"
   ]
  },
  {
   "cell_type": "code",
   "execution_count": 10,
   "metadata": {},
   "outputs": [],
   "source": [
    "merge.removeMpasByWdpaId(wdpa2remove)"
   ]
  },
  {
   "cell_type": "code",
   "execution_count": 11,
   "metadata": {},
   "outputs": [
    {
     "data": {
      "text/plain": [
       "<module 'wdpa.merge' from '/home/mpatlas/projects/django_mpatlas/wdpa/merge.py'>"
      ]
     },
     "execution_count": 11,
     "metadata": {},
     "output_type": "execute_result"
    }
   ],
   "source": [
    "reload(merge)"
   ]
  },
  {
   "cell_type": "code",
   "execution_count": 12,
   "metadata": {},
   "outputs": [],
   "source": [
    "wdpa2add = merge.getAddWdpaList()"
   ]
  },
  {
   "cell_type": "code",
   "execution_count": 13,
   "metadata": {},
   "outputs": [
    {
     "data": {
      "text/plain": [
       "9"
      ]
     },
     "execution_count": 13,
     "metadata": {},
     "output_type": "execute_result"
    }
   ],
   "source": [
    "len(wdpa2add)"
   ]
  },
  {
   "cell_type": "code",
   "execution_count": 14,
   "metadata": {},
   "outputs": [
    {
     "name": "stdout",
     "output_type": "stream",
     "text": [
      "15 wdpa_pid's processed\n",
      "555547861_C : 1 processed\n",
      "555547862_A : 2 processed\n",
      "555547865_B : 3 processed\n",
      "555547862_B : 4 processed\n",
      "555547861_A : 5 processed\n",
      "555547862_C : 6 processed\n",
      "555547864_B : 7 processed\n",
      "555547864_A : 8 processed\n",
      "555547864_C : 9 processed\n",
      "555651493_B : 10 processed\n",
      "555651493_A : 11 processed\n",
      "555547865_A : 12 processed\n",
      "555547861_B : 13 processed\n",
      "555547863_B : 14 processed\n",
      "555547863_A : 15 processed\n"
     ]
    }
   ],
   "source": [
    "wdpapid2add = merge.getAddWdpaPidList(verbose=True)"
   ]
  },
  {
   "cell_type": "code",
   "execution_count": 15,
   "metadata": {},
   "outputs": [
    {
     "data": {
      "text/plain": [
       "15"
      ]
     },
     "execution_count": 15,
     "metadata": {},
     "output_type": "execute_result"
    }
   ],
   "source": [
    "len(wdpapid2add)"
   ]
  },
  {
   "cell_type": "code",
   "execution_count": 18,
   "metadata": {},
   "outputs": [],
   "source": [
    "# Assign records with zones to be the first zone.  Do not rerun.\n",
    "# In separate notebook"
   ]
  },
  {
   "cell_type": "code",
   "execution_count": 16,
   "metadata": {},
   "outputs": [
    {
     "data": {
      "text/plain": [
       "18"
      ]
     },
     "execution_count": 16,
     "metadata": {},
     "output_type": "execute_result"
    }
   ],
   "source": [
    "allpid2add = wdpapid2add + [str(int(i)) for i in wdpa2add]\n",
    "len(allpid2add)\n",
    "Wdpa2019Poly.objects.filter(wdpa_pid__in=allpid2add).count() + \\\n",
    "Wdpa2019Point.objects.filter(wdpa_pid__in=allpid2add).count()"
   ]
  },
  {
   "cell_type": "code",
   "execution_count": 17,
   "metadata": {},
   "outputs": [
    {
     "data": {
      "text/plain": [
       "<QuerySet [(555547861.0, '555547861_A'), (555547861.0, '555547861_B'), (555547861.0, '555547861_C'), (555547862.0, '555547862_A'), (555547862.0, '555547862_B'), (555547862.0, '555547862_C'), (555547863.0, '555547863_A'), (555547863.0, '555547863_B'), (555547864.0, '555547864_A'), (555547864.0, '555547864_B'), (555547864.0, '555547864_C'), (555547865.0, '555547865_A'), (555547865.0, '555547865_B'), (555651493.0, '555651493_A'), (555651493.0, '555651493_B')]>"
      ]
     },
     "execution_count": 17,
     "metadata": {},
     "output_type": "execute_result"
    }
   ],
   "source": [
    "unmatched_pids_poly = Wdpa2019Poly.objects.filter(\n",
    "    Q(wdpa_pid__in=allpid2add) | Q(wdpaid__in=wdpa2add)\n",
    ").exclude(\n",
    "    wdpa_pid=Func(F('wdpaid'), function='INTEGER', template='(%(expressions)s::%(function)s)::text')\n",
    ")\n",
    "unmatched_pids_point = Wdpa2019Point.objects.filter(\n",
    "    Q(wdpa_pid__in=allpid2add) | Q(wdpaid__in=wdpa2add)\n",
    ").exclude(\n",
    "    wdpa_pid=Func(F('wdpaid'), function='INTEGER', template='(%(expressions)s::%(function)s)::text')\n",
    ")\n",
    "unmatched_pids_poly.order_by('wdpa_pid').values_list('wdpaid', 'wdpa_pid')\n"
   ]
  },
  {
   "cell_type": "code",
   "execution_count": 18,
   "metadata": {},
   "outputs": [
    {
     "data": {
      "text/plain": [
       "6"
      ]
     },
     "execution_count": 18,
     "metadata": {},
     "output_type": "execute_result"
    }
   ],
   "source": [
    "# Set wdpa_pid for new zones\n",
    "# If existing MPAtlas sites with this wdpa_id,\n",
    "# set first non-rejected site to the first PID_A.\n",
    "# Clear pid for all other MPAtlas sites and flag\n",
    "# as orphaned zones.\n",
    "\n",
    "wzones = []\n",
    "mpasw = [float(wi) for wi in mpaset.filter(wdpa_id__isnull=False).order_by('wdpa_id').values_list('wdpa_id', flat=True)]\n",
    "polyset = Wdpa2019Poly.objects.filter(wdpaid__in=mpasw).only('wdpaid', 'wdpa_pid', 'name', 'desig_eng', 'iso3', 'parent_iso3')\n",
    "for w in polyset:\n",
    "    if w.wdpa_pid != str(int(w.wdpaid)):\n",
    "        wzones.append(w.wdpaid)\n",
    "wzones = list(set(wzones))\n",
    "len(wzones)"
   ]
  },
  {
   "cell_type": "code",
   "execution_count": 19,
   "metadata": {},
   "outputs": [],
   "source": [
    "# Assign mpa records that were previously unzoned to have the pid of the first zone in the updated WDPA data set for this site.\n",
    "count = 0\n",
    "for wid in wzones:\n",
    "    zones = Wdpa2019Poly.objects.filter(wdpaid=wid).only('wdpaid', 'wdpa_pid', 'name', 'desig_eng', 'iso3', 'parent_iso3')\n",
    "    firstpid = zones.order_by('wdpa_pid').first().wdpa_pid\n",
    "    mpaz = mpaset.filter(wdpa_id=int(wid)).order_by('mpa_id')\n",
    "    m = None\n",
    "    if mpaz.filter(wdpa_pid=firstpid).count() == 0:\n",
    "        # no mpas match first zone pid\n",
    "        if mpaz.count() == 1:\n",
    "            if mpaz[0].wdpa_pid == str(mpaz[0].wdpa_id) or mpaz[0].wdpa_pid == '' or mpaz[0].wdpa_pid is None:\n",
    "                # only record without specific zone, so go ahead and set it first zone\n",
    "                m = mpaz[0]\n",
    "        else:\n",
    "            if mpaz.count() == mpaz.filter(Q(wdpa_pid=Func(F('wdpa_id'), function='INTEGER', template='(%(expressions)s::%(function)s)::text')) | Q(wdpa_pid__isnull=True) | Q(wdpa_pid='')).count():\n",
    "                # more than one mpatlas mpa record with this wdpa_id\n",
    "                # but none have a proper wdpa_pid different from the wdpa_id\n",
    "                # so set first one to have the first zone pid\n",
    "                nonrejects = mpaz.exclude(verification_state='Rejected as MPA').order_by('mpa_id')\n",
    "                if nonrejects:\n",
    "                    m = nonrejects[0]\n",
    "                else:\n",
    "                    m = mpaz[0]\n",
    "    if m:\n",
    "        print(m.mpa_id, m.wdpa_id, m.wdpa_pid)\n",
    "        m.wdpa_pid = firstpid\n",
    "        count += 1\n",
    "        print(count, m.mpa_id, m.wdpa_id, m.wdpa_pid)\n",
    "        m.save()\n"
   ]
  },
  {
   "cell_type": "code",
   "execution_count": 20,
   "metadata": {},
   "outputs": [],
   "source": [
    "reload(merge)\n",
    "addpoint_geolog = '/home/mpatlas/workspace/log/addpoint_TUV_2019_log.json'\n",
    "addpoly_log = '/home/mpatlas/workspace/log/addpoly_TUV_2019_log.json'\n",
    "addpoly_geolog = '/home/mpatlas/workspace/log/addpoly_TUV_2019_geo_log.json'\n",
    "# addpoint_geolog = '/Users/russmo/Code/wdpa/log/addpoint_TUV_2019_log.json'\n",
    "# addpoly_log = '/Users/russmo/Code/wdpa/log/addpoly_TUV_2019_v2_zerogeofix_log.json'\n",
    "# addpoly_geolog = '/Users/russmo/Code/wdpa/log/addpoly_TUV_2019_v2_zerogeofix_geo_log.json'"
   ]
  },
  {
   "cell_type": "code",
   "execution_count": 21,
   "metadata": {},
   "outputs": [
    {
     "data": {
      "text/plain": [
       "True"
      ]
     },
     "execution_count": 21,
     "metadata": {},
     "output_type": "execute_result"
    }
   ],
   "source": [
    "points = Wdpa2019Point.objects.filter(wdpa_pid__in=allpid2add).order_by('wdpa_pid')\n",
    "merge.updateMpasFromWdpaQueryset(qs=points, poly=False, logfile=None, geologfile=addpoint_geolog, dryrun=False)"
   ]
  },
  {
   "cell_type": "code",
   "execution_count": 22,
   "metadata": {},
   "outputs": [
    {
     "name": "stdout",
     "output_type": "stream",
     "text": [
      "1/18 adding/updating wdpa_pid 145496 with mpa_id 6846\n",
      "    INFO: Older WDPA record not found\n",
      "    MPAtlas orig geom area is zero, using WDPA boundaries\n",
      "    Retained old MPAtlas values for: \n",
      "2/18 adding/updating wdpa_pid 555547861_A with mpa_id 14508\n",
      "    INFO: Older WDPA record not found\n",
      "    MPAtlas orig geom area is zero, using WDPA boundaries\n",
      "    Retained old MPAtlas values for: \n",
      "3/18 adding/updating wdpa_pid 555547861_B with mpa_id 68815948\n",
      "    INFO: Older WDPA record not found\n",
      "    MPAtlas orig geom area is zero, using WDPA boundaries\n",
      "    Retained old MPAtlas values for: \n",
      "4/18 adding/updating wdpa_pid 555547861_C with mpa_id 68815949\n",
      "    INFO: Older WDPA record not found\n",
      "    MPAtlas orig geom area is zero, using WDPA boundaries\n",
      "    Retained old MPAtlas values for: \n",
      "5/18 adding/updating wdpa_pid 555547862_A with mpa_id 14509\n",
      "    INFO: Older WDPA record not found\n",
      "    MPAtlas orig geom area is zero, using WDPA boundaries\n",
      "    Retained old MPAtlas values for: \n",
      "6/18 adding/updating wdpa_pid 555547862_B with mpa_id 68815950\n",
      "    INFO: Older WDPA record not found\n",
      "    MPAtlas orig geom area is zero, using WDPA boundaries\n",
      "    Retained old MPAtlas values for: \n",
      "7/18 adding/updating wdpa_pid 555547862_C with mpa_id 68815951\n",
      "    INFO: Older WDPA record not found\n",
      "    MPAtlas orig geom area is zero, using WDPA boundaries\n",
      "    Retained old MPAtlas values for: \n",
      "8/18 adding/updating wdpa_pid 555547863_A with mpa_id 14510\n",
      "    INFO: Older WDPA record not found\n",
      "    MPAtlas orig geom area is zero, using WDPA boundaries\n",
      "    Retained old MPAtlas values for: \n",
      "9/18 adding/updating wdpa_pid 555547863_B with mpa_id 68815952\n",
      "    INFO: Older WDPA record not found\n",
      "    MPAtlas orig geom area is zero, using WDPA boundaries\n",
      "    Retained old MPAtlas values for: \n",
      "10/18 adding/updating wdpa_pid 555547864_A with mpa_id 14511\n",
      "    INFO: Older WDPA record not found\n",
      "    MPAtlas orig geom area is zero, using WDPA boundaries\n",
      "    Retained old MPAtlas values for: \n",
      "11/18 adding/updating wdpa_pid 555547864_B with mpa_id 68815953\n",
      "    INFO: Older WDPA record not found\n",
      "    MPAtlas orig geom area is zero, using WDPA boundaries\n",
      "    Retained old MPAtlas values for: \n",
      "12/18 adding/updating wdpa_pid 555547864_C with mpa_id 68815954\n",
      "    INFO: Older WDPA record not found\n",
      "    MPAtlas orig geom area is zero, using WDPA boundaries\n",
      "    Retained old MPAtlas values for: \n",
      "13/18 adding/updating wdpa_pid 555547865_A with mpa_id 14512\n",
      "    INFO: Older WDPA record not found\n",
      "    MPAtlas orig geom area is zero, using WDPA boundaries\n",
      "    Retained old MPAtlas values for: \n",
      "14/18 adding/updating wdpa_pid 555547865_B with mpa_id 68815955\n",
      "    INFO: Older WDPA record not found\n",
      "    MPAtlas orig geom area is zero, using WDPA boundaries\n",
      "    Retained old MPAtlas values for: \n",
      "15/18 adding/updating wdpa_pid 555651493_A with mpa_id 68817104\n",
      "    PID: 555651493_A has 1 field diffs \n",
      "    INFO: Older WDPA record not found\n",
      "    MPAtlas orig geom area is zero, using WDPA boundaries\n",
      "    Retained old MPAtlas values for: \n",
      "16/18 adding/updating wdpa_pid 555651493_B with mpa_id 68817105\n",
      "    PID: 555651493_B has 1 field diffs \n",
      "    INFO: Older WDPA record not found\n",
      "    MPAtlas orig geom area is zero, using WDPA boundaries\n",
      "    Retained old MPAtlas values for: \n",
      "17/18 adding/updating wdpa_pid 555651494 with mpa_id 68817106\n",
      "    PID: 555651494 has 1 field diffs \n",
      "    INFO: Older WDPA record not found\n",
      "    MPAtlas orig geom area is zero, using WDPA boundaries\n",
      "    Retained old MPAtlas values for: \n",
      "18/18 adding/updating wdpa_pid 555651495 with mpa_id 68817107\n",
      "    PID: 555651495 has 1 field diffs \n",
      "    INFO: Older WDPA record not found\n",
      "    MPAtlas orig geom area is zero, using WDPA boundaries\n",
      "    Retained old MPAtlas values for: \n"
     ]
    },
    {
     "data": {
      "text/plain": [
       "True"
      ]
     },
     "execution_count": 22,
     "metadata": {},
     "output_type": "execute_result"
    }
   ],
   "source": [
    "# post_save.disconnect(mpa_post_save, sender=Mpa)\n",
    "polys = Wdpa2019Poly.objects.filter(wdpa_pid__in=allpid2add).order_by('wdpa_pid')\n",
    "merge.updateMpasFromWdpaQueryset(qs=polys, poly=True, logfile=addpoly_log, geologfile=None, dryrun=False)\n",
    "# post_save.connect(mpa_post_save, sender=Mpa)"
   ]
  },
  {
   "cell_type": "code",
   "execution_count": 21,
   "metadata": {},
   "outputs": [
    {
     "data": {
      "text/plain": [
       "2833100"
      ]
     },
     "execution_count": 21,
     "metadata": {},
     "output_type": "execute_result"
    }
   ],
   "source": [
    "bad = Wdpa2019Poly.objects.get(wdpa_pid='555643543')\n",
    "bg = bad.geom\n",
    "bg.num_coords\n",
    "555643544\n",
    "bad = Wdpa2019Poly.objects.get(wdpa_pid='555643544')\n",
    "bg = bad.geom\n",
    "bg.num_coords"
   ]
  },
  {
   "cell_type": "code",
   "execution_count": 23,
   "metadata": {},
   "outputs": [],
   "source": [
    "reload(merge)\n",
    "updatepoint_geolog = '/home/mpatlas/workspace/log/updatepoint_TUV_log.json'\n",
    "updatepoly_log = '/home/mpatlas/workspace/log/updatepoly_TUV_log.json'\n",
    "updatepoly_geolog = '/home/mpatlas/workspace/log/updatepoly_TUV_geo_log.json'\n",
    "# updatepoint_geolog = '/Users/russmo/Code/wdpa/log/updatepoint_TUV_2019_v3_geo_log.json'\n",
    "# updatepoly_log = '/Users/russmo/Code/wdpa/log/updatepoly_TUV_2019_v3_log.json'\n",
    "# updatepoly_geolog = '/Users/russmo/Code/wdpa/log/updatepoly_TUV_2019_v3_geo_log.json'"
   ]
  },
  {
   "cell_type": "code",
   "execution_count": 26,
   "metadata": {},
   "outputs": [],
   "source": [
    "# wdpa_filter = (\n",
    "# #     Q(iso3__icontains='USA') | Q(parent_iso3__icontains='USA') |\n",
    "# #     Q(iso3__icontains='UMI') | Q(parent_iso3__icontains='UMI') |\n",
    "# #     Q(iso3__icontains='VIR') | Q(parent_iso3__icontains='VIR') |\n",
    "# #     Q(iso3__icontains='PRI') | Q(parent_iso3__icontains='PRI') |\n",
    "# #     Q(iso3__icontains='ASM') | Q(parent_iso3__icontains='ASM') |\n",
    "# #     Q(iso3__icontains='GUM') | Q(parent_iso3__icontains='GUM') |\n",
    "# #     Q(iso3__icontains='MNP') | Q(parent_iso3__icontains='MNP') |\n",
    "#     Q(iso3__icontains='MEX') | Q(iso3__icontains='CHL') | Q(iso3__icontains='IDN') | \n",
    "#     Q(iso3__icontains='CHN') | Q(iso3__icontains='JPN') | \n",
    "#     Q(parent_iso3__icontains='MEX') | Q(parent_iso3__icontains='CHL') | Q(parent_iso3__icontains='IDN') |\n",
    "#     Q(parent_iso3__icontains='CHN') | Q(parent_iso3__icontains='JPN') #|\n",
    "# #     Q(iso3__icontains='FRA') | Q(parent_iso3__icontains='FRA') |\n",
    "# #     Q(iso3__icontains='ATF') | Q(iso3__icontains='BLM') | Q(iso3__icontains='GLP') |\n",
    "# #     Q(iso3__icontains='GUF') | Q(iso3__icontains='MAF') | Q(iso3__icontains='MTQ') |\n",
    "# #     Q(iso3__icontains='MYT') | Q(iso3__icontains='NCL') | Q(iso3__icontains='PYF') |\n",
    "# #     Q(iso3__icontains='REU') | Q(iso3__icontains='SHN') | Q(iso3__icontains='SYC') |\n",
    "# #     Q(iso3__icontains='AUS') | Q(parent_iso3__icontains='AUS') |\n",
    "# #     Q(iso3__icontains='ZAF') | Q(parent_iso3__icontains='ZAF') |\n",
    "# #     Q(iso3__icontains='CAN') | Q(parent_iso3__icontains='CAN') |\n",
    "# #     Q(iso3__icontains='GBR') | Q(parent_iso3__icontains='GBR') |\n",
    "# #     Q(iso3__icontains='AIA') | Q(iso3__icontains='BMU') | Q(iso3__icontains='CYM') |\n",
    "# #     Q(iso3__icontains='FLK') | Q(iso3__icontains='GIB') | Q(iso3__icontains='IMN') |\n",
    "# #     Q(iso3__icontains='IOT') | Q(iso3__icontains='JEY') | Q(iso3__icontains='MSR') |\n",
    "# #     Q(iso3__icontains='PCN') | Q(iso3__icontains='SGS') | Q(iso3__icontains='SHN') |\n",
    "# #     Q(iso3__icontains='TCA') | Q(iso3__icontains='VGB')\n",
    "# )\n",
    "wdpa_filter = (\n",
    "    Q(iso3__icontains='TUV') | Q(parent_iso3__icontains='TUV')\n",
    ")\n",
    "\n",
    "wdpa_exclude = (\n",
    "    Q(iso3__icontains='USA') | Q(parent_iso3__icontains='USA') |\n",
    "    Q(iso3__icontains='UMI') | Q(parent_iso3__icontains='UMI') |\n",
    "    Q(iso3__icontains='VIR') | Q(parent_iso3__icontains='VIR') |\n",
    "    Q(iso3__icontains='PRI') | Q(parent_iso3__icontains='PRI') |\n",
    "    Q(iso3__icontains='ASM') | Q(parent_iso3__icontains='ASM') |\n",
    "    Q(iso3__icontains='GUM') | Q(parent_iso3__icontains='GUM') |\n",
    "    Q(iso3__icontains='MNP') | Q(parent_iso3__icontains='MNP') |\n",
    "    Q(iso3__icontains='MEX') | Q(iso3__icontains='CHL') | Q(iso3__icontains='IDN') | \n",
    "    Q(iso3__icontains='CHN') | Q(iso3__icontains='JPN') | \n",
    "    Q(parent_iso3__icontains='MEX') | Q(parent_iso3__icontains='CHL') | Q(parent_iso3__icontains='IDN') |\n",
    "    Q(parent_iso3__icontains='CHN') | Q(parent_iso3__icontains='JPN')\n",
    ")\n",
    "polys = Wdpa2019Poly.objects.exclude(wdpa_pid__in=allpid2add).exclude(wdpa_exclude).filter(wdpa_filter).filter(marine__in=('1','2')).order_by('wdpa_pid').values_list('wdpa_pid', flat=True)\n",
    "points = Wdpa2019Point.objects.exclude(wdpa_pid__in=allpid2add).exclude(wdpa_exclude).filter(wdpa_filter).filter(marine__in=('1','2')).order_by('wdpa_pid').values_list('wdpa_pid', flat=True)\n",
    "allpid2update = list(set(list(polys) + list(points)))\n",
    "\n",
    "polys_nonmarine = Wdpa2019Poly.objects.exclude(wdpa_pid__in=allpid2add).exclude(wdpa_exclude).filter(wdpa_filter).filter(marine__in=('0')).order_by('wdpa_pid').values_list('wdpa_pid', flat=True)\n",
    "points_nonmarine = Wdpa2019Point.objects.exclude(wdpa_pid__in=allpid2add).exclude(wdpa_exclude).filter(wdpa_filter).filter(marine__in=('0')).order_by('wdpa_pid').values_list('wdpa_pid', flat=True)\n",
    "allpid2update_nonmarine = list(set(list(polys_nonmarine) + list(points_nonmarine)))\n",
    "\n",
    "allpid2update_nonmarine_inmpatlas = mpaset.filter(wdpa_pid__in=allpid2update_nonmarine).order_by('wdpa_pid').values_list('wdpa_pid', flat=True)\n",
    "\n",
    "allpid2update_marine012 = allpid2update + list(allpid2update_nonmarine_inmpatlas)"
   ]
  },
  {
   "cell_type": "code",
   "execution_count": 27,
   "metadata": {},
   "outputs": [
    {
     "name": "stdout",
     "output_type": "stream",
     "text": [
      "marine: 0 nonmarine: 0 all: 0\n",
      "POINTS -- marine: 0 nonmarine: 0\n",
      "POLYGONS -- marine: 0 nonmarine: 0\n",
      "MPATLAS Records -- marine: 0 nonmarine: 0\n"
     ]
    }
   ],
   "source": [
    "print('marine:', len(allpid2update), 'nonmarine:', len(allpid2update_nonmarine), 'all:', len(allpid2update_marine012))\n",
    "print('POINTS --', \n",
    "      'marine:', Wdpa2019Point.objects.filter(wdpa_pid__in=allpid2update).count(),\n",
    "      'nonmarine:', Wdpa2019Point.objects.filter(wdpa_pid__in=allpid2update_nonmarine).count()\n",
    ")\n",
    "print('POLYGONS --', \n",
    "      'marine:', Wdpa2019Poly.objects.filter(wdpa_pid__in=allpid2update).count(),\n",
    "      'nonmarine:', Wdpa2019Poly.objects.filter(wdpa_pid__in=allpid2update_nonmarine).count(),\n",
    ")\n",
    "print('MPATLAS Records --', \n",
    "      'marine:', mpaset.filter(wdpa_pid__in=allpid2update).count(),\n",
    "      'nonmarine:', mpaset.filter(wdpa_pid__in=allpid2update_nonmarine).count(),\n",
    ")"
   ]
  },
  {
   "cell_type": "code",
   "execution_count": 28,
   "metadata": {},
   "outputs": [
    {
     "data": {
      "text/plain": [
       "0"
      ]
     },
     "execution_count": 28,
     "metadata": {},
     "output_type": "execute_result"
    }
   ],
   "source": [
    "len(set(allpid2update_marine012))"
   ]
  },
  {
   "cell_type": "code",
   "execution_count": 29,
   "metadata": {},
   "outputs": [
    {
     "data": {
      "text/plain": [
       "True"
      ]
     },
     "execution_count": 29,
     "metadata": {},
     "output_type": "execute_result"
    }
   ],
   "source": [
    "# All marine=1,2 sites and only marine=0 that exist in MPAtlas\n",
    "updatepoints = Wdpa2019Point.objects.filter(wdpa_pid__in=allpid2update_marine012).order_by('wdpa_pid')\n",
    "merge.updateMpasFromWdpaQueryset(qs=updatepoints, poly=False, logfile=None, geologfile=updatepoint_geolog, dryrun=False)"
   ]
  },
  {
   "cell_type": "code",
   "execution_count": 30,
   "metadata": {},
   "outputs": [
    {
     "data": {
      "text/plain": [
       "True"
      ]
     },
     "execution_count": 30,
     "metadata": {},
     "output_type": "execute_result"
    }
   ],
   "source": [
    "reload(merge)\n",
    "# All marine=1,2 sites and only marine=0 that exist in MPAtlas\n",
    "updatepolys = Wdpa2019Poly.objects.filter(wdpa_pid__in=allpid2update_marine012).order_by('wdpa_pid')\n",
    "#updatepolys = updatepolys.exclude(wdpa_pid__in=partialrunids)\n",
    "merge.updateMpasFromWdpaQueryset(qs=updatepolys, poly=True, logfile=updatepoly_log, geologfile=None, dryrun=False)"
   ]
  },
  {
   "cell_type": "code",
   "execution_count": 31,
   "metadata": {},
   "outputs": [
    {
     "name": "stdout",
     "output_type": "stream",
     "text": [
      "1/18 mpa_id 68817106 wdpa_pid 555651494 updated with _wdpa values\n",
      "2/18 mpa_id 68817107 wdpa_pid 555651495 updated with _wdpa values\n",
      "3/18 mpa_id 68815949 wdpa_pid 555547861_C updated with _wdpa values\n",
      "4/18 mpa_id 14509 wdpa_pid 555547862_A updated with _wdpa values\n",
      "5/18 mpa_id 68815950 wdpa_pid 555547862_B updated with _wdpa values\n",
      "6/18 mpa_id 68815951 wdpa_pid 555547862_C updated with _wdpa values\n",
      "7/18 mpa_id 14510 wdpa_pid 555547863_A updated with _wdpa values\n",
      "8/18 mpa_id 68815952 wdpa_pid 555547863_B updated with _wdpa values\n",
      "9/18 mpa_id 68815955 wdpa_pid 555547865_B updated with _wdpa values\n",
      "10/18 mpa_id 68815953 wdpa_pid 555547864_B updated with _wdpa values\n",
      "11/18 mpa_id 68815954 wdpa_pid 555547864_C updated with _wdpa values\n",
      "12/18 mpa_id 68817105 wdpa_pid 555651493_B updated with _wdpa values\n",
      "13/18 mpa_id 14511 wdpa_pid 555547864_A updated with _wdpa values\n",
      "14/18 mpa_id 14508 wdpa_pid 555547861_A updated with _wdpa values\n",
      "15/18 mpa_id 68815948 wdpa_pid 555547861_B updated with _wdpa values\n",
      "16/18 mpa_id 6846 wdpa_pid 145496 updated with _wdpa values\n",
      "17/18 mpa_id 14512 wdpa_pid 555547865_A updated with _wdpa values\n",
      "18/18 mpa_id 68817104 wdpa_pid 555651493_A updated with _wdpa values\n"
     ]
    }
   ],
   "source": [
    "mpids = mpaset.filter(wdpa_id__isnull=False, wdpa_pid__isnull=False)\n",
    "mpids_count = mpids.count()\n",
    "count = 0\n",
    "for m in mpids:\n",
    "    count += 1\n",
    "    try:\n",
    "        w = Wdpa2019Poly.objects.filter(wdpa_pid=m.wdpa_pid)\n",
    "    except:\n",
    "        try:\n",
    "            w = Wdpa2019Point.objects.filter(wdpa_pid=m.wdpa_pid)\n",
    "        except:\n",
    "            pass\n",
    "    if w.exists():\n",
    "        w0 = w[0]\n",
    "        mq = mpaset.filter(pk=m.pk)\n",
    "        print('%s/%s mpa_id %s wdpa_pid %s updated with _wdpa values' % (count, mpids_count, m.mpa_id, w0.wdpa_pid))\n",
    "        mq.update(\n",
    "            no_take_wdpa=w0.no_take,\n",
    "            no_take_area_wdpa=w0.no_tk_area,\n",
    "        )"
   ]
  },
  {
   "cell_type": "markdown",
   "metadata": {},
   "source": [
    "mpaset.filter(wdpa_pid__isnull=False).update(\n",
    "    no_take_wdpa=F('no_take'), no_take_area_wdpa=F('no_take_area')\n",
    ")"
   ]
  },
  {
   "cell_type": "code",
   "execution_count": 32,
   "metadata": {},
   "outputs": [
    {
     "data": {
      "text/plain": [
       "2"
      ]
     },
     "execution_count": 32,
     "metadata": {},
     "output_type": "execute_result"
    }
   ],
   "source": [
    "nt = ('All', 'Part', 'None')\n",
    "ntupdate = mpaset.filter(wdpa_pid__isnull=False).filter(\n",
    "    (~Q(no_take_wdpa__in=('All')) & Q(no_take_mpatlas__in=('All')))\n",
    "    | (~Q(no_take_wdpa__in=('All', 'Part')) & Q(no_take_mpatlas__in=('All', 'Part')))\n",
    "    | (Q(no_take_wdpa__in=('Not Applicable')) & Q(no_take_mpatlas__in=('All', 'Part', 'None')))\n",
    ")\n",
    "ntupdate.update(no_take=F('no_take_mpatlas'))"
   ]
  },
  {
   "cell_type": "code",
   "execution_count": 33,
   "metadata": {},
   "outputs": [
    {
     "data": {
      "text/plain": [
       "2"
      ]
     },
     "execution_count": 33,
     "metadata": {},
     "output_type": "execute_result"
    }
   ],
   "source": [
    "ntareaupdate = mpaset.filter(wdpa_pid__isnull=False).filter(\n",
    "    Q(no_take_area_mpatlas__isnull=False) &\n",
    "    (\n",
    "        Q(no_take_area_wdpa__isnull=True)\n",
    "        | Q(no_take_area_mpatlas__gt=F('no_take_area_wdpa'))\n",
    "    )\n",
    ")\n",
    "ntareaupdate.update(no_take_area=F('no_take_area_mpatlas'))"
   ]
  },
  {
   "cell_type": "code",
   "execution_count": 34,
   "metadata": {},
   "outputs": [
    {
     "name": "stdout",
     "output_type": "stream",
     "text": [
      "14508 555547861 555547861_A Nukufetau Locally Managed Marine Area Locally Managed Marine Area Locally Managed Marine Area None All 0.0 11.0\n",
      "14510 555547863 555547863_A Nanumea Locally Managed Marine Area Locally Managed Marine Area Locally Managed Marine Area None All 0.0 2.0\n"
     ]
    }
   ],
   "source": [
    "ntchanges = ntupdate | ntareaupdate\n",
    "for n in ntchanges:\n",
    "    print(n.mpa_id, n.wdpa_id, n.wdpa_pid, n.name, n.designation, n.designation_eng, n.no_take_wdpa, n.no_take_mpatlas, n.no_take_area_wdpa, n.no_take_area_mpatlas)"
   ]
  },
  {
   "cell_type": "code",
   "execution_count": 35,
   "metadata": {},
   "outputs": [],
   "source": [
    "ntchanges = ntupdate | ntareaupdate\n",
    "\n",
    "import csv\n",
    "\n",
    "nt_log = '/home/mpatlas/workspace/log/notakechange_TUV_log.csv'\n",
    "# nt_log = '/Users/russmo/Code/wdpa/log/notakechange_TUV_log.csv'\n",
    "with open(nt_log, 'w', newline='') as csvfile:\n",
    "    fieldnames = ['mpa_id', 'wdpa_id', 'wdpa_pid', 'name', 'designation', 'designation_eng', 'no_take_wdpa', 'no_take_mpatlas', 'no_take_area_wdpa', 'no_take_area_mpatlas']\n",
    "    writer = csv.DictWriter(csvfile, fieldnames=fieldnames)\n",
    "\n",
    "    writer.writeheader()\n",
    "    for row in ntchanges.values(*fieldnames):\n",
    "        writer.writerow(row)"
   ]
  },
  {
   "cell_type": "code",
   "execution_count": 74,
   "metadata": {},
   "outputs": [
    {
     "ename": "IndexError",
     "evalue": "list index out of range",
     "output_type": "error",
     "traceback": [
      "\u001b[0;31m---------------------------------------------------------------------------\u001b[0m",
      "\u001b[0;31mNameError\u001b[0m                                 Traceback (most recent call last)",
      "\u001b[0;32m<ipython-input-74-45b09dc8e878>\u001b[0m in \u001b[0;36m<module>\u001b[0;34m\u001b[0m\n\u001b[1;32m      6\u001b[0m     \u001b[0;32mtry\u001b[0m\u001b[0;34m:\u001b[0m\u001b[0;34m\u001b[0m\u001b[0;34m\u001b[0m\u001b[0m\n\u001b[0;32m----> 7\u001b[0;31m         \u001b[0mw2018\u001b[0m \u001b[0;34m=\u001b[0m \u001b[0mWdpa2018Polygon\u001b[0m\u001b[0;34m.\u001b[0m\u001b[0mobjects\u001b[0m\u001b[0;34m.\u001b[0m\u001b[0mfilter\u001b[0m\u001b[0;34m(\u001b[0m\u001b[0mwdpa_pid\u001b[0m\u001b[0;34m=\u001b[0m\u001b[0mn\u001b[0m\u001b[0;34m.\u001b[0m\u001b[0mwdpa_pid\u001b[0m\u001b[0;34m)\u001b[0m\u001b[0;34m[\u001b[0m\u001b[0;36m0\u001b[0m\u001b[0;34m]\u001b[0m\u001b[0;34m\u001b[0m\u001b[0;34m\u001b[0m\u001b[0m\n\u001b[0m\u001b[1;32m      8\u001b[0m     \u001b[0;32mexcept\u001b[0m\u001b[0;34m:\u001b[0m\u001b[0;34m\u001b[0m\u001b[0;34m\u001b[0m\u001b[0m\n",
      "\u001b[0;31mNameError\u001b[0m: name 'Wdpa2018Polygon' is not defined",
      "\nDuring handling of the above exception, another exception occurred:\n",
      "\u001b[0;31mIndexError\u001b[0m                                Traceback (most recent call last)",
      "\u001b[0;32m<ipython-input-74-45b09dc8e878>\u001b[0m in \u001b[0;36m<module>\u001b[0;34m\u001b[0m\n\u001b[1;32m      9\u001b[0m         \u001b[0;32mtry\u001b[0m\u001b[0;34m:\u001b[0m\u001b[0;34m\u001b[0m\u001b[0;34m\u001b[0m\u001b[0m\n\u001b[0;32m---> 10\u001b[0;31m             \u001b[0mw2018\u001b[0m \u001b[0;34m=\u001b[0m \u001b[0mWdpa2018Point\u001b[0m\u001b[0;34m.\u001b[0m\u001b[0mobjects\u001b[0m\u001b[0;34m.\u001b[0m\u001b[0mfilter\u001b[0m\u001b[0;34m(\u001b[0m\u001b[0mwdpa_pid\u001b[0m\u001b[0;34m=\u001b[0m\u001b[0mn\u001b[0m\u001b[0;34m.\u001b[0m\u001b[0mwdpa_pid\u001b[0m\u001b[0;34m)\u001b[0m\u001b[0;34m[\u001b[0m\u001b[0;36m0\u001b[0m\u001b[0;34m]\u001b[0m\u001b[0;34m\u001b[0m\u001b[0;34m\u001b[0m\u001b[0m\n\u001b[0m\u001b[1;32m     11\u001b[0m         \u001b[0;32mexcept\u001b[0m\u001b[0;34m:\u001b[0m\u001b[0;34m\u001b[0m\u001b[0;34m\u001b[0m\u001b[0m\n",
      "\u001b[0;32m~/.virtualenvs/mpa_py3/lib/python3.7/site-packages/django/db/models/query.py\u001b[0m in \u001b[0;36m__getitem__\u001b[0;34m(self, k)\u001b[0m\n\u001b[1;32m    308\u001b[0m         \u001b[0mqs\u001b[0m\u001b[0;34m.\u001b[0m\u001b[0m_fetch_all\u001b[0m\u001b[0;34m(\u001b[0m\u001b[0;34m)\u001b[0m\u001b[0;34m\u001b[0m\u001b[0;34m\u001b[0m\u001b[0m\n\u001b[0;32m--> 309\u001b[0;31m         \u001b[0;32mreturn\u001b[0m \u001b[0mqs\u001b[0m\u001b[0;34m.\u001b[0m\u001b[0m_result_cache\u001b[0m\u001b[0;34m[\u001b[0m\u001b[0;36m0\u001b[0m\u001b[0;34m]\u001b[0m\u001b[0;34m\u001b[0m\u001b[0;34m\u001b[0m\u001b[0m\n\u001b[0m\u001b[1;32m    310\u001b[0m \u001b[0;34m\u001b[0m\u001b[0m\n",
      "\u001b[0;31mIndexError\u001b[0m: list index out of range",
      "\nDuring handling of the above exception, another exception occurred:\n",
      "\u001b[0;31mNameError\u001b[0m                                 Traceback (most recent call last)",
      "\u001b[0;32m<ipython-input-74-45b09dc8e878>\u001b[0m in \u001b[0;36m<module>\u001b[0;34m\u001b[0m\n\u001b[1;32m     12\u001b[0m             \u001b[0;32mtry\u001b[0m\u001b[0;34m:\u001b[0m\u001b[0;34m\u001b[0m\u001b[0;34m\u001b[0m\u001b[0m\n\u001b[0;32m---> 13\u001b[0;31m                 \u001b[0mw2018\u001b[0m \u001b[0;34m=\u001b[0m \u001b[0mWdpa2018Polygon\u001b[0m\u001b[0;34m.\u001b[0m\u001b[0mobjects\u001b[0m\u001b[0;34m.\u001b[0m\u001b[0mfilter\u001b[0m\u001b[0;34m(\u001b[0m\u001b[0mwdpaid\u001b[0m\u001b[0;34m=\u001b[0m\u001b[0mn\u001b[0m\u001b[0;34m.\u001b[0m\u001b[0mwdpa_id\u001b[0m\u001b[0;34m)\u001b[0m\u001b[0;34m[\u001b[0m\u001b[0;36m0\u001b[0m\u001b[0;34m]\u001b[0m\u001b[0;34m\u001b[0m\u001b[0;34m\u001b[0m\u001b[0m\n\u001b[0m\u001b[1;32m     14\u001b[0m             \u001b[0;32mexcept\u001b[0m\u001b[0;34m:\u001b[0m\u001b[0;34m\u001b[0m\u001b[0;34m\u001b[0m\u001b[0m\n",
      "\u001b[0;31mNameError\u001b[0m: name 'Wdpa2018Polygon' is not defined",
      "\nDuring handling of the above exception, another exception occurred:\n",
      "\u001b[0;31mIndexError\u001b[0m                                Traceback (most recent call last)",
      "\u001b[0;32m<ipython-input-74-45b09dc8e878>\u001b[0m in \u001b[0;36m<module>\u001b[0;34m\u001b[0m\n\u001b[1;32m     13\u001b[0m                 \u001b[0mw2018\u001b[0m \u001b[0;34m=\u001b[0m \u001b[0mWdpa2018Polygon\u001b[0m\u001b[0;34m.\u001b[0m\u001b[0mobjects\u001b[0m\u001b[0;34m.\u001b[0m\u001b[0mfilter\u001b[0m\u001b[0;34m(\u001b[0m\u001b[0mwdpaid\u001b[0m\u001b[0;34m=\u001b[0m\u001b[0mn\u001b[0m\u001b[0;34m.\u001b[0m\u001b[0mwdpa_id\u001b[0m\u001b[0;34m)\u001b[0m\u001b[0;34m[\u001b[0m\u001b[0;36m0\u001b[0m\u001b[0;34m]\u001b[0m\u001b[0;34m\u001b[0m\u001b[0;34m\u001b[0m\u001b[0m\n\u001b[1;32m     14\u001b[0m             \u001b[0;32mexcept\u001b[0m\u001b[0;34m:\u001b[0m\u001b[0;34m\u001b[0m\u001b[0;34m\u001b[0m\u001b[0m\n\u001b[0;32m---> 15\u001b[0;31m                 \u001b[0mw2018\u001b[0m \u001b[0;34m=\u001b[0m \u001b[0mWdpa2018Point\u001b[0m\u001b[0;34m.\u001b[0m\u001b[0mobjects\u001b[0m\u001b[0;34m.\u001b[0m\u001b[0mfilter\u001b[0m\u001b[0;34m(\u001b[0m\u001b[0mwdpaid\u001b[0m\u001b[0;34m=\u001b[0m\u001b[0mn\u001b[0m\u001b[0;34m.\u001b[0m\u001b[0mwdpa_id\u001b[0m\u001b[0;34m)\u001b[0m\u001b[0;34m[\u001b[0m\u001b[0;36m0\u001b[0m\u001b[0;34m]\u001b[0m\u001b[0;34m\u001b[0m\u001b[0;34m\u001b[0m\u001b[0m\n\u001b[0m\u001b[1;32m     16\u001b[0m     \u001b[0;32mif\u001b[0m \u001b[0;34m(\u001b[0m\u001b[0mn\u001b[0m\u001b[0;34m.\u001b[0m\u001b[0mno_take\u001b[0m \u001b[0;34m==\u001b[0m \u001b[0mw2018\u001b[0m\u001b[0;34m.\u001b[0m\u001b[0mno_take\u001b[0m\u001b[0;34m)\u001b[0m \u001b[0;32mor\u001b[0m \u001b[0;34m(\u001b[0m\u001b[0mn\u001b[0m\u001b[0;34m.\u001b[0m\u001b[0mno_take_area\u001b[0m \u001b[0;34m==\u001b[0m \u001b[0mw2018\u001b[0m\u001b[0;34m.\u001b[0m\u001b[0mno_tk_area\u001b[0m\u001b[0;34m)\u001b[0m\u001b[0;34m:\u001b[0m\u001b[0;34m\u001b[0m\u001b[0;34m\u001b[0m\u001b[0m\n\u001b[1;32m     17\u001b[0m         \u001b[0mprint\u001b[0m\u001b[0;34m(\u001b[0m\u001b[0mw2019\u001b[0m\u001b[0;34m.\u001b[0m\u001b[0mname\u001b[0m\u001b[0;34m,\u001b[0m \u001b[0mw2019\u001b[0m\u001b[0;34m.\u001b[0m\u001b[0mdesig\u001b[0m\u001b[0;34m,\u001b[0m \u001b[0mn\u001b[0m\u001b[0;34m.\u001b[0m\u001b[0mno_take_mpatlas\u001b[0m\u001b[0;34m,\u001b[0m \u001b[0mw2019\u001b[0m\u001b[0;34m.\u001b[0m\u001b[0mno_take\u001b[0m\u001b[0;34m,\u001b[0m \u001b[0mw2018\u001b[0m\u001b[0;34m.\u001b[0m\u001b[0mno_take\u001b[0m\u001b[0;34m,\u001b[0m \u001b[0mn\u001b[0m\u001b[0;34m.\u001b[0m\u001b[0mno_take_area_mpatlas\u001b[0m\u001b[0;34m,\u001b[0m \u001b[0mw2019\u001b[0m\u001b[0;34m.\u001b[0m\u001b[0mno_tk_area\u001b[0m\u001b[0;34m,\u001b[0m \u001b[0mw2018\u001b[0m\u001b[0;34m.\u001b[0m\u001b[0mno_tk_area\u001b[0m\u001b[0;34m)\u001b[0m\u001b[0;34m\u001b[0m\u001b[0;34m\u001b[0m\u001b[0m\n",
      "\u001b[0;32m~/.virtualenvs/mpa_py3/lib/python3.7/site-packages/django/db/models/query.py\u001b[0m in \u001b[0;36m__getitem__\u001b[0;34m(self, k)\u001b[0m\n\u001b[1;32m    307\u001b[0m         \u001b[0mqs\u001b[0m\u001b[0;34m.\u001b[0m\u001b[0mquery\u001b[0m\u001b[0;34m.\u001b[0m\u001b[0mset_limits\u001b[0m\u001b[0;34m(\u001b[0m\u001b[0mk\u001b[0m\u001b[0;34m,\u001b[0m \u001b[0mk\u001b[0m \u001b[0;34m+\u001b[0m \u001b[0;36m1\u001b[0m\u001b[0;34m)\u001b[0m\u001b[0;34m\u001b[0m\u001b[0;34m\u001b[0m\u001b[0m\n\u001b[1;32m    308\u001b[0m         \u001b[0mqs\u001b[0m\u001b[0;34m.\u001b[0m\u001b[0m_fetch_all\u001b[0m\u001b[0;34m(\u001b[0m\u001b[0;34m)\u001b[0m\u001b[0;34m\u001b[0m\u001b[0;34m\u001b[0m\u001b[0m\n\u001b[0;32m--> 309\u001b[0;31m         \u001b[0;32mreturn\u001b[0m \u001b[0mqs\u001b[0m\u001b[0;34m.\u001b[0m\u001b[0m_result_cache\u001b[0m\u001b[0;34m[\u001b[0m\u001b[0;36m0\u001b[0m\u001b[0;34m]\u001b[0m\u001b[0;34m\u001b[0m\u001b[0;34m\u001b[0m\u001b[0m\n\u001b[0m\u001b[1;32m    310\u001b[0m \u001b[0;34m\u001b[0m\u001b[0m\n\u001b[1;32m    311\u001b[0m     \u001b[0;32mdef\u001b[0m \u001b[0m__and__\u001b[0m\u001b[0;34m(\u001b[0m\u001b[0mself\u001b[0m\u001b[0;34m,\u001b[0m \u001b[0mother\u001b[0m\u001b[0;34m)\u001b[0m\u001b[0;34m:\u001b[0m\u001b[0;34m\u001b[0m\u001b[0;34m\u001b[0m\u001b[0m\n",
      "\u001b[0;31mIndexError\u001b[0m: list index out of range"
     ]
    }
   ],
   "source": [
    "for n in ntchanges:\n",
    "    try:\n",
    "        w2019 = Wdpa2019Poly.objects.get(wdpa_pid=n.wdpa_pid)\n",
    "    except:\n",
    "        w2019 = Wdpa2019Point.objects.get(wdpa_pid=n.wdpa_pid)\n",
    "    try:\n",
    "        w2018 = Wdpa2018Polygon.objects.filter(wdpa_pid=n.wdpa_pid)[0]\n",
    "    except:\n",
    "        try:\n",
    "            w2018 = Wdpa2018Point.objects.filter(wdpa_pid=n.wdpa_pid)[0]\n",
    "        except:\n",
    "            try:\n",
    "                w2018 = Wdpa2018Polygon.objects.filter(wdpaid=n.wdpa_id)[0]\n",
    "            except:\n",
    "                w2018 = Wdpa2018Point.objects.filter(wdpaid=n.wdpa_id)[0]\n",
    "    if (n.no_take == w2018.no_take) or (n.no_take_area == w2018.no_tk_area):\n",
    "        print(w2019.name, w2019.desig, n.no_take_mpatlas, w2019.no_take, w2018.no_take, n.no_take_area_mpatlas, w2019.no_tk_area, w2018.no_tk_area)"
   ]
  },
  {
   "cell_type": "code",
   "execution_count": null,
   "metadata": {},
   "outputs": [],
   "source": []
  },
  {
   "cell_type": "code",
   "execution_count": 87,
   "metadata": {},
   "outputs": [
    {
     "data": {
      "text/plain": [
       "6"
      ]
     },
     "execution_count": 87,
     "metadata": {},
     "output_type": "execute_result"
    }
   ],
   "source": [
    "ntchanges2 = ntupdate | ntareaupdate\n",
    "ntchanges.count()"
   ]
  },
  {
   "cell_type": "code",
   "execution_count": 95,
   "metadata": {},
   "outputs": [
    {
     "data": {
      "text/plain": [
       "[188,\n",
       " 195,\n",
       " 498,\n",
       " 500,\n",
       " 504,\n",
       " 512,\n",
       " 513,\n",
       " 514,\n",
       " 515,\n",
       " 995,\n",
       " 1429,\n",
       " 1431,\n",
       " 1434,\n",
       " 1435,\n",
       " 1436,\n",
       " 1437,\n",
       " 1438,\n",
       " 1440,\n",
       " 1445,\n",
       " 1503,\n",
       " 1505,\n",
       " 1508,\n",
       " 1509,\n",
       " 1510,\n",
       " 1511,\n",
       " 1513,\n",
       " 1851,\n",
       " 1872,\n",
       " 2362,\n",
       " 2363,\n",
       " 2364,\n",
       " 2365,\n",
       " 2366,\n",
       " 2367,\n",
       " 2369,\n",
       " 2370,\n",
       " 2371,\n",
       " 2375,\n",
       " 2378,\n",
       " 2510,\n",
       " 2517,\n",
       " 2518,\n",
       " 2519,\n",
       " 2522,\n",
       " 2524,\n",
       " 3582,\n",
       " 3819,\n",
       " 3820,\n",
       " 3823,\n",
       " 3824,\n",
       " 6871,\n",
       " 6884,\n",
       " 6935,\n",
       " 6936,\n",
       " 6938,\n",
       " 6942,\n",
       " 6943,\n",
       " 6945,\n",
       " 6946,\n",
       " 6948,\n",
       " 6949,\n",
       " 6952,\n",
       " 6955,\n",
       " 6956,\n",
       " 6957,\n",
       " 7270,\n",
       " 7283,\n",
       " 7299,\n",
       " 9280,\n",
       " 9397,\n",
       " 9398,\n",
       " 9399,\n",
       " 9400,\n",
       " 9401,\n",
       " 9402,\n",
       " 9403,\n",
       " 9405,\n",
       " 9406,\n",
       " 9407,\n",
       " 9408,\n",
       " 9409,\n",
       " 9410,\n",
       " 9411,\n",
       " 9412,\n",
       " 9413,\n",
       " 9414,\n",
       " 9415,\n",
       " 9416,\n",
       " 9417,\n",
       " 9418,\n",
       " 9419,\n",
       " 9420,\n",
       " 9421,\n",
       " 9422,\n",
       " 15058,\n",
       " 15083,\n",
       " 7700994,\n",
       " 7700999,\n",
       " 7701851,\n",
       " 7702510,\n",
       " 7702516,\n",
       " 7702520,\n",
       " 7702521,\n",
       " 7703821,\n",
       " 7703822,\n",
       " 7703825,\n",
       " 7703826,\n",
       " 7705349,\n",
       " 7709259]"
      ]
     },
     "execution_count": 95,
     "metadata": {},
     "output_type": "execute_result"
    }
   ],
   "source": [
    "mpaset = mpas_all_nogeom.exclude(\n",
    "        Q(country__icontains='USA') | Q(sovereign__icontains='USA') |\n",
    "        Q(country__icontains='UMI') | Q(sovereign__icontains='UMI') |\n",
    "        Q(country__icontains='VIR') | Q(sovereign__icontains='VIR') |\n",
    "        Q(country__icontains='PRI') | Q(sovereign__icontains='PRI') |\n",
    "        Q(country__icontains='ASM') | Q(sovereign__icontains='ASM') |\n",
    "        Q(country__icontains='GUM') | Q(sovereign__icontains='GUM') |\n",
    "        Q(country__icontains='MNP') | Q(sovereign__icontains='MNP')\n",
    "    ).exclude(\n",
    "        Q(country__icontains='MEX') | Q(country__icontains='CHL') | Q(country__icontains='IDN') | \n",
    "        Q(country__icontains='CHN') | Q(country__icontains='JPN') | \n",
    "        Q(sovereign__icontains='MEX') | Q(sovereign__icontains='CHL') | Q(sovereign__icontains='IDN') |\n",
    "        Q(sovereign__icontains='CHN') | Q(sovereign__icontains='JPN')\n",
    "    ).exclude(\n",
    "        Q(country__icontains='FRA') | Q(sovereign__icontains='FRA') |\n",
    "        Q(country__icontains='ATF') | Q(country__icontains='BLM') | Q(country__icontains='GLP') |\n",
    "        Q(country__icontains='GUF') | Q(country__icontains='MAF') | Q(country__icontains='MTQ') |\n",
    "        Q(country__icontains='MYT') | Q(country__icontains='NCL') | Q(country__icontains='PYF') |\n",
    "        Q(country__icontains='REU') | Q(country__icontains='SHN') | Q(country__icontains='SYC')\n",
    "    ).exclude(\n",
    "        Q(country__icontains='AUS') | Q(sovereign__icontains='AUS') |\n",
    "        Q(country__icontains='ZAF') | Q(sovereign__icontains='ZAF') |\n",
    "        Q(country__icontains='CAN') | Q(sovereign__icontains='CAN')\n",
    "    ).exclude(\n",
    "        Q(country__icontains='GBR') | Q(sovereign__icontains='GBR') |\n",
    "        Q(country__icontains='AIA') | Q(country__icontains='BMU') | Q(country__icontains='CYM') |\n",
    "        Q(country__icontains='FLK') | Q(country__icontains='GIB') | Q(country__icontains='IMN') |\n",
    "        Q(country__icontains='IOT') | Q(country__icontains='JEY') | Q(country__icontains='MSR') |\n",
    "        Q(country__icontains='PCN') | Q(country__icontains='SGS') | Q(country__icontains='SHN') |\n",
    "        Q(country__icontains='TCA') | Q(country__icontains='VGB')\n",
    "    )\n",
    "\n",
    "from mpatlas.utils import cartompa\n",
    "cartompa.purgeCartoMpas()"
   ]
  },
  {
   "cell_type": "code",
   "execution_count": 94,
   "metadata": {},
   "outputs": [
    {
     "name": "stdout",
     "output_type": "stream",
     "text": [
      "Processing 10 of 1987 mpa records at a time\n",
      "Records [0 - 9]\n",
      "Records [10 - 19]\n",
      "Records [20 - 29]\n",
      "Records [30 - 39]\n",
      "ERROR processing mpa 68807503:  'NoneType' object has no attribute 'hexewkb'\n",
      "Skipping Mpa 68807503\n",
      "Records [40 - 49]\n",
      "ERROR processing mpa 68807520:  'NoneType' object has no attribute 'hexewkb'\n",
      "Skipping Mpa 68807520\n",
      "ERROR processing mpa 68807504:  'NoneType' object has no attribute 'hexewkb'\n",
      "Skipping Mpa 68807504\n",
      "Records [50 - 59]\n",
      "Records [60 - 69]\n",
      "ERROR processing mpa 68807500:  'NoneType' object has no attribute 'hexewkb'\n",
      "Skipping Mpa 68807500\n",
      "ERROR processing mpa 68807495:  'NoneType' object has no attribute 'hexewkb'\n",
      "Skipping Mpa 68807495\n",
      "ERROR processing mpa 60009586:  'NoneType' object has no attribute 'hexewkb'\n",
      "Skipping Mpa 60009586\n",
      "ERROR processing mpa 60009547:  'NoneType' object has no attribute 'hexewkb'\n",
      "Skipping Mpa 60009547\n",
      "ERROR processing mpa 60009546:  'NoneType' object has no attribute 'hexewkb'\n",
      "Skipping Mpa 60009546\n",
      "ERROR processing mpa 60009495:  'NoneType' object has no attribute 'hexewkb'\n",
      "Skipping Mpa 60009495\n",
      "ERROR processing mpa 60009548:  'NoneType' object has no attribute 'hexewkb'\n",
      "Skipping Mpa 60009548\n",
      "ERROR processing mpa 60009537:  'NoneType' object has no attribute 'hexewkb'\n",
      "Skipping Mpa 60009537\n",
      "ERROR processing mpa 60009493:  'NoneType' object has no attribute 'hexewkb'\n",
      "Skipping Mpa 60009493\n",
      "Records [70 - 79]\n",
      "ERROR processing mpa 68807516:  'NoneType' object has no attribute 'hexewkb'\n",
      "Skipping Mpa 68807516\n",
      "ERROR processing mpa 60009544:  'NoneType' object has no attribute 'hexewkb'\n",
      "Skipping Mpa 60009544\n",
      "ERROR processing mpa 68807487:  'NoneType' object has no attribute 'hexewkb'\n",
      "Skipping Mpa 68807487\n",
      "ERROR processing mpa 68807485:  'NoneType' object has no attribute 'hexewkb'\n",
      "Skipping Mpa 68807485\n",
      "ERROR processing mpa 68807511:  'NoneType' object has no attribute 'hexewkb'\n",
      "Skipping Mpa 68807511\n",
      "ERROR processing mpa 68807512:  'NoneType' object has no attribute 'hexewkb'\n",
      "Skipping Mpa 68807512\n",
      "ERROR processing mpa 68807513:  'NoneType' object has no attribute 'hexewkb'\n",
      "Skipping Mpa 68807513\n",
      "ERROR processing mpa 68807491:  'NoneType' object has no attribute 'hexewkb'\n",
      "Skipping Mpa 68807491\n",
      "ERROR processing mpa 68807514:  'NoneType' object has no attribute 'hexewkb'\n",
      "Skipping Mpa 68807514\n",
      "ERROR processing mpa 68807518:  'NoneType' object has no attribute 'hexewkb'\n",
      "Skipping Mpa 68807518\n",
      "Carto Error for mpa_ids []: ['You must indicate a sql query']\n",
      "Trying single updates.\n",
      "Records [80 - 89]\n",
      "ERROR processing mpa 68807481:  'NoneType' object has no attribute 'hexewkb'\n",
      "Skipping Mpa 68807481\n",
      "ERROR processing mpa 68807483:  'NoneType' object has no attribute 'hexewkb'\n",
      "Skipping Mpa 68807483\n",
      "ERROR processing mpa 68807486:  'NoneType' object has no attribute 'hexewkb'\n",
      "Skipping Mpa 68807486\n",
      "ERROR processing mpa 68807488:  'NoneType' object has no attribute 'hexewkb'\n",
      "Skipping Mpa 68807488\n",
      "ERROR processing mpa 68807489:  'NoneType' object has no attribute 'hexewkb'\n",
      "Skipping Mpa 68807489\n",
      "ERROR processing mpa 68807493:  'NoneType' object has no attribute 'hexewkb'\n",
      "Skipping Mpa 68807493\n",
      "Records [90 - 99]\n",
      "ERROR processing mpa 68807496:  'NoneType' object has no attribute 'hexewkb'\n",
      "Skipping Mpa 68807496\n",
      "ERROR processing mpa 68807497:  'NoneType' object has no attribute 'hexewkb'\n",
      "Skipping Mpa 68807497\n",
      "ERROR processing mpa 68807498:  'NoneType' object has no attribute 'hexewkb'\n",
      "Skipping Mpa 68807498\n",
      "Records [100 - 109]\n",
      "ERROR processing mpa 68807510:  'NoneType' object has no attribute 'hexewkb'\n",
      "Skipping Mpa 68807510\n",
      "ERROR processing mpa 68807509:  'NoneType' object has no attribute 'hexewkb'\n",
      "Skipping Mpa 68807509\n",
      "ERROR processing mpa 68807494:  'NoneType' object has no attribute 'hexewkb'\n",
      "Skipping Mpa 68807494\n",
      "ERROR processing mpa 68807492:  'NoneType' object has no attribute 'hexewkb'\n",
      "Skipping Mpa 68807492\n",
      "ERROR processing mpa 68807484:  'NoneType' object has no attribute 'hexewkb'\n",
      "Skipping Mpa 68807484\n",
      "Records [110 - 119]\n",
      "Records [120 - 129]\n",
      "ERROR processing mpa 68807515:  'NoneType' object has no attribute 'hexewkb'\n",
      "Skipping Mpa 68807515\n",
      "ERROR processing mpa 68807517:  'NoneType' object has no attribute 'hexewkb'\n",
      "Skipping Mpa 68807517\n",
      "ERROR processing mpa 68807519:  'NoneType' object has no attribute 'hexewkb'\n",
      "Skipping Mpa 68807519\n",
      "Records [130 - 139]\n",
      "ERROR processing mpa 68807526:  'NoneType' object has no attribute 'hexewkb'\n",
      "Skipping Mpa 68807526\n",
      "ERROR processing mpa 68807490:  'NoneType' object has no attribute 'hexewkb'\n",
      "Skipping Mpa 68807490\n",
      "ERROR processing mpa 68807502:  'NoneType' object has no attribute 'hexewkb'\n",
      "Skipping Mpa 68807502\n",
      "ERROR processing mpa 68807501:  'NoneType' object has no attribute 'hexewkb'\n",
      "Skipping Mpa 68807501\n",
      "ERROR processing mpa 68807499:  'NoneType' object has no attribute 'hexewkb'\n",
      "Skipping Mpa 68807499\n",
      "ERROR processing mpa 68807482:  'NoneType' object has no attribute 'hexewkb'\n",
      "Skipping Mpa 68807482\n",
      "Records [140 - 149]\n",
      "Records [150 - 159]\n",
      "ERROR processing mpa 68808102:  'NoneType' object has no attribute 'hexewkb'\n",
      "Skipping Mpa 68808102\n",
      "ERROR processing mpa 68808099:  'NoneType' object has no attribute 'hexewkb'\n",
      "Skipping Mpa 68808099\n",
      "ERROR processing mpa 68808100:  'NoneType' object has no attribute 'hexewkb'\n",
      "Skipping Mpa 68808100\n",
      "ERROR processing mpa 68808101:  'NoneType' object has no attribute 'hexewkb'\n",
      "Skipping Mpa 68808101\n",
      "Records [160 - 169]\n",
      "ERROR processing mpa 9242:  'NoneType' object has no attribute 'hexewkb'\n",
      "Skipping Mpa 9242\n",
      "Records [170 - 179]\n",
      "Records [180 - 189]\n",
      "Records [190 - 199]\n",
      "Records [200 - 209]\n",
      "Records [210 - 219]\n",
      "Records [220 - 229]\n",
      "Records [230 - 239]\n",
      "Records [240 - 249]\n",
      "Records [250 - 259]\n",
      "Records [260 - 269]\n",
      "Records [270 - 279]\n",
      "Records [280 - 289]\n",
      "Records [290 - 299]\n",
      "Records [300 - 309]\n",
      "ERROR processing mpa 68807738:  'NoneType' object has no attribute 'hexewkb'\n",
      "Skipping Mpa 68807738\n",
      "Records [310 - 319]\n",
      "Records [320 - 329]\n",
      "Records [330 - 339]\n",
      "Records [340 - 349]\n",
      "Records [350 - 359]\n",
      "Records [360 - 369]\n",
      "ERROR processing mpa 68807735:  'NoneType' object has no attribute 'hexewkb'\n",
      "Skipping Mpa 68807735\n",
      "Records [370 - 379]\n",
      "ERROR processing mpa 68807525:  'NoneType' object has no attribute 'hexewkb'\n",
      "Skipping Mpa 68807525\n",
      "ERROR processing mpa 60009486:  'NoneType' object has no attribute 'hexewkb'\n",
      "Skipping Mpa 60009486\n",
      "Records [380 - 389]\n",
      "ERROR processing mpa 9404:  'NoneType' object has no attribute 'hexewkb'\n",
      "Skipping Mpa 9404\n",
      "ERROR processing mpa 68807737:  'NoneType' object has no attribute 'hexewkb'\n",
      "Skipping Mpa 68807737\n",
      "Records [390 - 399]\n",
      "Records [400 - 409]\n",
      "Records [410 - 419]\n",
      "Records [420 - 429]\n",
      "Records [430 - 439]\n",
      "Records [440 - 449]\n",
      "Records [450 - 459]\n",
      "Records [460 - 469]\n",
      "Records [470 - 479]\n",
      "Records [480 - 489]\n",
      "Records [490 - 499]\n",
      "Records [500 - 509]\n",
      "Records [510 - 519]\n",
      "ERROR processing mpa 7263:  'NoneType' object has no attribute 'hexewkb'\n",
      "Skipping Mpa 7263\n",
      "Records [520 - 529]\n",
      "Records [530 - 539]\n",
      "Records [540 - 549]\n",
      "Records [550 - 559]\n",
      "Records [560 - 569]\n",
      "Records [570 - 579]\n",
      "Records [580 - 589]\n",
      "Records [590 - 599]\n",
      "Records [600 - 609]\n",
      "Records [610 - 619]\n",
      "Records [620 - 629]\n",
      "Records [630 - 639]\n",
      "Records [640 - 649]\n",
      "Records [650 - 659]\n",
      "Records [660 - 669]\n",
      "Records [670 - 679]\n",
      "Records [680 - 689]\n",
      "Records [690 - 699]\n",
      "Records [700 - 709]\n",
      "Records [710 - 719]\n"
     ]
    },
    {
     "ename": "KeyboardInterrupt",
     "evalue": "",
     "output_type": "error",
     "traceback": [
      "\u001b[0;31m---------------------------------------------------------------------------\u001b[0m",
      "\u001b[0;31mTypeError\u001b[0m                                 Traceback (most recent call last)",
      "\u001b[0;32m~/virtualenvs/py3_mpatlas/lib/python3.6/site-packages/urllib3/connectionpool.py\u001b[0m in \u001b[0;36m_make_request\u001b[0;34m(self, conn, method, url, timeout, chunked, **httplib_request_kw)\u001b[0m\n\u001b[1;32m    376\u001b[0m             \u001b[0;32mtry\u001b[0m\u001b[0;34m:\u001b[0m  \u001b[0;31m# Python 2.7, use buffering of HTTP responses\u001b[0m\u001b[0;34m\u001b[0m\u001b[0m\n\u001b[0;32m--> 377\u001b[0;31m                 \u001b[0mhttplib_response\u001b[0m \u001b[0;34m=\u001b[0m \u001b[0mconn\u001b[0m\u001b[0;34m.\u001b[0m\u001b[0mgetresponse\u001b[0m\u001b[0;34m(\u001b[0m\u001b[0mbuffering\u001b[0m\u001b[0;34m=\u001b[0m\u001b[0;32mTrue\u001b[0m\u001b[0;34m)\u001b[0m\u001b[0;34m\u001b[0m\u001b[0m\n\u001b[0m\u001b[1;32m    378\u001b[0m             \u001b[0;32mexcept\u001b[0m \u001b[0mTypeError\u001b[0m\u001b[0;34m:\u001b[0m  \u001b[0;31m# Python 2.6 and older, Python 3\u001b[0m\u001b[0;34m\u001b[0m\u001b[0m\n",
      "\u001b[0;31mTypeError\u001b[0m: getresponse() got an unexpected keyword argument 'buffering'",
      "\nDuring handling of the above exception, another exception occurred:\n",
      "\u001b[0;31mKeyboardInterrupt\u001b[0m                         Traceback (most recent call last)",
      "\u001b[0;32m<ipython-input-94-a297527c4136>\u001b[0m in \u001b[0;36m<module>\u001b[0;34m()\u001b[0m\n\u001b[0;32m----> 1\u001b[0;31m \u001b[0mcartompa\u001b[0m\u001b[0;34m.\u001b[0m\u001b[0mupdateAllMpas\u001b[0m\u001b[0;34m(\u001b[0m\u001b[0mmpas\u001b[0m\u001b[0;34m=\u001b[0m\u001b[0mmpaset\u001b[0m\u001b[0;34m)\u001b[0m\u001b[0;34m\u001b[0m\u001b[0m\n\u001b[0m",
      "\u001b[0;32m~/projects/django_mpatlas/mpatlas/utils/cartompa.py\u001b[0m in \u001b[0;36mupdateAllMpas\u001b[0;34m(mpas, simple_threshold, step, limit)\u001b[0m\n\u001b[1;32m    168\u001b[0m                 \u001b[0merror_ids\u001b[0m\u001b[0;34m.\u001b[0m\u001b[0mappend\u001b[0m\u001b[0;34m(\u001b[0m\u001b[0mm\u001b[0m\u001b[0;34m.\u001b[0m\u001b[0mpk\u001b[0m\u001b[0;34m)\u001b[0m\u001b[0;34m\u001b[0m\u001b[0m\n\u001b[1;32m    169\u001b[0m                 \u001b[0mprint\u001b[0m\u001b[0;34m(\u001b[0m\u001b[0;34m'Skipping Mpa'\u001b[0m\u001b[0;34m,\u001b[0m \u001b[0mm\u001b[0m\u001b[0;34m.\u001b[0m\u001b[0mpk\u001b[0m\u001b[0;34m)\u001b[0m\u001b[0;34m\u001b[0m\u001b[0m\n\u001b[0;32m--> 170\u001b[0;31m         \u001b[0;31m# Now update this batch of records in Carto\u001b[0m\u001b[0;34m\u001b[0m\u001b[0;34m\u001b[0m\u001b[0m\n\u001b[0m\u001b[1;32m    171\u001b[0m         \u001b[0;32mtry\u001b[0m\u001b[0;34m:\u001b[0m\u001b[0;34m\u001b[0m\u001b[0m\n\u001b[1;32m    172\u001b[0m             \u001b[0msql\u001b[0m\u001b[0;34m.\u001b[0m\u001b[0msend\u001b[0m\u001b[0;34m(\u001b[0m\u001b[0mupsert\u001b[0m\u001b[0;34m)\u001b[0m\u001b[0;34m\u001b[0m\u001b[0m\n",
      "\u001b[0;32m~/virtualenvs/py3_mpatlas/lib/python3.6/site-packages/carto/sql.py\u001b[0m in \u001b[0;36msend\u001b[0;34m(self, sql, parse_json, do_post, format, **request_args)\u001b[0m\n\u001b[1;32m     97\u001b[0m                                              params=params)\n\u001b[1;32m     98\u001b[0m             \u001b[0;32melse\u001b[0m\u001b[0;34m:\u001b[0m\u001b[0;34m\u001b[0m\u001b[0m\n\u001b[0;32m---> 99\u001b[0;31m                 \u001b[0mresp\u001b[0m \u001b[0;34m=\u001b[0m \u001b[0mself\u001b[0m\u001b[0;34m.\u001b[0m\u001b[0mauth_client\u001b[0m\u001b[0;34m.\u001b[0m\u001b[0msend\u001b[0m\u001b[0;34m(\u001b[0m\u001b[0mself\u001b[0m\u001b[0;34m.\u001b[0m\u001b[0mapi_url\u001b[0m\u001b[0;34m,\u001b[0m \u001b[0;34m'POST'\u001b[0m\u001b[0;34m,\u001b[0m \u001b[0mdata\u001b[0m\u001b[0;34m=\u001b[0m\u001b[0mparams\u001b[0m\u001b[0;34m)\u001b[0m\u001b[0;34m\u001b[0m\u001b[0m\n\u001b[0m\u001b[1;32m    100\u001b[0m \u001b[0;34m\u001b[0m\u001b[0m\n\u001b[1;32m    101\u001b[0m             \u001b[0;32mreturn\u001b[0m \u001b[0mself\u001b[0m\u001b[0;34m.\u001b[0m\u001b[0mauth_client\u001b[0m\u001b[0;34m.\u001b[0m\u001b[0mget_response_data\u001b[0m\u001b[0;34m(\u001b[0m\u001b[0mresp\u001b[0m\u001b[0;34m,\u001b[0m \u001b[0mparse_json\u001b[0m\u001b[0;34m)\u001b[0m\u001b[0;34m\u001b[0m\u001b[0m\n",
      "\u001b[0;32m~/virtualenvs/py3_mpatlas/lib/python3.6/site-packages/carto/auth.py\u001b[0m in \u001b[0;36msend\u001b[0;34m(self, relative_path, http_method, **requests_args)\u001b[0m\n\u001b[1;32m    134\u001b[0m             return super(APIKeyAuthClient, self).send(relative_path,\n\u001b[1;32m    135\u001b[0m                                                       \u001b[0mhttp_method\u001b[0m\u001b[0;34m,\u001b[0m\u001b[0;34m\u001b[0m\u001b[0m\n\u001b[0;32m--> 136\u001b[0;31m                                                       **requests_args)\n\u001b[0m\u001b[1;32m    137\u001b[0m         \u001b[0;32mexcept\u001b[0m \u001b[0mException\u001b[0m \u001b[0;32mas\u001b[0m \u001b[0me\u001b[0m\u001b[0;34m:\u001b[0m\u001b[0;34m\u001b[0m\u001b[0m\n\u001b[1;32m    138\u001b[0m             \u001b[0;32mraise\u001b[0m \u001b[0mCartoException\u001b[0m\u001b[0;34m(\u001b[0m\u001b[0me\u001b[0m\u001b[0;34m)\u001b[0m\u001b[0;34m\u001b[0m\u001b[0m\n",
      "\u001b[0;32m~/virtualenvs/py3_mpatlas/lib/python3.6/site-packages/pyrestcli/auth.py\u001b[0m in \u001b[0;36msend\u001b[0;34m(self, relative_path, http_method, **requests_args)\u001b[0m\n\u001b[1;32m     34\u001b[0m         \u001b[0murl\u001b[0m \u001b[0;34m=\u001b[0m \u001b[0murljoin\u001b[0m\u001b[0;34m(\u001b[0m\u001b[0mself\u001b[0m\u001b[0;34m.\u001b[0m\u001b[0mbase_url\u001b[0m\u001b[0;34m,\u001b[0m \u001b[0mrelative_path\u001b[0m\u001b[0;34m)\u001b[0m\u001b[0;34m\u001b[0m\u001b[0m\n\u001b[1;32m     35\u001b[0m \u001b[0;34m\u001b[0m\u001b[0m\n\u001b[0;32m---> 36\u001b[0;31m         \u001b[0;32mreturn\u001b[0m \u001b[0mself\u001b[0m\u001b[0;34m.\u001b[0m\u001b[0msession\u001b[0m\u001b[0;34m.\u001b[0m\u001b[0mrequest\u001b[0m\u001b[0;34m(\u001b[0m\u001b[0mhttp_method\u001b[0m\u001b[0;34m,\u001b[0m \u001b[0murl\u001b[0m\u001b[0;34m,\u001b[0m \u001b[0;34m**\u001b[0m\u001b[0mrequests_args\u001b[0m\u001b[0;34m)\u001b[0m\u001b[0;34m\u001b[0m\u001b[0m\n\u001b[0m\u001b[1;32m     37\u001b[0m \u001b[0;34m\u001b[0m\u001b[0m\n\u001b[1;32m     38\u001b[0m     \u001b[0;32mdef\u001b[0m \u001b[0mget_response_data\u001b[0m\u001b[0;34m(\u001b[0m\u001b[0mself\u001b[0m\u001b[0;34m,\u001b[0m \u001b[0mresponse\u001b[0m\u001b[0;34m,\u001b[0m \u001b[0mparse_json\u001b[0m\u001b[0;34m=\u001b[0m\u001b[0;32mTrue\u001b[0m\u001b[0;34m)\u001b[0m\u001b[0;34m:\u001b[0m\u001b[0;34m\u001b[0m\u001b[0m\n",
      "\u001b[0;32m~/virtualenvs/py3_mpatlas/lib/python3.6/site-packages/requests/sessions.py\u001b[0m in \u001b[0;36mrequest\u001b[0;34m(self, method, url, params, data, headers, cookies, files, auth, timeout, allow_redirects, proxies, hooks, stream, verify, cert, json)\u001b[0m\n\u001b[1;32m    510\u001b[0m         }\n\u001b[1;32m    511\u001b[0m         \u001b[0msend_kwargs\u001b[0m\u001b[0;34m.\u001b[0m\u001b[0mupdate\u001b[0m\u001b[0;34m(\u001b[0m\u001b[0msettings\u001b[0m\u001b[0;34m)\u001b[0m\u001b[0;34m\u001b[0m\u001b[0m\n\u001b[0;32m--> 512\u001b[0;31m         \u001b[0mresp\u001b[0m \u001b[0;34m=\u001b[0m \u001b[0mself\u001b[0m\u001b[0;34m.\u001b[0m\u001b[0msend\u001b[0m\u001b[0;34m(\u001b[0m\u001b[0mprep\u001b[0m\u001b[0;34m,\u001b[0m \u001b[0;34m**\u001b[0m\u001b[0msend_kwargs\u001b[0m\u001b[0;34m)\u001b[0m\u001b[0;34m\u001b[0m\u001b[0m\n\u001b[0m\u001b[1;32m    513\u001b[0m \u001b[0;34m\u001b[0m\u001b[0m\n\u001b[1;32m    514\u001b[0m         \u001b[0;32mreturn\u001b[0m \u001b[0mresp\u001b[0m\u001b[0;34m\u001b[0m\u001b[0m\n",
      "\u001b[0;32m~/virtualenvs/py3_mpatlas/lib/python3.6/site-packages/requests/sessions.py\u001b[0m in \u001b[0;36msend\u001b[0;34m(self, request, **kwargs)\u001b[0m\n\u001b[1;32m    620\u001b[0m \u001b[0;34m\u001b[0m\u001b[0m\n\u001b[1;32m    621\u001b[0m         \u001b[0;31m# Send the request\u001b[0m\u001b[0;34m\u001b[0m\u001b[0;34m\u001b[0m\u001b[0m\n\u001b[0;32m--> 622\u001b[0;31m         \u001b[0mr\u001b[0m \u001b[0;34m=\u001b[0m \u001b[0madapter\u001b[0m\u001b[0;34m.\u001b[0m\u001b[0msend\u001b[0m\u001b[0;34m(\u001b[0m\u001b[0mrequest\u001b[0m\u001b[0;34m,\u001b[0m \u001b[0;34m**\u001b[0m\u001b[0mkwargs\u001b[0m\u001b[0;34m)\u001b[0m\u001b[0;34m\u001b[0m\u001b[0m\n\u001b[0m\u001b[1;32m    623\u001b[0m \u001b[0;34m\u001b[0m\u001b[0m\n\u001b[1;32m    624\u001b[0m         \u001b[0;31m# Total elapsed time of the request (approximately)\u001b[0m\u001b[0;34m\u001b[0m\u001b[0;34m\u001b[0m\u001b[0m\n",
      "\u001b[0;32m~/virtualenvs/py3_mpatlas/lib/python3.6/site-packages/requests/adapters.py\u001b[0m in \u001b[0;36msend\u001b[0;34m(self, request, stream, timeout, verify, cert, proxies)\u001b[0m\n\u001b[1;32m    443\u001b[0m                     \u001b[0mdecode_content\u001b[0m\u001b[0;34m=\u001b[0m\u001b[0;32mFalse\u001b[0m\u001b[0;34m,\u001b[0m\u001b[0;34m\u001b[0m\u001b[0m\n\u001b[1;32m    444\u001b[0m                     \u001b[0mretries\u001b[0m\u001b[0;34m=\u001b[0m\u001b[0mself\u001b[0m\u001b[0;34m.\u001b[0m\u001b[0mmax_retries\u001b[0m\u001b[0;34m,\u001b[0m\u001b[0;34m\u001b[0m\u001b[0m\n\u001b[0;32m--> 445\u001b[0;31m                     \u001b[0mtimeout\u001b[0m\u001b[0;34m=\u001b[0m\u001b[0mtimeout\u001b[0m\u001b[0;34m\u001b[0m\u001b[0m\n\u001b[0m\u001b[1;32m    446\u001b[0m                 )\n\u001b[1;32m    447\u001b[0m \u001b[0;34m\u001b[0m\u001b[0m\n",
      "\u001b[0;32m~/virtualenvs/py3_mpatlas/lib/python3.6/site-packages/urllib3/connectionpool.py\u001b[0m in \u001b[0;36murlopen\u001b[0;34m(self, method, url, body, headers, retries, redirect, assert_same_host, timeout, pool_timeout, release_conn, chunked, body_pos, **response_kw)\u001b[0m\n\u001b[1;32m    598\u001b[0m                                                   \u001b[0mtimeout\u001b[0m\u001b[0;34m=\u001b[0m\u001b[0mtimeout_obj\u001b[0m\u001b[0;34m,\u001b[0m\u001b[0;34m\u001b[0m\u001b[0m\n\u001b[1;32m    599\u001b[0m                                                   \u001b[0mbody\u001b[0m\u001b[0;34m=\u001b[0m\u001b[0mbody\u001b[0m\u001b[0;34m,\u001b[0m \u001b[0mheaders\u001b[0m\u001b[0;34m=\u001b[0m\u001b[0mheaders\u001b[0m\u001b[0;34m,\u001b[0m\u001b[0;34m\u001b[0m\u001b[0m\n\u001b[0;32m--> 600\u001b[0;31m                                                   chunked=chunked)\n\u001b[0m\u001b[1;32m    601\u001b[0m \u001b[0;34m\u001b[0m\u001b[0m\n\u001b[1;32m    602\u001b[0m             \u001b[0;31m# If we're going to release the connection in ``finally:``, then\u001b[0m\u001b[0;34m\u001b[0m\u001b[0;34m\u001b[0m\u001b[0m\n",
      "\u001b[0;32m~/virtualenvs/py3_mpatlas/lib/python3.6/site-packages/urllib3/connectionpool.py\u001b[0m in \u001b[0;36m_make_request\u001b[0;34m(self, conn, method, url, timeout, chunked, **httplib_request_kw)\u001b[0m\n\u001b[1;32m    378\u001b[0m             \u001b[0;32mexcept\u001b[0m \u001b[0mTypeError\u001b[0m\u001b[0;34m:\u001b[0m  \u001b[0;31m# Python 2.6 and older, Python 3\u001b[0m\u001b[0;34m\u001b[0m\u001b[0m\n\u001b[1;32m    379\u001b[0m                 \u001b[0;32mtry\u001b[0m\u001b[0;34m:\u001b[0m\u001b[0;34m\u001b[0m\u001b[0m\n\u001b[0;32m--> 380\u001b[0;31m                     \u001b[0mhttplib_response\u001b[0m \u001b[0;34m=\u001b[0m \u001b[0mconn\u001b[0m\u001b[0;34m.\u001b[0m\u001b[0mgetresponse\u001b[0m\u001b[0;34m(\u001b[0m\u001b[0;34m)\u001b[0m\u001b[0;34m\u001b[0m\u001b[0m\n\u001b[0m\u001b[1;32m    381\u001b[0m                 \u001b[0;32mexcept\u001b[0m \u001b[0mException\u001b[0m \u001b[0;32mas\u001b[0m \u001b[0me\u001b[0m\u001b[0;34m:\u001b[0m\u001b[0;34m\u001b[0m\u001b[0m\n\u001b[1;32m    382\u001b[0m                     \u001b[0;31m# Remove the TypeError from the exception chain in Python 3;\u001b[0m\u001b[0;34m\u001b[0m\u001b[0;34m\u001b[0m\u001b[0m\n",
      "\u001b[0;32m/usr/lib/python3.6/http/client.py\u001b[0m in \u001b[0;36mgetresponse\u001b[0;34m(self)\u001b[0m\n\u001b[1;32m   1329\u001b[0m         \u001b[0;32mtry\u001b[0m\u001b[0;34m:\u001b[0m\u001b[0;34m\u001b[0m\u001b[0m\n\u001b[1;32m   1330\u001b[0m             \u001b[0;32mtry\u001b[0m\u001b[0;34m:\u001b[0m\u001b[0;34m\u001b[0m\u001b[0m\n\u001b[0;32m-> 1331\u001b[0;31m                 \u001b[0mresponse\u001b[0m\u001b[0;34m.\u001b[0m\u001b[0mbegin\u001b[0m\u001b[0;34m(\u001b[0m\u001b[0;34m)\u001b[0m\u001b[0;34m\u001b[0m\u001b[0m\n\u001b[0m\u001b[1;32m   1332\u001b[0m             \u001b[0;32mexcept\u001b[0m \u001b[0mConnectionError\u001b[0m\u001b[0;34m:\u001b[0m\u001b[0;34m\u001b[0m\u001b[0m\n\u001b[1;32m   1333\u001b[0m                 \u001b[0mself\u001b[0m\u001b[0;34m.\u001b[0m\u001b[0mclose\u001b[0m\u001b[0;34m(\u001b[0m\u001b[0;34m)\u001b[0m\u001b[0;34m\u001b[0m\u001b[0m\n",
      "\u001b[0;32m/usr/lib/python3.6/http/client.py\u001b[0m in \u001b[0;36mbegin\u001b[0;34m(self)\u001b[0m\n\u001b[1;32m    295\u001b[0m         \u001b[0;31m# read until we get a non-100 response\u001b[0m\u001b[0;34m\u001b[0m\u001b[0;34m\u001b[0m\u001b[0m\n\u001b[1;32m    296\u001b[0m         \u001b[0;32mwhile\u001b[0m \u001b[0;32mTrue\u001b[0m\u001b[0;34m:\u001b[0m\u001b[0;34m\u001b[0m\u001b[0m\n\u001b[0;32m--> 297\u001b[0;31m             \u001b[0mversion\u001b[0m\u001b[0;34m,\u001b[0m \u001b[0mstatus\u001b[0m\u001b[0;34m,\u001b[0m \u001b[0mreason\u001b[0m \u001b[0;34m=\u001b[0m \u001b[0mself\u001b[0m\u001b[0;34m.\u001b[0m\u001b[0m_read_status\u001b[0m\u001b[0;34m(\u001b[0m\u001b[0;34m)\u001b[0m\u001b[0;34m\u001b[0m\u001b[0m\n\u001b[0m\u001b[1;32m    298\u001b[0m             \u001b[0;32mif\u001b[0m \u001b[0mstatus\u001b[0m \u001b[0;34m!=\u001b[0m \u001b[0mCONTINUE\u001b[0m\u001b[0;34m:\u001b[0m\u001b[0;34m\u001b[0m\u001b[0m\n\u001b[1;32m    299\u001b[0m                 \u001b[0;32mbreak\u001b[0m\u001b[0;34m\u001b[0m\u001b[0m\n",
      "\u001b[0;32m/usr/lib/python3.6/http/client.py\u001b[0m in \u001b[0;36m_read_status\u001b[0;34m(self)\u001b[0m\n\u001b[1;32m    256\u001b[0m \u001b[0;34m\u001b[0m\u001b[0m\n\u001b[1;32m    257\u001b[0m     \u001b[0;32mdef\u001b[0m \u001b[0m_read_status\u001b[0m\u001b[0;34m(\u001b[0m\u001b[0mself\u001b[0m\u001b[0;34m)\u001b[0m\u001b[0;34m:\u001b[0m\u001b[0;34m\u001b[0m\u001b[0m\n\u001b[0;32m--> 258\u001b[0;31m         \u001b[0mline\u001b[0m \u001b[0;34m=\u001b[0m \u001b[0mstr\u001b[0m\u001b[0;34m(\u001b[0m\u001b[0mself\u001b[0m\u001b[0;34m.\u001b[0m\u001b[0mfp\u001b[0m\u001b[0;34m.\u001b[0m\u001b[0mreadline\u001b[0m\u001b[0;34m(\u001b[0m\u001b[0m_MAXLINE\u001b[0m \u001b[0;34m+\u001b[0m \u001b[0;36m1\u001b[0m\u001b[0;34m)\u001b[0m\u001b[0;34m,\u001b[0m \u001b[0;34m\"iso-8859-1\"\u001b[0m\u001b[0;34m)\u001b[0m\u001b[0;34m\u001b[0m\u001b[0m\n\u001b[0m\u001b[1;32m    259\u001b[0m         \u001b[0;32mif\u001b[0m \u001b[0mlen\u001b[0m\u001b[0;34m(\u001b[0m\u001b[0mline\u001b[0m\u001b[0;34m)\u001b[0m \u001b[0;34m>\u001b[0m \u001b[0m_MAXLINE\u001b[0m\u001b[0;34m:\u001b[0m\u001b[0;34m\u001b[0m\u001b[0m\n\u001b[1;32m    260\u001b[0m             \u001b[0;32mraise\u001b[0m \u001b[0mLineTooLong\u001b[0m\u001b[0;34m(\u001b[0m\u001b[0;34m\"status line\"\u001b[0m\u001b[0;34m)\u001b[0m\u001b[0;34m\u001b[0m\u001b[0m\n",
      "\u001b[0;32m/usr/lib/python3.6/socket.py\u001b[0m in \u001b[0;36mreadinto\u001b[0;34m(self, b)\u001b[0m\n\u001b[1;32m    584\u001b[0m         \u001b[0;32mwhile\u001b[0m \u001b[0;32mTrue\u001b[0m\u001b[0;34m:\u001b[0m\u001b[0;34m\u001b[0m\u001b[0m\n\u001b[1;32m    585\u001b[0m             \u001b[0;32mtry\u001b[0m\u001b[0;34m:\u001b[0m\u001b[0;34m\u001b[0m\u001b[0m\n\u001b[0;32m--> 586\u001b[0;31m                 \u001b[0;32mreturn\u001b[0m \u001b[0mself\u001b[0m\u001b[0;34m.\u001b[0m\u001b[0m_sock\u001b[0m\u001b[0;34m.\u001b[0m\u001b[0mrecv_into\u001b[0m\u001b[0;34m(\u001b[0m\u001b[0mb\u001b[0m\u001b[0;34m)\u001b[0m\u001b[0;34m\u001b[0m\u001b[0m\n\u001b[0m\u001b[1;32m    587\u001b[0m             \u001b[0;32mexcept\u001b[0m \u001b[0mtimeout\u001b[0m\u001b[0;34m:\u001b[0m\u001b[0;34m\u001b[0m\u001b[0m\n\u001b[1;32m    588\u001b[0m                 \u001b[0mself\u001b[0m\u001b[0;34m.\u001b[0m\u001b[0m_timeout_occurred\u001b[0m \u001b[0;34m=\u001b[0m \u001b[0;32mTrue\u001b[0m\u001b[0;34m\u001b[0m\u001b[0m\n",
      "\u001b[0;32m~/virtualenvs/py3_mpatlas/lib/python3.6/site-packages/urllib3/contrib/pyopenssl.py\u001b[0m in \u001b[0;36mrecv_into\u001b[0;34m(self, *args, **kwargs)\u001b[0m\n\u001b[1;32m    283\u001b[0m     \u001b[0;32mdef\u001b[0m \u001b[0mrecv_into\u001b[0m\u001b[0;34m(\u001b[0m\u001b[0mself\u001b[0m\u001b[0;34m,\u001b[0m \u001b[0;34m*\u001b[0m\u001b[0margs\u001b[0m\u001b[0;34m,\u001b[0m \u001b[0;34m**\u001b[0m\u001b[0mkwargs\u001b[0m\u001b[0;34m)\u001b[0m\u001b[0;34m:\u001b[0m\u001b[0;34m\u001b[0m\u001b[0m\n\u001b[1;32m    284\u001b[0m         \u001b[0;32mtry\u001b[0m\u001b[0;34m:\u001b[0m\u001b[0;34m\u001b[0m\u001b[0m\n\u001b[0;32m--> 285\u001b[0;31m             \u001b[0;32mreturn\u001b[0m \u001b[0mself\u001b[0m\u001b[0;34m.\u001b[0m\u001b[0mconnection\u001b[0m\u001b[0;34m.\u001b[0m\u001b[0mrecv_into\u001b[0m\u001b[0;34m(\u001b[0m\u001b[0;34m*\u001b[0m\u001b[0margs\u001b[0m\u001b[0;34m,\u001b[0m \u001b[0;34m**\u001b[0m\u001b[0mkwargs\u001b[0m\u001b[0;34m)\u001b[0m\u001b[0;34m\u001b[0m\u001b[0m\n\u001b[0m\u001b[1;32m    286\u001b[0m         \u001b[0;32mexcept\u001b[0m \u001b[0mOpenSSL\u001b[0m\u001b[0;34m.\u001b[0m\u001b[0mSSL\u001b[0m\u001b[0;34m.\u001b[0m\u001b[0mSysCallError\u001b[0m \u001b[0;32mas\u001b[0m \u001b[0me\u001b[0m\u001b[0;34m:\u001b[0m\u001b[0;34m\u001b[0m\u001b[0m\n\u001b[1;32m    287\u001b[0m             \u001b[0;32mif\u001b[0m \u001b[0mself\u001b[0m\u001b[0;34m.\u001b[0m\u001b[0msuppress_ragged_eofs\u001b[0m \u001b[0;32mand\u001b[0m \u001b[0me\u001b[0m\u001b[0;34m.\u001b[0m\u001b[0margs\u001b[0m \u001b[0;34m==\u001b[0m \u001b[0;34m(\u001b[0m\u001b[0;34m-\u001b[0m\u001b[0;36m1\u001b[0m\u001b[0;34m,\u001b[0m \u001b[0;34m'Unexpected EOF'\u001b[0m\u001b[0;34m)\u001b[0m\u001b[0;34m:\u001b[0m\u001b[0;34m\u001b[0m\u001b[0m\n",
      "\u001b[0;32m~/virtualenvs/py3_mpatlas/lib/python3.6/site-packages/OpenSSL/SSL.py\u001b[0m in \u001b[0;36mrecv_into\u001b[0;34m(self, buffer, nbytes, flags)\u001b[0m\n\u001b[1;32m   1811\u001b[0m             \u001b[0mresult\u001b[0m \u001b[0;34m=\u001b[0m \u001b[0m_lib\u001b[0m\u001b[0;34m.\u001b[0m\u001b[0mSSL_peek\u001b[0m\u001b[0;34m(\u001b[0m\u001b[0mself\u001b[0m\u001b[0;34m.\u001b[0m\u001b[0m_ssl\u001b[0m\u001b[0;34m,\u001b[0m \u001b[0mbuf\u001b[0m\u001b[0;34m,\u001b[0m \u001b[0mnbytes\u001b[0m\u001b[0;34m)\u001b[0m\u001b[0;34m\u001b[0m\u001b[0m\n\u001b[1;32m   1812\u001b[0m         \u001b[0;32melse\u001b[0m\u001b[0;34m:\u001b[0m\u001b[0;34m\u001b[0m\u001b[0m\n\u001b[0;32m-> 1813\u001b[0;31m             \u001b[0mresult\u001b[0m \u001b[0;34m=\u001b[0m \u001b[0m_lib\u001b[0m\u001b[0;34m.\u001b[0m\u001b[0mSSL_read\u001b[0m\u001b[0;34m(\u001b[0m\u001b[0mself\u001b[0m\u001b[0;34m.\u001b[0m\u001b[0m_ssl\u001b[0m\u001b[0;34m,\u001b[0m \u001b[0mbuf\u001b[0m\u001b[0;34m,\u001b[0m \u001b[0mnbytes\u001b[0m\u001b[0;34m)\u001b[0m\u001b[0;34m\u001b[0m\u001b[0m\n\u001b[0m\u001b[1;32m   1814\u001b[0m         \u001b[0mself\u001b[0m\u001b[0;34m.\u001b[0m\u001b[0m_raise_ssl_error\u001b[0m\u001b[0;34m(\u001b[0m\u001b[0mself\u001b[0m\u001b[0;34m.\u001b[0m\u001b[0m_ssl\u001b[0m\u001b[0;34m,\u001b[0m \u001b[0mresult\u001b[0m\u001b[0;34m)\u001b[0m\u001b[0;34m\u001b[0m\u001b[0m\n\u001b[1;32m   1815\u001b[0m \u001b[0;34m\u001b[0m\u001b[0m\n",
      "\u001b[0;31mKeyboardInterrupt\u001b[0m: "
     ]
    }
   ],
   "source": [
    "cartompa.updateAllMpas(mpas=mpaset)"
   ]
  },
  {
   "cell_type": "code",
   "execution_count": null,
   "metadata": {},
   "outputs": [],
   "source": []
  },
  {
   "cell_type": "code",
   "execution_count": null,
   "metadata": {},
   "outputs": [],
   "source": []
  }
 ],
 "metadata": {
  "kernelspec": {
   "display_name": "Django Shell-Plus",
   "language": "python",
   "name": "django_extensions"
  },
  "language_info": {
   "codemirror_mode": {
    "name": "ipython",
    "version": 3
   },
   "file_extension": ".py",
   "mimetype": "text/x-python",
   "name": "python",
   "nbconvert_exporter": "python",
   "pygments_lexer": "ipython3",
   "version": "3.8.0"
  }
 },
 "nbformat": 4,
 "nbformat_minor": 2
}
