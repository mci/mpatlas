{
 "cells": [
  {
   "cell_type": "code",
   "execution_count": 10,
   "metadata": {},
   "outputs": [],
   "source": [
    "from mpa.models import Mpa, mpa_post_save\n",
    "from django.db.models.signals import post_save, post_delete\n",
    "from mpa.views import mpas_all_nogeom\n",
    "import reversion\n",
    "from reversion.models import Revision\n",
    "from reversion.models import Version\n",
    "import datetime\n",
    "from django.db.models import Q, F, Func"
   ]
  },
  {
   "cell_type": "code",
   "execution_count": 11,
   "metadata": {},
   "outputs": [
    {
     "data": {
      "text/plain": [
       "<QuerySet [{'country': 'ZAF'}, {'country': 'ZAF/MOZ'}]>"
      ]
     },
     "execution_count": 11,
     "metadata": {},
     "output_type": "execute_result"
    }
   ],
   "source": [
    "mpaset = mpas_all_nogeom.filter(\n",
    "    Q(country__icontains='ZAF') | Q(sovereign__icontains='ZAF')\n",
    ")\n",
    "mpaset.values('country').distinct()"
   ]
  },
  {
   "cell_type": "code",
   "execution_count": 12,
   "metadata": {},
   "outputs": [
    {
     "data": {
      "text/plain": [
       "0"
      ]
     },
     "execution_count": 12,
     "metadata": {},
     "output_type": "execute_result"
    }
   ],
   "source": [
    "mpas_all_nogeom.filter(wdpa_id=0).update(wdpa_id=None)\n",
    "mpas_all_nogeom.filter(wdpa_id=0).count()"
   ]
  },
  {
   "cell_type": "code",
   "execution_count": 13,
   "metadata": {},
   "outputs": [
    {
     "name": "stdout",
     "output_type": "stream",
     "text": [
      "1 2018-10-24 09:58:47.257651 count: 8 mpa_id: 67704044 wdpa_id: 306178\n",
      "2 2018-10-24 10:09:28.440747 count: 5 mpa_id: 68808364 wdpa_id: 555512160\n",
      "3 2018-10-24 10:09:31.863068 count: 15 mpa_id: 7705440 wdpa_id: 555512160\n",
      "4 2018-10-24 10:09:35.332193 count: 6 mpa_id: 68808363 wdpa_id: 555512160\n",
      "5 2016-02-10 15:08:33.838697 count: 3 mpa_id: 4838 wdpa_id: 315489\n",
      "6 2017-08-08 13:34:48.709163 count: 2 mpa_id: 67704828 wdpa_id: 315479\n",
      "7 2015-04-07 11:47:04.947382 count: 2 mpa_id: 2334 wdpa_id: 68170\n",
      "8 2015-03-26 10:46:56.236162 count: 2 mpa_id: 12354 wdpa_id: 903059\n",
      "9 2016-02-10 09:26:15.779302 count: 3 mpa_id: 4841 wdpa_id: 315492\n",
      "10 2015-05-06 11:04:27.908079 count: 1 mpa_id: 60000131 wdpa_id: 881\n",
      "11 2016-12-06 14:53:39.960924 count: 2 mpa_id: 68804907 wdpa_id: 351699\n",
      "12 2017-02-21 09:38:23.451843 count: 3 mpa_id: 67703502 wdpa_id: 198302\n",
      "13 2014-11-05 16:21:25.924720 count: 1 mpa_id: 9748 wdpa_id: 17368\n",
      "14 2016-02-10 11:13:04.719559 count: 3 mpa_id: 15138 wdpa_id: 555563467\n",
      "15 2016-02-10 09:25:11.615693 count: 2 mpa_id: 15137 wdpa_id: 555563466\n",
      "16 2014-11-05 16:39:26.593585 count: 1 mpa_id: 6977 wdpa_id: 220267\n",
      "17 2016-02-10 15:08:12.848414 count: 1 mpa_id: 67704838 wdpa_id: 315489\n",
      "18 2016-02-10 15:15:44.331677 count: 1 mpa_id: 67704835 wdpa_id: 315486\n",
      "19 2016-02-10 15:13:45.416641 count: 1 mpa_id: 67704047 wdpa_id: 306181\n",
      "20 2016-02-10 15:17:48.255363 count: 1 mpa_id: 67704833 wdpa_id: 315484\n",
      "21 2016-02-10 15:20:33.859214 count: 1 mpa_id: 67704831 wdpa_id: 315482\n",
      "22 2016-02-10 09:21:08.552398 count: 2 mpa_id: 4834 wdpa_id: 315485\n",
      "23 2015-12-28 13:19:02.864082 count: 3 mpa_id: 3641 wdpa_id: 300546\n",
      "24 2015-12-28 13:18:22.761390 count: 1 mpa_id: 67703641 wdpa_id: 300546\n",
      "25 2014-11-05 16:37:35.791836 count: 1 mpa_id: 2333 wdpa_id: 68169\n",
      "26 2014-11-05 16:37:35.967067 count: 1 mpa_id: 2337 wdpa_id: 68173\n",
      "27 2014-11-05 16:28:04.500998 count: 1 mpa_id: 15911 wdpa_id: 555579282\n",
      "28 2018-03-22 15:04:39.291829 count: 2 mpa_id: 6886 wdpa_id: 168204\n",
      "29 2014-11-05 16:37:35.730373 count: 1 mpa_id: 2332 wdpa_id: 68168\n",
      "30 2015-04-07 11:50:20.300275 count: 2 mpa_id: 2338 wdpa_id: 68174\n",
      "31 2014-11-05 16:37:35.577782 count: 1 mpa_id: 2329 wdpa_id: 68163\n",
      "32 2016-02-10 08:59:13.595042 count: 2 mpa_id: 9695 wdpa_id: 875\n",
      "33 2014-11-05 16:37:35.666526 count: 1 mpa_id: 2331 wdpa_id: 68167\n",
      "34 2016-02-10 09:16:29.097082 count: 1 mpa_id: 4898 wdpa_id: 351149\n",
      "35 2016-02-10 15:22:21.264146 count: 3 mpa_id: 4830 wdpa_id: 315481\n",
      "36 2017-08-08 13:33:51.565643 count: 7 mpa_id: 4829 wdpa_id: 315480\n",
      "37 2016-02-10 15:13:54.833479 count: 6 mpa_id: 4047 wdpa_id: 306181\n",
      "38 2016-02-10 09:21:36.287764 count: 7 mpa_id: 5440 wdpa_id: 555512160\n",
      "39 2016-02-10 15:06:47.037458 count: 3 mpa_id: 4044 wdpa_id: 306178\n",
      "40 2016-02-10 11:26:13.727826 count: 3 mpa_id: 4827 wdpa_id: 315477\n",
      "41 2016-02-10 14:51:48.711876 count: 3 mpa_id: 4046 wdpa_id: 306180\n",
      "42 2016-02-10 15:15:47.550314 count: 3 mpa_id: 4835 wdpa_id: 315486\n",
      "43 2016-02-10 15:17:51.637333 count: 3 mpa_id: 4833 wdpa_id: 315484\n",
      "44 2016-02-10 15:20:31.385613 count: 3 mpa_id: 4831 wdpa_id: 315482\n",
      "45 2016-02-10 07:35:33.248601 count: 3 mpa_id: 3502 wdpa_id: 198302\n",
      "46 2016-02-10 09:16:20.792629 count: 3 mpa_id: 4045 wdpa_id: 306179\n",
      "47 2014-11-05 16:37:35.614362 count: 1 mpa_id: 2330 wdpa_id: 68165\n",
      "48 2015-04-07 11:48:47.593784 count: 2 mpa_id: 2335 wdpa_id: 68171\n",
      "49 2014-11-05 16:37:35.920958 count: 1 mpa_id: 2336 wdpa_id: 68172\n",
      "50 2015-05-06 11:04:17.784240 count: 2 mpa_id: 131 wdpa_id: 881\n",
      "51 2016-02-10 14:52:41.358853 count: 2 mpa_id: 67704046 wdpa_id: 306180\n",
      "52 2017-08-08 13:32:35.923890 count: 3 mpa_id: 67704827 wdpa_id: 315477\n",
      "53 2017-08-08 13:35:31.145817 count: 7 mpa_id: 4836 wdpa_id: 315487\n",
      "54 2015-08-13 07:02:45.143869 count: 1 mpa_id: 68804903 wdpa_id: 351695\n",
      "55 2018-03-22 14:23:09.499082 count: 3 mpa_id: 67704045 wdpa_id: 306179\n",
      "56 2016-02-10 14:59:16.840466 count: 5 mpa_id: 4828 wdpa_id: 315479\n",
      "57 2014-11-05 16:27:19.434133 count: 1 mpa_id: 15139 wdpa_id: 555564074\n",
      "58 2016-02-10 09:25:54.848219 count: 2 mpa_id: 4840 wdpa_id: 315491\n",
      "59 2016-02-10 09:20:15.112273 count: 2 mpa_id: 3640 wdpa_id: 300543\n",
      "60 2016-02-10 15:19:04.770007 count: 1 mpa_id: 67704832 wdpa_id: 315483\n",
      "61 2016-02-10 15:22:18.529831 count: 1 mpa_id: 67704830 wdpa_id: 315481\n",
      "62 2016-02-10 09:24:56.484838 count: 2 mpa_id: 4837 wdpa_id: 315488\n",
      "63 2016-02-10 15:19:07.449437 count: 3 mpa_id: 4832 wdpa_id: 315483\n",
      "64 2016-03-23 14:48:01.464328 count: 4 mpa_id: 4902 wdpa_id: 351694\n",
      "65 2016-02-10 09:25:21.673336 count: 2 mpa_id: 4839 wdpa_id: 315490\n",
      "66 2018-07-31 10:09:13.984477 count: 18 mpa_id: 67704841 wdpa_id: 315492\n"
     ]
    }
   ],
   "source": [
    "count = 0\n",
    "for m in mpaset:\n",
    "    versions = Version.objects.get_for_object(m)\n",
    "    created = 'Never'\n",
    "    if not m.wdpa_id: continue\n",
    "    try:\n",
    "        created = versions.first().revision.date_created\n",
    "        if created > datetime.datetime(2014, 11, 5):\n",
    "            count = count + 1\n",
    "            print(count, created, 'count:', len(versions), 'mpa_id:', m.mpa_id, 'wdpa_id:', m.wdpa_id)\n",
    "    except:\n",
    "        pass"
   ]
  },
  {
   "cell_type": "code",
   "execution_count": 14,
   "metadata": {},
   "outputs": [
    {
     "data": {
      "text/plain": [
       "<module 'wdpa.merge' from '/home/mpatlas/projects/django_mpatlas/wdpa/merge.py'>"
      ]
     },
     "execution_count": 14,
     "metadata": {},
     "output_type": "execute_result"
    }
   ],
   "source": [
    "from importlib import reload\n",
    "from wdpa import merge\n",
    "reload(merge)"
   ]
  },
  {
   "cell_type": "code",
   "execution_count": 15,
   "metadata": {},
   "outputs": [],
   "source": [
    "remove_log = '/home/mpatlas/workspace/log/removewdpa_ZAF_log.json'\n",
    "wdpa2remove = merge.getRemoveWdpaList(logfile=remove_log)"
   ]
  },
  {
   "cell_type": "code",
   "execution_count": 16,
   "metadata": {},
   "outputs": [
    {
     "data": {
      "text/plain": [
       "7"
      ]
     },
     "execution_count": 16,
     "metadata": {},
     "output_type": "execute_result"
    }
   ],
   "source": [
    "len(wdpa2remove)"
   ]
  },
  {
   "cell_type": "code",
   "execution_count": 17,
   "metadata": {},
   "outputs": [
    {
     "data": {
      "text/plain": [
       "7"
      ]
     },
     "execution_count": 17,
     "metadata": {},
     "output_type": "execute_result"
    }
   ],
   "source": [
    "rm_mpas = Mpa.objects.filter(wdpa_id__in=wdpa2remove).order_by('country')\n",
    "len(rm_mpas)"
   ]
  },
  {
   "cell_type": "code",
   "execution_count": 18,
   "metadata": {},
   "outputs": [
    {
     "name": "stdout",
     "output_type": "stream",
     "text": [
      "68804905 351697 ZAF ZAF True Not Reported None Namaqualand Marine Protected Area\n",
      "68804901 351693 ZAF ZAF True All None Cape of Good Hope Restricted Zone Marine Protected Area\n",
      "68804907 351699 ZAF ZAF True All None Paulsberg Restricted Zone Marine Protected Area\n",
      "68804908 351700 ZAF ZAF True All None St James Restricted Zone Marine Protected Area\n",
      "68804900 351692 ZAF ZAF True All None Boulders Restricted Zone Marine Protected Area\n",
      "9695 875 ZAF ZAF False Not Reported 0.0 Addo-Elephant National Park\n",
      "68804903 351695 ZAF ZAF True All None Karbonkelberg Restricted Zone Marine Protected Area\n"
     ]
    }
   ],
   "source": [
    "for m in rm_mpas:\n",
    "    print(m.mpa_id, m.wdpa_id, m.country, m.sovereign, m.is_mpa, m.no_take, m.no_take_area, m.name, m.designation_eng)"
   ]
  },
  {
   "cell_type": "code",
   "execution_count": 19,
   "metadata": {},
   "outputs": [],
   "source": [
    "merge.removeMpasByWdpaId(wdpa2remove)"
   ]
  },
  {
   "cell_type": "code",
   "execution_count": 20,
   "metadata": {},
   "outputs": [
    {
     "data": {
      "text/plain": [
       "<module 'wdpa.merge' from '/home/mpatlas/projects/django_mpatlas/wdpa/merge.py'>"
      ]
     },
     "execution_count": 20,
     "metadata": {},
     "output_type": "execute_result"
    }
   ],
   "source": [
    "reload(merge)"
   ]
  },
  {
   "cell_type": "code",
   "execution_count": 21,
   "metadata": {},
   "outputs": [],
   "source": [
    "wdpa2add = merge.getAddWdpaList()"
   ]
  },
  {
   "cell_type": "code",
   "execution_count": 22,
   "metadata": {},
   "outputs": [
    {
     "data": {
      "text/plain": [
       "0"
      ]
     },
     "execution_count": 22,
     "metadata": {},
     "output_type": "execute_result"
    }
   ],
   "source": [
    "len(wdpa2add)"
   ]
  },
  {
   "cell_type": "code",
   "execution_count": 23,
   "metadata": {},
   "outputs": [],
   "source": [
    "wdpapid2add = merge.getAddWdpaPidList(verbose=True)"
   ]
  },
  {
   "cell_type": "code",
   "execution_count": 24,
   "metadata": {},
   "outputs": [
    {
     "data": {
      "text/plain": [
       "0"
      ]
     },
     "execution_count": 24,
     "metadata": {},
     "output_type": "execute_result"
    }
   ],
   "source": [
    "len(wdpapid2add)"
   ]
  },
  {
   "cell_type": "code",
   "execution_count": 16,
   "metadata": {},
   "outputs": [],
   "source": [
    "# Assign records with zones to be the first zone.  Do not rerun.\n",
    "# In separate notebook"
   ]
  },
  {
   "cell_type": "code",
   "execution_count": 25,
   "metadata": {},
   "outputs": [
    {
     "data": {
      "text/plain": [
       "0"
      ]
     },
     "execution_count": 25,
     "metadata": {},
     "output_type": "execute_result"
    }
   ],
   "source": [
    "allpid2add = wdpapid2add + [str(int(i)) for i in wdpa2add]\n",
    "len(allpid2add)"
   ]
  },
  {
   "cell_type": "code",
   "execution_count": 26,
   "metadata": {},
   "outputs": [],
   "source": [
    "reload(merge)\n",
    "addpoint_geolog = '/home/mpatlas/workspace/log/addpoint_ZAF_log.json'\n",
    "addpoly_log = '/home/mpatlas/workspace/log/addpoly_ZAF_log.json'\n",
    "addpoly_geolog = '/home/mpatlas/workspace/log/addpoly_ZAF_geo_log.json'"
   ]
  },
  {
   "cell_type": "code",
   "execution_count": 27,
   "metadata": {},
   "outputs": [
    {
     "data": {
      "text/plain": [
       "True"
      ]
     },
     "execution_count": 27,
     "metadata": {},
     "output_type": "execute_result"
    }
   ],
   "source": [
    "points = Wdpa2018Point.objects.filter(wdpa_pid__in=allpid2add).order_by('wdpa_pid')\n",
    "merge.updateMpasFromWdpaQueryset(qs=points, poly=False, logfile=None, geologfile=addpoint_geolog, dryrun=True)"
   ]
  },
  {
   "cell_type": "code",
   "execution_count": 28,
   "metadata": {},
   "outputs": [
    {
     "data": {
      "text/plain": [
       "True"
      ]
     },
     "execution_count": 28,
     "metadata": {},
     "output_type": "execute_result"
    }
   ],
   "source": [
    "# post_save.disconnect(mpa_post_save, sender=Mpa)\n",
    "polys = Wdpa2018Poly.objects.filter(wdpa_pid__in=allpid2add).order_by('wdpa_pid')\n",
    "merge.updateMpasFromWdpaQueryset(qs=polys, poly=True, logfile=addpoly_log, geologfile=addpoly_geolog, dryrun=True)\n",
    "# post_save.connect(mpa_post_save, sender=Mpa)"
   ]
  },
  {
   "cell_type": "code",
   "execution_count": null,
   "metadata": {},
   "outputs": [],
   "source": []
  },
  {
   "cell_type": "code",
   "execution_count": 30,
   "metadata": {},
   "outputs": [],
   "source": [
    "reload(merge)\n",
    "updatepoint_geolog = '/home/mpatlas/workspace/log/updatepoint_ZAF_log.json'\n",
    "updatepoly_log = '/home/mpatlas/workspace/log/updatepoly_ZAF_log.json'\n",
    "updatepoly_geolog = '/home/mpatlas/workspace/log/updatepoly_ZAF_geo_log.json'"
   ]
  },
  {
   "cell_type": "code",
   "execution_count": 31,
   "metadata": {},
   "outputs": [],
   "source": [
    "wdpa_filter = (\n",
    "    Q(iso3__icontains='ZAF') | Q(parent_iso3__icontains='ZAF')\n",
    ")\n",
    "polys = Wdpa2018Poly.objects.exclude(wdpa_pid__in=allpid2add).filter(wdpa_filter).filter(marine__in=('1','2')).order_by('wdpa_pid').values_list('wdpa_pid', flat=True)\n",
    "points = Wdpa2018Point.objects.exclude(wdpa_pid__in=allpid2add).filter(wdpa_filter).filter(marine__in=('1','2')).order_by('wdpa_pid').values_list('wdpa_pid', flat=True)\n",
    "allpid2update = list(set(list(polys) + list(points)))\n",
    "\n"
   ]
  },
  {
   "cell_type": "code",
   "execution_count": 32,
   "metadata": {},
   "outputs": [
    {
     "data": {
      "text/plain": [
       "26"
      ]
     },
     "execution_count": 32,
     "metadata": {},
     "output_type": "execute_result"
    }
   ],
   "source": [
    "len(allpid2update)"
   ]
  },
  {
   "cell_type": "code",
   "execution_count": 33,
   "metadata": {},
   "outputs": [
    {
     "data": {
      "text/plain": [
       "True"
      ]
     },
     "execution_count": 33,
     "metadata": {},
     "output_type": "execute_result"
    }
   ],
   "source": [
    "updatepoints = Wdpa2018Point.objects.filter(wdpa_pid__in=allpid2update)\n",
    "merge.updateMpasFromWdpaQueryset(qs=updatepoints, poly=False, logfile=None, geologfile=updatepoint_geolog, dryrun=True)"
   ]
  },
  {
   "cell_type": "code",
   "execution_count": 34,
   "metadata": {},
   "outputs": [
    {
     "name": "stdout",
     "output_type": "stream",
     "text": [
      "1/41 adding/updating wdpa_pid 315477 with mpa_id 4827\n",
      "    PID: 315477 has 5 field diffs  and GEOM diff\n",
      "2/41 adding/updating wdpa_pid 315477 with mpa_id 67704827\n",
      "    PID: 315477 has 9 field diffs  and GEOM diff\n",
      "3/41 adding/updating wdpa_pid 315480 with mpa_id 4829\n",
      "    PID: 315480 has 7 field diffs  and GEOM diff\n",
      "4/41 adding/updating wdpa_pid 315481 with mpa_id 4830\n",
      "    PID: 315481 has 5 field diffs  and GEOM diff\n",
      "5/41 adding/updating wdpa_pid 315481 with mpa_id 67704830\n",
      "    PID: 315481 has 10 field diffs  and GEOM diff\n",
      "6/41 adding/updating wdpa_pid 315490 with mpa_id 4839\n",
      "    PID: 315490 has 6 field diffs  and GEOM diff\n",
      "7/41 adding/updating wdpa_pid 300543 with mpa_id 3640\n",
      "    PID: 300543 has 6 field diffs  and GEOM diff\n",
      "8/41 adding/updating wdpa_pid 300546 with mpa_id 3641\n",
      "    PID: 300546 has 10 field diffs  and GEOM diff\n",
      "9/41 adding/updating wdpa_pid 300546 with mpa_id 67703641\n",
      "    PID: 300546 has 11 field diffs  and GEOM diff\n",
      "10/41 adding/updating wdpa_pid 306178 with mpa_id 67704044\n",
      "    PID: 306178 has 10 field diffs  and GEOM diff\n",
      "11/41 adding/updating wdpa_pid 306178 with mpa_id 4044\n",
      "    PID: 306178 has 5 field diffs  and GEOM diff\n",
      "12/41 adding/updating wdpa_pid 306179 with mpa_id 4045\n",
      "    PID: 306179 has 5 field diffs  and GEOM diff\n",
      "13/41 adding/updating wdpa_pid 306179 with mpa_id 67704045\n",
      "    PID: 306179 has 9 field diffs  and GEOM diff\n",
      "14/41 adding/updating wdpa_pid 306180 with mpa_id 4046\n",
      "    PID: 306180 has 5 field diffs  and GEOM diff\n",
      "15/41 adding/updating wdpa_pid 306180 with mpa_id 67704046\n",
      "    PID: 306180 has 9 field diffs  and GEOM diff\n",
      "16/41 adding/updating wdpa_pid 306181 with mpa_id 67704047\n",
      "    PID: 306181 has 9 field diffs  and GEOM diff\n",
      "17/41 adding/updating wdpa_pid 306181 with mpa_id 4047\n",
      "    PID: 306181 has 5 field diffs  and GEOM diff\n",
      "18/41 adding/updating wdpa_pid 315482 with mpa_id 67704831\n",
      "    PID: 315482 has 9 field diffs  and GEOM diff\n",
      "19/41 adding/updating wdpa_pid 315482 with mpa_id 4831\n",
      "    PID: 315482 has 5 field diffs  and GEOM diff\n",
      "20/41 adding/updating wdpa_pid 315483 with mpa_id 67704832\n",
      "    PID: 315483 has 9 field diffs  and GEOM diff\n",
      "21/41 adding/updating wdpa_pid 315483 with mpa_id 4832\n",
      "    PID: 315483 has 5 field diffs  and GEOM diff\n",
      "22/41 adding/updating wdpa_pid 315484 with mpa_id 67704833\n",
      "    PID: 315484 has 9 field diffs  and GEOM diff\n",
      "23/41 adding/updating wdpa_pid 315484 with mpa_id 4833\n",
      "    PID: 315484 has 3 field diffs  and GEOM diff\n",
      "24/41 adding/updating wdpa_pid 315485 with mpa_id 4834\n",
      "    PID: 315485 has 6 field diffs  and GEOM diff\n",
      "25/41 adding/updating wdpa_pid 315486 with mpa_id 67704835\n",
      "    PID: 315486 has 9 field diffs  and GEOM diff\n",
      "26/41 adding/updating wdpa_pid 315486 with mpa_id 4835\n",
      "    PID: 315486 has 3 field diffs  and GEOM diff\n",
      "27/41 adding/updating wdpa_pid 315487 with mpa_id 4836\n",
      "    PID: 315487 has 6 field diffs  and GEOM diff\n",
      "28/41 adding/updating wdpa_pid 351694 with mpa_id 4902\n",
      "    PID: 351694 has 6 field diffs  and GEOM diff\n",
      "29/41 adding/updating wdpa_pid 315488 with mpa_id 4837\n",
      "    PID: 315488 has 6 field diffs  and GEOM diff\n",
      "30/41 adding/updating wdpa_pid 315489 with mpa_id 4838\n",
      "    PID: 315489 has 5 field diffs  and GEOM diff\n",
      "31/41 adding/updating wdpa_pid 315489 with mpa_id 67704838\n",
      "    PID: 315489 has 9 field diffs  and GEOM diff\n",
      "32/41 adding/updating wdpa_pid 315491 with mpa_id 4840\n",
      "    PID: 315491 has 6 field diffs  and GEOM diff\n",
      "33/41 adding/updating wdpa_pid 555512160 with mpa_id 5440\n",
      "    PID: 555512160 has 5 field diffs  and GEOM diff\n",
      "34/41 adding/updating wdpa_pid 315492 with mpa_id 4841\n",
      "    PID: 315492 has 9 field diffs  and GEOM diff\n",
      "35/41 adding/updating wdpa_pid 315492 with mpa_id 67704841\n",
      "    PID: 315492 has 10 field diffs  and GEOM diff\n",
      "36/41 adding/updating wdpa_pid 198302 with mpa_id 67703502\n",
      "    PID: 198302 has 12 field diffs  and GEOM diff\n",
      "37/41 adding/updating wdpa_pid 198302 with mpa_id 3502\n",
      "    PID: 198302 has 7 field diffs  and GEOM diff\n",
      "38/41 adding/updating wdpa_pid 555563466 with mpa_id 15137\n",
      "    PID: 555563466 has 6 field diffs  and GEOM diff\n",
      "39/41 adding/updating wdpa_pid 555563467 with mpa_id 15138\n",
      "    PID: 555563467 has 6 field diffs  and GEOM diff\n",
      "40/41 adding/updating wdpa_pid 315479 with mpa_id 67704828\n",
      "    PID: 315479 has 9 field diffs  and GEOM diff\n",
      "41/41 adding/updating wdpa_pid 315479 with mpa_id 4828\n",
      "    PID: 315479 has 5 field diffs  and GEOM diff\n"
     ]
    },
    {
     "data": {
      "text/plain": [
       "True"
      ]
     },
     "execution_count": 34,
     "metadata": {},
     "output_type": "execute_result"
    }
   ],
   "source": [
    "updatepolys = Wdpa2018Poly.objects.filter(wdpa_pid__in=allpid2update)\n",
    "merge.updateMpasFromWdpaQueryset(qs=updatepolys, poly=True, logfile=updatepoly_log, geologfile=updatepoly_geolog, dryrun=True)"
   ]
  },
  {
   "cell_type": "code",
   "execution_count": 35,
   "metadata": {},
   "outputs": [
    {
     "data": {
      "text/plain": [
       "66"
      ]
     },
     "execution_count": 35,
     "metadata": {},
     "output_type": "execute_result"
    }
   ],
   "source": [
    "mpaset.filter(wdpa_pid__isnull=False).update(\n",
    "    no_take_wdpa=F('no_take'), no_take_area_wdpa=F('no_take_area')\n",
    ")"
   ]
  },
  {
   "cell_type": "code",
   "execution_count": 36,
   "metadata": {},
   "outputs": [
    {
     "data": {
      "text/plain": [
       "11"
      ]
     },
     "execution_count": 36,
     "metadata": {},
     "output_type": "execute_result"
    }
   ],
   "source": [
    "nt = ('All', 'Part', 'None')\n",
    "ntupdate = mpaset.filter(wdpa_pid__isnull=False).filter(\n",
    "    (~Q(no_take_wdpa__in=('All')) & Q(no_take_mpatlas__in=('All')))\n",
    "    | (~Q(no_take_wdpa__in=('All', 'Part')) & Q(no_take_mpatlas__in=('All', 'Part')))\n",
    "    | (Q(no_take_wdpa__in=('Not Applicable')) & Q(no_take_mpatlas__in=('All', 'Part', 'None')))\n",
    ")\n",
    "ntupdate.update(no_take=F('no_take_mpatlas'))"
   ]
  },
  {
   "cell_type": "code",
   "execution_count": 37,
   "metadata": {},
   "outputs": [
    {
     "data": {
      "text/plain": [
       "1"
      ]
     },
     "execution_count": 37,
     "metadata": {},
     "output_type": "execute_result"
    }
   ],
   "source": [
    "ntareaupdate = mpaset.filter(wdpa_pid__isnull=False).filter(\n",
    "    Q(no_take_area_mpatlas__isnull=False) &\n",
    "    (\n",
    "        Q(no_take_area_wdpa__isnull=True)\n",
    "        | Q(no_take_area_mpatlas__gt=F('no_take_area_wdpa'))\n",
    "    )\n",
    ")\n",
    "ntareaupdate.update(no_take_area=F('no_take_area_mpatlas'))"
   ]
  },
  {
   "cell_type": "code",
   "execution_count": 38,
   "metadata": {},
   "outputs": [
    {
     "name": "stdout",
     "output_type": "stream",
     "text": [
      "3641 300546 300546 Dwesa-Cwebe Marine Protected Area Marine Protected Area Marine Protected Area Not Reported Part 0.0 0.0\n",
      "67703641 300546 300546 Dwesa-Cwebe Marine Protected Area Marine Protected Area Marine Protected Area Not Reported Part 0.0 None\n",
      "67704044 306178 306178 Table Mountain National Park Marine Protected Area Marine Protected Area Marine Protected Area Not Reported Part 0.0 56.4\n",
      "67704047 306181 306181 Pondoland Marine Protected Area Marine Protected Area Marine Protected Area Not Reported Part 0.0 None\n",
      "67704832 315483 315483 Langebaan Lagoon Marine Protected Area Marine Protected Area Marine Protected Area Not Reported Part 0.0 None\n",
      "67704827 315477 315477 Betty's Bay Marine Protected Area Marine Protected Area Marine Protected Area Not Reported Part 0.0 None\n",
      "4829 315480 315480 Goukamma Marine Protected Area Marine Protected Area Marine Protected Area Not Reported Part 0.0 0.0\n",
      "67704045 306179 306179 Aliwal Shoal Marine Protected Area Marine Protected Area Marine Protected Area Not Reported Part 0.0 None\n",
      "67704046 306180 306180 Bird Island Group Marine Protected Area Marine Protected Area Marine Protected Area Not Reported All 0.0 None\n",
      "67704828 315479 315479 De Hoop Marine Protected Area Marine Protected Area Marine Protected Area Not Reported All 0.0 None\n",
      "67704830 315481 315481 Helderberg Marine Protected Area Marine Protected Area Marine Protected Area Not Reported All 0.0 None\n"
     ]
    }
   ],
   "source": [
    "ntchanges = ntupdate | ntareaupdate\n",
    "for n in ntchanges:\n",
    "    print(n.mpa_id, n.wdpa_id, n.wdpa_pid, n.name, n.designation, n.designation_eng, n.no_take_wdpa, n.no_take_mpatlas, n.no_take_area_wdpa, n.no_take_area_mpatlas)"
   ]
  },
  {
   "cell_type": "code",
   "execution_count": 39,
   "metadata": {},
   "outputs": [],
   "source": [
    "ntchanges = ntupdate | ntareaupdate\n",
    "\n",
    "import csv\n",
    "\n",
    "with open('/home/mpatlas/workspace/log/notakechange_ZAF_log.csv', 'w', newline='') as csvfile:\n",
    "    fieldnames = ['mpa_id', 'wdpa_id', 'wdpa_pid', 'name', 'designation', 'designation_eng', 'no_take_wdpa', 'no_take_mpatlas', 'no_take_area_wdpa', 'no_take_area_mpatlas']\n",
    "    writer = csv.DictWriter(csvfile, fieldnames=fieldnames)\n",
    "\n",
    "    writer.writeheader()\n",
    "    for row in ntchanges.values(*fieldnames):\n",
    "        writer.writerow(row)"
   ]
  },
  {
   "cell_type": "code",
   "execution_count": 40,
   "metadata": {},
   "outputs": [
    {
     "name": "stdout",
     "output_type": "stream",
     "text": [
      "Dwesa-Cwebe Marine Protected Area Marine Protected Area Part Not Reported Not Applicable 0.0 0.0 0.0\n",
      "Dwesa-Cwebe Marine Protected Area Marine Protected Area Part Not Reported Not Applicable None 0.0 0.0\n",
      "Pondoland Marine Protected Area Marine Protected Area Part Not Reported Not Applicable None 0.0 0.0\n",
      "Langebaan Lagoon Marine Protected Area Marine Protected Area Part Not Reported Not Applicable None 0.0 0.0\n",
      "Betty's Bay Marine Protected Area Marine Protected Area Part Not Reported Not Applicable None 0.0 0.0\n",
      "Goukamma Marine Protected Area Marine Protected Area Part Not Reported Not Applicable 0.0 0.0 0.0\n",
      "Aliwal Shoal Marine Protected Area Marine Protected Area Part Not Reported Not Applicable None 0.0 0.0\n",
      "Bird Island Group Marine Protected Area Marine Protected Area All Not Reported Not Applicable None 0.0 0.0\n",
      "De Hoop Marine Protected Area Marine Protected Area All Not Reported Not Applicable None 0.0 0.0\n",
      "Helderberg Marine Protected Area Marine Protected Area All Not Reported Not Applicable None 0.0 0.0\n"
     ]
    }
   ],
   "source": [
    "for n in ntchanges:\n",
    "    try:\n",
    "        w2018 = Wdpa2018Poly.objects.get(wdpa_pid=n.wdpa_pid)\n",
    "    except:\n",
    "        w2018 = Wdpa2018Point.objects.get(wdpa_pid=n.wdpa_pid)\n",
    "    try:\n",
    "        w2014 = Wdpa2014Polygon.objects.filter(wdpa_pid=F('wdpa_pid'))[0]\n",
    "    except:\n",
    "        try:\n",
    "            w2014 = Wdpa2014Point.objects.filter(wdpa_pid=F('wdpa_pid'))[0]\n",
    "        except:\n",
    "            try:\n",
    "                w2014 = Wdpa2014Polygon.objects.filter(wdpa_id=F('wdpa_id'))[0]\n",
    "            except:\n",
    "                w2014 = Wdpa2014Point.objects.filter(wdpa_id=F('wdpa_id'))[0]\n",
    "    if (n.no_take == w2014.no_take) or (n.no_take_area == w2014.no_tk_area):\n",
    "        print(w2018.name, w2018.desig, n.no_take_mpatlas, w2018.no_take, w2014.no_take, n.no_take_area_mpatlas, w2018.no_tk_area, w2014.no_tk_area)"
   ]
  },
  {
   "cell_type": "code",
   "execution_count": null,
   "metadata": {},
   "outputs": [],
   "source": []
  },
  {
   "cell_type": "code",
   "execution_count": 42,
   "metadata": {},
   "outputs": [
    {
     "data": {
      "text/plain": [
       "11"
      ]
     },
     "execution_count": 42,
     "metadata": {},
     "output_type": "execute_result"
    }
   ],
   "source": [
    "ntchanges2 = ntupdate | ntareaupdate\n",
    "ntchanges.count()"
   ]
  },
  {
   "cell_type": "code",
   "execution_count": 43,
   "metadata": {},
   "outputs": [
    {
     "name": "stdout",
     "output_type": "stream",
     "text": [
      "Processing 10 of 100 mpa records at a time\n",
      "Records [0 - 9]\n",
      "ERROR processing mpa 9106:  'NoneType' object has no attribute 'hexewkb'\n",
      "Skipping Mpa 9106\n",
      "ERROR processing mpa 9083:  'NoneType' object has no attribute 'hexewkb'\n",
      "Skipping Mpa 9083\n",
      "Records [10 - 19]\n",
      "ERROR processing mpa 9109:  'NoneType' object has no attribute 'hexewkb'\n",
      "Skipping Mpa 9109\n",
      "Records [20 - 29]\n",
      "ERROR processing mpa 9117:  'NoneType' object has no attribute 'hexewkb'\n",
      "Skipping Mpa 9117\n",
      "ERROR processing mpa 9103:  'NoneType' object has no attribute 'hexewkb'\n",
      "Skipping Mpa 9103\n",
      "ERROR processing mpa 68807928:  'NoneType' object has no attribute 'hexewkb'\n",
      "Skipping Mpa 68807928\n",
      "ERROR processing mpa 9118:  'NoneType' object has no attribute 'hexewkb'\n",
      "Skipping Mpa 9118\n",
      "Records [30 - 39]\n",
      "Records [40 - 49]\n",
      "Records [50 - 59]\n",
      "Records [60 - 69]\n",
      "Records [70 - 79]\n",
      "Records [80 - 89]\n",
      "Records [90 - 99]\n",
      "TOTAL 17.572350025177002 sec elapsed\n"
     ]
    },
    {
     "data": {
      "text/plain": [
       "[9106, 9083, 9109, 9117, 9103, 68807928, 9118]"
      ]
     },
     "execution_count": 43,
     "metadata": {},
     "output_type": "execute_result"
    }
   ],
   "source": [
    "mpaset = mpas_all_nogeom.filter(\n",
    "    Q(country__icontains='ZAF') | Q(sovereign__icontains='ZAF')\n",
    ")\n",
    "\n",
    "from mpatlas.utils import cartompa\n",
    "cartompa.purgeCartoMpas()\n",
    "cartompa.updateAllMpas(mpas=mpaset)"
   ]
  },
  {
   "cell_type": "code",
   "execution_count": null,
   "metadata": {},
   "outputs": [],
   "source": []
  },
  {
   "cell_type": "code",
   "execution_count": null,
   "metadata": {},
   "outputs": [],
   "source": []
  },
  {
   "cell_type": "code",
   "execution_count": null,
   "metadata": {},
   "outputs": [],
   "source": []
  }
 ],
 "metadata": {
  "kernelspec": {
   "display_name": "Django Shell-Plus",
   "language": "python",
   "name": "django_extensions"
  },
  "language_info": {
   "codemirror_mode": {
    "name": "ipython",
    "version": 3
   },
   "file_extension": ".py",
   "mimetype": "text/x-python",
   "name": "python",
   "nbconvert_exporter": "python",
   "pygments_lexer": "ipython3",
   "version": "3.6.5"
  }
 },
 "nbformat": 4,
 "nbformat_minor": 2
}
