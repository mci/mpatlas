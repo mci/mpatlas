{
 "cells": [
  {
   "cell_type": "code",
   "execution_count": 1,
   "metadata": {},
   "outputs": [
    {
     "name": "stdout",
     "output_type": "stream",
     "text": [
      "['/Users/russmo/Code/mpatlas-dj2/mpatlas', '/Users/russmo/Code/mpatlas-dj2/mpatlas/notebooks', '/usr/local/Cellar/python/3.7.5/Frameworks/Python.framework/Versions/3.7/lib/python37.zip', '/usr/local/Cellar/python/3.7.5/Frameworks/Python.framework/Versions/3.7/lib/python3.7', '/usr/local/Cellar/python/3.7.5/Frameworks/Python.framework/Versions/3.7/lib/python3.7/lib-dynload', '', '/Users/russmo/.venvs/mpa/lib/python3.7/site-packages', '/Users/russmo/.venvs/mpa/lib/python3.7/site-packages/IPython/extensions', '/Users/russmo/.ipython']\n"
     ]
    }
   ],
   "source": [
    "import os, sys\n",
    "# project_path = '../'\n",
    "PWD = os.getenv('PWD')\n",
    "# os.chdir(project_path)\n",
    "sys.path.insert(0, PWD)\n",
    "# sys.path.insert(0, project_path)\n",
    "print(sys.path)\n",
    "# os.environ.setdefault(\"DJANGO_SETTINGS_MODULE\", \"settings.py\")\n",
    "import django\n",
    "django.setup()"
   ]
  },
  {
   "cell_type": "code",
   "execution_count": 2,
   "metadata": {},
   "outputs": [],
   "source": [
    "from mpa.models import Mpa, mpa_post_save\n",
    "from django.db.models.signals import post_save, post_delete\n",
    "from mpa.views import mpas_all_nogeom\n",
    "import reversion\n",
    "from reversion.models import Revision\n",
    "from reversion.models import Version\n",
    "import datetime\n",
    "from django.db.models import Q, F, Func\n",
    "from wdpa.models import WdpaPoly_prev, WdpaPoint_prev\n",
    "from wdpa.models import WdpaPoly_new, WdpaPoint_new"
   ]
  },
  {
   "cell_type": "code",
   "execution_count": 3,
   "metadata": {},
   "outputs": [],
   "source": [
    "# logprefix = 'home/mpatlas/workspace/log/'\n",
    "logprefix = '/Users/russmo/Code/wdpa/log/'"
   ]
  },
  {
   "cell_type": "code",
   "execution_count": 4,
   "metadata": {},
   "outputs": [
    {
     "data": {
      "text/plain": [
       "<QuerySet [{'country': 'CHL'}]>"
      ]
     },
     "execution_count": 4,
     "metadata": {},
     "output_type": "execute_result"
    }
   ],
   "source": [
    "mpaset = mpas_all_nogeom.exclude(\n",
    "#         Q(country__icontains='USA') | Q(sovereign__icontains='USA') |\n",
    "#         Q(country__icontains='UMI') | Q(sovereign__icontains='UMI') |\n",
    "#         Q(country__icontains='VIR') | Q(sovereign__icontains='VIR') |\n",
    "#         Q(country__icontains='PRI') | Q(sovereign__icontains='PRI') |\n",
    "#         Q(country__icontains='ASM') | Q(sovereign__icontains='ASM') |\n",
    "#         Q(country__icontains='GUM') | Q(sovereign__icontains='GUM') |\n",
    "#         Q(country__icontains='MNP') | Q(sovereign__icontains='MNP')\n",
    "#     ).exclude(\n",
    "#         Q(country__icontains='MEX') | Q(country__icontains='CHL') | Q(country__icontains='IDN') | \n",
    "#         Q(country__icontains='CHN') | Q(country__icontains='JPN') | \n",
    "#         Q(sovereign__icontains='MEX') | Q(sovereign__icontains='CHL') | Q(sovereign__icontains='IDN') |\n",
    "#         Q(sovereign__icontains='CHN') | Q(sovereign__icontains='JPN')\n",
    "    ).filter(Q(country__icontains='CHL') | Q(sovereign__icontains='CHL'))\n",
    "mpaset.values('country').distinct()"
   ]
  },
  {
   "cell_type": "code",
   "execution_count": 4,
   "metadata": {},
   "outputs": [],
   "source": [
    "# mpaset = mpas_all_nogeom.exclude(\n",
    "#         Q(country__icontains='USA') | Q(sovereign__icontains='USA') |\n",
    "#         Q(country__icontains='UMI') | Q(sovereign__icontains='UMI') |\n",
    "#         Q(country__icontains='VIR') | Q(sovereign__icontains='VIR') |\n",
    "#         Q(country__icontains='PRI') | Q(sovereign__icontains='PRI') |\n",
    "#         Q(country__icontains='ASM') | Q(sovereign__icontains='ASM') |\n",
    "#         Q(country__icontains='GUM') | Q(sovereign__icontains='GUM') |\n",
    "#         Q(country__icontains='MNP') | Q(sovereign__icontains='MNP')\n",
    "#     ).exclude(\n",
    "#         Q(country__icontains='MEX') | Q(country__icontains='CHL') | Q(country__icontains='IDN') | \n",
    "#         Q(country__icontains='CHN') | Q(country__icontains='JPN') | \n",
    "#         Q(sovereign__icontains='MEX') | Q(sovereign__icontains='CHL') | Q(sovereign__icontains='IDN') |\n",
    "#         Q(sovereign__icontains='CHN') | Q(sovereign__icontains='JPN')\n",
    "#     ).exclude(\n",
    "#         Q(country__icontains='FRA') | Q(sovereign__icontains='FRA') |\n",
    "#         Q(country__icontains='ATF') | Q(country__icontains='BLM') | Q(country__icontains='GLP') |\n",
    "#         Q(country__icontains='GUF') | Q(country__icontains='MAF') | Q(country__icontains='MTQ') |\n",
    "#         Q(country__icontains='MYT') | Q(country__icontains='NCL') | Q(country__icontains='PYF') |\n",
    "#         Q(country__icontains='REU') | Q(country__icontains='SHN') | Q(country__icontains='SYC')\n",
    "#     ).exclude(\n",
    "#         Q(country__icontains='AUS') | Q(sovereign__icontains='AUS') |\n",
    "#         Q(country__icontains='ZAF') | Q(sovereign__icontains='ZAF') |\n",
    "#         Q(country__icontains='CAN') | Q(sovereign__icontains='CAN')\n",
    "#     ).exclude(\n",
    "#         Q(country__icontains='GBR') | Q(sovereign__icontains='GBR') |\n",
    "#         Q(country__icontains='AIA') | Q(country__icontains='BMU') | Q(country__icontains='CYM') |\n",
    "#         Q(country__icontains='FLK') | Q(country__icontains='GIB') | Q(country__icontains='IMN') |\n",
    "#         Q(country__icontains='IOT') | Q(country__icontains='JEY') | Q(country__icontains='MSR') |\n",
    "#         Q(country__icontains='PCN') | Q(country__icontains='SGS') | Q(country__icontains='SHN') |\n",
    "#         Q(country__icontains='TCA') | Q(country__icontains='VGB')\n",
    "#     )\n",
    "# mpaset.values('country').distinct()"
   ]
  },
  {
   "cell_type": "code",
   "execution_count": 5,
   "metadata": {},
   "outputs": [
    {
     "data": {
      "text/plain": [
       "0"
      ]
     },
     "execution_count": 5,
     "metadata": {},
     "output_type": "execute_result"
    }
   ],
   "source": [
    "mpas_all_nogeom.filter(wdpa_id=0).update(wdpa_id=None)\n",
    "mpas_all_nogeom.filter(wdpa_id=0).count()"
   ]
  },
  {
   "cell_type": "code",
   "execution_count": 9,
   "metadata": {},
   "outputs": [
    {
     "name": "stdout",
     "output_type": "stream",
     "text": [
      "1 2020-04-13 11:21:08.557105 count: 1 mpa_id: 68808636 wdpa_id: 555637336\n",
      "2 2020-01-27 20:26:20.107607 count: 1 mpa_id: 68808647 wdpa_id: 9452\n"
     ]
    }
   ],
   "source": [
    "count = 0\n",
    "# cutoff_date = datetime.datetime(2018, 10, 15)\n",
    "cutoff_date = datetime.datetime(2019, 12, 30)\n",
    "for m in mpaset:\n",
    "    versions = Version.objects.get_for_object(m)\n",
    "    created = 'Never'\n",
    "    if not m.wdpa_id: continue\n",
    "    try:\n",
    "        created = versions.first().revision.date_created\n",
    "        if created > cutoff_date:\n",
    "            count = count + 1\n",
    "            print(count, created, 'count:', len(versions), 'mpa_id:', m.mpa_id, 'wdpa_id:', m.wdpa_id)\n",
    "    except:\n",
    "        pass"
   ]
  },
  {
   "cell_type": "code",
   "execution_count": 6,
   "metadata": {},
   "outputs": [
    {
     "data": {
      "text/plain": [
       "<module 'wdpa.merge' from '/Users/russmo/Code/mpatlas-dj2/mpatlas/wdpa/merge.py'>"
      ]
     },
     "execution_count": 6,
     "metadata": {},
     "output_type": "execute_result"
    }
   ],
   "source": [
    "from importlib import reload\n",
    "from wdpa import merge\n",
    "reload(merge)"
   ]
  },
  {
   "cell_type": "code",
   "execution_count": 14,
   "metadata": {},
   "outputs": [
    {
     "name": "stdout",
     "output_type": "stream",
     "text": [
      "1\n",
      "345888.0 345888 Terres Australes Françaises , Réserve Naturelle Nationale 2\n",
      "2\n",
      "555547601.0 555547601 South Georgia and South Sandwich Islands Marine Protected Area , Marine Protected Area 2\n",
      "555610117.0 555610117 South Georgia , Country Club 0\n"
     ]
    }
   ],
   "source": [
    "tas = WdpaPoly_new.objects.filter(wdpa_pid__icontains='345888')\n",
    "print(tas.count())\n",
    "for t in tas:\n",
    "    print(t.wdpaid, t.wdpa_pid, t.name, ',', t.desig, t.marine)\n",
    "\n",
    "sgs = WdpaPoly_new.objects.filter(name__icontains='South Georgia')\n",
    "print(sgs.count())\n",
    "for s in sgs:\n",
    "    print(s.wdpaid, s.wdpa_pid, s.name, ',', s.desig, s.marine)\n"
   ]
  },
  {
   "cell_type": "code",
   "execution_count": 56,
   "metadata": {},
   "outputs": [],
   "source": [
    "remove_log = logprefix + 'removewdpa_CHL_2020_log.json'\n",
    "wdpa2remove = merge.getRemoveWdpaList(logfile=remove_log)"
   ]
  },
  {
   "cell_type": "code",
   "execution_count": 57,
   "metadata": {},
   "outputs": [
    {
     "data": {
      "text/plain": [
       "0"
      ]
     },
     "execution_count": 57,
     "metadata": {},
     "output_type": "execute_result"
    }
   ],
   "source": [
    "len(wdpa2remove)"
   ]
  },
  {
   "cell_type": "code",
   "execution_count": 58,
   "metadata": {},
   "outputs": [
    {
     "data": {
      "text/plain": [
       "0"
      ]
     },
     "execution_count": 58,
     "metadata": {},
     "output_type": "execute_result"
    }
   ],
   "source": [
    "rm_mpas = Mpa.objects.filter(wdpa_id__in=wdpa2remove).order_by('country')\n",
    "len(rm_mpas)"
   ]
  },
  {
   "cell_type": "code",
   "execution_count": 59,
   "metadata": {},
   "outputs": [],
   "source": [
    "for m in rm_mpas:\n",
    "    print(m.mpa_id, m.wdpa_id, m.wdpa_pid, m.country, m.sovereign, m.is_mpa, m.no_take, m.no_take_area, m.name, m.designation_eng)"
   ]
  },
  {
   "cell_type": "code",
   "execution_count": 60,
   "metadata": {},
   "outputs": [],
   "source": [
    "merge.removeMpasByWdpaId(wdpa2remove)"
   ]
  },
  {
   "cell_type": "code",
   "execution_count": 61,
   "metadata": {},
   "outputs": [
    {
     "data": {
      "text/plain": [
       "<module 'wdpa.merge' from '/Users/russmo/Code/mpatlas-dj2/mpatlas/wdpa/merge.py'>"
      ]
     },
     "execution_count": 61,
     "metadata": {},
     "output_type": "execute_result"
    }
   ],
   "source": [
    "reload(merge)"
   ]
  },
  {
   "cell_type": "code",
   "execution_count": 7,
   "metadata": {},
   "outputs": [],
   "source": [
    "wdpa2add = merge.getAddWdpaList()"
   ]
  },
  {
   "cell_type": "code",
   "execution_count": 8,
   "metadata": {},
   "outputs": [
    {
     "data": {
      "text/plain": [
       "5"
      ]
     },
     "execution_count": 8,
     "metadata": {},
     "output_type": "execute_result"
    }
   ],
   "source": [
    "len(wdpa2add)"
   ]
  },
  {
   "cell_type": "code",
   "execution_count": 9,
   "metadata": {},
   "outputs": [
    {
     "name": "stdout",
     "output_type": "stream",
     "text": [
      "0 wdpa_pid's processed\n"
     ]
    }
   ],
   "source": [
    "wdpapid2add = merge.getAddWdpaPidList(verbose=True)"
   ]
  },
  {
   "cell_type": "code",
   "execution_count": 65,
   "metadata": {},
   "outputs": [
    {
     "data": {
      "text/plain": [
       "0"
      ]
     },
     "execution_count": 65,
     "metadata": {},
     "output_type": "execute_result"
    }
   ],
   "source": [
    "len(wdpapid2add)"
   ]
  },
  {
   "cell_type": "code",
   "execution_count": 18,
   "metadata": {},
   "outputs": [],
   "source": [
    "# Assign records with zones to be the first zone.  Do not rerun.\n",
    "# In separate notebook"
   ]
  },
  {
   "cell_type": "code",
   "execution_count": 10,
   "metadata": {},
   "outputs": [
    {
     "data": {
      "text/plain": [
       "5"
      ]
     },
     "execution_count": 10,
     "metadata": {},
     "output_type": "execute_result"
    }
   ],
   "source": [
    "allpid2add = wdpapid2add + [str(int(i)) for i in wdpa2add]\n",
    "len(allpid2add)\n",
    "WdpaPoly_new.objects.filter(wdpa_pid__in=allpid2add).count() + \\\n",
    "WdpaPoint_new.objects.filter(wdpa_pid__in=allpid2add).count()"
   ]
  },
  {
   "cell_type": "code",
   "execution_count": 11,
   "metadata": {},
   "outputs": [
    {
     "data": {
      "text/plain": [
       "<QuerySet []>"
      ]
     },
     "execution_count": 11,
     "metadata": {},
     "output_type": "execute_result"
    }
   ],
   "source": [
    "unmatched_pids_poly = WdpaPoly_new.objects.filter(\n",
    "    Q(wdpa_pid__in=allpid2add) | Q(wdpaid__in=wdpa2add)\n",
    ").exclude(\n",
    "    wdpa_pid=Func(F('wdpaid'), function='INTEGER', template='(%(expressions)s::%(function)s)::text')\n",
    ")\n",
    "unmatched_pids_point = WdpaPoint_new.objects.filter(\n",
    "    Q(wdpa_pid__in=allpid2add) | Q(wdpaid__in=wdpa2add)\n",
    ").exclude(\n",
    "    wdpa_pid=Func(F('wdpaid'), function='INTEGER', template='(%(expressions)s::%(function)s)::text')\n",
    ")\n",
    "unmatched_pids_poly.order_by('wdpa_pid').values_list('wdpaid', 'wdpa_pid')\n"
   ]
  },
  {
   "cell_type": "code",
   "execution_count": 12,
   "metadata": {},
   "outputs": [
    {
     "data": {
      "text/plain": [
       "0"
      ]
     },
     "execution_count": 12,
     "metadata": {},
     "output_type": "execute_result"
    }
   ],
   "source": [
    "# Set wdpa_pid for new zones\n",
    "# If existing MPAtlas sites with this wdpa_id,\n",
    "# set first non-rejected site to the first PID_A.\n",
    "# Clear pid for all other MPAtlas sites and flag\n",
    "# as orphaned zones.\n",
    "\n",
    "wzones = []\n",
    "mpasw = [float(wi) for wi in mpaset.filter(wdpa_id__isnull=False).order_by('wdpa_id').values_list('wdpa_id', flat=True)]\n",
    "polyset = WdpaPoly_new.objects.filter(wdpaid__in=mpasw).only('wdpaid', 'wdpa_pid', 'name', 'desig_eng', 'iso3', 'parent_iso3')\n",
    "for w in polyset:\n",
    "    if w.wdpa_pid != str(int(w.wdpaid)):\n",
    "        wzones.append(w.wdpaid)\n",
    "wzones = list(set(wzones))\n",
    "len(wzones)"
   ]
  },
  {
   "cell_type": "code",
   "execution_count": 69,
   "metadata": {},
   "outputs": [],
   "source": [
    "# Assign mpa records that were previously unzoned to have the pid of the first zone in the updated WDPA data set for this site.\n",
    "count = 0\n",
    "for wid in wzones:\n",
    "    zones = WdpaPoly_new.objects.filter(wdpaid=wid).only('wdpaid', 'wdpa_pid', 'name', 'desig_eng', 'iso3', 'parent_iso3')\n",
    "    firstpid = zones.order_by('wdpa_pid').first().wdpa_pid\n",
    "    mpaz = mpaset.filter(wdpa_id=int(wid)).order_by('mpa_id')\n",
    "    m = None\n",
    "    if mpaz.filter(wdpa_pid=firstpid).count() == 0:\n",
    "        # no mpas match first zone pid\n",
    "        if mpaz.count() == 1:\n",
    "            if mpaz[0].wdpa_pid == str(mpaz[0].wdpa_id) or mpaz[0].wdpa_pid == '' or mpaz[0].wdpa_pid is None:\n",
    "                # only record without specific zone, so go ahead and set it first zone\n",
    "                m = mpaz[0]\n",
    "        else:\n",
    "            if mpaz.count() == mpaz.filter(Q(wdpa_pid=Func(F('wdpa_id'), function='INTEGER', template='(%(expressions)s::%(function)s)::text')) | Q(wdpa_pid__isnull=True) | Q(wdpa_pid='')).count():\n",
    "                # more than one mpatlas mpa record with this wdpa_id\n",
    "                # but none have a proper wdpa_pid different from the wdpa_id\n",
    "                # so set first one to have the first zone pid\n",
    "                nonrejects = mpaz.exclude(verification_state='Rejected as MPA').order_by('mpa_id')\n",
    "                if nonrejects and nonrejects.count() == 1:\n",
    "                    m = nonrejects[0]\n",
    "                else:\n",
    "                    m = mpaz[0]\n",
    "    if m:\n",
    "        print(m.mpa_id, m.wdpa_id, m.wdpa_pid)\n",
    "        m.wdpa_pid = firstpid\n",
    "        count += 1\n",
    "        print(count, m.mpa_id, m.wdpa_id, m.wdpa_pid)\n",
    "        m.save()\n"
   ]
  },
  {
   "cell_type": "code",
   "execution_count": 13,
   "metadata": {},
   "outputs": [],
   "source": [
    "reload(merge)\n",
    "addpoint_geolog = logprefix + 'addpoint_CHL_2020_log.json'\n",
    "addpoly_log = logprefix + 'addpoly_CHL_2020_log.json'\n",
    "addpoly_geolog = logprefix + 'addpoly_CHL_2020_geo_log.json'\n",
    "# addpoint_geolog = '/Users/russmo/Code/wdpa/log/addpoint_TUV_2020_log.json'\n",
    "# addpoly_log = '/Users/russmo/Code/wdpa/log/addpoly_TUV_2020_v2_zerogeofix_log.json'\n",
    "# addpoly_geolog = '/Users/russmo/Code/wdpa/log/addpoly_TUV_2020_v2_zerogeofix_geo_log.json'"
   ]
  },
  {
   "cell_type": "code",
   "execution_count": 72,
   "metadata": {},
   "outputs": [
    {
     "data": {
      "text/plain": [
       "True"
      ]
     },
     "execution_count": 72,
     "metadata": {},
     "output_type": "execute_result"
    }
   ],
   "source": [
    "points = WdpaPoint_new.objects.filter(wdpa_pid__in=allpid2add).order_by('wdpa_pid')\n",
    "merge.updateMpasFromWdpaQueryset(qs=points, poly=False, logfile=None, geologfile=addpoint_geolog, dryrun=False)"
   ]
  },
  {
   "cell_type": "code",
   "execution_count": 109,
   "metadata": {
    "scrolled": true
   },
   "outputs": [
    {
     "name": "stdout",
     "output_type": "stream",
     "text": [
      "1/5 adding/updating wdpa_pid 2548 with mpa_id 291\n",
      "    PID: 2548 has 3 field diffs \n",
      "    Geom areas similar (0.0%), using WDPA boundaries\n",
      "    Retained old MPAtlas values for: no_take marine gov_type own_type\n",
      "Carto Error for mpa_id 291: Access denied\n",
      "2/5 adding/updating wdpa_pid 555703896 with mpa_id None\n",
      "    Retained old MPAtlas values for: \n",
      "Carto Error for mpa_id 68817288: Access denied\n",
      "3/5 adding/updating wdpa_pid 555703898 with mpa_id None\n",
      "    Retained old MPAtlas values for: \n",
      "Carto Error for mpa_id 68817289: Access denied\n",
      "4/5 adding/updating wdpa_pid 9414 with mpa_id None\n",
      "    Retained old MPAtlas values for: \n",
      "Carto Error for mpa_id 68817290: Access denied\n",
      "5/5 adding/updating wdpa_pid 9419 with mpa_id None\n",
      "    Retained old MPAtlas values for: \n",
      "Carto Error for mpa_id 68817291: Access denied\n"
     ]
    },
    {
     "data": {
      "text/plain": [
       "True"
      ]
     },
     "execution_count": 109,
     "metadata": {},
     "output_type": "execute_result"
    }
   ],
   "source": [
    "# post_save.disconnect(mpa_post_save, sender=Mpa)\n",
    "polys = WdpaPoly_new.objects.filter(wdpa_pid__in=allpid2add).order_by('wdpa_pid')\n",
    "merge.updateMpasFromWdpaQueryset(qs=polys, poly=True, logfile=None, geologfile=addpoly_geolog, dryrun=False)\n",
    "# post_save.connect(mpa_post_save, sender=Mpa)"
   ]
  },
  {
   "cell_type": "code",
   "execution_count": 112,
   "metadata": {},
   "outputs": [
    {
     "data": {
      "text/plain": [
       "2833099"
      ]
     },
     "execution_count": 112,
     "metadata": {},
     "output_type": "execute_result"
    }
   ],
   "source": [
    "bad = WdpaPoly_new.objects.get(wdpa_pid='555643543')\n",
    "bg = bad.geom\n",
    "bg.num_coords\n",
    "\n",
    "bad = WdpaPoly_new.objects.get(wdpa_pid='555643544')\n",
    "bg = bad.geom\n",
    "bg.num_coords"
   ]
  },
  {
   "cell_type": "code",
   "execution_count": 14,
   "metadata": {},
   "outputs": [],
   "source": [
    "reload(merge)\n",
    "updatepoint_geolog = logprefix + 'updatepoint_CHL_2020_log.json'\n",
    "updatepoly_log = logprefix + 'updatepoly_CHL_2020_log.json'\n",
    "updatepoly_geolog = logprefix + 'updatepoly_CHL_2020_geo_log.json'\n",
    "# updatepoint_geolog = '/Users/russmo/Code/wdpa/log/updatepoint_TUV_2010_v3_geo_log.json'\n",
    "# updatepoly_log = '/Users/russmo/Code/wdpa/log/updatepoly_TUV_2019_v3_log.json'\n",
    "# updatepoly_geolog = '/Users/russmo/Code/wdpa/log/updatepoly_TUV_2019_v3_geo_log.json'"
   ]
  },
  {
   "cell_type": "code",
   "execution_count": 15,
   "metadata": {},
   "outputs": [],
   "source": [
    "# wdpa_filter = (\n",
    "# #     Q(iso3__icontains='USA') | Q(parent_iso3__icontains='USA') |\n",
    "# #     Q(iso3__icontains='UMI') | Q(parent_iso3__icontains='UMI') |\n",
    "# #     Q(iso3__icontains='VIR') | Q(parent_iso3__icontains='VIR') |\n",
    "# #     Q(iso3__icontains='PRI') | Q(parent_iso3__icontains='PRI') |\n",
    "# #     Q(iso3__icontains='ASM') | Q(parent_iso3__icontains='ASM') |\n",
    "# #     Q(iso3__icontains='GUM') | Q(parent_iso3__icontains='GUM') |\n",
    "# #     Q(iso3__icontains='MNP') | Q(parent_iso3__icontains='MNP') |\n",
    "#     Q(iso3__icontains='MEX') | Q(iso3__icontains='CHL') | Q(iso3__icontains='IDN') | \n",
    "#     Q(iso3__icontains='CHN') | Q(iso3__icontains='JPN') | \n",
    "#     Q(parent_iso3__icontains='MEX') | Q(parent_iso3__icontains='CHL') | Q(parent_iso3__icontains='IDN') |\n",
    "#     Q(parent_iso3__icontains='CHN') | Q(parent_iso3__icontains='JPN') #|\n",
    "# #     Q(iso3__icontains='FRA') | Q(parent_iso3__icontains='FRA') |\n",
    "# #     Q(iso3__icontains='ATF') | Q(iso3__icontains='BLM') | Q(iso3__icontains='GLP') |\n",
    "# #     Q(iso3__icontains='GUF') | Q(iso3__icontains='MAF') | Q(iso3__icontains='MTQ') |\n",
    "# #     Q(iso3__icontains='MYT') | Q(iso3__icontains='NCL') | Q(iso3__icontains='PYF') |\n",
    "# #     Q(iso3__icontains='REU') | Q(iso3__icontains='SHN') | Q(iso3__icontains='SYC') |\n",
    "# #     Q(iso3__icontains='AUS') | Q(parent_iso3__icontains='AUS') |\n",
    "# #     Q(iso3__icontains='ZAF') | Q(parent_iso3__icontains='ZAF') |\n",
    "# #     Q(iso3__icontains='CAN') | Q(parent_iso3__icontains='CAN') |\n",
    "# #     Q(iso3__icontains='GBR') | Q(parent_iso3__icontains='GBR') |\n",
    "# #     Q(iso3__icontains='AIA') | Q(iso3__icontains='BMU') | Q(iso3__icontains='CYM') |\n",
    "# #     Q(iso3__icontains='FLK') | Q(iso3__icontains='GIB') | Q(iso3__icontains='IMN') |\n",
    "# #     Q(iso3__icontains='IOT') | Q(iso3__icontains='JEY') | Q(iso3__icontains='MSR') |\n",
    "# #     Q(iso3__icontains='PCN') | Q(iso3__icontains='SGS') | Q(iso3__icontains='SHN') |\n",
    "# #     Q(iso3__icontains='TCA') | Q(iso3__icontains='VGB')\n",
    "# )\n",
    "wdpa_filter = (\n",
    "    Q(iso3__icontains='CHL') | Q(parent_iso3__icontains='CHL')\n",
    ")\n",
    "\n",
    "wdpa_exclude = (\n",
    "#     Q(iso3__icontains='USA') | Q(parent_iso3__icontains='USA') |\n",
    "#     Q(iso3__icontains='UMI') | Q(parent_iso3__icontains='UMI') |\n",
    "#     Q(iso3__icontains='VIR') | Q(parent_iso3__icontains='VIR') |\n",
    "#     Q(iso3__icontains='PRI') | Q(parent_iso3__icontains='PRI') |\n",
    "#     Q(iso3__icontains='ASM') | Q(parent_iso3__icontains='ASM') |\n",
    "#     Q(iso3__icontains='GUM') | Q(parent_iso3__icontains='GUM') |\n",
    "#     Q(iso3__icontains='MNP') | Q(parent_iso3__icontains='MNP') |\n",
    "#     Q(iso3__icontains='MEX') | Q(iso3__icontains='CHL') | Q(iso3__icontains='IDN') | \n",
    "#     Q(iso3__icontains='CHN') | Q(iso3__icontains='JPN') | \n",
    "#     Q(parent_iso3__icontains='MEX') | Q(parent_iso3__icontains='CHL') | Q(parent_iso3__icontains='IDN') |\n",
    "#     Q(parent_iso3__icontains='CHN') | Q(parent_iso3__icontains='JPN')\n",
    "    Q()\n",
    ")\n",
    "polys = WdpaPoly_new.objects.exclude(wdpa_pid__in=allpid2add).exclude(wdpa_exclude).filter(wdpa_filter).filter(marine__in=('1','2')).order_by('wdpa_pid').values_list('wdpa_pid', flat=True)\n",
    "points = WdpaPoint_new.objects.exclude(wdpa_pid__in=allpid2add).exclude(wdpa_exclude).filter(wdpa_filter).filter(marine__in=('1','2')).order_by('wdpa_pid').values_list('wdpa_pid', flat=True)\n",
    "allpid2update = list(set(list(polys) + list(points)))\n",
    "\n",
    "polys_nonmarine = WdpaPoly_new.objects.exclude(wdpa_pid__in=allpid2add).exclude(wdpa_exclude).filter(wdpa_filter).filter(marine__in=('0')).order_by('wdpa_pid').values_list('wdpa_pid', flat=True)\n",
    "points_nonmarine = WdpaPoint_new.objects.exclude(wdpa_pid__in=allpid2add).exclude(wdpa_exclude).filter(wdpa_filter).filter(marine__in=('0')).order_by('wdpa_pid').values_list('wdpa_pid', flat=True)\n",
    "allpid2update_nonmarine = list(set(list(polys_nonmarine) + list(points_nonmarine)))\n",
    "\n",
    "allpid2update_nonmarine_inmpatlas = mpaset.filter(wdpa_pid__in=allpid2update_nonmarine).order_by('wdpa_pid').values_list('wdpa_pid', flat=True)\n",
    "\n",
    "allpid2update_marine012 = allpid2update + list(allpid2update_nonmarine_inmpatlas)"
   ]
  },
  {
   "cell_type": "code",
   "execution_count": 16,
   "metadata": {},
   "outputs": [
    {
     "name": "stdout",
     "output_type": "stream",
     "text": [
      "marine: 47 nonmarine: 170 all: 59\n",
      "POINTS -- marine: 0 nonmarine: 0\n",
      "POLYGONS -- marine: 47 nonmarine: 170\n",
      "MPATLAS Records -- marine: 49 nonmarine: 12\n"
     ]
    }
   ],
   "source": [
    "print('marine:', len(allpid2update), 'nonmarine:', len(allpid2update_nonmarine), 'all:', len(allpid2update_marine012))\n",
    "print('POINTS --', \n",
    "      'marine:', WdpaPoint_new.objects.filter(wdpa_pid__in=allpid2update).count(),\n",
    "      'nonmarine:', WdpaPoint_new.objects.filter(wdpa_pid__in=allpid2update_nonmarine).count()\n",
    ")\n",
    "print('POLYGONS --', \n",
    "      'marine:', WdpaPoly_new.objects.filter(wdpa_pid__in=allpid2update).count(),\n",
    "      'nonmarine:', WdpaPoly_new.objects.filter(wdpa_pid__in=allpid2update_nonmarine).count(),\n",
    ")\n",
    "print('MPATLAS Records --', \n",
    "      'marine:', mpaset.filter(wdpa_pid__in=allpid2update).count(),\n",
    "      'nonmarine:', mpaset.filter(wdpa_pid__in=allpid2update_nonmarine).count(),\n",
    ")"
   ]
  },
  {
   "cell_type": "code",
   "execution_count": 17,
   "metadata": {},
   "outputs": [
    {
     "data": {
      "text/plain": [
       "59"
      ]
     },
     "execution_count": 17,
     "metadata": {},
     "output_type": "execute_result"
    }
   ],
   "source": [
    "len(set(allpid2update_marine012))"
   ]
  },
  {
   "cell_type": "code",
   "execution_count": 118,
   "metadata": {},
   "outputs": [
    {
     "data": {
      "text/plain": [
       "True"
      ]
     },
     "execution_count": 118,
     "metadata": {},
     "output_type": "execute_result"
    }
   ],
   "source": [
    "# All marine=1,2 sites and only marine=0 that exist in MPAtlas\n",
    "updatepoints = WdpaPoint_new.objects.filter(wdpa_pid__in=allpid2update_marine012).order_by('wdpa_pid')\n",
    "merge.updateMpasFromWdpaQueryset(qs=updatepoints, poly=False, logfile=None, geologfile=updatepoint_geolog, dryrun=False)"
   ]
  },
  {
   "cell_type": "code",
   "execution_count": 21,
   "metadata": {},
   "outputs": [
    {
     "name": "stdout",
     "output_type": "stream",
     "text": [
      "3936042 3936041 288829\n",
      "288829 3936041 288829\n"
     ]
    }
   ],
   "source": [
    "# Chilean site Kawesqar has a feature geometry with about 3936041 vertices\n",
    "# It swamps the geodatabase and GeoDjango on feature save postprocessing and other tasks\n",
    "# Use this previously simplified feature instead\n",
    "kawesqar_wdpa_pid = 555643543\n",
    "kawesqar_mpa_id = 68813461\n",
    "kw = WdpaPoly_new.objects.get(wdpa_pid=kawesqar_wdpa_pid)\n",
    "kw_old = WdpaPoly_prev.objects.get(wdpa_pid=kawesqar_wdpa_pid)\n",
    "km = Mpa.objects.get(mpa_id=kawesqar_mpa_id)\n",
    "print(kw.geom.num_coords, kw_old.geom.num_coords, km.geom.num_coords)\n",
    "kw_geom = kw.geom.clone()\n",
    "kw.geom = km.geom\n",
    "kw.save()\n",
    "print(kw.geom.num_coords, kw_old.geom.num_coords, km.geom.num_coords)"
   ]
  },
  {
   "cell_type": "code",
   "execution_count": null,
   "metadata": {},
   "outputs": [
    {
     "name": "stdout",
     "output_type": "stream",
     "text": [
      "1/61 adding/updating wdpa_pid 121 with mpa_id 5837\n",
      "    PID: 121 has 7 field diffs  and GEOM diff\n",
      "    Geom areas similar (8.382199129950282e-10%), using WDPA boundaries\n",
      "    Retained old MPAtlas values for: \n",
      "2/61 adding/updating wdpa_pid 145517 with mpa_id 2894\n",
      "    PID: 145517 has 9 field diffs  and GEOM diff\n",
      "    Geom areas 2.8399486251540123% dissimilar, keeping existing MPAtlas boundaries\n",
      "    Retained old MPAtlas values for: designation designation_eng no_take marine own_type geom\n",
      "3/61 adding/updating wdpa_pid 20053 with mpa_id 9756\n",
      "    PID: 20053 has 3 field diffs  and GEOM diff\n",
      "    Geom areas similar (1.6248564063350243e-07%), using WDPA boundaries\n",
      "    Retained old MPAtlas values for: \n",
      "4/61 adding/updating wdpa_pid 30042 with mpa_id 9772\n",
      "    PID: 30042 has 3 field diffs  and GEOM diff\n",
      "    Geom areas similar (2.242461172884235e-08%), using WDPA boundaries\n",
      "    Retained old MPAtlas values for: \n",
      "5/61 adding/updating wdpa_pid 30044 with mpa_id 68808527\n",
      "    PID: 30044 has 4 field diffs  and GEOM diff\n",
      "    Geom areas similar (6.5851827432880094e-09%), using WDPA boundaries\n",
      "    Retained old MPAtlas values for: \n",
      "6/61 adding/updating wdpa_pid 317183 with mpa_id 11291\n",
      "    PID: 317183 has 4 field diffs  and GEOM diff\n",
      "    Geom areas similar (6.46489097399406e-08%), using WDPA boundaries\n",
      "    Retained old MPAtlas values for: \n",
      "7/61 adding/updating wdpa_pid 317322 with mpa_id 4858\n",
      "    PID: 317322 has 3 field diffs  and GEOM diff\n",
      "    Geom areas similar (2.2437362717464908e-10%), using WDPA boundaries\n",
      "    Retained old MPAtlas values for: \n",
      "8/61 adding/updating wdpa_pid 317329 with mpa_id 4859\n",
      "    PID: 317329 has 5 field diffs  and GEOM diff\n",
      "    Geom areas similar (1.1952518268031172e-11%), using WDPA boundaries\n",
      "    Retained old MPAtlas values for: \n",
      "9/61 adding/updating wdpa_pid 555543711 with mpa_id 14221\n",
      "    PID: 555543711 has 3 field diffs  and GEOM diff\n",
      "    Geom areas similar (4.175797479123979e-11%), using WDPA boundaries\n",
      "    Retained old MPAtlas values for: \n",
      "10/61 adding/updating wdpa_pid 555543712 with mpa_id 7709241\n",
      "    PID: 555543712 has 5 field diffs  and GEOM diff\n",
      "    Geom areas similar (0.0%), using WDPA boundaries\n",
      "    Retained old MPAtlas values for: \n",
      "11/61 adding/updating wdpa_pid 555543712 with mpa_id 9241\n",
      "    PID: 555543712 has 5 field diffs  and GEOM diff\n",
      "    Geom areas similar (6.710317522046038e-13%), using WDPA boundaries\n",
      "    Retained old MPAtlas values for: \n",
      "12/61 adding/updating wdpa_pid 555543755 with mpa_id 14222\n",
      "    PID: 555543755 has 7 field diffs  and GEOM diff\n",
      "    Geom areas similar (1.2809455503949742e-07%), using WDPA boundaries\n",
      "    Retained old MPAtlas values for: no_take marine gov_type mgmt_auth\n",
      "13/61 adding/updating wdpa_pid 555543758 with mpa_id 14223\n",
      "    PID: 555543758 has 8 field diffs  and GEOM diff\n",
      "    Geom areas similar (6.302316021682985e-08%), using WDPA boundaries\n",
      "    Retained old MPAtlas values for: no_take marine gov_type own_type mgmt_auth\n",
      "14/61 adding/updating wdpa_pid 555543761 with mpa_id 14224\n",
      "    PID: 555543761 has 9 field diffs  and GEOM diff\n",
      "    Geom areas similar (5.117039643058665e-08%), using WDPA boundaries\n",
      "    Retained old MPAtlas values for: name no_take marine gov_type own_type mgmt_auth\n",
      "15/61 adding/updating wdpa_pid 555543765 with mpa_id 14225\n",
      "    PID: 555543765 has 4 field diffs  and GEOM diff\n",
      "    Geom areas similar (2.8610730665295915e-10%), using WDPA boundaries\n",
      "    Retained old MPAtlas values for: \n",
      "16/61 adding/updating wdpa_pid 555543767 with mpa_id 68808536\n",
      "    PID: 555543767 has 3 field diffs  and GEOM diff\n",
      "    Geom areas similar (2.309161305897092e-08%), using WDPA boundaries\n",
      "    Retained old MPAtlas values for: \n",
      "17/61 adding/updating wdpa_pid 555543769 with mpa_id 14226\n",
      "    PID: 555543769 has 5 field diffs  and GEOM diff\n",
      "    Geom areas similar (1.579966877744825e-10%), using WDPA boundaries\n",
      "    Retained old MPAtlas values for: \n",
      "18/61 adding/updating wdpa_pid 555543782 with mpa_id 68808537\n",
      "    PID: 555543782 has 3 field diffs  and GEOM diff\n",
      "    Geom areas similar (2.768182718827973e-09%), using WDPA boundaries\n",
      "    Retained old MPAtlas values for: \n",
      "19/61 adding/updating wdpa_pid 555543785 with mpa_id 14227\n",
      "    PID: 555543785 has 3 field diffs  and GEOM diff\n",
      "    Geom areas similar (1.801444931408131e-10%), using WDPA boundaries\n",
      "    Retained old MPAtlas values for: \n",
      "20/61 adding/updating wdpa_pid 555543788 with mpa_id 14228\n",
      "    PID: 555543788 has 3 field diffs  and GEOM diff\n",
      "    Geom areas similar (1.3477582448171454e-11%), using WDPA boundaries\n",
      "    Retained old MPAtlas values for: \n",
      "21/61 adding/updating wdpa_pid 555543790 with mpa_id 14229\n",
      "    PID: 555543790 has 3 field diffs  and GEOM diff\n",
      "    Geom areas similar (3.188953615848578e-07%), using WDPA boundaries\n",
      "    Retained old MPAtlas values for: \n",
      "22/61 adding/updating wdpa_pid 555543794 with mpa_id 14230\n",
      "    PID: 555543794 has 8 field diffs  and GEOM diff\n",
      "    Geom areas similar (7.901728695273584e-10%), using WDPA boundaries\n",
      "    Retained old MPAtlas values for: no_take marine gov_type own_type mgmt_auth\n",
      "23/61 adding/updating wdpa_pid 555543799 with mpa_id 14231\n",
      "    PID: 555543799 has 3 field diffs  and GEOM diff\n",
      "    Geom areas similar (4.4363393416465853e-10%), using WDPA boundaries\n",
      "    Retained old MPAtlas values for: \n",
      "24/61 adding/updating wdpa_pid 555543800 with mpa_id 14232\n",
      "    PID: 555543800 has 8 field diffs  and GEOM diff\n",
      "    Geom areas similar (4.1078498861252147e-10%), using WDPA boundaries\n",
      "    Retained old MPAtlas values for: no_take marine gov_type mgmt_auth\n",
      "25/61 adding/updating wdpa_pid 555543801 with mpa_id 14233\n",
      "    PID: 555543801 has 4 field diffs  and GEOM diff\n",
      "    Geom areas similar (6.881343220222546e-10%), using WDPA boundaries\n",
      "    Retained old MPAtlas values for: \n",
      "26/61 adding/updating wdpa_pid 555543802 with mpa_id 14234\n",
      "    PID: 555543802 has 4 field diffs  and GEOM diff\n",
      "    Geom areas similar (3.469077326241482e-11%), using WDPA boundaries\n",
      "    Retained old MPAtlas values for: no_take_area\n",
      "27/61 adding/updating wdpa_pid 555543803 with mpa_id 14235\n",
      "    PID: 555543803 has 4 field diffs  and GEOM diff\n",
      "    Geom areas similar (6.331485052312676e-09%), using WDPA boundaries\n",
      "    Retained old MPAtlas values for: \n",
      "28/61 adding/updating wdpa_pid 555543804 with mpa_id 14236\n",
      "    PID: 555543804 has 6 field diffs  and GEOM diff\n",
      "    Geom areas similar (3.052181081396405e-10%), using WDPA boundaries\n",
      "    Retained old MPAtlas values for: designation no_take marine\n",
      "29/61 adding/updating wdpa_pid 555543805 with mpa_id 14237\n",
      "    PID: 555543805 has 3 field diffs  and GEOM diff\n",
      "    Geom areas similar (6.433012850137567e-11%), using WDPA boundaries\n",
      "    Retained old MPAtlas values for: \n",
      "30/61 adding/updating wdpa_pid 555543806 with mpa_id 14238\n",
      "    PID: 555543806 has 6 field diffs  and GEOM diff\n",
      "    Geom areas similar (7.866036591387218e-08%), using WDPA boundaries\n",
      "    Retained old MPAtlas values for: designation no_take marine\n",
      "31/61 adding/updating wdpa_pid 555543807 with mpa_id 14239\n",
      "    PID: 555543807 has 3 field diffs  and GEOM diff\n",
      "    Geom areas similar (3.356106693454041e-11%), using WDPA boundaries\n",
      "    Retained old MPAtlas values for: \n",
      "32/61 adding/updating wdpa_pid 555543808 with mpa_id 14240\n",
      "    PID: 555543808 has 7 field diffs  and GEOM diff\n",
      "    Geom areas similar (5.7577304936163905e-11%), using WDPA boundaries\n",
      "    Retained old MPAtlas values for: designation no_take marine\n",
      "33/61 adding/updating wdpa_pid 555543809 with mpa_id 14241\n",
      "    PID: 555543809 has 4 field diffs  and GEOM diff\n",
      "    Geom areas similar (4.403004148332887e-09%), using WDPA boundaries\n",
      "    Retained old MPAtlas values for: \n",
      "34/61 adding/updating wdpa_pid 555558305 with mpa_id 15049\n",
      "    PID: 555558305 has 5 field diffs  and GEOM diff\n",
      "    Geom areas similar (4.337184569857884e-08%), using WDPA boundaries\n",
      "    Retained old MPAtlas values for: no_take marine\n",
      "35/61 adding/updating wdpa_pid 555624168 with mpa_id 68808617\n",
      "    PID: 555624168 has 3 field diffs  and GEOM diff\n",
      "    Geom areas similar (2.7458077224682906e-09%), using WDPA boundaries\n",
      "    Retained old MPAtlas values for: \n",
      "36/61 adding/updating wdpa_pid 555624169 with mpa_id 9175\n",
      "    PID: 555624169 has 6 field diffs  and GEOM diff\n",
      "    Geom areas similar (8.953396855484147e-13%), using WDPA boundaries\n",
      "    Retained old MPAtlas values for: status_year\n",
      "37/61 adding/updating wdpa_pid 555624169 with mpa_id 68808618\n",
      "    PID: 555624169 has 8 field diffs  and GEOM diff\n"
     ]
    },
    {
     "name": "stdout",
     "output_type": "stream",
     "text": [
      "    Geom areas 2.2790504398569134% dissimilar, keeping existing MPAtlas boundaries\n",
      "    Retained old MPAtlas values for: status_year calc_area calc_m_area marine mgmt_auth geom\n",
      "38/61 adding/updating wdpa_pid 555624170 with mpa_id 68808619\n",
      "    PID: 555624170 has 4 field diffs  and GEOM diff\n",
      "    Geom areas similar (6.483034541716332e-10%), using WDPA boundaries\n",
      "    Retained old MPAtlas values for: \n",
      "39/61 adding/updating wdpa_pid 555626055 with mpa_id 68808392\n",
      "    PID: 555626055 has 7 field diffs  and GEOM diff\n",
      "    Geom areas similar (1.1492181541503056e-12%), using WDPA boundaries\n",
      "    Retained old MPAtlas values for: designation designation_eng\n",
      "40/61 adding/updating wdpa_pid 555626056 with mpa_id 68808630\n",
      "    PID: 555626056 has 5 field diffs  and GEOM diff\n",
      "    Geom areas similar (4.952334933344455e-12%), using WDPA boundaries\n",
      "    Retained old MPAtlas values for: \n",
      "41/61 adding/updating wdpa_pid 555626058 with mpa_id 68808631\n",
      "    PID: 555626058 has 3 field diffs  and GEOM diff\n",
      "    Geom areas similar (4.033691616717427e-08%), using WDPA boundaries\n",
      "    Retained old MPAtlas values for: \n",
      "42/61 adding/updating wdpa_pid 555626059 with mpa_id 68808632\n",
      "    PID: 555626059 has 3 field diffs  and GEOM diff\n",
      "    Geom areas similar (2.2983897859779592e-09%), using WDPA boundaries\n",
      "    Retained old MPAtlas values for: \n",
      "43/61 adding/updating wdpa_pid 555626061 with mpa_id 68808633\n",
      "    PID: 555626061 has 3 field diffs  and GEOM diff\n",
      "    Geom areas similar (5.467108342055058e-08%), using WDPA boundaries\n",
      "    Retained old MPAtlas values for: \n",
      "44/61 adding/updating wdpa_pid 555626063 with mpa_id 68808634\n",
      "    PID: 555626063 has 3 field diffs  and GEOM diff\n",
      "    Geom areas similar (7.600100534145067e-08%), using WDPA boundaries\n",
      "    Retained old MPAtlas values for: \n",
      "45/61 adding/updating wdpa_pid 555637336 with mpa_id 68808636\n",
      "    PID: 555637336 has 6 field diffs  and GEOM diff\n",
      "    Geom areas similar (4.008618646657529e-13%), using WDPA boundaries\n",
      "    Retained old MPAtlas values for: name\n",
      "46/61 adding/updating wdpa_pid 555637957 with mpa_id 68813457\n",
      "    PID: 555637957 has 6 field diffs  and GEOM diff\n",
      "    Geom areas similar (5.886347293903278e-12%), using WDPA boundaries\n",
      "    Retained old MPAtlas values for: \n",
      "47/61 adding/updating wdpa_pid 555637958 with mpa_id 68813458\n",
      "    PID: 555637958 has 6 field diffs  and GEOM diff\n",
      "    Geom areas similar (6.758133727345773e-11%), using WDPA boundaries\n",
      "    Retained old MPAtlas values for: \n",
      "48/61 adding/updating wdpa_pid 555643507 with mpa_id 68813459\n",
      "    PID: 555643507 has 6 field diffs  and GEOM diff\n",
      "    Geom areas similar (5.064323875464681e-13%), using WDPA boundaries\n",
      "    Retained old MPAtlas values for: \n",
      "49/61 adding/updating wdpa_pid 555643508 with mpa_id 68813460\n",
      "    PID: 555643508 has 9 field diffs  and GEOM diff\n",
      "    Geom areas similar (1.2717372672155969e-13%), using WDPA boundaries\n",
      "    Retained old MPAtlas values for: no_take_area\n",
      "50/61 adding/updating wdpa_pid 555643543 with mpa_id 68813461\n",
      "    PID: 555643543 has 6 field diffs \n"
     ]
    }
   ],
   "source": [
    "reload(merge)\n",
    "# All marine=1,2 sites and only marine=0 that exist in MPAtlas\n",
    "updatepolys = WdpaPoly_new.objects.filter(wdpa_pid__in=allpid2update_marine012).order_by('wdpa_pid')\n",
    "#updatepolys = updatepolys.exclude(wdpa_pid__in=partialrunids)\n",
    "merge.updateMpasFromWdpaQueryset(qs=updatepolys, poly=True, logfile=updatepoly_log, geologfile=None, dryrun=True)"
   ]
  },
  {
   "cell_type": "code",
   "execution_count": 31,
   "metadata": {
    "scrolled": true
   },
   "outputs": [
    {
     "name": "stdout",
     "output_type": "stream",
     "text": [
      "1/18 mpa_id 68817106 wdpa_pid 555651494 updated with _wdpa values\n",
      "2/18 mpa_id 68817107 wdpa_pid 555651495 updated with _wdpa values\n",
      "3/18 mpa_id 68815949 wdpa_pid 555547861_C updated with _wdpa values\n",
      "4/18 mpa_id 14509 wdpa_pid 555547862_A updated with _wdpa values\n",
      "5/18 mpa_id 68815950 wdpa_pid 555547862_B updated with _wdpa values\n",
      "6/18 mpa_id 68815951 wdpa_pid 555547862_C updated with _wdpa values\n",
      "7/18 mpa_id 14510 wdpa_pid 555547863_A updated with _wdpa values\n",
      "8/18 mpa_id 68815952 wdpa_pid 555547863_B updated with _wdpa values\n",
      "9/18 mpa_id 68815955 wdpa_pid 555547865_B updated with _wdpa values\n",
      "10/18 mpa_id 68815953 wdpa_pid 555547864_B updated with _wdpa values\n",
      "11/18 mpa_id 68815954 wdpa_pid 555547864_C updated with _wdpa values\n",
      "12/18 mpa_id 68817105 wdpa_pid 555651493_B updated with _wdpa values\n",
      "13/18 mpa_id 14511 wdpa_pid 555547864_A updated with _wdpa values\n",
      "14/18 mpa_id 14508 wdpa_pid 555547861_A updated with _wdpa values\n",
      "15/18 mpa_id 68815948 wdpa_pid 555547861_B updated with _wdpa values\n",
      "16/18 mpa_id 6846 wdpa_pid 145496 updated with _wdpa values\n",
      "17/18 mpa_id 14512 wdpa_pid 555547865_A updated with _wdpa values\n",
      "18/18 mpa_id 68817104 wdpa_pid 555651493_A updated with _wdpa values\n"
     ]
    }
   ],
   "source": [
    "mpids = mpaset.filter(wdpa_id__isnull=False, wdpa_pid__isnull=False)\n",
    "mpids_count = mpids.count()\n",
    "count = 0\n",
    "for m in mpids:\n",
    "    count += 1\n",
    "    try:\n",
    "        w = WdpaPoly_new.objects.filter(wdpa_pid=m.wdpa_pid)\n",
    "    except:\n",
    "        try:\n",
    "            w = WdpaPoint_new.objects.filter(wdpa_pid=m.wdpa_pid)\n",
    "        except:\n",
    "            pass\n",
    "    if w.exists():\n",
    "        w0 = w[0]\n",
    "        mq = mpaset.filter(pk=m.pk)\n",
    "        print('%s/%s mpa_id %s wdpa_pid %s updated with _wdpa values' % (count, mpids_count, m.mpa_id, w0.wdpa_pid))\n",
    "        mq.update(\n",
    "            no_take_wdpa=w0.no_take,\n",
    "            no_take_area_wdpa=w0.no_tk_area,\n",
    "        )"
   ]
  },
  {
   "cell_type": "markdown",
   "metadata": {},
   "source": [
    "mpaset.filter(wdpa_pid__isnull=False).update(\n",
    "    no_take_wdpa=F('no_take'), no_take_area_wdpa=F('no_take_area')\n",
    ")"
   ]
  },
  {
   "cell_type": "code",
   "execution_count": 32,
   "metadata": {},
   "outputs": [
    {
     "data": {
      "text/plain": [
       "2"
      ]
     },
     "execution_count": 32,
     "metadata": {},
     "output_type": "execute_result"
    }
   ],
   "source": [
    "nt = ('All', 'Part', 'None')\n",
    "ntupdate = mpaset.filter(wdpa_pid__isnull=False).filter(\n",
    "    (~Q(no_take_wdpa__in=('All')) & Q(no_take_mpatlas__in=('All')))\n",
    "    | (~Q(no_take_wdpa__in=('All', 'Part')) & Q(no_take_mpatlas__in=('All', 'Part')))\n",
    "    | (Q(no_take_wdpa__in=('Not Applicable')) & Q(no_take_mpatlas__in=('All', 'Part', 'None')))\n",
    ")\n",
    "ntupdate.update(no_take=F('no_take_mpatlas'))"
   ]
  },
  {
   "cell_type": "code",
   "execution_count": 33,
   "metadata": {},
   "outputs": [
    {
     "data": {
      "text/plain": [
       "2"
      ]
     },
     "execution_count": 33,
     "metadata": {},
     "output_type": "execute_result"
    }
   ],
   "source": [
    "ntareaupdate = mpaset.filter(wdpa_pid__isnull=False).filter(\n",
    "    Q(no_take_area_mpatlas__isnull=False) &\n",
    "    (\n",
    "        Q(no_take_area_wdpa__isnull=True)\n",
    "        | Q(no_take_area_mpatlas__gt=F('no_take_area_wdpa'))\n",
    "    )\n",
    ")\n",
    "ntareaupdate.update(no_take_area=F('no_take_area_mpatlas'))"
   ]
  },
  {
   "cell_type": "code",
   "execution_count": 34,
   "metadata": {},
   "outputs": [
    {
     "name": "stdout",
     "output_type": "stream",
     "text": [
      "14508 555547861 555547861_A Nukufetau Locally Managed Marine Area Locally Managed Marine Area Locally Managed Marine Area None All 0.0 11.0\n",
      "14510 555547863 555547863_A Nanumea Locally Managed Marine Area Locally Managed Marine Area Locally Managed Marine Area None All 0.0 2.0\n"
     ]
    }
   ],
   "source": [
    "ntchanges = ntupdate | ntareaupdate\n",
    "for n in ntchanges:\n",
    "    print(n.mpa_id, n.wdpa_id, n.wdpa_pid, n.name, n.designation, n.designation_eng, n.no_take_wdpa, n.no_take_mpatlas, n.no_take_area_wdpa, n.no_take_area_mpatlas)"
   ]
  },
  {
   "cell_type": "code",
   "execution_count": 35,
   "metadata": {},
   "outputs": [],
   "source": [
    "ntchanges = ntupdate | ntareaupdate\n",
    "\n",
    "import csv\n",
    "\n",
    "nt_log = logprefix + 'notakechange_CHL_log.csv'\n",
    "with open(nt_log, 'w', newline='') as csvfile:\n",
    "    fieldnames = ['mpa_id', 'wdpa_id', 'wdpa_pid', 'name', 'designation', 'designation_eng', 'no_take_wdpa', 'no_take_mpatlas', 'no_take_area_wdpa', 'no_take_area_mpatlas']\n",
    "    writer = csv.DictWriter(csvfile, fieldnames=fieldnames)\n",
    "\n",
    "    writer.writeheader()\n",
    "    for row in ntchanges.values(*fieldnames):\n",
    "        writer.writerow(row)"
   ]
  },
  {
   "cell_type": "code",
   "execution_count": 74,
   "metadata": {},
   "outputs": [
    {
     "ename": "IndexError",
     "evalue": "list index out of range",
     "output_type": "error",
     "traceback": [
      "\u001b[0;31m---------------------------------------------------------------------------\u001b[0m",
      "\u001b[0;31mNameError\u001b[0m                                 Traceback (most recent call last)",
      "\u001b[0;32m<ipython-input-74-45b09dc8e878>\u001b[0m in \u001b[0;36m<module>\u001b[0;34m\u001b[0m\n\u001b[1;32m      6\u001b[0m     \u001b[0;32mtry\u001b[0m\u001b[0;34m:\u001b[0m\u001b[0;34m\u001b[0m\u001b[0;34m\u001b[0m\u001b[0m\n\u001b[0;32m----> 7\u001b[0;31m         \u001b[0mw2018\u001b[0m \u001b[0;34m=\u001b[0m \u001b[0mWdpa2018Polygon\u001b[0m\u001b[0;34m.\u001b[0m\u001b[0mobjects\u001b[0m\u001b[0;34m.\u001b[0m\u001b[0mfilter\u001b[0m\u001b[0;34m(\u001b[0m\u001b[0mwdpa_pid\u001b[0m\u001b[0;34m=\u001b[0m\u001b[0mn\u001b[0m\u001b[0;34m.\u001b[0m\u001b[0mwdpa_pid\u001b[0m\u001b[0;34m)\u001b[0m\u001b[0;34m[\u001b[0m\u001b[0;36m0\u001b[0m\u001b[0;34m]\u001b[0m\u001b[0;34m\u001b[0m\u001b[0;34m\u001b[0m\u001b[0m\n\u001b[0m\u001b[1;32m      8\u001b[0m     \u001b[0;32mexcept\u001b[0m\u001b[0;34m:\u001b[0m\u001b[0;34m\u001b[0m\u001b[0;34m\u001b[0m\u001b[0m\n",
      "\u001b[0;31mNameError\u001b[0m: name 'Wdpa2018Polygon' is not defined",
      "\nDuring handling of the above exception, another exception occurred:\n",
      "\u001b[0;31mIndexError\u001b[0m                                Traceback (most recent call last)",
      "\u001b[0;32m<ipython-input-74-45b09dc8e878>\u001b[0m in \u001b[0;36m<module>\u001b[0;34m\u001b[0m\n\u001b[1;32m      9\u001b[0m         \u001b[0;32mtry\u001b[0m\u001b[0;34m:\u001b[0m\u001b[0;34m\u001b[0m\u001b[0;34m\u001b[0m\u001b[0m\n\u001b[0;32m---> 10\u001b[0;31m             \u001b[0mw2018\u001b[0m \u001b[0;34m=\u001b[0m \u001b[0mWdpa2018Point\u001b[0m\u001b[0;34m.\u001b[0m\u001b[0mobjects\u001b[0m\u001b[0;34m.\u001b[0m\u001b[0mfilter\u001b[0m\u001b[0;34m(\u001b[0m\u001b[0mwdpa_pid\u001b[0m\u001b[0;34m=\u001b[0m\u001b[0mn\u001b[0m\u001b[0;34m.\u001b[0m\u001b[0mwdpa_pid\u001b[0m\u001b[0;34m)\u001b[0m\u001b[0;34m[\u001b[0m\u001b[0;36m0\u001b[0m\u001b[0;34m]\u001b[0m\u001b[0;34m\u001b[0m\u001b[0;34m\u001b[0m\u001b[0m\n\u001b[0m\u001b[1;32m     11\u001b[0m         \u001b[0;32mexcept\u001b[0m\u001b[0;34m:\u001b[0m\u001b[0;34m\u001b[0m\u001b[0;34m\u001b[0m\u001b[0m\n",
      "\u001b[0;32m~/.virtualenvs/mpa_py3/lib/python3.7/site-packages/django/db/models/query.py\u001b[0m in \u001b[0;36m__getitem__\u001b[0;34m(self, k)\u001b[0m\n\u001b[1;32m    308\u001b[0m         \u001b[0mqs\u001b[0m\u001b[0;34m.\u001b[0m\u001b[0m_fetch_all\u001b[0m\u001b[0;34m(\u001b[0m\u001b[0;34m)\u001b[0m\u001b[0;34m\u001b[0m\u001b[0;34m\u001b[0m\u001b[0m\n\u001b[0;32m--> 309\u001b[0;31m         \u001b[0;32mreturn\u001b[0m \u001b[0mqs\u001b[0m\u001b[0;34m.\u001b[0m\u001b[0m_result_cache\u001b[0m\u001b[0;34m[\u001b[0m\u001b[0;36m0\u001b[0m\u001b[0;34m]\u001b[0m\u001b[0;34m\u001b[0m\u001b[0;34m\u001b[0m\u001b[0m\n\u001b[0m\u001b[1;32m    310\u001b[0m \u001b[0;34m\u001b[0m\u001b[0m\n",
      "\u001b[0;31mIndexError\u001b[0m: list index out of range",
      "\nDuring handling of the above exception, another exception occurred:\n",
      "\u001b[0;31mNameError\u001b[0m                                 Traceback (most recent call last)",
      "\u001b[0;32m<ipython-input-74-45b09dc8e878>\u001b[0m in \u001b[0;36m<module>\u001b[0;34m\u001b[0m\n\u001b[1;32m     12\u001b[0m             \u001b[0;32mtry\u001b[0m\u001b[0;34m:\u001b[0m\u001b[0;34m\u001b[0m\u001b[0;34m\u001b[0m\u001b[0m\n\u001b[0;32m---> 13\u001b[0;31m                 \u001b[0mw2018\u001b[0m \u001b[0;34m=\u001b[0m \u001b[0mWdpa2018Polygon\u001b[0m\u001b[0;34m.\u001b[0m\u001b[0mobjects\u001b[0m\u001b[0;34m.\u001b[0m\u001b[0mfilter\u001b[0m\u001b[0;34m(\u001b[0m\u001b[0mwdpaid\u001b[0m\u001b[0;34m=\u001b[0m\u001b[0mn\u001b[0m\u001b[0;34m.\u001b[0m\u001b[0mwdpa_id\u001b[0m\u001b[0;34m)\u001b[0m\u001b[0;34m[\u001b[0m\u001b[0;36m0\u001b[0m\u001b[0;34m]\u001b[0m\u001b[0;34m\u001b[0m\u001b[0;34m\u001b[0m\u001b[0m\n\u001b[0m\u001b[1;32m     14\u001b[0m             \u001b[0;32mexcept\u001b[0m\u001b[0;34m:\u001b[0m\u001b[0;34m\u001b[0m\u001b[0;34m\u001b[0m\u001b[0m\n",
      "\u001b[0;31mNameError\u001b[0m: name 'Wdpa2018Polygon' is not defined",
      "\nDuring handling of the above exception, another exception occurred:\n",
      "\u001b[0;31mIndexError\u001b[0m                                Traceback (most recent call last)",
      "\u001b[0;32m<ipython-input-74-45b09dc8e878>\u001b[0m in \u001b[0;36m<module>\u001b[0;34m\u001b[0m\n\u001b[1;32m     13\u001b[0m                 \u001b[0mw2018\u001b[0m \u001b[0;34m=\u001b[0m \u001b[0mWdpa2018Polygon\u001b[0m\u001b[0;34m.\u001b[0m\u001b[0mobjects\u001b[0m\u001b[0;34m.\u001b[0m\u001b[0mfilter\u001b[0m\u001b[0;34m(\u001b[0m\u001b[0mwdpaid\u001b[0m\u001b[0;34m=\u001b[0m\u001b[0mn\u001b[0m\u001b[0;34m.\u001b[0m\u001b[0mwdpa_id\u001b[0m\u001b[0;34m)\u001b[0m\u001b[0;34m[\u001b[0m\u001b[0;36m0\u001b[0m\u001b[0;34m]\u001b[0m\u001b[0;34m\u001b[0m\u001b[0;34m\u001b[0m\u001b[0m\n\u001b[1;32m     14\u001b[0m             \u001b[0;32mexcept\u001b[0m\u001b[0;34m:\u001b[0m\u001b[0;34m\u001b[0m\u001b[0;34m\u001b[0m\u001b[0m\n\u001b[0;32m---> 15\u001b[0;31m                 \u001b[0mw2018\u001b[0m \u001b[0;34m=\u001b[0m \u001b[0mWdpa2018Point\u001b[0m\u001b[0;34m.\u001b[0m\u001b[0mobjects\u001b[0m\u001b[0;34m.\u001b[0m\u001b[0mfilter\u001b[0m\u001b[0;34m(\u001b[0m\u001b[0mwdpaid\u001b[0m\u001b[0;34m=\u001b[0m\u001b[0mn\u001b[0m\u001b[0;34m.\u001b[0m\u001b[0mwdpa_id\u001b[0m\u001b[0;34m)\u001b[0m\u001b[0;34m[\u001b[0m\u001b[0;36m0\u001b[0m\u001b[0;34m]\u001b[0m\u001b[0;34m\u001b[0m\u001b[0;34m\u001b[0m\u001b[0m\n\u001b[0m\u001b[1;32m     16\u001b[0m     \u001b[0;32mif\u001b[0m \u001b[0;34m(\u001b[0m\u001b[0mn\u001b[0m\u001b[0;34m.\u001b[0m\u001b[0mno_take\u001b[0m \u001b[0;34m==\u001b[0m \u001b[0mw2018\u001b[0m\u001b[0;34m.\u001b[0m\u001b[0mno_take\u001b[0m\u001b[0;34m)\u001b[0m \u001b[0;32mor\u001b[0m \u001b[0;34m(\u001b[0m\u001b[0mn\u001b[0m\u001b[0;34m.\u001b[0m\u001b[0mno_take_area\u001b[0m \u001b[0;34m==\u001b[0m \u001b[0mw2018\u001b[0m\u001b[0;34m.\u001b[0m\u001b[0mno_tk_area\u001b[0m\u001b[0;34m)\u001b[0m\u001b[0;34m:\u001b[0m\u001b[0;34m\u001b[0m\u001b[0;34m\u001b[0m\u001b[0m\n\u001b[1;32m     17\u001b[0m         \u001b[0mprint\u001b[0m\u001b[0;34m(\u001b[0m\u001b[0mw2019\u001b[0m\u001b[0;34m.\u001b[0m\u001b[0mname\u001b[0m\u001b[0;34m,\u001b[0m \u001b[0mw2019\u001b[0m\u001b[0;34m.\u001b[0m\u001b[0mdesig\u001b[0m\u001b[0;34m,\u001b[0m \u001b[0mn\u001b[0m\u001b[0;34m.\u001b[0m\u001b[0mno_take_mpatlas\u001b[0m\u001b[0;34m,\u001b[0m \u001b[0mw2019\u001b[0m\u001b[0;34m.\u001b[0m\u001b[0mno_take\u001b[0m\u001b[0;34m,\u001b[0m \u001b[0mw2018\u001b[0m\u001b[0;34m.\u001b[0m\u001b[0mno_take\u001b[0m\u001b[0;34m,\u001b[0m \u001b[0mn\u001b[0m\u001b[0;34m.\u001b[0m\u001b[0mno_take_area_mpatlas\u001b[0m\u001b[0;34m,\u001b[0m \u001b[0mw2019\u001b[0m\u001b[0;34m.\u001b[0m\u001b[0mno_tk_area\u001b[0m\u001b[0;34m,\u001b[0m \u001b[0mw2018\u001b[0m\u001b[0;34m.\u001b[0m\u001b[0mno_tk_area\u001b[0m\u001b[0;34m)\u001b[0m\u001b[0;34m\u001b[0m\u001b[0;34m\u001b[0m\u001b[0m\n",
      "\u001b[0;32m~/.virtualenvs/mpa_py3/lib/python3.7/site-packages/django/db/models/query.py\u001b[0m in \u001b[0;36m__getitem__\u001b[0;34m(self, k)\u001b[0m\n\u001b[1;32m    307\u001b[0m         \u001b[0mqs\u001b[0m\u001b[0;34m.\u001b[0m\u001b[0mquery\u001b[0m\u001b[0;34m.\u001b[0m\u001b[0mset_limits\u001b[0m\u001b[0;34m(\u001b[0m\u001b[0mk\u001b[0m\u001b[0;34m,\u001b[0m \u001b[0mk\u001b[0m \u001b[0;34m+\u001b[0m \u001b[0;36m1\u001b[0m\u001b[0;34m)\u001b[0m\u001b[0;34m\u001b[0m\u001b[0;34m\u001b[0m\u001b[0m\n\u001b[1;32m    308\u001b[0m         \u001b[0mqs\u001b[0m\u001b[0;34m.\u001b[0m\u001b[0m_fetch_all\u001b[0m\u001b[0;34m(\u001b[0m\u001b[0;34m)\u001b[0m\u001b[0;34m\u001b[0m\u001b[0;34m\u001b[0m\u001b[0m\n\u001b[0;32m--> 309\u001b[0;31m         \u001b[0;32mreturn\u001b[0m \u001b[0mqs\u001b[0m\u001b[0;34m.\u001b[0m\u001b[0m_result_cache\u001b[0m\u001b[0;34m[\u001b[0m\u001b[0;36m0\u001b[0m\u001b[0;34m]\u001b[0m\u001b[0;34m\u001b[0m\u001b[0;34m\u001b[0m\u001b[0m\n\u001b[0m\u001b[1;32m    310\u001b[0m \u001b[0;34m\u001b[0m\u001b[0m\n\u001b[1;32m    311\u001b[0m     \u001b[0;32mdef\u001b[0m \u001b[0m__and__\u001b[0m\u001b[0;34m(\u001b[0m\u001b[0mself\u001b[0m\u001b[0;34m,\u001b[0m \u001b[0mother\u001b[0m\u001b[0;34m)\u001b[0m\u001b[0;34m:\u001b[0m\u001b[0;34m\u001b[0m\u001b[0;34m\u001b[0m\u001b[0m\n",
      "\u001b[0;31mIndexError\u001b[0m: list index out of range"
     ]
    }
   ],
   "source": [
    "for n in ntchanges:\n",
    "    try:\n",
    "        w_new = WdpaPoly_new.objects.get(wdpa_pid=n.wdpa_pid)\n",
    "    except:\n",
    "        w_new = WdpaPoint_new.objects.get(wdpa_pid=n.wdpa_pid)\n",
    "    try:\n",
    "        w_prev = WdpaPoly_prev.objects.filter(wdpa_pid=n.wdpa_pid)[0]\n",
    "    except:\n",
    "        try:\n",
    "            w_prev = WdpaPoint_prev.objects.filter(wdpa_pid=n.wdpa_pid)[0]\n",
    "        except:\n",
    "            try:\n",
    "                w_prev = WdpaPoly_prev.objects.filter(wdpaid=n.wdpa_id)[0]\n",
    "            except:\n",
    "                w_prev = WdpaPoint_prev.objects.filter(wdpaid=n.wdpa_id)[0]\n",
    "    if (n.no_take == w_prev.no_take) or (n.no_take_area == w_prev.no_tk_area):\n",
    "        print(w_new.name, w_new.desig, n.no_take_mpatlas, w_new.no_take, w_prev.no_take, n.no_take_area_mpatlas, w_new.no_tk_area, w_prev.no_tk_area)"
   ]
  },
  {
   "cell_type": "code",
   "execution_count": null,
   "metadata": {},
   "outputs": [],
   "source": []
  },
  {
   "cell_type": "code",
   "execution_count": 87,
   "metadata": {},
   "outputs": [
    {
     "data": {
      "text/plain": [
       "6"
      ]
     },
     "execution_count": 87,
     "metadata": {},
     "output_type": "execute_result"
    }
   ],
   "source": [
    "ntchanges2 = ntupdate | ntareaupdate\n",
    "ntchanges.count()"
   ]
  },
  {
   "cell_type": "code",
   "execution_count": 95,
   "metadata": {},
   "outputs": [
    {
     "data": {
      "text/plain": [
       "[188,\n",
       " 195,\n",
       " 498,\n",
       " 500,\n",
       " 504,\n",
       " 512,\n",
       " 513,\n",
       " 514,\n",
       " 515,\n",
       " 995,\n",
       " 1429,\n",
       " 1431,\n",
       " 1434,\n",
       " 1435,\n",
       " 1436,\n",
       " 1437,\n",
       " 1438,\n",
       " 1440,\n",
       " 1445,\n",
       " 1503,\n",
       " 1505,\n",
       " 1508,\n",
       " 1509,\n",
       " 1510,\n",
       " 1511,\n",
       " 1513,\n",
       " 1851,\n",
       " 1872,\n",
       " 2362,\n",
       " 2363,\n",
       " 2364,\n",
       " 2365,\n",
       " 2366,\n",
       " 2367,\n",
       " 2369,\n",
       " 2370,\n",
       " 2371,\n",
       " 2375,\n",
       " 2378,\n",
       " 2510,\n",
       " 2517,\n",
       " 2518,\n",
       " 2519,\n",
       " 2522,\n",
       " 2524,\n",
       " 3582,\n",
       " 3819,\n",
       " 3820,\n",
       " 3823,\n",
       " 3824,\n",
       " 6871,\n",
       " 6884,\n",
       " 6935,\n",
       " 6936,\n",
       " 6938,\n",
       " 6942,\n",
       " 6943,\n",
       " 6945,\n",
       " 6946,\n",
       " 6948,\n",
       " 6949,\n",
       " 6952,\n",
       " 6955,\n",
       " 6956,\n",
       " 6957,\n",
       " 7270,\n",
       " 7283,\n",
       " 7299,\n",
       " 9280,\n",
       " 9397,\n",
       " 9398,\n",
       " 9399,\n",
       " 9400,\n",
       " 9401,\n",
       " 9402,\n",
       " 9403,\n",
       " 9405,\n",
       " 9406,\n",
       " 9407,\n",
       " 9408,\n",
       " 9409,\n",
       " 9410,\n",
       " 9411,\n",
       " 9412,\n",
       " 9413,\n",
       " 9414,\n",
       " 9415,\n",
       " 9416,\n",
       " 9417,\n",
       " 9418,\n",
       " 9419,\n",
       " 9420,\n",
       " 9421,\n",
       " 9422,\n",
       " 15058,\n",
       " 15083,\n",
       " 7700994,\n",
       " 7700999,\n",
       " 7701851,\n",
       " 7702510,\n",
       " 7702516,\n",
       " 7702520,\n",
       " 7702521,\n",
       " 7703821,\n",
       " 7703822,\n",
       " 7703825,\n",
       " 7703826,\n",
       " 7705349,\n",
       " 7709259]"
      ]
     },
     "execution_count": 95,
     "metadata": {},
     "output_type": "execute_result"
    }
   ],
   "source": [
    "mpaset = mpas_all_nogeom.exclude(\n",
    "#         Q(country__icontains='USA') | Q(sovereign__icontains='USA') |\n",
    "#         Q(country__icontains='UMI') | Q(sovereign__icontains='UMI') |\n",
    "#         Q(country__icontains='VIR') | Q(sovereign__icontains='VIR') |\n",
    "#         Q(country__icontains='PRI') | Q(sovereign__icontains='PRI') |\n",
    "#         Q(country__icontains='ASM') | Q(sovereign__icontains='ASM') |\n",
    "#         Q(country__icontains='GUM') | Q(sovereign__icontains='GUM') |\n",
    "#         Q(country__icontains='MNP') | Q(sovereign__icontains='MNP')\n",
    "#     ).exclude(\n",
    "#         Q(country__icontains='MEX') | Q(country__icontains='CHL') | Q(country__icontains='IDN') | \n",
    "#         Q(country__icontains='CHN') | Q(country__icontains='JPN') | \n",
    "#         Q(sovereign__icontains='MEX') | Q(sovereign__icontains='CHL') | Q(sovereign__icontains='IDN') |\n",
    "#         Q(sovereign__icontains='CHN') | Q(sovereign__icontains='JPN')\n",
    "#     ).exclude(\n",
    "#         Q(country__icontains='FRA') | Q(sovereign__icontains='FRA') |\n",
    "#         Q(country__icontains='ATF') | Q(country__icontains='BLM') | Q(country__icontains='GLP') |\n",
    "#         Q(country__icontains='GUF') | Q(country__icontains='MAF') | Q(country__icontains='MTQ') |\n",
    "#         Q(country__icontains='MYT') | Q(country__icontains='NCL') | Q(country__icontains='PYF') |\n",
    "#         Q(country__icontains='REU') | Q(country__icontains='SHN') | Q(country__icontains='SYC')\n",
    "#     ).exclude(\n",
    "#         Q(country__icontains='AUS') | Q(sovereign__icontains='AUS') |\n",
    "#         Q(country__icontains='ZAF') | Q(sovereign__icontains='ZAF') |\n",
    "#         Q(country__icontains='CAN') | Q(sovereign__icontains='CAN')\n",
    "#     ).exclude(\n",
    "#         Q(country__icontains='GBR') | Q(sovereign__icontains='GBR') |\n",
    "#         Q(country__icontains='AIA') | Q(country__icontains='BMU') | Q(country__icontains='CYM') |\n",
    "#         Q(country__icontains='FLK') | Q(country__icontains='GIB') | Q(country__icontains='IMN') |\n",
    "#         Q(country__icontains='IOT') | Q(country__icontains='JEY') | Q(country__icontains='MSR') |\n",
    "#         Q(country__icontains='PCN') | Q(country__icontains='SGS') | Q(country__icontains='SHN') |\n",
    "#         Q(country__icontains='TCA') | Q(country__icontains='VGB')\n",
    "    ).filter(Q(country__icontains='CHL') | Q(sovereign__icontains='CHL'))\n",
    "\n",
    "from mpatlas.utils import cartompa\n",
    "cartompa.purgeCartoMpas()"
   ]
  },
  {
   "cell_type": "code",
   "execution_count": 94,
   "metadata": {
    "scrolled": false
   },
   "outputs": [
    {
     "name": "stdout",
     "output_type": "stream",
     "text": [
      "Processing 10 of 1987 mpa records at a time\n",
      "Records [0 - 9]\n",
      "Records [10 - 19]\n",
      "Records [20 - 29]\n",
      "Records [30 - 39]\n",
      "ERROR processing mpa 68807503:  'NoneType' object has no attribute 'hexewkb'\n",
      "Skipping Mpa 68807503\n",
      "Records [40 - 49]\n",
      "ERROR processing mpa 68807520:  'NoneType' object has no attribute 'hexewkb'\n",
      "Skipping Mpa 68807520\n",
      "ERROR processing mpa 68807504:  'NoneType' object has no attribute 'hexewkb'\n",
      "Skipping Mpa 68807504\n",
      "Records [50 - 59]\n",
      "Records [60 - 69]\n",
      "ERROR processing mpa 68807500:  'NoneType' object has no attribute 'hexewkb'\n",
      "Skipping Mpa 68807500\n",
      "ERROR processing mpa 68807495:  'NoneType' object has no attribute 'hexewkb'\n",
      "Skipping Mpa 68807495\n",
      "ERROR processing mpa 60009586:  'NoneType' object has no attribute 'hexewkb'\n",
      "Skipping Mpa 60009586\n",
      "ERROR processing mpa 60009547:  'NoneType' object has no attribute 'hexewkb'\n",
      "Skipping Mpa 60009547\n",
      "ERROR processing mpa 60009546:  'NoneType' object has no attribute 'hexewkb'\n",
      "Skipping Mpa 60009546\n",
      "ERROR processing mpa 60009495:  'NoneType' object has no attribute 'hexewkb'\n",
      "Skipping Mpa 60009495\n",
      "ERROR processing mpa 60009548:  'NoneType' object has no attribute 'hexewkb'\n",
      "Skipping Mpa 60009548\n",
      "ERROR processing mpa 60009537:  'NoneType' object has no attribute 'hexewkb'\n",
      "Skipping Mpa 60009537\n",
      "ERROR processing mpa 60009493:  'NoneType' object has no attribute 'hexewkb'\n",
      "Skipping Mpa 60009493\n",
      "Records [70 - 79]\n",
      "ERROR processing mpa 68807516:  'NoneType' object has no attribute 'hexewkb'\n",
      "Skipping Mpa 68807516\n",
      "ERROR processing mpa 60009544:  'NoneType' object has no attribute 'hexewkb'\n",
      "Skipping Mpa 60009544\n",
      "ERROR processing mpa 68807487:  'NoneType' object has no attribute 'hexewkb'\n",
      "Skipping Mpa 68807487\n",
      "ERROR processing mpa 68807485:  'NoneType' object has no attribute 'hexewkb'\n",
      "Skipping Mpa 68807485\n",
      "ERROR processing mpa 68807511:  'NoneType' object has no attribute 'hexewkb'\n",
      "Skipping Mpa 68807511\n",
      "ERROR processing mpa 68807512:  'NoneType' object has no attribute 'hexewkb'\n",
      "Skipping Mpa 68807512\n",
      "ERROR processing mpa 68807513:  'NoneType' object has no attribute 'hexewkb'\n",
      "Skipping Mpa 68807513\n",
      "ERROR processing mpa 68807491:  'NoneType' object has no attribute 'hexewkb'\n",
      "Skipping Mpa 68807491\n",
      "ERROR processing mpa 68807514:  'NoneType' object has no attribute 'hexewkb'\n",
      "Skipping Mpa 68807514\n",
      "ERROR processing mpa 68807518:  'NoneType' object has no attribute 'hexewkb'\n",
      "Skipping Mpa 68807518\n",
      "Carto Error for mpa_ids []: ['You must indicate a sql query']\n",
      "Trying single updates.\n",
      "Records [80 - 89]\n",
      "ERROR processing mpa 68807481:  'NoneType' object has no attribute 'hexewkb'\n",
      "Skipping Mpa 68807481\n",
      "ERROR processing mpa 68807483:  'NoneType' object has no attribute 'hexewkb'\n",
      "Skipping Mpa 68807483\n",
      "ERROR processing mpa 68807486:  'NoneType' object has no attribute 'hexewkb'\n",
      "Skipping Mpa 68807486\n",
      "ERROR processing mpa 68807488:  'NoneType' object has no attribute 'hexewkb'\n",
      "Skipping Mpa 68807488\n",
      "ERROR processing mpa 68807489:  'NoneType' object has no attribute 'hexewkb'\n",
      "Skipping Mpa 68807489\n",
      "ERROR processing mpa 68807493:  'NoneType' object has no attribute 'hexewkb'\n",
      "Skipping Mpa 68807493\n",
      "Records [90 - 99]\n",
      "ERROR processing mpa 68807496:  'NoneType' object has no attribute 'hexewkb'\n",
      "Skipping Mpa 68807496\n",
      "ERROR processing mpa 68807497:  'NoneType' object has no attribute 'hexewkb'\n",
      "Skipping Mpa 68807497\n",
      "ERROR processing mpa 68807498:  'NoneType' object has no attribute 'hexewkb'\n",
      "Skipping Mpa 68807498\n",
      "Records [100 - 109]\n",
      "ERROR processing mpa 68807510:  'NoneType' object has no attribute 'hexewkb'\n",
      "Skipping Mpa 68807510\n",
      "ERROR processing mpa 68807509:  'NoneType' object has no attribute 'hexewkb'\n",
      "Skipping Mpa 68807509\n",
      "ERROR processing mpa 68807494:  'NoneType' object has no attribute 'hexewkb'\n",
      "Skipping Mpa 68807494\n",
      "ERROR processing mpa 68807492:  'NoneType' object has no attribute 'hexewkb'\n",
      "Skipping Mpa 68807492\n",
      "ERROR processing mpa 68807484:  'NoneType' object has no attribute 'hexewkb'\n",
      "Skipping Mpa 68807484\n",
      "Records [110 - 119]\n",
      "Records [120 - 129]\n",
      "ERROR processing mpa 68807515:  'NoneType' object has no attribute 'hexewkb'\n",
      "Skipping Mpa 68807515\n",
      "ERROR processing mpa 68807517:  'NoneType' object has no attribute 'hexewkb'\n",
      "Skipping Mpa 68807517\n",
      "ERROR processing mpa 68807519:  'NoneType' object has no attribute 'hexewkb'\n",
      "Skipping Mpa 68807519\n",
      "Records [130 - 139]\n",
      "ERROR processing mpa 68807526:  'NoneType' object has no attribute 'hexewkb'\n",
      "Skipping Mpa 68807526\n",
      "ERROR processing mpa 68807490:  'NoneType' object has no attribute 'hexewkb'\n",
      "Skipping Mpa 68807490\n",
      "ERROR processing mpa 68807502:  'NoneType' object has no attribute 'hexewkb'\n",
      "Skipping Mpa 68807502\n",
      "ERROR processing mpa 68807501:  'NoneType' object has no attribute 'hexewkb'\n",
      "Skipping Mpa 68807501\n",
      "ERROR processing mpa 68807499:  'NoneType' object has no attribute 'hexewkb'\n",
      "Skipping Mpa 68807499\n",
      "ERROR processing mpa 68807482:  'NoneType' object has no attribute 'hexewkb'\n",
      "Skipping Mpa 68807482\n",
      "Records [140 - 149]\n",
      "Records [150 - 159]\n",
      "ERROR processing mpa 68808102:  'NoneType' object has no attribute 'hexewkb'\n",
      "Skipping Mpa 68808102\n",
      "ERROR processing mpa 68808099:  'NoneType' object has no attribute 'hexewkb'\n",
      "Skipping Mpa 68808099\n",
      "ERROR processing mpa 68808100:  'NoneType' object has no attribute 'hexewkb'\n",
      "Skipping Mpa 68808100\n",
      "ERROR processing mpa 68808101:  'NoneType' object has no attribute 'hexewkb'\n",
      "Skipping Mpa 68808101\n",
      "Records [160 - 169]\n",
      "ERROR processing mpa 9242:  'NoneType' object has no attribute 'hexewkb'\n",
      "Skipping Mpa 9242\n",
      "Records [170 - 179]\n",
      "Records [180 - 189]\n",
      "Records [190 - 199]\n",
      "Records [200 - 209]\n",
      "Records [210 - 219]\n",
      "Records [220 - 229]\n",
      "Records [230 - 239]\n",
      "Records [240 - 249]\n",
      "Records [250 - 259]\n",
      "Records [260 - 269]\n",
      "Records [270 - 279]\n",
      "Records [280 - 289]\n",
      "Records [290 - 299]\n",
      "Records [300 - 309]\n",
      "ERROR processing mpa 68807738:  'NoneType' object has no attribute 'hexewkb'\n",
      "Skipping Mpa 68807738\n",
      "Records [310 - 319]\n",
      "Records [320 - 329]\n",
      "Records [330 - 339]\n",
      "Records [340 - 349]\n",
      "Records [350 - 359]\n",
      "Records [360 - 369]\n",
      "ERROR processing mpa 68807735:  'NoneType' object has no attribute 'hexewkb'\n",
      "Skipping Mpa 68807735\n",
      "Records [370 - 379]\n",
      "ERROR processing mpa 68807525:  'NoneType' object has no attribute 'hexewkb'\n",
      "Skipping Mpa 68807525\n",
      "ERROR processing mpa 60009486:  'NoneType' object has no attribute 'hexewkb'\n",
      "Skipping Mpa 60009486\n",
      "Records [380 - 389]\n",
      "ERROR processing mpa 9404:  'NoneType' object has no attribute 'hexewkb'\n",
      "Skipping Mpa 9404\n",
      "ERROR processing mpa 68807737:  'NoneType' object has no attribute 'hexewkb'\n",
      "Skipping Mpa 68807737\n",
      "Records [390 - 399]\n",
      "Records [400 - 409]\n",
      "Records [410 - 419]\n",
      "Records [420 - 429]\n",
      "Records [430 - 439]\n",
      "Records [440 - 449]\n",
      "Records [450 - 459]\n",
      "Records [460 - 469]\n",
      "Records [470 - 479]\n",
      "Records [480 - 489]\n",
      "Records [490 - 499]\n",
      "Records [500 - 509]\n",
      "Records [510 - 519]\n",
      "ERROR processing mpa 7263:  'NoneType' object has no attribute 'hexewkb'\n",
      "Skipping Mpa 7263\n",
      "Records [520 - 529]\n",
      "Records [530 - 539]\n",
      "Records [540 - 549]\n",
      "Records [550 - 559]\n",
      "Records [560 - 569]\n",
      "Records [570 - 579]\n",
      "Records [580 - 589]\n",
      "Records [590 - 599]\n",
      "Records [600 - 609]\n",
      "Records [610 - 619]\n",
      "Records [620 - 629]\n",
      "Records [630 - 639]\n",
      "Records [640 - 649]\n",
      "Records [650 - 659]\n",
      "Records [660 - 669]\n",
      "Records [670 - 679]\n",
      "Records [680 - 689]\n",
      "Records [690 - 699]\n",
      "Records [700 - 709]\n",
      "Records [710 - 719]\n"
     ]
    },
    {
     "ename": "KeyboardInterrupt",
     "evalue": "",
     "output_type": "error",
     "traceback": [
      "\u001b[0;31m---------------------------------------------------------------------------\u001b[0m",
      "\u001b[0;31mTypeError\u001b[0m                                 Traceback (most recent call last)",
      "\u001b[0;32m~/virtualenvs/py3_mpatlas/lib/python3.6/site-packages/urllib3/connectionpool.py\u001b[0m in \u001b[0;36m_make_request\u001b[0;34m(self, conn, method, url, timeout, chunked, **httplib_request_kw)\u001b[0m\n\u001b[1;32m    376\u001b[0m             \u001b[0;32mtry\u001b[0m\u001b[0;34m:\u001b[0m  \u001b[0;31m# Python 2.7, use buffering of HTTP responses\u001b[0m\u001b[0;34m\u001b[0m\u001b[0m\n\u001b[0;32m--> 377\u001b[0;31m                 \u001b[0mhttplib_response\u001b[0m \u001b[0;34m=\u001b[0m \u001b[0mconn\u001b[0m\u001b[0;34m.\u001b[0m\u001b[0mgetresponse\u001b[0m\u001b[0;34m(\u001b[0m\u001b[0mbuffering\u001b[0m\u001b[0;34m=\u001b[0m\u001b[0;32mTrue\u001b[0m\u001b[0;34m)\u001b[0m\u001b[0;34m\u001b[0m\u001b[0m\n\u001b[0m\u001b[1;32m    378\u001b[0m             \u001b[0;32mexcept\u001b[0m \u001b[0mTypeError\u001b[0m\u001b[0;34m:\u001b[0m  \u001b[0;31m# Python 2.6 and older, Python 3\u001b[0m\u001b[0;34m\u001b[0m\u001b[0m\n",
      "\u001b[0;31mTypeError\u001b[0m: getresponse() got an unexpected keyword argument 'buffering'",
      "\nDuring handling of the above exception, another exception occurred:\n",
      "\u001b[0;31mKeyboardInterrupt\u001b[0m                         Traceback (most recent call last)",
      "\u001b[0;32m<ipython-input-94-a297527c4136>\u001b[0m in \u001b[0;36m<module>\u001b[0;34m()\u001b[0m\n\u001b[0;32m----> 1\u001b[0;31m \u001b[0mcartompa\u001b[0m\u001b[0;34m.\u001b[0m\u001b[0mupdateAllMpas\u001b[0m\u001b[0;34m(\u001b[0m\u001b[0mmpas\u001b[0m\u001b[0;34m=\u001b[0m\u001b[0mmpaset\u001b[0m\u001b[0;34m)\u001b[0m\u001b[0;34m\u001b[0m\u001b[0m\n\u001b[0m",
      "\u001b[0;32m~/projects/django_mpatlas/mpatlas/utils/cartompa.py\u001b[0m in \u001b[0;36mupdateAllMpas\u001b[0;34m(mpas, simple_threshold, step, limit)\u001b[0m\n\u001b[1;32m    168\u001b[0m                 \u001b[0merror_ids\u001b[0m\u001b[0;34m.\u001b[0m\u001b[0mappend\u001b[0m\u001b[0;34m(\u001b[0m\u001b[0mm\u001b[0m\u001b[0;34m.\u001b[0m\u001b[0mpk\u001b[0m\u001b[0;34m)\u001b[0m\u001b[0;34m\u001b[0m\u001b[0m\n\u001b[1;32m    169\u001b[0m                 \u001b[0mprint\u001b[0m\u001b[0;34m(\u001b[0m\u001b[0;34m'Skipping Mpa'\u001b[0m\u001b[0;34m,\u001b[0m \u001b[0mm\u001b[0m\u001b[0;34m.\u001b[0m\u001b[0mpk\u001b[0m\u001b[0;34m)\u001b[0m\u001b[0;34m\u001b[0m\u001b[0m\n\u001b[0;32m--> 170\u001b[0;31m         \u001b[0;31m# Now update this batch of records in Carto\u001b[0m\u001b[0;34m\u001b[0m\u001b[0;34m\u001b[0m\u001b[0m\n\u001b[0m\u001b[1;32m    171\u001b[0m         \u001b[0;32mtry\u001b[0m\u001b[0;34m:\u001b[0m\u001b[0;34m\u001b[0m\u001b[0m\n\u001b[1;32m    172\u001b[0m             \u001b[0msql\u001b[0m\u001b[0;34m.\u001b[0m\u001b[0msend\u001b[0m\u001b[0;34m(\u001b[0m\u001b[0mupsert\u001b[0m\u001b[0;34m)\u001b[0m\u001b[0;34m\u001b[0m\u001b[0m\n",
      "\u001b[0;32m~/virtualenvs/py3_mpatlas/lib/python3.6/site-packages/carto/sql.py\u001b[0m in \u001b[0;36msend\u001b[0;34m(self, sql, parse_json, do_post, format, **request_args)\u001b[0m\n\u001b[1;32m     97\u001b[0m                                              params=params)\n\u001b[1;32m     98\u001b[0m             \u001b[0;32melse\u001b[0m\u001b[0;34m:\u001b[0m\u001b[0;34m\u001b[0m\u001b[0m\n\u001b[0;32m---> 99\u001b[0;31m                 \u001b[0mresp\u001b[0m \u001b[0;34m=\u001b[0m \u001b[0mself\u001b[0m\u001b[0;34m.\u001b[0m\u001b[0mauth_client\u001b[0m\u001b[0;34m.\u001b[0m\u001b[0msend\u001b[0m\u001b[0;34m(\u001b[0m\u001b[0mself\u001b[0m\u001b[0;34m.\u001b[0m\u001b[0mapi_url\u001b[0m\u001b[0;34m,\u001b[0m \u001b[0;34m'POST'\u001b[0m\u001b[0;34m,\u001b[0m \u001b[0mdata\u001b[0m\u001b[0;34m=\u001b[0m\u001b[0mparams\u001b[0m\u001b[0;34m)\u001b[0m\u001b[0;34m\u001b[0m\u001b[0m\n\u001b[0m\u001b[1;32m    100\u001b[0m \u001b[0;34m\u001b[0m\u001b[0m\n\u001b[1;32m    101\u001b[0m             \u001b[0;32mreturn\u001b[0m \u001b[0mself\u001b[0m\u001b[0;34m.\u001b[0m\u001b[0mauth_client\u001b[0m\u001b[0;34m.\u001b[0m\u001b[0mget_response_data\u001b[0m\u001b[0;34m(\u001b[0m\u001b[0mresp\u001b[0m\u001b[0;34m,\u001b[0m \u001b[0mparse_json\u001b[0m\u001b[0;34m)\u001b[0m\u001b[0;34m\u001b[0m\u001b[0m\n",
      "\u001b[0;32m~/virtualenvs/py3_mpatlas/lib/python3.6/site-packages/carto/auth.py\u001b[0m in \u001b[0;36msend\u001b[0;34m(self, relative_path, http_method, **requests_args)\u001b[0m\n\u001b[1;32m    134\u001b[0m             return super(APIKeyAuthClient, self).send(relative_path,\n\u001b[1;32m    135\u001b[0m                                                       \u001b[0mhttp_method\u001b[0m\u001b[0;34m,\u001b[0m\u001b[0;34m\u001b[0m\u001b[0m\n\u001b[0;32m--> 136\u001b[0;31m                                                       **requests_args)\n\u001b[0m\u001b[1;32m    137\u001b[0m         \u001b[0;32mexcept\u001b[0m \u001b[0mException\u001b[0m \u001b[0;32mas\u001b[0m \u001b[0me\u001b[0m\u001b[0;34m:\u001b[0m\u001b[0;34m\u001b[0m\u001b[0m\n\u001b[1;32m    138\u001b[0m             \u001b[0;32mraise\u001b[0m \u001b[0mCartoException\u001b[0m\u001b[0;34m(\u001b[0m\u001b[0me\u001b[0m\u001b[0;34m)\u001b[0m\u001b[0;34m\u001b[0m\u001b[0m\n",
      "\u001b[0;32m~/virtualenvs/py3_mpatlas/lib/python3.6/site-packages/pyrestcli/auth.py\u001b[0m in \u001b[0;36msend\u001b[0;34m(self, relative_path, http_method, **requests_args)\u001b[0m\n\u001b[1;32m     34\u001b[0m         \u001b[0murl\u001b[0m \u001b[0;34m=\u001b[0m \u001b[0murljoin\u001b[0m\u001b[0;34m(\u001b[0m\u001b[0mself\u001b[0m\u001b[0;34m.\u001b[0m\u001b[0mbase_url\u001b[0m\u001b[0;34m,\u001b[0m \u001b[0mrelative_path\u001b[0m\u001b[0;34m)\u001b[0m\u001b[0;34m\u001b[0m\u001b[0m\n\u001b[1;32m     35\u001b[0m \u001b[0;34m\u001b[0m\u001b[0m\n\u001b[0;32m---> 36\u001b[0;31m         \u001b[0;32mreturn\u001b[0m \u001b[0mself\u001b[0m\u001b[0;34m.\u001b[0m\u001b[0msession\u001b[0m\u001b[0;34m.\u001b[0m\u001b[0mrequest\u001b[0m\u001b[0;34m(\u001b[0m\u001b[0mhttp_method\u001b[0m\u001b[0;34m,\u001b[0m \u001b[0murl\u001b[0m\u001b[0;34m,\u001b[0m \u001b[0;34m**\u001b[0m\u001b[0mrequests_args\u001b[0m\u001b[0;34m)\u001b[0m\u001b[0;34m\u001b[0m\u001b[0m\n\u001b[0m\u001b[1;32m     37\u001b[0m \u001b[0;34m\u001b[0m\u001b[0m\n\u001b[1;32m     38\u001b[0m     \u001b[0;32mdef\u001b[0m \u001b[0mget_response_data\u001b[0m\u001b[0;34m(\u001b[0m\u001b[0mself\u001b[0m\u001b[0;34m,\u001b[0m \u001b[0mresponse\u001b[0m\u001b[0;34m,\u001b[0m \u001b[0mparse_json\u001b[0m\u001b[0;34m=\u001b[0m\u001b[0;32mTrue\u001b[0m\u001b[0;34m)\u001b[0m\u001b[0;34m:\u001b[0m\u001b[0;34m\u001b[0m\u001b[0m\n",
      "\u001b[0;32m~/virtualenvs/py3_mpatlas/lib/python3.6/site-packages/requests/sessions.py\u001b[0m in \u001b[0;36mrequest\u001b[0;34m(self, method, url, params, data, headers, cookies, files, auth, timeout, allow_redirects, proxies, hooks, stream, verify, cert, json)\u001b[0m\n\u001b[1;32m    510\u001b[0m         }\n\u001b[1;32m    511\u001b[0m         \u001b[0msend_kwargs\u001b[0m\u001b[0;34m.\u001b[0m\u001b[0mupdate\u001b[0m\u001b[0;34m(\u001b[0m\u001b[0msettings\u001b[0m\u001b[0;34m)\u001b[0m\u001b[0;34m\u001b[0m\u001b[0m\n\u001b[0;32m--> 512\u001b[0;31m         \u001b[0mresp\u001b[0m \u001b[0;34m=\u001b[0m \u001b[0mself\u001b[0m\u001b[0;34m.\u001b[0m\u001b[0msend\u001b[0m\u001b[0;34m(\u001b[0m\u001b[0mprep\u001b[0m\u001b[0;34m,\u001b[0m \u001b[0;34m**\u001b[0m\u001b[0msend_kwargs\u001b[0m\u001b[0;34m)\u001b[0m\u001b[0;34m\u001b[0m\u001b[0m\n\u001b[0m\u001b[1;32m    513\u001b[0m \u001b[0;34m\u001b[0m\u001b[0m\n\u001b[1;32m    514\u001b[0m         \u001b[0;32mreturn\u001b[0m \u001b[0mresp\u001b[0m\u001b[0;34m\u001b[0m\u001b[0m\n",
      "\u001b[0;32m~/virtualenvs/py3_mpatlas/lib/python3.6/site-packages/requests/sessions.py\u001b[0m in \u001b[0;36msend\u001b[0;34m(self, request, **kwargs)\u001b[0m\n\u001b[1;32m    620\u001b[0m \u001b[0;34m\u001b[0m\u001b[0m\n\u001b[1;32m    621\u001b[0m         \u001b[0;31m# Send the request\u001b[0m\u001b[0;34m\u001b[0m\u001b[0;34m\u001b[0m\u001b[0m\n\u001b[0;32m--> 622\u001b[0;31m         \u001b[0mr\u001b[0m \u001b[0;34m=\u001b[0m \u001b[0madapter\u001b[0m\u001b[0;34m.\u001b[0m\u001b[0msend\u001b[0m\u001b[0;34m(\u001b[0m\u001b[0mrequest\u001b[0m\u001b[0;34m,\u001b[0m \u001b[0;34m**\u001b[0m\u001b[0mkwargs\u001b[0m\u001b[0;34m)\u001b[0m\u001b[0;34m\u001b[0m\u001b[0m\n\u001b[0m\u001b[1;32m    623\u001b[0m \u001b[0;34m\u001b[0m\u001b[0m\n\u001b[1;32m    624\u001b[0m         \u001b[0;31m# Total elapsed time of the request (approximately)\u001b[0m\u001b[0;34m\u001b[0m\u001b[0;34m\u001b[0m\u001b[0m\n",
      "\u001b[0;32m~/virtualenvs/py3_mpatlas/lib/python3.6/site-packages/requests/adapters.py\u001b[0m in \u001b[0;36msend\u001b[0;34m(self, request, stream, timeout, verify, cert, proxies)\u001b[0m\n\u001b[1;32m    443\u001b[0m                     \u001b[0mdecode_content\u001b[0m\u001b[0;34m=\u001b[0m\u001b[0;32mFalse\u001b[0m\u001b[0;34m,\u001b[0m\u001b[0;34m\u001b[0m\u001b[0m\n\u001b[1;32m    444\u001b[0m                     \u001b[0mretries\u001b[0m\u001b[0;34m=\u001b[0m\u001b[0mself\u001b[0m\u001b[0;34m.\u001b[0m\u001b[0mmax_retries\u001b[0m\u001b[0;34m,\u001b[0m\u001b[0;34m\u001b[0m\u001b[0m\n\u001b[0;32m--> 445\u001b[0;31m                     \u001b[0mtimeout\u001b[0m\u001b[0;34m=\u001b[0m\u001b[0mtimeout\u001b[0m\u001b[0;34m\u001b[0m\u001b[0m\n\u001b[0m\u001b[1;32m    446\u001b[0m                 )\n\u001b[1;32m    447\u001b[0m \u001b[0;34m\u001b[0m\u001b[0m\n",
      "\u001b[0;32m~/virtualenvs/py3_mpatlas/lib/python3.6/site-packages/urllib3/connectionpool.py\u001b[0m in \u001b[0;36murlopen\u001b[0;34m(self, method, url, body, headers, retries, redirect, assert_same_host, timeout, pool_timeout, release_conn, chunked, body_pos, **response_kw)\u001b[0m\n\u001b[1;32m    598\u001b[0m                                                   \u001b[0mtimeout\u001b[0m\u001b[0;34m=\u001b[0m\u001b[0mtimeout_obj\u001b[0m\u001b[0;34m,\u001b[0m\u001b[0;34m\u001b[0m\u001b[0m\n\u001b[1;32m    599\u001b[0m                                                   \u001b[0mbody\u001b[0m\u001b[0;34m=\u001b[0m\u001b[0mbody\u001b[0m\u001b[0;34m,\u001b[0m \u001b[0mheaders\u001b[0m\u001b[0;34m=\u001b[0m\u001b[0mheaders\u001b[0m\u001b[0;34m,\u001b[0m\u001b[0;34m\u001b[0m\u001b[0m\n\u001b[0;32m--> 600\u001b[0;31m                                                   chunked=chunked)\n\u001b[0m\u001b[1;32m    601\u001b[0m \u001b[0;34m\u001b[0m\u001b[0m\n\u001b[1;32m    602\u001b[0m             \u001b[0;31m# If we're going to release the connection in ``finally:``, then\u001b[0m\u001b[0;34m\u001b[0m\u001b[0;34m\u001b[0m\u001b[0m\n",
      "\u001b[0;32m~/virtualenvs/py3_mpatlas/lib/python3.6/site-packages/urllib3/connectionpool.py\u001b[0m in \u001b[0;36m_make_request\u001b[0;34m(self, conn, method, url, timeout, chunked, **httplib_request_kw)\u001b[0m\n\u001b[1;32m    378\u001b[0m             \u001b[0;32mexcept\u001b[0m \u001b[0mTypeError\u001b[0m\u001b[0;34m:\u001b[0m  \u001b[0;31m# Python 2.6 and older, Python 3\u001b[0m\u001b[0;34m\u001b[0m\u001b[0m\n\u001b[1;32m    379\u001b[0m                 \u001b[0;32mtry\u001b[0m\u001b[0;34m:\u001b[0m\u001b[0;34m\u001b[0m\u001b[0m\n\u001b[0;32m--> 380\u001b[0;31m                     \u001b[0mhttplib_response\u001b[0m \u001b[0;34m=\u001b[0m \u001b[0mconn\u001b[0m\u001b[0;34m.\u001b[0m\u001b[0mgetresponse\u001b[0m\u001b[0;34m(\u001b[0m\u001b[0;34m)\u001b[0m\u001b[0;34m\u001b[0m\u001b[0m\n\u001b[0m\u001b[1;32m    381\u001b[0m                 \u001b[0;32mexcept\u001b[0m \u001b[0mException\u001b[0m \u001b[0;32mas\u001b[0m \u001b[0me\u001b[0m\u001b[0;34m:\u001b[0m\u001b[0;34m\u001b[0m\u001b[0m\n\u001b[1;32m    382\u001b[0m                     \u001b[0;31m# Remove the TypeError from the exception chain in Python 3;\u001b[0m\u001b[0;34m\u001b[0m\u001b[0;34m\u001b[0m\u001b[0m\n",
      "\u001b[0;32m/usr/lib/python3.6/http/client.py\u001b[0m in \u001b[0;36mgetresponse\u001b[0;34m(self)\u001b[0m\n\u001b[1;32m   1329\u001b[0m         \u001b[0;32mtry\u001b[0m\u001b[0;34m:\u001b[0m\u001b[0;34m\u001b[0m\u001b[0m\n\u001b[1;32m   1330\u001b[0m             \u001b[0;32mtry\u001b[0m\u001b[0;34m:\u001b[0m\u001b[0;34m\u001b[0m\u001b[0m\n\u001b[0;32m-> 1331\u001b[0;31m                 \u001b[0mresponse\u001b[0m\u001b[0;34m.\u001b[0m\u001b[0mbegin\u001b[0m\u001b[0;34m(\u001b[0m\u001b[0;34m)\u001b[0m\u001b[0;34m\u001b[0m\u001b[0m\n\u001b[0m\u001b[1;32m   1332\u001b[0m             \u001b[0;32mexcept\u001b[0m \u001b[0mConnectionError\u001b[0m\u001b[0;34m:\u001b[0m\u001b[0;34m\u001b[0m\u001b[0m\n\u001b[1;32m   1333\u001b[0m                 \u001b[0mself\u001b[0m\u001b[0;34m.\u001b[0m\u001b[0mclose\u001b[0m\u001b[0;34m(\u001b[0m\u001b[0;34m)\u001b[0m\u001b[0;34m\u001b[0m\u001b[0m\n",
      "\u001b[0;32m/usr/lib/python3.6/http/client.py\u001b[0m in \u001b[0;36mbegin\u001b[0;34m(self)\u001b[0m\n\u001b[1;32m    295\u001b[0m         \u001b[0;31m# read until we get a non-100 response\u001b[0m\u001b[0;34m\u001b[0m\u001b[0;34m\u001b[0m\u001b[0m\n\u001b[1;32m    296\u001b[0m         \u001b[0;32mwhile\u001b[0m \u001b[0;32mTrue\u001b[0m\u001b[0;34m:\u001b[0m\u001b[0;34m\u001b[0m\u001b[0m\n\u001b[0;32m--> 297\u001b[0;31m             \u001b[0mversion\u001b[0m\u001b[0;34m,\u001b[0m \u001b[0mstatus\u001b[0m\u001b[0;34m,\u001b[0m \u001b[0mreason\u001b[0m \u001b[0;34m=\u001b[0m \u001b[0mself\u001b[0m\u001b[0;34m.\u001b[0m\u001b[0m_read_status\u001b[0m\u001b[0;34m(\u001b[0m\u001b[0;34m)\u001b[0m\u001b[0;34m\u001b[0m\u001b[0m\n\u001b[0m\u001b[1;32m    298\u001b[0m             \u001b[0;32mif\u001b[0m \u001b[0mstatus\u001b[0m \u001b[0;34m!=\u001b[0m \u001b[0mCONTINUE\u001b[0m\u001b[0;34m:\u001b[0m\u001b[0;34m\u001b[0m\u001b[0m\n\u001b[1;32m    299\u001b[0m                 \u001b[0;32mbreak\u001b[0m\u001b[0;34m\u001b[0m\u001b[0m\n",
      "\u001b[0;32m/usr/lib/python3.6/http/client.py\u001b[0m in \u001b[0;36m_read_status\u001b[0;34m(self)\u001b[0m\n\u001b[1;32m    256\u001b[0m \u001b[0;34m\u001b[0m\u001b[0m\n\u001b[1;32m    257\u001b[0m     \u001b[0;32mdef\u001b[0m \u001b[0m_read_status\u001b[0m\u001b[0;34m(\u001b[0m\u001b[0mself\u001b[0m\u001b[0;34m)\u001b[0m\u001b[0;34m:\u001b[0m\u001b[0;34m\u001b[0m\u001b[0m\n\u001b[0;32m--> 258\u001b[0;31m         \u001b[0mline\u001b[0m \u001b[0;34m=\u001b[0m \u001b[0mstr\u001b[0m\u001b[0;34m(\u001b[0m\u001b[0mself\u001b[0m\u001b[0;34m.\u001b[0m\u001b[0mfp\u001b[0m\u001b[0;34m.\u001b[0m\u001b[0mreadline\u001b[0m\u001b[0;34m(\u001b[0m\u001b[0m_MAXLINE\u001b[0m \u001b[0;34m+\u001b[0m \u001b[0;36m1\u001b[0m\u001b[0;34m)\u001b[0m\u001b[0;34m,\u001b[0m \u001b[0;34m\"iso-8859-1\"\u001b[0m\u001b[0;34m)\u001b[0m\u001b[0;34m\u001b[0m\u001b[0m\n\u001b[0m\u001b[1;32m    259\u001b[0m         \u001b[0;32mif\u001b[0m \u001b[0mlen\u001b[0m\u001b[0;34m(\u001b[0m\u001b[0mline\u001b[0m\u001b[0;34m)\u001b[0m \u001b[0;34m>\u001b[0m \u001b[0m_MAXLINE\u001b[0m\u001b[0;34m:\u001b[0m\u001b[0;34m\u001b[0m\u001b[0m\n\u001b[1;32m    260\u001b[0m             \u001b[0;32mraise\u001b[0m \u001b[0mLineTooLong\u001b[0m\u001b[0;34m(\u001b[0m\u001b[0;34m\"status line\"\u001b[0m\u001b[0;34m)\u001b[0m\u001b[0;34m\u001b[0m\u001b[0m\n",
      "\u001b[0;32m/usr/lib/python3.6/socket.py\u001b[0m in \u001b[0;36mreadinto\u001b[0;34m(self, b)\u001b[0m\n\u001b[1;32m    584\u001b[0m         \u001b[0;32mwhile\u001b[0m \u001b[0;32mTrue\u001b[0m\u001b[0;34m:\u001b[0m\u001b[0;34m\u001b[0m\u001b[0m\n\u001b[1;32m    585\u001b[0m             \u001b[0;32mtry\u001b[0m\u001b[0;34m:\u001b[0m\u001b[0;34m\u001b[0m\u001b[0m\n\u001b[0;32m--> 586\u001b[0;31m                 \u001b[0;32mreturn\u001b[0m \u001b[0mself\u001b[0m\u001b[0;34m.\u001b[0m\u001b[0m_sock\u001b[0m\u001b[0;34m.\u001b[0m\u001b[0mrecv_into\u001b[0m\u001b[0;34m(\u001b[0m\u001b[0mb\u001b[0m\u001b[0;34m)\u001b[0m\u001b[0;34m\u001b[0m\u001b[0m\n\u001b[0m\u001b[1;32m    587\u001b[0m             \u001b[0;32mexcept\u001b[0m \u001b[0mtimeout\u001b[0m\u001b[0;34m:\u001b[0m\u001b[0;34m\u001b[0m\u001b[0m\n\u001b[1;32m    588\u001b[0m                 \u001b[0mself\u001b[0m\u001b[0;34m.\u001b[0m\u001b[0m_timeout_occurred\u001b[0m \u001b[0;34m=\u001b[0m \u001b[0;32mTrue\u001b[0m\u001b[0;34m\u001b[0m\u001b[0m\n",
      "\u001b[0;32m~/virtualenvs/py3_mpatlas/lib/python3.6/site-packages/urllib3/contrib/pyopenssl.py\u001b[0m in \u001b[0;36mrecv_into\u001b[0;34m(self, *args, **kwargs)\u001b[0m\n\u001b[1;32m    283\u001b[0m     \u001b[0;32mdef\u001b[0m \u001b[0mrecv_into\u001b[0m\u001b[0;34m(\u001b[0m\u001b[0mself\u001b[0m\u001b[0;34m,\u001b[0m \u001b[0;34m*\u001b[0m\u001b[0margs\u001b[0m\u001b[0;34m,\u001b[0m \u001b[0;34m**\u001b[0m\u001b[0mkwargs\u001b[0m\u001b[0;34m)\u001b[0m\u001b[0;34m:\u001b[0m\u001b[0;34m\u001b[0m\u001b[0m\n\u001b[1;32m    284\u001b[0m         \u001b[0;32mtry\u001b[0m\u001b[0;34m:\u001b[0m\u001b[0;34m\u001b[0m\u001b[0m\n\u001b[0;32m--> 285\u001b[0;31m             \u001b[0;32mreturn\u001b[0m \u001b[0mself\u001b[0m\u001b[0;34m.\u001b[0m\u001b[0mconnection\u001b[0m\u001b[0;34m.\u001b[0m\u001b[0mrecv_into\u001b[0m\u001b[0;34m(\u001b[0m\u001b[0;34m*\u001b[0m\u001b[0margs\u001b[0m\u001b[0;34m,\u001b[0m \u001b[0;34m**\u001b[0m\u001b[0mkwargs\u001b[0m\u001b[0;34m)\u001b[0m\u001b[0;34m\u001b[0m\u001b[0m\n\u001b[0m\u001b[1;32m    286\u001b[0m         \u001b[0;32mexcept\u001b[0m \u001b[0mOpenSSL\u001b[0m\u001b[0;34m.\u001b[0m\u001b[0mSSL\u001b[0m\u001b[0;34m.\u001b[0m\u001b[0mSysCallError\u001b[0m \u001b[0;32mas\u001b[0m \u001b[0me\u001b[0m\u001b[0;34m:\u001b[0m\u001b[0;34m\u001b[0m\u001b[0m\n\u001b[1;32m    287\u001b[0m             \u001b[0;32mif\u001b[0m \u001b[0mself\u001b[0m\u001b[0;34m.\u001b[0m\u001b[0msuppress_ragged_eofs\u001b[0m \u001b[0;32mand\u001b[0m \u001b[0me\u001b[0m\u001b[0;34m.\u001b[0m\u001b[0margs\u001b[0m \u001b[0;34m==\u001b[0m \u001b[0;34m(\u001b[0m\u001b[0;34m-\u001b[0m\u001b[0;36m1\u001b[0m\u001b[0;34m,\u001b[0m \u001b[0;34m'Unexpected EOF'\u001b[0m\u001b[0;34m)\u001b[0m\u001b[0;34m:\u001b[0m\u001b[0;34m\u001b[0m\u001b[0m\n",
      "\u001b[0;32m~/virtualenvs/py3_mpatlas/lib/python3.6/site-packages/OpenSSL/SSL.py\u001b[0m in \u001b[0;36mrecv_into\u001b[0;34m(self, buffer, nbytes, flags)\u001b[0m\n\u001b[1;32m   1811\u001b[0m             \u001b[0mresult\u001b[0m \u001b[0;34m=\u001b[0m \u001b[0m_lib\u001b[0m\u001b[0;34m.\u001b[0m\u001b[0mSSL_peek\u001b[0m\u001b[0;34m(\u001b[0m\u001b[0mself\u001b[0m\u001b[0;34m.\u001b[0m\u001b[0m_ssl\u001b[0m\u001b[0;34m,\u001b[0m \u001b[0mbuf\u001b[0m\u001b[0;34m,\u001b[0m \u001b[0mnbytes\u001b[0m\u001b[0;34m)\u001b[0m\u001b[0;34m\u001b[0m\u001b[0m\n\u001b[1;32m   1812\u001b[0m         \u001b[0;32melse\u001b[0m\u001b[0;34m:\u001b[0m\u001b[0;34m\u001b[0m\u001b[0m\n\u001b[0;32m-> 1813\u001b[0;31m             \u001b[0mresult\u001b[0m \u001b[0;34m=\u001b[0m \u001b[0m_lib\u001b[0m\u001b[0;34m.\u001b[0m\u001b[0mSSL_read\u001b[0m\u001b[0;34m(\u001b[0m\u001b[0mself\u001b[0m\u001b[0;34m.\u001b[0m\u001b[0m_ssl\u001b[0m\u001b[0;34m,\u001b[0m \u001b[0mbuf\u001b[0m\u001b[0;34m,\u001b[0m \u001b[0mnbytes\u001b[0m\u001b[0;34m)\u001b[0m\u001b[0;34m\u001b[0m\u001b[0m\n\u001b[0m\u001b[1;32m   1814\u001b[0m         \u001b[0mself\u001b[0m\u001b[0;34m.\u001b[0m\u001b[0m_raise_ssl_error\u001b[0m\u001b[0;34m(\u001b[0m\u001b[0mself\u001b[0m\u001b[0;34m.\u001b[0m\u001b[0m_ssl\u001b[0m\u001b[0;34m,\u001b[0m \u001b[0mresult\u001b[0m\u001b[0;34m)\u001b[0m\u001b[0;34m\u001b[0m\u001b[0m\n\u001b[1;32m   1815\u001b[0m \u001b[0;34m\u001b[0m\u001b[0m\n",
      "\u001b[0;31mKeyboardInterrupt\u001b[0m: "
     ]
    }
   ],
   "source": [
    "cartompa.updateAllMpas(mpas=mpaset)"
   ]
  },
  {
   "cell_type": "code",
   "execution_count": null,
   "metadata": {},
   "outputs": [],
   "source": []
  },
  {
   "cell_type": "code",
   "execution_count": null,
   "metadata": {},
   "outputs": [],
   "source": []
  }
 ],
 "metadata": {
  "kernelspec": {
   "display_name": "Django Shell-Plus",
   "language": "python",
   "name": "django_extensions"
  },
  "language_info": {
   "codemirror_mode": {
    "name": "ipython",
    "version": 3
   },
   "file_extension": ".py",
   "mimetype": "text/x-python",
   "name": "python",
   "nbconvert_exporter": "python",
   "pygments_lexer": "ipython3",
   "version": "3.7.5"
  }
 },
 "nbformat": 4,
 "nbformat_minor": 2
}
