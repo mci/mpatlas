{
 "cells": [
  {
   "cell_type": "code",
   "execution_count": 1,
   "metadata": {},
   "outputs": [
    {
     "name": "stdout",
     "output_type": "stream",
     "text": [
      "['/Users/russmo/Code/mpatlas-dj2/mpatlas', '/Users/russmo/Code/mpatlas-dj2/mpatlas/notebooks', '/usr/local/Cellar/python/3.7.5/Frameworks/Python.framework/Versions/3.7/lib/python37.zip', '/usr/local/Cellar/python/3.7.5/Frameworks/Python.framework/Versions/3.7/lib/python3.7', '/usr/local/Cellar/python/3.7.5/Frameworks/Python.framework/Versions/3.7/lib/python3.7/lib-dynload', '', '/Users/russmo/.venvs/mpa/lib/python3.7/site-packages', '/Users/russmo/.venvs/mpa/lib/python3.7/site-packages/IPython/extensions', '/Users/russmo/.ipython']\n"
     ]
    }
   ],
   "source": [
    "import os, sys\n",
    "# project_path = '../'\n",
    "PWD = os.getenv('PWD')\n",
    "# os.chdir(project_path)\n",
    "sys.path.insert(0, PWD)\n",
    "# sys.path.insert(0, project_path)\n",
    "print(sys.path)\n",
    "# os.environ.setdefault(\"DJANGO_SETTINGS_MODULE\", \"settings.py\")\n",
    "import django\n",
    "django.setup()"
   ]
  },
  {
   "cell_type": "code",
   "execution_count": 11,
   "metadata": {},
   "outputs": [],
   "source": [
    "from mpa.models import Mpa, mpa_post_save\n",
    "from wdpa.models import WdpaPoly_new\n",
    "from django.db.models.signals import post_save, post_delete\n",
    "from mpa.views import mpas_all_nogeom\n",
    "import reversion\n",
    "from reversion.models import Revision\n",
    "from reversion.models import Version\n",
    "import datetime\n",
    "from django.db.models import Q, F, Func, Value, Count\n",
    "from django.db.models.functions import Concat\n",
    "\n",
    "from importlib import reload"
   ]
  },
  {
   "cell_type": "code",
   "execution_count": 3,
   "metadata": {},
   "outputs": [
    {
     "data": {
      "text/plain": [
       "20840"
      ]
     },
     "execution_count": 3,
     "metadata": {},
     "output_type": "execute_result"
    }
   ],
   "source": [
    "# Update mpatlas field values before data import\n",
    "# mpas = mpas_all_nogeom.exclude(\n",
    "#         Q(country__icontains='MEX') | Q(country__icontains='CHL') | Q(country__icontains='IDN') | \n",
    "#         Q(country__icontains='CHN') | Q(country__icontains='JPN') | \n",
    "#         Q(sovereign__icontains='MEX') | Q(sovereign__icontains='CHL') | Q(sovereign__icontains='IDN') |\n",
    "#         Q(sovereign__icontains='CHN') | Q(sovereign__icontains='JPN')\n",
    "#     ).filter(wdpa_id__isnull=False)\n",
    "mpas = mpas_all_nogeom.filter(\n",
    "#     Q(country__icontains='CHL') | Q(sovereign__icontains='CHL')\n",
    ").filter(wdpa_id__isnull=False)\n",
    "mpas.count()"
   ]
  },
  {
   "cell_type": "code",
   "execution_count": 11,
   "metadata": {},
   "outputs": [
    {
     "data": {
      "text/plain": [
       "20840"
      ]
     },
     "execution_count": 11,
     "metadata": {},
     "output_type": "execute_result"
    }
   ],
   "source": [
    "mpas.update(\n",
    "    no_take_mpatlas=F('no_take'),\n",
    "    no_take_area_mpatlas=F('no_take_area'),\n",
    "    calc_area_mpatlas=F('calc_area'),\n",
    "    calc_m_area_mpatlas=F('calc_m_area'),\n",
    "    status_mpatlas=F('status'),\n",
    "    status_year_mpatlas=F('status_year'),\n",
    ")"
   ]
  },
  {
   "cell_type": "code",
   "execution_count": 6,
   "metadata": {},
   "outputs": [
    {
     "data": {
      "text/plain": [
       "164"
      ]
     },
     "execution_count": 6,
     "metadata": {},
     "output_type": "execute_result"
    }
   ],
   "source": [
    "# Set wdpa_pid for new zones\n",
    "# If existing MPAtlas sites with this wdpa_id,\n",
    "# set first non-rejected site to the first PID_A.\n",
    "# Clear pid for all other MPAtlas sites and flag\n",
    "# as orphaned zones.\n",
    "\n",
    "wzones = []\n",
    "mpasw = [float(wi) for wi in mpas_all_nogeom.filter(wdpa_id__isnull=False).order_by('wdpa_id').values_list('wdpa_id', flat=True)]\n",
    "polyset = WdpaPoly_new.objects.filter(wdpaid__in=mpasw).only('wdpaid', 'wdpa_pid', 'name', 'desig_eng', 'iso3', 'parent_iso3')\n",
    "for w in polyset:\n",
    "    if w.wdpa_pid != str(int(w.wdpaid)):\n",
    "        wzones.append(w.wdpaid)\n",
    "wzones = list(set(wzones))\n",
    "len(wzones)"
   ]
  },
  {
   "cell_type": "code",
   "execution_count": 9,
   "metadata": {},
   "outputs": [
    {
     "name": "stdout",
     "output_type": "stream",
     "text": [
      "14242 555544090 55544090\n",
      "1 14242 555544090 55544090\n",
      "ERROR processing mpa 14242:  Cannot resolve keyword 'protection_level' into field. Choices are: access, access_citation, access_info, bbox_lowerleft, bbox_upperright, calc_area, calc_area_mpatlas, calc_m_area, calc_m_area_mpatlas, campaign, candidateinfo, categories, cons_obj_wdpa, conservation_effectiveness, conservation_focus_citation, conservation_focus_info, constancy, constancy_citation, contact, contact_id, country, created_date, datasource, datasource_id, designation, designation_eng, designation_type, eez, eezmembership, fishing, fishing_citation, fishing_info, fishing_protection_details, fishing_protection_level, geog, geom, geom_smerc, glores_status, gov_type, implementation_date, implemented, int_criteria, is_mpa, is_point, iucn_category, long_name, marine, mgmt_auth, mgmt_plan_ref, mgmt_plan_type, modified_date, mpa_id, name, no_take, no_take_area, no_take_area_mpatlas, no_take_area_wdpa, no_take_mpatlas, no_take_wdpa, notes, orig_name, other_contacts, other_ids, own_type, pa_def, permanence, permanence_citation, point_geog, point_geom, point_geom_smerc, point_within, primary_conservation_focus, protection_focus, protection_focus_citation, protection_focus_info, protection_mpaguide_details, protection_mpaguide_level, protection_rbcs_details, protection_rbcs_level, protection_rbcs_level_name, rep_area, rep_m_area, secondary_conservation_focus, short_name, simple_geog, simple_geom, simple_geom_smerc, site, site_id, slug, sovereign, status, status_mpatlas, status_year, status_year_mpatlas, sub_location, summary, supp_info_wdpa, tagged_items, tertiary_conservation_focus, usmpa_id, verification_reason, verification_state, verified_by, verified_date, verify_wdpa, wdpa_id, wdpa_metadataid, wdpa_notes, wdpa_pid, wikiarticle\n",
      "3315 166954 555599633\n",
      "2 3315 166954 555599633\n",
      "ERROR processing mpa 3315:  Cannot resolve keyword 'protection_level' into field. Choices are: access, access_citation, access_info, bbox_lowerleft, bbox_upperright, calc_area, calc_area_mpatlas, calc_m_area, calc_m_area_mpatlas, campaign, candidateinfo, categories, cons_obj_wdpa, conservation_effectiveness, conservation_focus_citation, conservation_focus_info, constancy, constancy_citation, contact, contact_id, country, created_date, datasource, datasource_id, designation, designation_eng, designation_type, eez, eezmembership, fishing, fishing_citation, fishing_info, fishing_protection_details, fishing_protection_level, geog, geom, geom_smerc, glores_status, gov_type, implementation_date, implemented, int_criteria, is_mpa, is_point, iucn_category, long_name, marine, mgmt_auth, mgmt_plan_ref, mgmt_plan_type, modified_date, mpa_id, name, no_take, no_take_area, no_take_area_mpatlas, no_take_area_wdpa, no_take_mpatlas, no_take_wdpa, notes, orig_name, other_contacts, other_ids, own_type, pa_def, permanence, permanence_citation, point_geog, point_geom, point_geom_smerc, point_within, primary_conservation_focus, protection_focus, protection_focus_citation, protection_focus_info, protection_mpaguide_details, protection_mpaguide_level, protection_rbcs_details, protection_rbcs_level, protection_rbcs_level_name, rep_area, rep_m_area, secondary_conservation_focus, short_name, simple_geog, simple_geom, simple_geom_smerc, site, site_id, slug, sovereign, status, status_mpatlas, status_year, status_year_mpatlas, sub_location, summary, supp_info_wdpa, tagged_items, tertiary_conservation_focus, usmpa_id, verification_reason, verification_state, verified_by, verified_date, verify_wdpa, wdpa_id, wdpa_metadataid, wdpa_notes, wdpa_pid, wikiarticle\n",
      "9795 66567 66567\n",
      "3 9795 66567 66567_A\n",
      "ERROR processing mpa 9795:  Cannot resolve keyword 'protection_level' into field. Choices are: access, access_citation, access_info, bbox_lowerleft, bbox_upperright, calc_area, calc_area_mpatlas, calc_m_area, calc_m_area_mpatlas, campaign, candidateinfo, categories, cons_obj_wdpa, conservation_effectiveness, conservation_focus_citation, conservation_focus_info, constancy, constancy_citation, contact, contact_id, country, created_date, datasource, datasource_id, designation, designation_eng, designation_type, eez, eezmembership, fishing, fishing_citation, fishing_info, fishing_protection_details, fishing_protection_level, geog, geom, geom_smerc, glores_status, gov_type, implementation_date, implemented, int_criteria, is_mpa, is_point, iucn_category, long_name, marine, mgmt_auth, mgmt_plan_ref, mgmt_plan_type, modified_date, mpa_id, name, no_take, no_take_area, no_take_area_mpatlas, no_take_area_wdpa, no_take_mpatlas, no_take_wdpa, notes, orig_name, other_contacts, other_ids, own_type, pa_def, permanence, permanence_citation, point_geog, point_geom, point_geom_smerc, point_within, primary_conservation_focus, protection_focus, protection_focus_citation, protection_focus_info, protection_mpaguide_details, protection_mpaguide_level, protection_rbcs_details, protection_rbcs_level, protection_rbcs_level_name, rep_area, rep_m_area, secondary_conservation_focus, short_name, simple_geog, simple_geom, simple_geom_smerc, site, site_id, slug, sovereign, status, status_mpatlas, status_year, status_year_mpatlas, sub_location, summary, supp_info_wdpa, tagged_items, tertiary_conservation_focus, usmpa_id, verification_reason, verification_state, verified_by, verified_date, verify_wdpa, wdpa_id, wdpa_metadataid, wdpa_notes, wdpa_pid, wikiarticle\n",
      "68816876 555637831 555637831\n",
      "4 68816876 555637831 555637831_A\n",
      "ERROR processing mpa 68816876:  Cannot resolve keyword 'protection_level' into field. Choices are: access, access_citation, access_info, bbox_lowerleft, bbox_upperright, calc_area, calc_area_mpatlas, calc_m_area, calc_m_area_mpatlas, campaign, candidateinfo, categories, cons_obj_wdpa, conservation_effectiveness, conservation_focus_citation, conservation_focus_info, constancy, constancy_citation, contact, contact_id, country, created_date, datasource, datasource_id, designation, designation_eng, designation_type, eez, eezmembership, fishing, fishing_citation, fishing_info, fishing_protection_details, fishing_protection_level, geog, geom, geom_smerc, glores_status, gov_type, implementation_date, implemented, int_criteria, is_mpa, is_point, iucn_category, long_name, marine, mgmt_auth, mgmt_plan_ref, mgmt_plan_type, modified_date, mpa_id, name, no_take, no_take_area, no_take_area_mpatlas, no_take_area_wdpa, no_take_mpatlas, no_take_wdpa, notes, orig_name, other_contacts, other_ids, own_type, pa_def, permanence, permanence_citation, point_geog, point_geom, point_geom_smerc, point_within, primary_conservation_focus, protection_focus, protection_focus_citation, protection_focus_info, protection_mpaguide_details, protection_mpaguide_level, protection_rbcs_details, protection_rbcs_level, protection_rbcs_level_name, rep_area, rep_m_area, secondary_conservation_focus, short_name, simple_geog, simple_geom, simple_geom_smerc, site, site_id, slug, sovereign, status, status_mpatlas, status_year, status_year_mpatlas, sub_location, summary, supp_info_wdpa, tagged_items, tertiary_conservation_focus, usmpa_id, verification_reason, verification_state, verified_by, verified_date, verify_wdpa, wdpa_id, wdpa_metadataid, wdpa_notes, wdpa_pid, wikiarticle\n",
      "68808853 555577419 555556881\n",
      "5 68808853 555577419 555556881\n",
      "ERROR processing mpa 68808853:  Cannot resolve keyword 'protection_level' into field. Choices are: access, access_citation, access_info, bbox_lowerleft, bbox_upperright, calc_area, calc_area_mpatlas, calc_m_area, calc_m_area_mpatlas, campaign, candidateinfo, categories, cons_obj_wdpa, conservation_effectiveness, conservation_focus_citation, conservation_focus_info, constancy, constancy_citation, contact, contact_id, country, created_date, datasource, datasource_id, designation, designation_eng, designation_type, eez, eezmembership, fishing, fishing_citation, fishing_info, fishing_protection_details, fishing_protection_level, geog, geom, geom_smerc, glores_status, gov_type, implementation_date, implemented, int_criteria, is_mpa, is_point, iucn_category, long_name, marine, mgmt_auth, mgmt_plan_ref, mgmt_plan_type, modified_date, mpa_id, name, no_take, no_take_area, no_take_area_mpatlas, no_take_area_wdpa, no_take_mpatlas, no_take_wdpa, notes, orig_name, other_contacts, other_ids, own_type, pa_def, permanence, permanence_citation, point_geog, point_geom, point_geom_smerc, point_within, primary_conservation_focus, protection_focus, protection_focus_citation, protection_focus_info, protection_mpaguide_details, protection_mpaguide_level, protection_rbcs_details, protection_rbcs_level, protection_rbcs_level_name, rep_area, rep_m_area, secondary_conservation_focus, short_name, simple_geog, simple_geom, simple_geom_smerc, site, site_id, slug, sovereign, status, status_mpatlas, status_year, status_year_mpatlas, sub_location, summary, supp_info_wdpa, tagged_items, tertiary_conservation_focus, usmpa_id, verification_reason, verification_state, verified_by, verified_date, verify_wdpa, wdpa_id, wdpa_metadataid, wdpa_notes, wdpa_pid, wikiarticle\n"
     ]
    },
    {
     "name": "stdout",
     "output_type": "stream",
     "text": [
      "68816877 555637853 555637853\n",
      "6 68816877 555637853 555637853_A\n",
      "ERROR processing mpa 68816877:  Cannot resolve keyword 'protection_level' into field. Choices are: access, access_citation, access_info, bbox_lowerleft, bbox_upperright, calc_area, calc_area_mpatlas, calc_m_area, calc_m_area_mpatlas, campaign, candidateinfo, categories, cons_obj_wdpa, conservation_effectiveness, conservation_focus_citation, conservation_focus_info, constancy, constancy_citation, contact, contact_id, country, created_date, datasource, datasource_id, designation, designation_eng, designation_type, eez, eezmembership, fishing, fishing_citation, fishing_info, fishing_protection_details, fishing_protection_level, geog, geom, geom_smerc, glores_status, gov_type, implementation_date, implemented, int_criteria, is_mpa, is_point, iucn_category, long_name, marine, mgmt_auth, mgmt_plan_ref, mgmt_plan_type, modified_date, mpa_id, name, no_take, no_take_area, no_take_area_mpatlas, no_take_area_wdpa, no_take_mpatlas, no_take_wdpa, notes, orig_name, other_contacts, other_ids, own_type, pa_def, permanence, permanence_citation, point_geog, point_geom, point_geom_smerc, point_within, primary_conservation_focus, protection_focus, protection_focus_citation, protection_focus_info, protection_mpaguide_details, protection_mpaguide_level, protection_rbcs_details, protection_rbcs_level, protection_rbcs_level_name, rep_area, rep_m_area, secondary_conservation_focus, short_name, simple_geog, simple_geom, simple_geom_smerc, site, site_id, slug, sovereign, status, status_mpatlas, status_year, status_year_mpatlas, sub_location, summary, supp_info_wdpa, tagged_items, tertiary_conservation_focus, usmpa_id, verification_reason, verification_state, verified_by, verified_date, verify_wdpa, wdpa_id, wdpa_metadataid, wdpa_notes, wdpa_pid, wikiarticle\n",
      "312 2670 2670\n",
      "7 312 2670 2670_A\n",
      "ERROR processing mpa 312:  Cannot resolve keyword 'protection_level' into field. Choices are: access, access_citation, access_info, bbox_lowerleft, bbox_upperright, calc_area, calc_area_mpatlas, calc_m_area, calc_m_area_mpatlas, campaign, candidateinfo, categories, cons_obj_wdpa, conservation_effectiveness, conservation_focus_citation, conservation_focus_info, constancy, constancy_citation, contact, contact_id, country, created_date, datasource, datasource_id, designation, designation_eng, designation_type, eez, eezmembership, fishing, fishing_citation, fishing_info, fishing_protection_details, fishing_protection_level, geog, geom, geom_smerc, glores_status, gov_type, implementation_date, implemented, int_criteria, is_mpa, is_point, iucn_category, long_name, marine, mgmt_auth, mgmt_plan_ref, mgmt_plan_type, modified_date, mpa_id, name, no_take, no_take_area, no_take_area_mpatlas, no_take_area_wdpa, no_take_mpatlas, no_take_wdpa, notes, orig_name, other_contacts, other_ids, own_type, pa_def, permanence, permanence_citation, point_geog, point_geom, point_geom_smerc, point_within, primary_conservation_focus, protection_focus, protection_focus_citation, protection_focus_info, protection_mpaguide_details, protection_mpaguide_level, protection_rbcs_details, protection_rbcs_level, protection_rbcs_level_name, rep_area, rep_m_area, secondary_conservation_focus, short_name, simple_geog, simple_geom, simple_geom_smerc, site, site_id, slug, sovereign, status, status_mpatlas, status_year, status_year_mpatlas, sub_location, summary, supp_info_wdpa, tagged_items, tertiary_conservation_focus, usmpa_id, verification_reason, verification_state, verified_by, verified_date, verify_wdpa, wdpa_id, wdpa_metadataid, wdpa_notes, wdpa_pid, wikiarticle\n",
      "1584 23744 23744\n",
      "8 1584 23744 23744_A\n",
      "ERROR processing mpa 1584:  Cannot resolve keyword 'protection_level' into field. Choices are: access, access_citation, access_info, bbox_lowerleft, bbox_upperright, calc_area, calc_area_mpatlas, calc_m_area, calc_m_area_mpatlas, campaign, candidateinfo, categories, cons_obj_wdpa, conservation_effectiveness, conservation_focus_citation, conservation_focus_info, constancy, constancy_citation, contact, contact_id, country, created_date, datasource, datasource_id, designation, designation_eng, designation_type, eez, eezmembership, fishing, fishing_citation, fishing_info, fishing_protection_details, fishing_protection_level, geog, geom, geom_smerc, glores_status, gov_type, implementation_date, implemented, int_criteria, is_mpa, is_point, iucn_category, long_name, marine, mgmt_auth, mgmt_plan_ref, mgmt_plan_type, modified_date, mpa_id, name, no_take, no_take_area, no_take_area_mpatlas, no_take_area_wdpa, no_take_mpatlas, no_take_wdpa, notes, orig_name, other_contacts, other_ids, own_type, pa_def, permanence, permanence_citation, point_geog, point_geom, point_geom_smerc, point_within, primary_conservation_focus, protection_focus, protection_focus_citation, protection_focus_info, protection_mpaguide_details, protection_mpaguide_level, protection_rbcs_details, protection_rbcs_level, protection_rbcs_level_name, rep_area, rep_m_area, secondary_conservation_focus, short_name, simple_geog, simple_geom, simple_geom_smerc, site, site_id, slug, sovereign, status, status_mpatlas, status_year, status_year_mpatlas, sub_location, summary, supp_info_wdpa, tagged_items, tertiary_conservation_focus, usmpa_id, verification_reason, verification_state, verified_by, verified_date, verify_wdpa, wdpa_id, wdpa_metadataid, wdpa_notes, wdpa_pid, wikiarticle\n",
      "68813311 555629253 555629253\n",
      "\n",
      "9 68813311 555629253 555629253\n",
      "\n",
      "ERROR processing mpa 68813311:  Cannot resolve keyword 'protection_level' into field. Choices are: access, access_citation, access_info, bbox_lowerleft, bbox_upperright, calc_area, calc_area_mpatlas, calc_m_area, calc_m_area_mpatlas, campaign, candidateinfo, categories, cons_obj_wdpa, conservation_effectiveness, conservation_focus_citation, conservation_focus_info, constancy, constancy_citation, contact, contact_id, country, created_date, datasource, datasource_id, designation, designation_eng, designation_type, eez, eezmembership, fishing, fishing_citation, fishing_info, fishing_protection_details, fishing_protection_level, geog, geom, geom_smerc, glores_status, gov_type, implementation_date, implemented, int_criteria, is_mpa, is_point, iucn_category, long_name, marine, mgmt_auth, mgmt_plan_ref, mgmt_plan_type, modified_date, mpa_id, name, no_take, no_take_area, no_take_area_mpatlas, no_take_area_wdpa, no_take_mpatlas, no_take_wdpa, notes, orig_name, other_contacts, other_ids, own_type, pa_def, permanence, permanence_citation, point_geog, point_geom, point_geom_smerc, point_within, primary_conservation_focus, protection_focus, protection_focus_citation, protection_focus_info, protection_mpaguide_details, protection_mpaguide_level, protection_rbcs_details, protection_rbcs_level, protection_rbcs_level_name, rep_area, rep_m_area, secondary_conservation_focus, short_name, simple_geog, simple_geom, simple_geom_smerc, site, site_id, slug, sovereign, status, status_mpatlas, status_year, status_year_mpatlas, sub_location, summary, supp_info_wdpa, tagged_items, tertiary_conservation_focus, usmpa_id, verification_reason, verification_state, verified_by, verified_date, verify_wdpa, wdpa_id, wdpa_metadataid, wdpa_notes, wdpa_pid, wikiarticle\n",
      "6706 67785 67785\n",
      "10 6706 67785 67785_A\n",
      "ERROR processing mpa 6706:  Cannot resolve keyword 'protection_level' into field. Choices are: access, access_citation, access_info, bbox_lowerleft, bbox_upperright, calc_area, calc_area_mpatlas, calc_m_area, calc_m_area_mpatlas, campaign, candidateinfo, categories, cons_obj_wdpa, conservation_effectiveness, conservation_focus_citation, conservation_focus_info, constancy, constancy_citation, contact, contact_id, country, created_date, datasource, datasource_id, designation, designation_eng, designation_type, eez, eezmembership, fishing, fishing_citation, fishing_info, fishing_protection_details, fishing_protection_level, geog, geom, geom_smerc, glores_status, gov_type, implementation_date, implemented, int_criteria, is_mpa, is_point, iucn_category, long_name, marine, mgmt_auth, mgmt_plan_ref, mgmt_plan_type, modified_date, mpa_id, name, no_take, no_take_area, no_take_area_mpatlas, no_take_area_wdpa, no_take_mpatlas, no_take_wdpa, notes, orig_name, other_contacts, other_ids, own_type, pa_def, permanence, permanence_citation, point_geog, point_geom, point_geom_smerc, point_within, primary_conservation_focus, protection_focus, protection_focus_citation, protection_focus_info, protection_mpaguide_details, protection_mpaguide_level, protection_rbcs_details, protection_rbcs_level, protection_rbcs_level_name, rep_area, rep_m_area, secondary_conservation_focus, short_name, simple_geog, simple_geom, simple_geom_smerc, site, site_id, slug, sovereign, status, status_mpatlas, status_year, status_year_mpatlas, sub_location, summary, supp_info_wdpa, tagged_items, tertiary_conservation_focus, usmpa_id, verification_reason, verification_state, verified_by, verified_date, verify_wdpa, wdpa_id, wdpa_metadataid, wdpa_notes, wdpa_pid, wikiarticle\n"
     ]
    },
    {
     "name": "stdout",
     "output_type": "stream",
     "text": [
      "68809454 555621668 555621668\n",
      "11 68809454 555621668 555621668_A\n",
      "ERROR processing mpa 68809454:  Cannot resolve keyword 'protection_level' into field. Choices are: access, access_citation, access_info, bbox_lowerleft, bbox_upperright, calc_area, calc_area_mpatlas, calc_m_area, calc_m_area_mpatlas, campaign, candidateinfo, categories, cons_obj_wdpa, conservation_effectiveness, conservation_focus_citation, conservation_focus_info, constancy, constancy_citation, contact, contact_id, country, created_date, datasource, datasource_id, designation, designation_eng, designation_type, eez, eezmembership, fishing, fishing_citation, fishing_info, fishing_protection_details, fishing_protection_level, geog, geom, geom_smerc, glores_status, gov_type, implementation_date, implemented, int_criteria, is_mpa, is_point, iucn_category, long_name, marine, mgmt_auth, mgmt_plan_ref, mgmt_plan_type, modified_date, mpa_id, name, no_take, no_take_area, no_take_area_mpatlas, no_take_area_wdpa, no_take_mpatlas, no_take_wdpa, notes, orig_name, other_contacts, other_ids, own_type, pa_def, permanence, permanence_citation, point_geog, point_geom, point_geom_smerc, point_within, primary_conservation_focus, protection_focus, protection_focus_citation, protection_focus_info, protection_mpaguide_details, protection_mpaguide_level, protection_rbcs_details, protection_rbcs_level, protection_rbcs_level_name, rep_area, rep_m_area, secondary_conservation_focus, short_name, simple_geog, simple_geom, simple_geom_smerc, site, site_id, slug, sovereign, status, status_mpatlas, status_year, status_year_mpatlas, sub_location, summary, supp_info_wdpa, tagged_items, tertiary_conservation_focus, usmpa_id, verification_reason, verification_state, verified_by, verified_date, verify_wdpa, wdpa_id, wdpa_metadataid, wdpa_notes, wdpa_pid, wikiarticle\n",
      "726 9035 9035\n",
      "12 726 9035 9035_A\n",
      "ERROR processing mpa 726:  Cannot resolve keyword 'protection_level' into field. Choices are: access, access_citation, access_info, bbox_lowerleft, bbox_upperright, calc_area, calc_area_mpatlas, calc_m_area, calc_m_area_mpatlas, campaign, candidateinfo, categories, cons_obj_wdpa, conservation_effectiveness, conservation_focus_citation, conservation_focus_info, constancy, constancy_citation, contact, contact_id, country, created_date, datasource, datasource_id, designation, designation_eng, designation_type, eez, eezmembership, fishing, fishing_citation, fishing_info, fishing_protection_details, fishing_protection_level, geog, geom, geom_smerc, glores_status, gov_type, implementation_date, implemented, int_criteria, is_mpa, is_point, iucn_category, long_name, marine, mgmt_auth, mgmt_plan_ref, mgmt_plan_type, modified_date, mpa_id, name, no_take, no_take_area, no_take_area_mpatlas, no_take_area_wdpa, no_take_mpatlas, no_take_wdpa, notes, orig_name, other_contacts, other_ids, own_type, pa_def, permanence, permanence_citation, point_geog, point_geom, point_geom_smerc, point_within, primary_conservation_focus, protection_focus, protection_focus_citation, protection_focus_info, protection_mpaguide_details, protection_mpaguide_level, protection_rbcs_details, protection_rbcs_level, protection_rbcs_level_name, rep_area, rep_m_area, secondary_conservation_focus, short_name, simple_geog, simple_geom, simple_geom_smerc, site, site_id, slug, sovereign, status, status_mpatlas, status_year, status_year_mpatlas, sub_location, summary, supp_info_wdpa, tagged_items, tertiary_conservation_focus, usmpa_id, verification_reason, verification_state, verified_by, verified_date, verify_wdpa, wdpa_id, wdpa_metadataid, wdpa_notes, wdpa_pid, wikiarticle\n",
      "68816873 555637782 555637782\n",
      "13 68816873 555637782 555637782_A\n",
      "ERROR processing mpa 68816873:  Cannot resolve keyword 'protection_level' into field. Choices are: access, access_citation, access_info, bbox_lowerleft, bbox_upperright, calc_area, calc_area_mpatlas, calc_m_area, calc_m_area_mpatlas, campaign, candidateinfo, categories, cons_obj_wdpa, conservation_effectiveness, conservation_focus_citation, conservation_focus_info, constancy, constancy_citation, contact, contact_id, country, created_date, datasource, datasource_id, designation, designation_eng, designation_type, eez, eezmembership, fishing, fishing_citation, fishing_info, fishing_protection_details, fishing_protection_level, geog, geom, geom_smerc, glores_status, gov_type, implementation_date, implemented, int_criteria, is_mpa, is_point, iucn_category, long_name, marine, mgmt_auth, mgmt_plan_ref, mgmt_plan_type, modified_date, mpa_id, name, no_take, no_take_area, no_take_area_mpatlas, no_take_area_wdpa, no_take_mpatlas, no_take_wdpa, notes, orig_name, other_contacts, other_ids, own_type, pa_def, permanence, permanence_citation, point_geog, point_geom, point_geom_smerc, point_within, primary_conservation_focus, protection_focus, protection_focus_citation, protection_focus_info, protection_mpaguide_details, protection_mpaguide_level, protection_rbcs_details, protection_rbcs_level, protection_rbcs_level_name, rep_area, rep_m_area, secondary_conservation_focus, short_name, simple_geog, simple_geom, simple_geom_smerc, site, site_id, slug, sovereign, status, status_mpatlas, status_year, status_year_mpatlas, sub_location, summary, supp_info_wdpa, tagged_items, tertiary_conservation_focus, usmpa_id, verification_reason, verification_state, verified_by, verified_date, verify_wdpa, wdpa_id, wdpa_metadataid, wdpa_notes, wdpa_pid, wikiarticle\n",
      "14560 555548008 555548008\n",
      "14 14560 555548008 555548008_A\n",
      "ERROR processing mpa 14560:  Cannot resolve keyword 'protection_level' into field. Choices are: access, access_citation, access_info, bbox_lowerleft, bbox_upperright, calc_area, calc_area_mpatlas, calc_m_area, calc_m_area_mpatlas, campaign, candidateinfo, categories, cons_obj_wdpa, conservation_effectiveness, conservation_focus_citation, conservation_focus_info, constancy, constancy_citation, contact, contact_id, country, created_date, datasource, datasource_id, designation, designation_eng, designation_type, eez, eezmembership, fishing, fishing_citation, fishing_info, fishing_protection_details, fishing_protection_level, geog, geom, geom_smerc, glores_status, gov_type, implementation_date, implemented, int_criteria, is_mpa, is_point, iucn_category, long_name, marine, mgmt_auth, mgmt_plan_ref, mgmt_plan_type, modified_date, mpa_id, name, no_take, no_take_area, no_take_area_mpatlas, no_take_area_wdpa, no_take_mpatlas, no_take_wdpa, notes, orig_name, other_contacts, other_ids, own_type, pa_def, permanence, permanence_citation, point_geog, point_geom, point_geom_smerc, point_within, primary_conservation_focus, protection_focus, protection_focus_citation, protection_focus_info, protection_mpaguide_details, protection_mpaguide_level, protection_rbcs_details, protection_rbcs_level, protection_rbcs_level_name, rep_area, rep_m_area, secondary_conservation_focus, short_name, simple_geog, simple_geom, simple_geom_smerc, site, site_id, slug, sovereign, status, status_mpatlas, status_year, status_year_mpatlas, sub_location, summary, supp_info_wdpa, tagged_items, tertiary_conservation_focus, usmpa_id, verification_reason, verification_state, verified_by, verified_date, verify_wdpa, wdpa_id, wdpa_metadataid, wdpa_notes, wdpa_pid, wikiarticle\n",
      "4750 313747 313747\n",
      "15 4750 313747 313747_A\n",
      "ERROR processing mpa 4750:  Cannot resolve keyword 'protection_level' into field. Choices are: access, access_citation, access_info, bbox_lowerleft, bbox_upperright, calc_area, calc_area_mpatlas, calc_m_area, calc_m_area_mpatlas, campaign, candidateinfo, categories, cons_obj_wdpa, conservation_effectiveness, conservation_focus_citation, conservation_focus_info, constancy, constancy_citation, contact, contact_id, country, created_date, datasource, datasource_id, designation, designation_eng, designation_type, eez, eezmembership, fishing, fishing_citation, fishing_info, fishing_protection_details, fishing_protection_level, geog, geom, geom_smerc, glores_status, gov_type, implementation_date, implemented, int_criteria, is_mpa, is_point, iucn_category, long_name, marine, mgmt_auth, mgmt_plan_ref, mgmt_plan_type, modified_date, mpa_id, name, no_take, no_take_area, no_take_area_mpatlas, no_take_area_wdpa, no_take_mpatlas, no_take_wdpa, notes, orig_name, other_contacts, other_ids, own_type, pa_def, permanence, permanence_citation, point_geog, point_geom, point_geom_smerc, point_within, primary_conservation_focus, protection_focus, protection_focus_citation, protection_focus_info, protection_mpaguide_details, protection_mpaguide_level, protection_rbcs_details, protection_rbcs_level, protection_rbcs_level_name, rep_area, rep_m_area, secondary_conservation_focus, short_name, simple_geog, simple_geom, simple_geom_smerc, site, site_id, slug, sovereign, status, status_mpatlas, status_year, status_year_mpatlas, sub_location, summary, supp_info_wdpa, tagged_items, tertiary_conservation_focus, usmpa_id, verification_reason, verification_state, verified_by, verified_date, verify_wdpa, wdpa_id, wdpa_metadataid, wdpa_notes, wdpa_pid, wikiarticle\n"
     ]
    },
    {
     "name": "stdout",
     "output_type": "stream",
     "text": [
      "68816568 555599265 555599265\n",
      "16 68816568 555599265 555599265_A\n",
      "ERROR processing mpa 68816568:  Cannot resolve keyword 'protection_level' into field. Choices are: access, access_citation, access_info, bbox_lowerleft, bbox_upperright, calc_area, calc_area_mpatlas, calc_m_area, calc_m_area_mpatlas, campaign, candidateinfo, categories, cons_obj_wdpa, conservation_effectiveness, conservation_focus_citation, conservation_focus_info, constancy, constancy_citation, contact, contact_id, country, created_date, datasource, datasource_id, designation, designation_eng, designation_type, eez, eezmembership, fishing, fishing_citation, fishing_info, fishing_protection_details, fishing_protection_level, geog, geom, geom_smerc, glores_status, gov_type, implementation_date, implemented, int_criteria, is_mpa, is_point, iucn_category, long_name, marine, mgmt_auth, mgmt_plan_ref, mgmt_plan_type, modified_date, mpa_id, name, no_take, no_take_area, no_take_area_mpatlas, no_take_area_wdpa, no_take_mpatlas, no_take_wdpa, notes, orig_name, other_contacts, other_ids, own_type, pa_def, permanence, permanence_citation, point_geog, point_geom, point_geom_smerc, point_within, primary_conservation_focus, protection_focus, protection_focus_citation, protection_focus_info, protection_mpaguide_details, protection_mpaguide_level, protection_rbcs_details, protection_rbcs_level, protection_rbcs_level_name, rep_area, rep_m_area, secondary_conservation_focus, short_name, simple_geog, simple_geom, simple_geom_smerc, site, site_id, slug, sovereign, status, status_mpatlas, status_year, status_year_mpatlas, sub_location, summary, supp_info_wdpa, tagged_items, tertiary_conservation_focus, usmpa_id, verification_reason, verification_state, verified_by, verified_date, verify_wdpa, wdpa_id, wdpa_metadataid, wdpa_notes, wdpa_pid, wikiarticle\n"
     ]
    }
   ],
   "source": [
    "# Assign records with zones to be the first zone.  Do not rerun.\n",
    "count = 0\n",
    "for wid in wzones:\n",
    "    zones = WdpaPoly_new.objects.filter(wdpaid=wid).only('wdpaid', 'wdpa_pid', 'name', 'desig_eng', 'iso3', 'parent_iso3')\n",
    "    firstpid = zones.order_by('wdpa_pid').first().wdpa_pid\n",
    "    mpaz = mpas_all_nogeom.filter(wdpa_id=int(wid)).exclude(Q(wdpa_pid__isnull=True) | Q(wdpa_pid__contains='_'))\n",
    "    # only process mpas that don't yet have wdpa_pid zones, where str(wdpaid) = wdpa_pid,\n",
    "    # and also don't have null wdpa_pid.  We set some custom zone sites to have null wdpa_pid\n",
    "    # so they don't get overwritten.  Better to have duplicates to clean up.\n",
    "    for m in mpaz:\n",
    "        print(m.mpa_id, m.wdpa_id, m.wdpa_pid)\n",
    "        m.wdpa_pid = firstpid\n",
    "        count += 1\n",
    "        print(count, m.mpa_id, m.wdpa_id, m.wdpa_pid)\n",
    "        m.save()\n"
   ]
  },
  {
   "cell_type": "code",
   "execution_count": 18,
   "metadata": {},
   "outputs": [],
   "source": [
    "# If we set more than one site to the same PID, then keep the pid only for the first non-rejected site.\n",
    "# Set the others to be flagged as orphaned zones.\n",
    "\n",
    "dups = (\n",
    "    mpas.filter(wdpa_id__isnull=False, wdpa_pid__contains='_')\n",
    "    .values('wdpa_pid')\n",
    "    .annotate(pidcount=Count('wdpa_pid'))\n",
    "    .values('wdpa_pid')\n",
    "    .order_by()\n",
    "    .filter(pidcount__gt=1)\n",
    ")\n",
    "\n",
    "duppids = mpas.filter(wdpa_id__isnull=False).filter(wdpa_pid__in=dups)\n",
    "\n",
    "for pid in dups.values_list('wdpa_pid', flat=True):\n",
    "    dupmpas = mpas.filter(wdpa_pid=pid).order_by('mpa_id')\n",
    "    nonrejects = dupmpas.exclude(verification_state='Rejected as MPA').order_by('mpa_id')\n",
    "    if nonrejects:\n",
    "        m = nonrejects[0]\n",
    "    else:\n",
    "        m = dupmpas[0]\n",
    "    others = dupmpas.exclude(mpa_id=m.mpa_id)\n",
    "    for o in others:\n",
    "        o.categories.add('Orphaned Zone')\n",
    "    others.update(wdpa_pid=None, notes=Concat(F('notes'), Value(' ORPHANED ZONE, please clean up.')))"
   ]
  },
  {
   "cell_type": "code",
   "execution_count": 19,
   "metadata": {
    "scrolled": true
   },
   "outputs": [],
   "source": [
    "# 2020-12-21: Did not run commands below.  I can't remember what they do or if they are even needed."
   ]
  },
  {
   "cell_type": "code",
   "execution_count": null,
   "metadata": {},
   "outputs": [],
   "source": [
    "from django.db.models import F, Func\n",
    "mpazz = mpas_all_nogeom.filter(wdpa_id__isnull=False).exclude(wdpa_pid__in=wd)\n",
    "print(mpazz.count())\n",
    "mpazz.update(wdpa_pid=Func(F('wdpa_id'), function='CAST', template='%(function)s(%(expressions)s as varchar(52))'))"
   ]
  },
  {
   "cell_type": "code",
   "execution_count": null,
   "metadata": {},
   "outputs": [],
   "source": [
    "mpazx = mpas_all_nogeom.filter(wdpa_id__isnull=False).exclude(wdpa_id__in=[int(w) for w in wzones])\n",
    "mpazx.update(wdpa_pid=Func(F('wdpa_id'), function='CAST', template='%(function)s(%(expressions)s as varchar(52))'))"
   ]
  },
  {
   "cell_type": "code",
   "execution_count": null,
   "metadata": {},
   "outputs": [],
   "source": [
    "count = 0\n",
    "mpazy = mpas_all_nogeom.only('wdpa_id', 'mpa_id', 'wdpa_pid').filter(wdpa_id__isnull=False).exclude(wdpa_id__in=[int(w) for w in wzones])\n",
    "for m in mpazy:\n",
    "    count += 1\n",
    "    mywid = m.wdpa_id\n",
    "    mypid = str(m.wdpa_id)\n",
    "    myid = m.mpa_id\n",
    "    m.wdpa_pid = mypid\n",
    "    print(count, m.mpa_id, m.wdpa_id, m.wdpa_pid)\n",
    "    #m.save()\n",
    "    mq = mpas_all_nogeom.filter(mpa_id=myid).update(wdpa_pid=mypid)"
   ]
  },
  {
   "cell_type": "code",
   "execution_count": null,
   "metadata": {},
   "outputs": [],
   "source": []
  }
 ],
 "metadata": {
  "kernelspec": {
   "display_name": "Django Shell-Plus",
   "language": "python",
   "name": "django_extensions"
  },
  "language_info": {
   "codemirror_mode": {
    "name": "ipython",
    "version": 3
   },
   "file_extension": ".py",
   "mimetype": "text/x-python",
   "name": "python",
   "nbconvert_exporter": "python",
   "pygments_lexer": "ipython3",
   "version": "3.7.5"
  }
 },
 "nbformat": 4,
 "nbformat_minor": 2
}
