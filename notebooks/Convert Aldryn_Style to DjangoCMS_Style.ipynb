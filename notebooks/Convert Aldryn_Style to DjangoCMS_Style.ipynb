{
 "cells": [
  {
   "cell_type": "code",
   "execution_count": 2,
   "metadata": {},
   "outputs": [],
   "source": [
    "MYPROJECT = '$HOME/Code/mpatlas-dj2/mpatlas'\n",
    "import os, sys\n",
    "sys.path.insert(0, MYPROJECT)\n",
    "os.environ.setdefault(\"DJANGO_SETTINGS_MODULE\", \"settings.py\")\n",
    "import django\n",
    "django.setup()"
   ]
  },
  {
   "cell_type": "markdown",
   "metadata": {},
   "source": [
    "# Convert Aldryn_Style to DjangoCMS_Style"
   ]
  },
  {
   "cell_type": "raw",
   "metadata": {},
   "source": [
    "First edit djangocms_style.cms_plugins and set StylePlugin.name = _('Style_DjangoCMS')\n",
    "\n",
    "Then set StylePlugin.__name__ = 'DjangoCMSStylePlugin'\n",
    "before registering plugin.\n",
    "Change these back to 'Style' and 'StylePlugin' once plugins have been migrated."
   ]
  },
  {
   "cell_type": "code",
   "execution_count": 533,
   "metadata": {},
   "outputs": [],
   "source": [
    "from cms.models import CMSPlugin\n",
    "from aldryn_style.models import Style\n",
    "from aldryn_style.cms_plugins import StylePlugin\n",
    "from djangocms_style.models import Style as DStyle\n",
    "from djangocms_style.cms_plugins import StylePlugin as DStylePlugin\n",
    "from cms.utils.plugins import copy_plugins_to_placeholder"
   ]
  },
  {
   "cell_type": "code",
   "execution_count": 567,
   "metadata": {},
   "outputs": [],
   "source": [
    "def migrateStyle(old_plugin):\n",
    "    old_plugin = old_plugin.get_bound_plugin()\n",
    "    children = old_plugin.get_children()\n",
    "    \n",
    "    new_plugin = DStyle(\n",
    "        language = old_plugin.language,\n",
    "        parent = old_plugin.parent,\n",
    "        placeholder = old_plugin.placeholder,\n",
    "        position = old_plugin.position,\n",
    "        plugin_type = 'DjangoCMSStylePlugin',\n",
    "\n",
    "        label = old_plugin.label,\n",
    "        class_name = old_plugin.class_name,\n",
    "        id_name = old_plugin.id_name,\n",
    "        tag_type = old_plugin.tag_type,\n",
    "        additional_classes = old_plugin.additional_class_names,\n",
    "        padding_top = old_plugin.padding_top,\n",
    "        padding_right = old_plugin.padding_right,\n",
    "        padding_bottom = old_plugin.padding_bottom,\n",
    "        padding_left = old_plugin.padding_left,\n",
    "        margin_top = old_plugin.margin_top,\n",
    "        margin_right = old_plugin.margin_right,\n",
    "        margin_bottom = old_plugin.margin_bottom,\n",
    "        margin_left = old_plugin.margin_left,\n",
    "    )\n",
    "\n",
    "    # insert new plugin into tree at original position, shifting original to right\n",
    "    new_plugin = old_plugin.add_sibling(pos='left', instance=new_plugin)\n",
    "\n",
    "    # This does not seem to stick for some reason\n",
    "    #for child in children:\n",
    "    #    child.move(target=new_plugin, pos='last-child')\n",
    "    \n",
    "    new_plugin = new_plugin.__class__.objects.get(pk=new_plugin.pk)\n",
    "    old_plugin = old_plugin.__class__.objects.get(pk=old_plugin.pk)\n",
    "    copy_plugins_to_placeholder(plugins=old_plugin.get_descendants(), placeholder=old_plugin.placeholder, root_plugin=new_plugin)\n",
    "    \n",
    "    new_plugin.copy_relations(old_plugin)\n",
    "    new_plugin.post_copy(old_plugin, [(new_plugin, old_plugin),])\n",
    "    \n",
    "    # in case this is a child of a TextPlugin that needs\n",
    "    # its content updated with the newly copied plugin\n",
    "    if new_plugin.parent:\n",
    "        new_plugin.parent.post_copy(new_plugin.parent, [(new_plugin, old_plugin),])\n",
    "        \n",
    "    old_plugin.delete()\n",
    "\n",
    "    return new_plugin"
   ]
  },
  {
   "cell_type": "code",
   "execution_count": 568,
   "metadata": {},
   "outputs": [],
   "source": [
    "for style in Style.objects.all():\n",
    "    new_plugin = migrateStyle(style)"
   ]
  },
  {
   "cell_type": "code",
   "execution_count": 577,
   "metadata": {},
   "outputs": [
    {
     "data": {
      "text/plain": [
       "8"
      ]
     },
     "execution_count": 577,
     "metadata": {},
     "output_type": "execute_result"
    }
   ],
   "source": [
    "dstyles = CMSPlugin.objects.filter(plugin_type='DjangoCMSStylePlugin')\n",
    "for ds in dstyles:\n",
    "    ds.plugin_type = 'StylePlugin'\n",
    "    ds.save()\n",
    "CMSPlugin.objects.filter(plugin_type='DjangoCMSStylePlugin').count()"
   ]
  },
  {
   "cell_type": "code",
   "execution_count": 576,
   "metadata": {},
   "outputs": [
    {
     "data": {
      "text/plain": [
       "0"
      ]
     },
     "execution_count": 576,
     "metadata": {},
     "output_type": "execute_result"
    }
   ],
   "source": [
    "CMSPlugin.objects.filter(plugin_type='DjangoCMSStylePlugin').update(plugin_type='StylePlugin')\n",
    "CMSPlugin.objects.filter(plugin_type='DjangoCMSStylePlugin').count()"
   ]
  },
  {
   "cell_type": "markdown",
   "metadata": {},
   "source": [
    "# Convert cmsplugin_filer_image to djangocms_picture"
   ]
  },
  {
   "cell_type": "code",
   "execution_count": 771,
   "metadata": {},
   "outputs": [],
   "source": [
    "from cms.models import CMSPlugin\n",
    "from cmsplugin_filer_image.models import FilerImage\n",
    "from djangocms_picture.models import Picture\n",
    "from cms.utils.plugins import copy_plugins_to_placeholder"
   ]
  },
  {
   "cell_type": "code",
   "execution_count": 774,
   "metadata": {},
   "outputs": [],
   "source": [
    "def migrateImage(old_plugin):\n",
    "    old_plugin = old_plugin.get_bound_plugin()\n",
    "    \n",
    "    link = ''\n",
    "    # priority was free_link > page_link > file_link > original file\n",
    "    if not old_plugin.free_link and old_plugin.file_link:\n",
    "        link = old_plugin.file_link.url\n",
    "    elif not old_plugin.free_link and old_plugin.original_link:\n",
    "        if old_plugin.image:\n",
    "            link = old_plugin.image.url\n",
    "        else:\n",
    "            link = old_plugin.image_url\n",
    "    \n",
    "    new_plugin = Picture(\n",
    "        language = old_plugin.language,\n",
    "        parent = old_plugin.parent,\n",
    "        placeholder = old_plugin.placeholder,\n",
    "        position = old_plugin.position,\n",
    "        plugin_type = 'PicturePlugin',\n",
    "\n",
    "        # copy fields\n",
    "        template = 'default',\n",
    "        # attributes = '',\n",
    "        picture = old_plugin.image,\n",
    "        external_picture = old_plugin.image_url or '',\n",
    "        width = old_plugin.width,\n",
    "        height = old_plugin.height,\n",
    "        alignment = old_plugin.alignment or '',\n",
    "        caption_text = old_plugin.caption_text or '',\n",
    "        link_url = link,\n",
    "        link_page = old_plugin.page_link,\n",
    "        link_target = '_blank' or '',\n",
    "        link_attributes = old_plugin.link_attributes,\n",
    "        use_automatic_scaling = old_plugin.use_autoscale,\n",
    "        use_no_cropping = old_plugin.use_original_image,\n",
    "        use_crop = old_plugin.crop,\n",
    "        use_upscale = old_plugin.upscale,\n",
    "        thumbnail_options = old_plugin.thumbnail_option,\n",
    "        \n",
    "        # style, # use attributes instead\n",
    "        # alt_text, # not used\n",
    "    )\n",
    "\n",
    "    # insert new plugin into tree at original position, shifting original to right\n",
    "    new_plugin = old_plugin.add_sibling(pos='left', instance=new_plugin)\n",
    "    \n",
    "    # new_plugin.copy_relations(old_plugin)\n",
    "    new_plugin.post_copy(old_plugin, [(new_plugin, old_plugin),])\n",
    "    \n",
    "    # in case this is a child of a TextPlugin that needs\n",
    "    # its content updated with the newly copied plugin\n",
    "    plugin_replacements = []\n",
    "    parent = new_plugin.parent\n",
    "    if parent:\n",
    "        # we need a complete list of (new, old) plugin pairs\n",
    "        # for all children, not just the one we are replacing,\n",
    "        # otherwise all plugin references will get blanked out\n",
    "        # in TextPlugins\n",
    "        parent = parent.get_bound_plugin();\n",
    "        for child in parent.get_children():\n",
    "            if child.pk != new_plugin.pk:\n",
    "                if child.pk == old_plugin.pk:\n",
    "                    replacement = new_plugin # use the new plugin instead of old\n",
    "                else:\n",
    "                    replacement = child # keep this as is\n",
    "                plugin_replacements.append((replacement, child))\n",
    "        parent.post_copy(parent, plugin_replacements)\n",
    "        \n",
    "    old_plugin.delete()\n",
    "\n",
    "    return new_plugin"
   ]
  },
  {
   "cell_type": "code",
   "execution_count": 775,
   "metadata": {},
   "outputs": [],
   "source": [
    "qs = FilerImage.objects.filter(pk=16184)\n",
    "for image in qs:\n",
    "    new_plugin = migrateImage(image)"
   ]
  },
  {
   "cell_type": "code",
   "execution_count": 776,
   "metadata": {},
   "outputs": [
    {
     "ename": "DoesNotExist",
     "evalue": "FilerImage matching query does not exist.",
     "output_type": "error",
     "traceback": [
      "\u001b[0;31m---------------------------------------------------------------------------\u001b[0m",
      "\u001b[0;31mDoesNotExist\u001b[0m                              Traceback (most recent call last)",
      "\u001b[0;32m<ipython-input-776-651221f2eb58>\u001b[0m in \u001b[0;36m<module>\u001b[0;34m()\u001b[0m\n\u001b[1;32m      1\u001b[0m \u001b[0mnew_plugin\u001b[0m \u001b[0;34m=\u001b[0m \u001b[0mnew_plugin\u001b[0m\u001b[0;34m.\u001b[0m\u001b[0m__class__\u001b[0m\u001b[0;34m.\u001b[0m\u001b[0mobjects\u001b[0m\u001b[0;34m.\u001b[0m\u001b[0mget\u001b[0m\u001b[0;34m(\u001b[0m\u001b[0mpk\u001b[0m\u001b[0;34m=\u001b[0m\u001b[0mnew_plugin\u001b[0m\u001b[0;34m.\u001b[0m\u001b[0mpk\u001b[0m\u001b[0;34m)\u001b[0m\u001b[0;34m\u001b[0m\u001b[0m\n\u001b[0;32m----> 2\u001b[0;31m \u001b[0mold_plugin\u001b[0m \u001b[0;34m=\u001b[0m \u001b[0mFilerImage\u001b[0m\u001b[0;34m.\u001b[0m\u001b[0mobjects\u001b[0m\u001b[0;34m.\u001b[0m\u001b[0mget\u001b[0m\u001b[0;34m(\u001b[0m\u001b[0mpk\u001b[0m\u001b[0;34m=\u001b[0m\u001b[0;36m16184\u001b[0m\u001b[0;34m)\u001b[0m\u001b[0;34m\u001b[0m\u001b[0m\n\u001b[0m\u001b[1;32m      3\u001b[0m \u001b[0mprint\u001b[0m\u001b[0;34m(\u001b[0m\u001b[0mnew_plugin\u001b[0m\u001b[0;34m.\u001b[0m\u001b[0mpk\u001b[0m\u001b[0;34m)\u001b[0m\u001b[0;34m\u001b[0m\u001b[0m\n\u001b[1;32m      4\u001b[0m \u001b[0mprint\u001b[0m\u001b[0;34m(\u001b[0m\u001b[0mold_plugin\u001b[0m\u001b[0;34m.\u001b[0m\u001b[0mpk\u001b[0m\u001b[0;34m)\u001b[0m\u001b[0;34m\u001b[0m\u001b[0m\n",
      "\u001b[0;32m~/.virtualenvs/dj2/lib/python3.6/site-packages/django/db/models/manager.py\u001b[0m in \u001b[0;36mmanager_method\u001b[0;34m(self, *args, **kwargs)\u001b[0m\n\u001b[1;32m     83\u001b[0m         \u001b[0;32mdef\u001b[0m \u001b[0mcreate_method\u001b[0m\u001b[0;34m(\u001b[0m\u001b[0mname\u001b[0m\u001b[0;34m,\u001b[0m \u001b[0mmethod\u001b[0m\u001b[0;34m)\u001b[0m\u001b[0;34m:\u001b[0m\u001b[0;34m\u001b[0m\u001b[0m\n\u001b[1;32m     84\u001b[0m             \u001b[0;32mdef\u001b[0m \u001b[0mmanager_method\u001b[0m\u001b[0;34m(\u001b[0m\u001b[0mself\u001b[0m\u001b[0;34m,\u001b[0m \u001b[0;34m*\u001b[0m\u001b[0margs\u001b[0m\u001b[0;34m,\u001b[0m \u001b[0;34m**\u001b[0m\u001b[0mkwargs\u001b[0m\u001b[0;34m)\u001b[0m\u001b[0;34m:\u001b[0m\u001b[0;34m\u001b[0m\u001b[0m\n\u001b[0;32m---> 85\u001b[0;31m                 \u001b[0;32mreturn\u001b[0m \u001b[0mgetattr\u001b[0m\u001b[0;34m(\u001b[0m\u001b[0mself\u001b[0m\u001b[0;34m.\u001b[0m\u001b[0mget_queryset\u001b[0m\u001b[0;34m(\u001b[0m\u001b[0;34m)\u001b[0m\u001b[0;34m,\u001b[0m \u001b[0mname\u001b[0m\u001b[0;34m)\u001b[0m\u001b[0;34m(\u001b[0m\u001b[0;34m*\u001b[0m\u001b[0margs\u001b[0m\u001b[0;34m,\u001b[0m \u001b[0;34m**\u001b[0m\u001b[0mkwargs\u001b[0m\u001b[0;34m)\u001b[0m\u001b[0;34m\u001b[0m\u001b[0m\n\u001b[0m\u001b[1;32m     86\u001b[0m             \u001b[0mmanager_method\u001b[0m\u001b[0;34m.\u001b[0m\u001b[0m__name__\u001b[0m \u001b[0;34m=\u001b[0m \u001b[0mmethod\u001b[0m\u001b[0;34m.\u001b[0m\u001b[0m__name__\u001b[0m\u001b[0;34m\u001b[0m\u001b[0m\n\u001b[1;32m     87\u001b[0m             \u001b[0mmanager_method\u001b[0m\u001b[0;34m.\u001b[0m\u001b[0m__doc__\u001b[0m \u001b[0;34m=\u001b[0m \u001b[0mmethod\u001b[0m\u001b[0;34m.\u001b[0m\u001b[0m__doc__\u001b[0m\u001b[0;34m\u001b[0m\u001b[0m\n",
      "\u001b[0;32m~/.virtualenvs/dj2/lib/python3.6/site-packages/django/db/models/query.py\u001b[0m in \u001b[0;36mget\u001b[0;34m(self, *args, **kwargs)\u001b[0m\n\u001b[1;32m    378\u001b[0m             raise self.model.DoesNotExist(\n\u001b[1;32m    379\u001b[0m                 \u001b[0;34m\"%s matching query does not exist.\"\u001b[0m \u001b[0;34m%\u001b[0m\u001b[0;34m\u001b[0m\u001b[0m\n\u001b[0;32m--> 380\u001b[0;31m                 \u001b[0mself\u001b[0m\u001b[0;34m.\u001b[0m\u001b[0mmodel\u001b[0m\u001b[0;34m.\u001b[0m\u001b[0m_meta\u001b[0m\u001b[0;34m.\u001b[0m\u001b[0mobject_name\u001b[0m\u001b[0;34m\u001b[0m\u001b[0m\n\u001b[0m\u001b[1;32m    381\u001b[0m             )\n\u001b[1;32m    382\u001b[0m         raise self.model.MultipleObjectsReturned(\n",
      "\u001b[0;31mDoesNotExist\u001b[0m: FilerImage matching query does not exist."
     ]
    }
   ],
   "source": [
    "new_plugin = new_plugin.__class__.objects.get(pk=new_plugin.pk)\n",
    "old_plugin = FilerImage.objects.get(pk=16184)\n",
    "print(new_plugin.pk)\n",
    "print(old_plugin.pk)"
   ]
  },
  {
   "cell_type": "code",
   "execution_count": 759,
   "metadata": {},
   "outputs": [
    {
     "data": {
      "text/plain": [
       "0"
      ]
     },
     "execution_count": 759,
     "metadata": {},
     "output_type": "execute_result"
    }
   ],
   "source": [
    "qs = Picture.objects.all()\n",
    "qs._raw_delete(qs.db)\n",
    "qs = CMSPlugin.objects.filter(plugin_type='PicturePlugin')\n",
    "qs._raw_delete(qs.db)"
   ]
  },
  {
   "cell_type": "code",
   "execution_count": 777,
   "metadata": {},
   "outputs": [
    {
     "name": "stdout",
     "output_type": "stream",
     "text": [
      "Pictures: 1\n",
      "CMSPlugin PicturePlugins: 1\n"
     ]
    }
   ],
   "source": [
    "print('Pictures:', Picture.objects.all().count())\n",
    "print('CMSPlugin PicturePlugins:', CMSPlugin.objects.filter(plugin_type='PicturePlugin').count())"
   ]
  },
  {
   "cell_type": "code",
   "execution_count": 769,
   "metadata": {},
   "outputs": [
    {
     "data": {
      "text/plain": [
       "'<p>Hi there\\xa0<cms-plugin id=\"16173\" title=\"Link - Google\" alt=\"Link - Google \"></cms-plugin></p>\\n\\n<p><cms-plugin id=\"16183\" title=\"Image - mpatlas_logo_blue_100pix.jpg\" alt=\"Image - mpatlas_logo_blue_100pix.jpg \"></cms-plugin></p>'"
      ]
     },
     "execution_count": 769,
     "metadata": {},
     "output_type": "execute_result"
    }
   ],
   "source": [
    "new_plugin.parent.get_bound_plugin().body"
   ]
  },
  {
   "cell_type": "code",
   "execution_count": null,
   "metadata": {},
   "outputs": [],
   "source": []
  }
 ],
 "metadata": {
  "kernelspec": {
   "display_name": "Django Shell-Plus",
   "language": "python",
   "name": "django_extensions"
  },
  "language_info": {
   "codemirror_mode": {
    "name": "ipython",
    "version": 3
   },
   "file_extension": ".py",
   "mimetype": "text/x-python",
   "name": "python",
   "nbconvert_exporter": "python",
   "pygments_lexer": "ipython3",
   "version": "3.6.3"
  }
 },
 "nbformat": 4,
 "nbformat_minor": 2
}
